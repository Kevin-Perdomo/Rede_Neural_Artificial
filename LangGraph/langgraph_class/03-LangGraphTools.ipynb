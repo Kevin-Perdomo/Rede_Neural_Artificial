{
 "cells": [
  {
   "cell_type": "markdown",
   "id": "7f346df8",
   "metadata": {},
   "source": [
    "# Exemplo 03 - Usando Tools com LangGraph"
   ]
  },
  {
   "cell_type": "markdown",
   "id": "dc908234",
   "metadata": {},
   "source": [
    "## 1 - Carrega Bibliotecas"
   ]
  },
  {
   "cell_type": "code",
   "execution_count": 1,
   "id": "ab06f02b",
   "metadata": {},
   "outputs": [],
   "source": [
    "from langchain_groq import ChatGroq\n",
    "from langchain_core.messages import HumanMessage, SystemMessage, AIMessage\n",
    "from langgraph.prebuilt import create_react_agent\n",
    "from langchain_core.tools import tool\n",
    "from dotenv import load_dotenv"
   ]
  },
  {
   "cell_type": "markdown",
   "id": "91d2aeb4",
   "metadata": {},
   "source": [
    "## 2 - Carrega API Key"
   ]
  },
  {
   "cell_type": "code",
   "execution_count": 2,
   "id": "7d01f458",
   "metadata": {},
   "outputs": [],
   "source": [
    "from dotenv import find_dotenv, load_dotenv\n",
    "\n",
    "load_dotenv(find_dotenv())\n",
    "llm_model = ChatGroq(model_name='llama-3.3-70b-versatile',temperature=0)"
   ]
  },
  {
   "cell_type": "markdown",
   "id": "895d6592",
   "metadata": {},
   "source": [
    "## 3 - Define o prompt do sistema"
   ]
  },
  {
   "cell_type": "code",
   "execution_count": 3,
   "id": "aa8c7cfb",
   "metadata": {},
   "outputs": [],
   "source": [
    "system_message = SystemMessage(content = \"\"\"\n",
    "Você é um assistente. Se o usuário pedir contas, use\n",
    "a ferramenta 'somar'. Caso contrário, apenas responda normalmente\n",
    "\"\"\"\n",
    ")"
   ]
  },
  {
   "cell_type": "markdown",
   "id": "f85938be",
   "metadata": {},
   "source": []
  },
  {
   "cell_type": "markdown",
   "id": "baca0a17",
   "metadata": {},
   "source": [
    "## 4 - Definindo a ferramenta de soma"
   ]
  },
  {
   "cell_type": "code",
   "execution_count": 4,
   "id": "5971c37b",
   "metadata": {},
   "outputs": [],
   "source": [
    "@tool(\"somar\")\n",
    "def somar(valores: str) -> str:\n",
    "    \"\"\"Soma dois números separados por vírgula\"\"\"\n",
    "    try:\n",
    "        a, b = map(float, valores.split(\",\"))\n",
    "        return str(a + b)\n",
    "    except Exception as e:\n",
    "        return f\"Erro ao somar: {str(e)}\""
   ]
  },
  {
   "cell_type": "markdown",
   "id": "9e858d3c",
   "metadata": {},
   "source": [
    "## 5 - Criação do Agente com LangGraph"
   ]
  },
  {
   "cell_type": "code",
   "execution_count": 5,
   "id": "f6e37ae8",
   "metadata": {},
   "outputs": [],
   "source": [
    "tools = [somar]\n",
    "graph = create_react_agent(\n",
    "    model=llm_model,\n",
    "    tools=tools,\n",
    "    prompt=system_message\n",
    ")\n",
    "export_graph = graph"
   ]
  },
  {
   "cell_type": "markdown",
   "id": "50b6c12c",
   "metadata": {},
   "source": [
    "## 6 - Extrair a resposta final"
   ]
  },
  {
   "cell_type": "code",
   "execution_count": 6,
   "id": "f72ec697",
   "metadata": {},
   "outputs": [],
   "source": [
    "def extrair_resposta_final(result):\n",
    "    ai_messages = [m for m in result[\"messages\"] if isinstance(m, AIMessage) and m.content]\n",
    "    if ai_messages:\n",
    "        return ai_messages[-1].content\n",
    "    else:\n",
    "        return \"Nenhuma resposta final encontrada\""
   ]
  },
  {
   "cell_type": "markdown",
   "id": "bc1d0d72",
   "metadata": {},
   "source": [
    "## 7 - Testando o Agente"
   ]
  },
  {
   "cell_type": "code",
   "execution_count": 7,
   "id": "88311374",
   "metadata": {},
   "outputs": [
    {
     "name": "stdout",
     "output_type": "stream",
     "text": [
      "content='Quanto é 8 + 5?' additional_kwargs={} response_metadata={} id='e3ab3b30-e6ce-4ff1-b5d9-4b7763f2613d'\n",
      "content='' additional_kwargs={'tool_calls': [{'id': '1avbemwpe', 'function': {'arguments': '{\"valores\":\"8,5\"}', 'name': 'somar'}, 'type': 'function'}]} response_metadata={'token_usage': {'completion_tokens': 17, 'prompt_tokens': 266, 'total_tokens': 283, 'completion_time': 0.042263631, 'prompt_time': 0.022723257, 'queue_time': 0.268385533, 'total_time': 0.064986888}, 'model_name': 'llama-3.3-70b-versatile', 'system_fingerprint': 'fp_155ab82e98', 'service_tier': 'on_demand', 'finish_reason': 'tool_calls', 'logprobs': None} id='run--1c562220-50a4-4d57-ad8c-b7bfff64683c-0' tool_calls=[{'name': 'somar', 'args': {'valores': '8,5'}, 'id': '1avbemwpe', 'type': 'tool_call'}] usage_metadata={'input_tokens': 266, 'output_tokens': 17, 'total_tokens': 283}\n",
      "content='13.0' name='somar' id='99dbd7d4-a184-48b9-93cf-c83a2c6ecb5c' tool_call_id='1avbemwpe'\n",
      "content='O resultado da soma de 8 + 5 é 13.' additional_kwargs={} response_metadata={'token_usage': {'completion_tokens': 15, 'prompt_tokens': 297, 'total_tokens': 312, 'completion_time': 0.035355916, 'prompt_time': 0.025087761, 'queue_time': 0.267544278, 'total_time': 0.060443677}, 'model_name': 'llama-3.3-70b-versatile', 'system_fingerprint': 'fp_155ab82e98', 'service_tier': 'on_demand', 'finish_reason': 'stop', 'logprobs': None} id='run--a6ac802a-9790-4991-b9a0-475f42b01fab-0' usage_metadata={'input_tokens': 297, 'output_tokens': 15, 'total_tokens': 312}\n",
      "Resposta 1:  O resultado da soma de 8 + 5 é 13.\n",
      "\n"
     ]
    }
   ],
   "source": [
    "entrada1 = HumanMessage(content=\"Quanto é 8 + 5?\")\n",
    "result1 = export_graph.invoke({\"messages\":[entrada1]})\n",
    "for m in result1[\"messages\"]:\n",
    "    print(m)\n",
    "resposta_texto_1 = extrair_resposta_final(result1)\n",
    "print(\"Resposta 1: \", resposta_texto_1)\n",
    "print()"
   ]
  },
  {
   "cell_type": "code",
   "execution_count": 8,
   "id": "b37db49f",
   "metadata": {},
   "outputs": [
    {
     "name": "stdout",
     "output_type": "stream",
     "text": [
      "content='Quem pintou a Monalisa?' additional_kwargs={} response_metadata={} id='bca49432-709d-4d75-8748-d8b39f00cfc8'\n",
      "content='A Monalisa foi pintada por Leonardo da Vinci, um renomado artista e polímata italiano do Renascimento. A pintura, criada no início do século XVI, é uma das obras de arte mais famosas e enigmáticas do mundo, conhecida por seu sorriso misterioso e a técnica de sfumato utilizada por Da Vinci.' additional_kwargs={} response_metadata={'token_usage': {'completion_tokens': 82, 'prompt_tokens': 266, 'total_tokens': 348, 'completion_time': 0.266246583, 'prompt_time': 0.022571591, 'queue_time': 0.270303429, 'total_time': 0.288818174}, 'model_name': 'llama-3.3-70b-versatile', 'system_fingerprint': 'fp_155ab82e98', 'service_tier': 'on_demand', 'finish_reason': 'stop', 'logprobs': None} id='run--a41ba81e-c3df-4003-bbb1-be776e0fd0cb-0' usage_metadata={'input_tokens': 266, 'output_tokens': 82, 'total_tokens': 348}\n",
      "Resposta 2:  A Monalisa foi pintada por Leonardo da Vinci, um renomado artista e polímata italiano do Renascimento. A pintura, criada no início do século XVI, é uma das obras de arte mais famosas e enigmáticas do mundo, conhecida por seu sorriso misterioso e a técnica de sfumato utilizada por Da Vinci.\n"
     ]
    }
   ],
   "source": [
    "entrada2 = HumanMessage(content=\"Quem pintou a Monalisa?\")\n",
    "result2 = export_graph.invoke({\"messages\":[entrada2]})\n",
    "for m in result2[\"messages\"]:\n",
    "    print(m)\n",
    "resposta_texto_2 = extrair_resposta_final(result2)\n",
    "print(\"Resposta 2: \", resposta_texto_2)"
   ]
  }
 ],
 "metadata": {
  "kernelspec": {
   "display_name": "langgraph",
   "language": "python",
   "name": "python3"
  },
  "language_info": {
   "codemirror_mode": {
    "name": "ipython",
    "version": 3
   },
   "file_extension": ".py",
   "mimetype": "text/x-python",
   "name": "python",
   "nbconvert_exporter": "python",
   "pygments_lexer": "ipython3",
   "version": "3.13.7"
  }
 },
 "nbformat": 4,
 "nbformat_minor": 5
}
