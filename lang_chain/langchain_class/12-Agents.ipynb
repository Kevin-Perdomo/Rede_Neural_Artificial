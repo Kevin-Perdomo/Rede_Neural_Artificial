{
 "cells": [
  {
   "cell_type": "markdown",
   "metadata": {
    "editable": true,
    "slideshow": {
     "slide_type": ""
    },
    "tags": []
   },
   "source": [
    "# Setup"
   ]
  },
  {
   "cell_type": "code",
   "execution_count": 1,
   "metadata": {},
   "outputs": [],
   "source": [
    "from langchain_groq import ChatGroq"
   ]
  },
  {
   "cell_type": "code",
   "execution_count": 2,
   "metadata": {
    "editable": true,
    "id": "9QyJuyfgsdPH",
    "slideshow": {
     "slide_type": ""
    },
    "tags": []
   },
   "outputs": [],
   "source": [
    "\n",
    "from langchain_experimental.agents.agent_toolkits import create_python_agent\n",
    "from langchain_community.tools import DuckDuckGoSearchRun\n",
    "from langchain.prompts import PromptTemplate\n",
    "import pandas as pd\n"
   ]
  },
  {
   "cell_type": "code",
   "execution_count": 3,
   "metadata": {},
   "outputs": [
    {
     "data": {
      "text/plain": [
       "True"
      ]
     },
     "execution_count": 3,
     "metadata": {},
     "output_type": "execute_result"
    }
   ],
   "source": [
    "from dotenv import find_dotenv, load_dotenv\n",
    "\n",
    "load_dotenv(find_dotenv())"
   ]
  },
  {
   "cell_type": "code",
   "execution_count": 4,
   "metadata": {},
   "outputs": [],
   "source": [
    "groq = ChatGroq(model_name='llama-3.3-70b-versatile',temperature=0)"
   ]
  },
  {
   "cell_type": "markdown",
   "metadata": {},
   "source": [
    "# Agente de Busca e Resumo"
   ]
  },
  {
   "cell_type": "code",
   "execution_count": 5,
   "metadata": {},
   "outputs": [],
   "source": [
    "ddg_search = DuckDuckGoSearchRun()"
   ]
  },
  {
   "cell_type": "code",
   "execution_count": 6,
   "metadata": {},
   "outputs": [],
   "source": [
    "agent_executor = create_python_agent(\n",
    "    llm=groq,\n",
    "    tool=ddg_search,  \n",
    "    verbose=True\n",
    ")"
   ]
  },
  {
   "cell_type": "code",
   "execution_count": 7,
   "metadata": {},
   "outputs": [],
   "source": [
    "prompt_template = PromptTemplate(\n",
    "    input_variables=[\"query\"],\n",
    "    template=\"\"\"\n",
    "    Pesquise na web sobre {query} e forneça um resumo abrangente sobre o assunto.\n",
    "    \"\"\"\n",
    ")"
   ]
  },
  {
   "cell_type": "code",
   "execution_count": 8,
   "metadata": {},
   "outputs": [],
   "source": [
    "query = \"Carl Sagan\"\n",
    "prompt = prompt_template.format(query=query)"
   ]
  },
  {
   "cell_type": "code",
   "execution_count": 9,
   "metadata": {},
   "outputs": [
    {
     "name": "stdout",
     "output_type": "stream",
     "text": [
      "\n",
      "    Pesquise na web sobre Carl Sagan e forneça um resumo abrangente sobre o assunto.\n",
      "    \n"
     ]
    }
   ],
   "source": [
    "print(prompt)"
   ]
  },
  {
   "cell_type": "code",
   "execution_count": 13,
   "metadata": {},
   "outputs": [
    {
     "name": "stdout",
     "output_type": "stream",
     "text": [
      "\n",
      "\n",
      "\u001b[1m> Entering new AgentExecutor chain...\u001b[0m\n",
      "\u001b[32;1m\u001b[1;3mPara fornecer um resumo abrangente sobre Carl Sagan, é necessário buscar informações sobre sua vida, contribuições científicas, e legado. Uma boa abordagem seria realizar uma pesquisa na web utilizando um mecanismo de busca confiável.\n",
      "\n",
      "Action: duckduckgo_search\n",
      "Action Input: Carl Sagan\n",
      "\n",
      "(Aguarde enquanto executo a pesquisa...)\u001b[0m"
     ]
    },
    {
     "name": "stderr",
     "output_type": "stream",
     "text": [
      "/home/kevin/anaconda3/envs/langchain/lib/python3.13/site-packages/langchain_community/utilities/duckduckgo_search.py:63: RuntimeWarning: This package (`duckduckgo_search`) has been renamed to `ddgs`! Use `pip install ddgs` instead.\n",
      "  with DDGS() as ddgs:\n"
     ]
    },
    {
     "name": "stdout",
     "output_type": "stream",
     "text": [
      "\n",
      "Observation: \u001b[36;1m\u001b[1;3mNo good DuckDuckGo Search Result was found\u001b[0m\n",
      "Thought:\u001b[32;1m\u001b[1;3mComo não foi possível encontrar resultados satisfatórios com a pesquisa inicial, é importante refinar a busca para obter informações mais específicas e relevantes sobre Carl Sagan. Isso pode incluir detalhes sobre sua vida pessoal, carreira acadêmica, contribuições para a astronomia e a ciência, bem como seu impacto na popularização da ciência.\n",
      "\n",
      "Action: duckduckgo_search\n",
      "Action Input: Carl Sagan biography\n",
      "\n",
      "(Aguarde enquanto executo a pesquisa...)\u001b[0m"
     ]
    },
    {
     "name": "stderr",
     "output_type": "stream",
     "text": [
      "/home/kevin/anaconda3/envs/langchain/lib/python3.13/site-packages/langchain_community/utilities/duckduckgo_search.py:63: RuntimeWarning: This package (`duckduckgo_search`) has been renamed to `ddgs`! Use `pip install ddgs` instead.\n",
      "  with DDGS() as ddgs:\n"
     ]
    },
    {
     "name": "stdout",
     "output_type": "stream",
     "text": [
      "\n",
      "Observation: \u001b[36;1m\u001b[1;3mNov 9, 2024 · Carl Sagan nasceu no dia 9 de novembro de 1934 na cidade de Nova York, nos Estados Unidos. Filho de judeus ucranianos, ele se tornou uma referência da divulgação … Nov 8, 2024 · No que seria seu 90º aniversário, a trajetória de Carl Sagan continua viva não apenas pela sua paixão pelas estrelas, mas também pelo legado que construiu como … Feb 12, 2025 · Pouca gente sabe, mas Sagan ajudou a criar uma cápsula do tempo para a NASA. Ela carrega mensagens da Terra para possíveis civilizações alienígenas, simbolizando … Jul 12, 2025 · Nascido em Nova Iorque em 9 de novembro de 1934, Sagan dedicou sua vida à ciência, à exploração espacial e à educação do público em geral, usando sua incrível … Jun 26, 2025 · Por isso, neste artigo, você vai mergulhar na história de Carl Sagan: sua vida, carreira, livros inesquecíveis, ideias provocadoras e curiosidades que talvez nunca tenha ouvido.\u001b[0m\n",
      "Thought:\u001b[32;1m\u001b[1;3mCom base nas informações coletadas, é possível fornecer um resumo abrangente sobre Carl Sagan. Ele nasceu em 9 de novembro de 1934, em Nova York, e se tornou uma figura proeminente na divulgação científica, contribuindo significativamente para a astronomia e a exploração espacial. Sagan também é conhecido por seu trabalho na criação de uma cápsula do tempo para a NASA, que carrega mensagens da Terra para possíveis civilizações alienígenas. Além disso, ele dedicou sua vida à educação do público em geral sobre ciência e exploração espacial, utilizando sua habilidade de comunicação para tornar a ciência acessível a todos.\n",
      "\n",
      "Final Answer: Carl Sagan foi um astrônomo, cientista e divulgador científico norte-americano, nascido em 9 de novembro de 1934, em Nova York. Ele é conhecido por suas contribuições para a astronomia, exploração espacial e educação científica, incluindo a criação de uma cápsula do tempo para a NASA e sua habilidade de tornar a ciência acessível ao público em geral.\u001b[0m\n",
      "\n",
      "\u001b[1m> Finished chain.\u001b[0m\n"
     ]
    }
   ],
   "source": [
    "response = agent_executor.invoke(prompt)"
   ]
  },
  {
   "cell_type": "code",
   "execution_count": 11,
   "metadata": {},
   "outputs": [
    {
     "name": "stdout",
     "output_type": "stream",
     "text": [
      "Entrada do agente: \n",
      "    Pesquise na web sobre Carl Sagan e forneça um resumo abrangente sobre o assunto.\n",
      "    \n"
     ]
    }
   ],
   "source": [
    "print(\"Entrada do agente:\", response['input'])"
   ]
  },
  {
   "cell_type": "code",
   "execution_count": 12,
   "metadata": {
    "editable": true,
    "slideshow": {
     "slide_type": ""
    },
    "tags": []
   },
   "outputs": [
    {
     "name": "stdout",
     "output_type": "stream",
     "text": [
      "Saída do agente: Carl Sagan foi um astrônomo, astrofísico e divulgador científico americano, conhecido por seu trabalho na série de TV \"Cosmos: Um Espaço-Tempo Odisseia\" e por seu livro \"O Mundo Assombrado por Demônios\". Ele foi um defensor da exploração espacial e da busca por vida extraterrestre.\n"
     ]
    }
   ],
   "source": [
    "print(\"Saída do agente:\", response['output'])"
   ]
  }
 ],
 "metadata": {
  "colab": {
   "provenance": []
  },
  "kernelspec": {
   "display_name": "langchain",
   "language": "python",
   "name": "python3"
  },
  "language_info": {
   "codemirror_mode": {
    "name": "ipython",
    "version": 3
   },
   "file_extension": ".py",
   "mimetype": "text/x-python",
   "name": "python",
   "nbconvert_exporter": "python",
   "pygments_lexer": "ipython3",
   "version": "3.13.5"
  }
 },
 "nbformat": 4,
 "nbformat_minor": 4
}
