{
 "cells": [
  {
   "cell_type": "markdown",
   "metadata": {
    "editable": true,
    "slideshow": {
     "slide_type": ""
    },
    "tags": []
   },
   "source": [
    "# Setup"
   ]
  },
  {
   "cell_type": "code",
   "execution_count": 1,
   "metadata": {},
   "outputs": [],
   "source": [
    "from langchain_groq import ChatGroq"
   ]
  },
  {
   "cell_type": "code",
   "execution_count": 2,
   "metadata": {
    "editable": true,
    "id": "9QyJuyfgsdPH",
    "slideshow": {
     "slide_type": ""
    },
    "tags": []
   },
   "outputs": [],
   "source": [
    "\n",
    "from langchain_experimental.agents.agent_toolkits import create_python_agent\n",
    "from langchain_community.tools import DuckDuckGoSearchRun\n",
    "from langchain.prompts import PromptTemplate\n",
    "import pandas as pd\n"
   ]
  },
  {
   "cell_type": "code",
   "execution_count": 3,
   "metadata": {},
   "outputs": [
    {
     "data": {
      "text/plain": [
       "True"
      ]
     },
     "execution_count": 3,
     "metadata": {},
     "output_type": "execute_result"
    }
   ],
   "source": [
    "from dotenv import find_dotenv, load_dotenv\n",
    "\n",
    "load_dotenv(find_dotenv())"
   ]
  },
  {
   "cell_type": "code",
   "execution_count": 4,
   "metadata": {},
   "outputs": [],
   "source": [
    "groq = ChatGroq(model_name='llama-3.3-70b-versatile',temperature=0)"
   ]
  },
  {
   "cell_type": "markdown",
   "metadata": {},
   "source": [
    "# Agente de Busca e Resumo"
   ]
  },
  {
   "cell_type": "code",
   "execution_count": 5,
   "metadata": {},
   "outputs": [],
   "source": [
    "ddg_search = DuckDuckGoSearchRun()"
   ]
  },
  {
   "cell_type": "code",
   "execution_count": 6,
   "metadata": {},
   "outputs": [],
   "source": [
    "agent_executor = create_python_agent(\n",
    "    llm=groq,\n",
    "    tool=ddg_search,  \n",
    "    verbose=True\n",
    ")"
   ]
  },
  {
   "cell_type": "code",
   "execution_count": 7,
   "metadata": {},
   "outputs": [],
   "source": [
    "prompt_template = PromptTemplate(\n",
    "    input_variables=[\"query\"],\n",
    "    template=\"\"\"\n",
    "    Pesquise na web sobre {query} e forneça um resumo abrangente sobre o assunto.\n",
    "    \"\"\"\n",
    ")"
   ]
  },
  {
   "cell_type": "code",
   "execution_count": 8,
   "metadata": {},
   "outputs": [],
   "source": [
    "query = \"Carl Sagan\"\n",
    "prompt = prompt_template.format(query=query)"
   ]
  },
  {
   "cell_type": "code",
   "execution_count": 9,
   "metadata": {},
   "outputs": [
    {
     "name": "stdout",
     "output_type": "stream",
     "text": [
      "\n",
      "    Pesquise na web sobre Carl Sagan e forneça um resumo abrangente sobre o assunto.\n",
      "    \n"
     ]
    }
   ],
   "source": [
    "print(prompt)"
   ]
  },
  {
   "cell_type": "code",
   "execution_count": 10,
   "metadata": {},
   "outputs": [
    {
     "name": "stdout",
     "output_type": "stream",
     "text": [
      "\n",
      "\n",
      "\u001b[1m> Entering new AgentExecutor chain...\u001b[0m\n",
      "\u001b[32;1m\u001b[1;3mTo provide a comprehensive summary about Carl Sagan, I should first gather information about him from the web.\n",
      "\n",
      "Action: duckduckgo_search\n",
      "Action Input: Carl Sagan biography\n",
      "\n",
      "(I will execute the search and observe the results)\u001b[0m"
     ]
    },
    {
     "name": "stderr",
     "output_type": "stream",
     "text": [
      "/opt/anaconda3/envs/langchain/lib/python3.13/site-packages/langchain_community/utilities/duckduckgo_search.py:63: RuntimeWarning: This package (`duckduckgo_search`) has been renamed to `ddgs`! Use `pip install ddgs` instead.\n",
      "  with DDGS() as ddgs:\n"
     ]
    },
    {
     "name": "stdout",
     "output_type": "stream",
     "text": [
      "\n",
      "Observation: \u001b[36;1m\u001b[1;3mAug 11, 2015 · Carl是个北日耳曼男性名字，意思是“强壮的人”或“自由的人”，起源于英国德比郡。 这个名字可以说等同王室地位，是瑞典许多国王的名字，比如Carl XVI Gustaf（卡尔十六世·古斯塔夫）。流行于丹麦，冰岛，芬兰，挪威和瑞典，同时在美国的斯堪的纳维亚人后裔中也很普遍。 Jun 20, 2024 · 那还有一种就是， 人体感受到的软硬度，这是存在个体差异的，一个硬度为5的适中床垫，100斤的小红睡着觉得刚好，而160斤的小明睡着则感觉偏软，这都是有可能的，这有一个人体力学在里面，人在完全放松时，躺下时对床垫造成的压力也是不一样的，下陷的高度也会有区别，这就是动态的 … 不过mandy和mickey也真是亲兄妹了，排着队栽给gallagher们还甘之如饴的。 吐个槽：这辈子就工作了六周的frank依旧传奇了一波，给debbie剪脚趾头的时候手都不软一下，bgm也极好了。 朋友们，亲爸！给亲女儿！剪脚趾头！头！ 什么是shameless，大概这就是shameless了 第八季又要完结了，这剧真的很迷，我卖 ... 分个类 第一级别，传说级数学家，达到可以开宗立派，改写数学史的级别，没有这个人，数学发展不起来。 这一个级别中我认为有四个，欧拉，高斯，黎曼，牛顿 第二级别，大师级数学家，在数学的某一个分支当中可以达到引领水平，甚至开创分支，极速推动数学史的发展，没有这个人数学发展会 ... 所有喜剧的内核都是悲剧。 这句话多深刻！ 2021年4月11日，全剧终了。 编剧还是很好的，整个南区资产阶级化大背景下，Gallager和V一家人，分崩离析的感伤结局没演出来，有钱人对贫穷无助者的剥削，还在继续，而拯救这一切的希望放在了 滞纳金之王——Carl Gallager身上。 （手动狗头）\u001b[0m\n",
      "Thought:\u001b[32;1m\u001b[1;3mIt seems like the search results are not relevant to Carl Sagan. I should try a different search query to get more accurate results.\n",
      "\n",
      "Action: duckduckgo_search\n",
      "Action Input: Carl Sagan astronomer\n",
      "\n",
      "(I will execute the search and observe the results)\u001b[0m"
     ]
    },
    {
     "name": "stderr",
     "output_type": "stream",
     "text": [
      "/opt/anaconda3/envs/langchain/lib/python3.13/site-packages/langchain_community/utilities/duckduckgo_search.py:63: RuntimeWarning: This package (`duckduckgo_search`) has been renamed to `ddgs`! Use `pip install ddgs` instead.\n",
      "  with DDGS() as ddgs:\n"
     ]
    },
    {
     "name": "stdout",
     "output_type": "stream",
     "text": [
      "\n",
      "Observation: \u001b[36;1m\u001b[1;3mNo good DuckDuckGo Search Result was found\u001b[0m\n",
      "Thought:\u001b[32;1m\u001b[1;3mIt seems like the search results are not providing any relevant information about Carl Sagan. I should try a different approach to get more accurate results.\n",
      "\n",
      "Action: duckduckgo_search\n",
      "Action Input: Carl Sagan biography astronomer\n",
      "\n",
      "(I will execute the search and observe the results)\u001b[0m"
     ]
    },
    {
     "name": "stderr",
     "output_type": "stream",
     "text": [
      "/opt/anaconda3/envs/langchain/lib/python3.13/site-packages/langchain_community/utilities/duckduckgo_search.py:63: RuntimeWarning: This package (`duckduckgo_search`) has been renamed to `ddgs`! Use `pip install ddgs` instead.\n",
      "  with DDGS() as ddgs:\n"
     ]
    },
    {
     "name": "stdout",
     "output_type": "stream",
     "text": [
      "\n",
      "Observation: \u001b[36;1m\u001b[1;3m6 days ago · Discover the life and legacy of Carl Sagan — the legendary astronomer, author, and science communicator who inspired millions to look at the stars with wonder. Dec 8, 2024 · Carl Sagan remained a leading figure in planetary science and a regular contributor to solar system exploration missions. Notably, he was part of the scientific team for the Viking Mars … Mar 16, 2025 · Discover the life of Carl Sagan, an influential astronomer known for his work in extraterrestrial studies and his journey from childhood fascination to celebrity scientist. Nov 9, 2024 · Carl Sagan’s work was never just about the stars; it was about us—our hopes, our fears, our potential to dream beyond what we can see. He showed us that science isn’t just … May 4, 2025 · Carl Sagan, a name synonymous with the wonders of the cosmos, was an astronomer, astrophysicist, and science communicator whose work reshaped how humanity …\u001b[0m\n",
      "Thought:\u001b[32;1m\u001b[1;3mThought: I now know the final answer\n",
      "\n",
      "Final Answer: Carl Sagan foi um astrônomo, autor e divulgador científico legendário que inspirou milhões a olhar para as estrelas com admiração. Ele permaneceu uma figura líder na ciência planetária e contribuiu regularmente para missões de exploração do sistema solar, incluindo a equipe científica da missão Viking em Marte. Sagan é conhecido por seu trabalho em estudos extraterrestres e sua jornada desde a fascinação na infância até se tornar um cientista celebridade. Seu trabalho não se limitava apenas às estrelas, mas também abordava as esperanças, medos e potencial humano para sonhar além do que podemos ver, mostrando que a ciência não é apenas sobre o universo, mas também sobre nós mesmos.\u001b[0m\n",
      "\n",
      "\u001b[1m> Finished chain.\u001b[0m\n"
     ]
    }
   ],
   "source": [
    "response = agent_executor.invoke(prompt)"
   ]
  },
  {
   "cell_type": "code",
   "execution_count": 11,
   "metadata": {},
   "outputs": [
    {
     "name": "stdout",
     "output_type": "stream",
     "text": [
      "Entrada do agente: \n",
      "    Pesquise na web sobre Carl Sagan e forneça um resumo abrangente sobre o assunto.\n",
      "    \n"
     ]
    }
   ],
   "source": [
    "print(\"Entrada do agente:\", response['input'])"
   ]
  },
  {
   "cell_type": "code",
   "execution_count": 12,
   "metadata": {
    "editable": true,
    "slideshow": {
     "slide_type": ""
    },
    "tags": []
   },
   "outputs": [
    {
     "name": "stdout",
     "output_type": "stream",
     "text": [
      "Saída do agente: Carl Sagan foi um astrônomo, autor e divulgador científico legendário que inspirou milhões a olhar para as estrelas com admiração. Ele permaneceu uma figura líder na ciência planetária e contribuiu regularmente para missões de exploração do sistema solar, incluindo a equipe científica da missão Viking em Marte. Sagan é conhecido por seu trabalho em estudos extraterrestres e sua jornada desde a fascinação na infância até se tornar um cientista celebridade. Seu trabalho não se limitava apenas às estrelas, mas também abordava as esperanças, medos e potencial humano para sonhar além do que podemos ver, mostrando que a ciência não é apenas sobre o universo, mas também sobre nós mesmos.\n"
     ]
    }
   ],
   "source": [
    "print(\"Saída do agente:\", response['output'])"
   ]
  },
  {
   "cell_type": "code",
   "execution_count": null,
   "metadata": {},
   "outputs": [],
   "source": []
  }
 ],
 "metadata": {
  "colab": {
   "provenance": []
  },
  "kernelspec": {
   "display_name": "langchain",
   "language": "python",
   "name": "python3"
  },
  "language_info": {
   "codemirror_mode": {
    "name": "ipython",
    "version": 3
   },
   "file_extension": ".py",
   "mimetype": "text/x-python",
   "name": "python",
   "nbconvert_exporter": "python",
   "pygments_lexer": "ipython3",
   "version": "3.13.5"
  }
 },
 "nbformat": 4,
 "nbformat_minor": 4
}
