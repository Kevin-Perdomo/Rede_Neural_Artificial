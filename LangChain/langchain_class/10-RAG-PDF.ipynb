{
 "cells": [
  {
   "cell_type": "markdown",
   "id": "677b7e64",
   "metadata": {},
   "source": [
    "# Laboratório RAG com LangChain, Groq e Pinecone"
   ]
  },
  {
   "cell_type": "markdown",
   "id": "361c7b54",
   "metadata": {
    "vscode": {
     "languageId": "plaintext"
    }
   },
   "source": [
    "Este notebook demonstra a implementação de um sistema Retrieval-Augmented Generation (RAG) utilizando a biblioteca LangChain, modelos de linguagem da Groq e o Pinecone como banco de dados vetorial. O objetivo é responder a perguntas com base em documentos PDF fornecidos, focando em atividades físicas e musculação."
   ]
  },
  {
   "cell_type": "markdown",
   "id": "483f54d5",
   "metadata": {},
   "source": [
    "## Configuração do Ambiente"
   ]
  },
  {
   "cell_type": "markdown",
   "id": "f84b8f8a",
   "metadata": {},
   "source": [
    "### Importar bibliotecas"
   ]
  },
  {
   "cell_type": "code",
   "execution_count": 1,
   "id": "b84d52f9",
   "metadata": {},
   "outputs": [
    {
     "name": "stderr",
     "output_type": "stream",
     "text": [
      "/home/kevin/anaconda3/envs/langchain/lib/python3.13/site-packages/langchain_pinecone/__init__.py:3: LangChainDeprecationWarning: As of langchain-core 0.3.0, LangChain uses pydantic v2 internally. The langchain_core.pydantic_v1 module was a compatibility shim for pydantic v1, and should no longer be used. Please update the code to import from Pydantic directly.\n",
      "\n",
      "For example, replace imports like: `from langchain_core.pydantic_v1 import BaseModel`\n",
      "with: `from pydantic import BaseModel`\n",
      "or the v1 compatibility namespace if you are working in a code base that has not been fully upgraded to pydantic 2 yet. \tfrom pydantic.v1 import BaseModel\n",
      "\n",
      "  from langchain_pinecone.vectorstores import Pinecone, PineconeVectorStore\n"
     ]
    }
   ],
   "source": [
    "from langchain_groq import ChatGroq\n",
    "from langchain_community.document_loaders import PyPDFLoader\n",
    "from langchain.text_splitter import RecursiveCharacterTextSplitter\n",
    "from langchain_community.embeddings import HuggingFaceEmbeddings\n",
    "from pinecone import Pinecone, ServerlessSpec\n",
    "from langchain_pinecone import PineconeVectorStore\n",
    "from langchain.chains import create_retrieval_chain\n",
    "from langchain.chains.combine_documents import create_stuff_documents_chain\n",
    "from langchain_core.prompts import ChatPromptTemplate\n",
    "import zipfile\n",
    "import os\n",
    "import shutil\n",
    "import time"
   ]
  },
  {
   "cell_type": "markdown",
   "id": "5a83074c",
   "metadata": {},
   "source": [
    "### Configuração das Chaves de API"
   ]
  },
  {
   "cell_type": "code",
   "execution_count": 2,
   "id": "5b5d2ae1",
   "metadata": {},
   "outputs": [
    {
     "data": {
      "text/plain": [
       "True"
      ]
     },
     "execution_count": 2,
     "metadata": {},
     "output_type": "execute_result"
    }
   ],
   "source": [
    "from dotenv import find_dotenv, load_dotenv\n",
    "\n",
    "load_dotenv(find_dotenv())"
   ]
  },
  {
   "cell_type": "markdown",
   "id": "0d53d26e",
   "metadata": {},
   "source": [
    "## Carregando a LLM da Groq"
   ]
  },
  {
   "cell_type": "code",
   "execution_count": 3,
   "id": "102e76c8",
   "metadata": {},
   "outputs": [],
   "source": [
    "llm = ChatGroq(model_name='llama-3.3-70b-versatile',temperature=0)"
   ]
  },
  {
   "cell_type": "markdown",
   "id": "1a60c9b7",
   "metadata": {},
   "source": [
    "## Carregamento e Processamento dos Documentos PDF"
   ]
  },
  {
   "cell_type": "code",
   "execution_count": 4,
   "id": "156703b1",
   "metadata": {},
   "outputs": [],
   "source": [
    "zip_file_path = 'Arquivos.zip'\n",
    "extracted_folder_path = 'docs'"
   ]
  },
  {
   "cell_type": "markdown",
   "id": "6660ecef",
   "metadata": {},
   "source": [
    "### Extração dos PDFs do arquivo ZIP"
   ]
  },
  {
   "cell_type": "code",
   "execution_count": 5,
   "id": "a528229b",
   "metadata": {},
   "outputs": [],
   "source": [
    "with zipfile.ZipFile(zip_file_path, 'r') as zip_ref:\n",
    "    zip_ref.extractall(extracted_folder_path)"
   ]
  },
  {
   "cell_type": "markdown",
   "id": "ea574d2c",
   "metadata": {},
   "source": [
    "### Leitura dos Documentos PDF"
   ]
  },
  {
   "cell_type": "code",
   "execution_count": 6,
   "id": "f1a95b5c",
   "metadata": {},
   "outputs": [],
   "source": [
    "documents = []\n",
    "for filename in os.listdir(extracted_folder_path):\n",
    "    if filename.endswith(\".pdf\"):\n",
    "        file_path = os.path.join(extracted_folder_path, filename)\n",
    "        loader = PyPDFLoader(file_path)\n",
    "        documents.extend(loader.load())"
   ]
  },
  {
   "cell_type": "code",
   "execution_count": 7,
   "id": "8d29cf74",
   "metadata": {},
   "outputs": [
    {
     "name": "stdout",
     "output_type": "stream",
     "text": [
      "Apagando o diretório e seu conteúdo: docs\n",
      "Diretório apagado com sucesso.\n"
     ]
    }
   ],
   "source": [
    "# Antes de apagar, é uma boa prática verificar se o diretório existe\n",
    "if os.path.exists(extracted_folder_path):\n",
    "    print(f\"Apagando o diretório e seu conteúdo: {extracted_folder_path}\")\n",
    "    try:\n",
    "        # A função rmtree() remove o diretório e tudo que está dentro dele\n",
    "        shutil.rmtree(extracted_folder_path)\n",
    "        print(\"Diretório apagado com sucesso.\")\n",
    "    except OSError as e:\n",
    "        print(f\"Erro: {e.strerror}\")\n",
    "else:\n",
    "    print(f\"O diretório '{extracted_folder_path}' não existe.\")"
   ]
  },
  {
   "cell_type": "markdown",
   "id": "f551dfb5",
   "metadata": {},
   "source": [
    "## Geração de Embeddings e Armazenamento no Pinecone"
   ]
  },
  {
   "cell_type": "markdown",
   "id": "135f3558",
   "metadata": {},
   "source": [
    "### Divisão dos Documentos em Chunks"
   ]
  },
  {
   "cell_type": "code",
   "execution_count": 8,
   "id": "074e0023",
   "metadata": {},
   "outputs": [],
   "source": [
    "text_splitter = RecursiveCharacterTextSplitter(chunk_size=1000, chunk_overlap=200)\n",
    "docs = text_splitter.split_documents(documents)\n"
   ]
  },
  {
   "cell_type": "code",
   "execution_count": 9,
   "id": "1bd817a6",
   "metadata": {},
   "outputs": [
    {
     "name": "stdout",
     "output_type": "stream",
     "text": [
      "Total de chunks: 39\n"
     ]
    }
   ],
   "source": [
    "print(f'Total de chunks: {len(docs)}')"
   ]
  },
  {
   "cell_type": "code",
   "execution_count": 10,
   "id": "18fff2d9",
   "metadata": {},
   "outputs": [
    {
     "data": {
      "text/plain": [
       "Document(metadata={'producer': 'Skia/PDF m128', 'creator': 'Mozilla/5.0 (X11; Linux x86_64) AppleWebKit/537.36 (KHTML, like Gecko) HeadlessChrome/128.0.0.0 Safari/537.36', 'creationdate': '2025-09-03T18:30:27+00:00', 'title': 'principios_treinamento_musculacao.md', 'moddate': '2025-09-03T18:30:27+00:00', 'source': 'docs/principios_treinamento_musculacao.pdf', 'total_pages': 2, 'page': 0, 'page_label': '1'}, page_content='corpo se adapta e o progresso estagna.\\nPrincípio da Especiﬁcidade\\nO corpo se adapta especiﬁcamente ao tipo de estresse a que é submetido. Isso signiﬁca\\nque, se o objetivo é aumentar a força em um determinado movimento, o treinamento\\ndeve focar nesse movimento ou em variações próximas. Da mesma forma, se o objetivo\\né hipertroﬁa (ganho de massa muscular), o treino deve ser estruturado para maximizar\\no estresse metabólico e a tensão mecânica nos músculos [\\x00].\\nPrincípio da Individualidade\\nCada indivíduo responde de forma diferente ao treinamento devido a fatores genéticos,\\nidade, sexo, nível de condicionamento físico e histórico de treinamento. O que funciona\\npara uma pessoa pode não funcionar para outra. Portanto, os programas de\\ntreinamento devem ser individualizados e ajustados às necessidades e capacidades de\\ncada um [\\x00].')"
      ]
     },
     "execution_count": 10,
     "metadata": {},
     "output_type": "execute_result"
    }
   ],
   "source": [
    "docs[1]"
   ]
  },
  {
   "cell_type": "markdown",
   "id": "0f6d2426",
   "metadata": {},
   "source": [
    "### Inicializar modelo de embeddings (HuggingFace para uso local/gratuito)"
   ]
  },
  {
   "cell_type": "code",
   "execution_count": 11,
   "id": "913c3834",
   "metadata": {},
   "outputs": [
    {
     "name": "stderr",
     "output_type": "stream",
     "text": [
      "/tmp/ipykernel_36941/2759443027.py:1: LangChainDeprecationWarning: The class `HuggingFaceEmbeddings` was deprecated in LangChain 0.2.2 and will be removed in 1.0. An updated version of the class exists in the :class:`~langchain-huggingface package and should be used instead. To use it run `pip install -U :class:`~langchain-huggingface` and import as `from :class:`~langchain_huggingface import HuggingFaceEmbeddings``.\n",
      "  embeddings = HuggingFaceEmbeddings(model_name='sentence-transformers/all-MiniLM-L6-v2')\n"
     ]
    },
    {
     "data": {
      "application/vnd.jupyter.widget-view+json": {
       "model_id": "992df0723b3a46508ba45c92f52027f7",
       "version_major": 2,
       "version_minor": 0
      },
      "text/plain": [
       "modules.json:   0%|          | 0.00/349 [00:00<?, ?B/s]"
      ]
     },
     "metadata": {},
     "output_type": "display_data"
    },
    {
     "data": {
      "application/vnd.jupyter.widget-view+json": {
       "model_id": "ae84da7c6476430994583a614e866865",
       "version_major": 2,
       "version_minor": 0
      },
      "text/plain": [
       "config_sentence_transformers.json:   0%|          | 0.00/116 [00:00<?, ?B/s]"
      ]
     },
     "metadata": {},
     "output_type": "display_data"
    },
    {
     "data": {
      "application/vnd.jupyter.widget-view+json": {
       "model_id": "b350fed5a1f947b3a21a9bfbb26f41a6",
       "version_major": 2,
       "version_minor": 0
      },
      "text/plain": [
       "README.md: 0.00B [00:00, ?B/s]"
      ]
     },
     "metadata": {},
     "output_type": "display_data"
    },
    {
     "data": {
      "application/vnd.jupyter.widget-view+json": {
       "model_id": "22de6a9ca06a4692851732966c0e2a48",
       "version_major": 2,
       "version_minor": 0
      },
      "text/plain": [
       "sentence_bert_config.json:   0%|          | 0.00/53.0 [00:00<?, ?B/s]"
      ]
     },
     "metadata": {},
     "output_type": "display_data"
    },
    {
     "data": {
      "application/vnd.jupyter.widget-view+json": {
       "model_id": "e37e19248d1248f6acceaf88f3bb2e58",
       "version_major": 2,
       "version_minor": 0
      },
      "text/plain": [
       "config.json:   0%|          | 0.00/612 [00:00<?, ?B/s]"
      ]
     },
     "metadata": {},
     "output_type": "display_data"
    },
    {
     "data": {
      "application/vnd.jupyter.widget-view+json": {
       "model_id": "da699232417b4b0c8b7ba01cfa8dde19",
       "version_major": 2,
       "version_minor": 0
      },
      "text/plain": [
       "model.safetensors:   0%|          | 0.00/90.9M [00:00<?, ?B/s]"
      ]
     },
     "metadata": {},
     "output_type": "display_data"
    },
    {
     "data": {
      "application/vnd.jupyter.widget-view+json": {
       "model_id": "a43f9dd5aff24c3397fd1d547eddc0c5",
       "version_major": 2,
       "version_minor": 0
      },
      "text/plain": [
       "tokenizer_config.json:   0%|          | 0.00/350 [00:00<?, ?B/s]"
      ]
     },
     "metadata": {},
     "output_type": "display_data"
    },
    {
     "data": {
      "application/vnd.jupyter.widget-view+json": {
       "model_id": "bf5dc7bac8604207ac930e66fe7d5657",
       "version_major": 2,
       "version_minor": 0
      },
      "text/plain": [
       "vocab.txt: 0.00B [00:00, ?B/s]"
      ]
     },
     "metadata": {},
     "output_type": "display_data"
    },
    {
     "data": {
      "application/vnd.jupyter.widget-view+json": {
       "model_id": "ae0cc75cbea3442ca9fbc9c14439d9dc",
       "version_major": 2,
       "version_minor": 0
      },
      "text/plain": [
       "tokenizer.json: 0.00B [00:00, ?B/s]"
      ]
     },
     "metadata": {},
     "output_type": "display_data"
    },
    {
     "data": {
      "application/vnd.jupyter.widget-view+json": {
       "model_id": "8d05ee30dd2c4474bca596ded8089c6a",
       "version_major": 2,
       "version_minor": 0
      },
      "text/plain": [
       "special_tokens_map.json:   0%|          | 0.00/112 [00:00<?, ?B/s]"
      ]
     },
     "metadata": {},
     "output_type": "display_data"
    },
    {
     "data": {
      "application/vnd.jupyter.widget-view+json": {
       "model_id": "f7f174e8118745fea9a43be71aabd65f",
       "version_major": 2,
       "version_minor": 0
      },
      "text/plain": [
       "config.json:   0%|          | 0.00/190 [00:00<?, ?B/s]"
      ]
     },
     "metadata": {},
     "output_type": "display_data"
    }
   ],
   "source": [
    "\n",
    "embeddings = HuggingFaceEmbeddings(model_name='sentence-transformers/all-MiniLM-L6-v2')"
   ]
  },
  {
   "cell_type": "markdown",
   "id": "abfc4a5b",
   "metadata": {},
   "source": [
    "### Inicializar Pinecone"
   ]
  },
  {
   "cell_type": "code",
   "execution_count": 12,
   "id": "512a0ca7",
   "metadata": {},
   "outputs": [],
   "source": [
    "pc = Pinecone(api_key=os.environ.get(\"PINECONE_API_KEY\"))"
   ]
  },
  {
   "cell_type": "code",
   "execution_count": 13,
   "id": "0f2811a4",
   "metadata": {},
   "outputs": [],
   "source": [
    "index_name = \"rag-musculacao\" \n",
    "existing_indexes = [index_info[\"name\"] for index_info in pc.list_indexes()] # change if desired"
   ]
  },
  {
   "cell_type": "markdown",
   "id": "57e56649",
   "metadata": {},
   "source": [
    "### Deletar e recriar o índice para garantir que a dimensão esteja correta"
   ]
  },
  {
   "cell_type": "code",
   "execution_count": 14,
   "id": "16549a41",
   "metadata": {},
   "outputs": [],
   "source": [
    "\n",
    "if index_name in existing_indexes:\n",
    "    print(f\"Deletando o índice existente '{index_name}'...\")\n",
    "    pc.delete_index(index_name)\n",
    "    time.sleep(1) # Aguardar a exclusão"
   ]
  },
  {
   "cell_type": "code",
   "execution_count": 15,
   "id": "0fa15708",
   "metadata": {},
   "outputs": [],
   "source": [
    "pc.create_index(\n",
    "    name=index_name,\n",
    "    metric=\"cosine\",\n",
    "    dimension=384, # Isso irá retornar 384\n",
    "    spec=ServerlessSpec(cloud=\"aws\", region=\"us-east-1\")\n",
    ")\n",
    "while not pc.describe_index(index_name).status[\"ready\"]:\n",
    "    print(\"Aguardando o índice ficar pronto...\"+pc.describe_index(index_name).status)\n",
    "    time.sleep(1)\n",
    "\n",
    "index = pc.Index(index_name)"
   ]
  },
  {
   "cell_type": "markdown",
   "id": "90c2151a",
   "metadata": {},
   "source": [
    "### Criar ou conectar ao VectorStore do Pinecone"
   ]
  },
  {
   "cell_type": "code",
   "execution_count": 16,
   "id": "2e7548db",
   "metadata": {},
   "outputs": [],
   "source": [
    "vectorstore = PineconeVectorStore.from_documents(\n",
    "    documents=docs,\n",
    "    embedding=embeddings,\n",
    "    index_name=index_name,\n",
    ")"
   ]
  },
  {
   "cell_type": "markdown",
   "id": "e78023bc",
   "metadata": {},
   "source": [
    "## Construção da Cadeia RAG"
   ]
  },
  {
   "cell_type": "markdown",
   "id": "8618c261",
   "metadata": {},
   "source": [
    "#### Definir o prompt para a LLM"
   ]
  },
  {
   "cell_type": "code",
   "execution_count": 17,
   "id": "dde26ca3",
   "metadata": {},
   "outputs": [],
   "source": [
    "\n",
    "prompt = ChatPromptTemplate.from_template(\"\"\"Responda à pergunta com base apenas no contexto fornecido.\n",
    "Se você não souber a resposta, diga que não sabe, não tente inventar uma resposta.\n",
    "\n",
    "Contexto: {context}\n",
    "\n",
    "Pergunta: {input}\"\"\")"
   ]
  },
  {
   "cell_type": "markdown",
   "id": "7136b199",
   "metadata": {},
   "source": [
    "### Criar a cadeia de documentos"
   ]
  },
  {
   "cell_type": "code",
   "execution_count": 18,
   "id": "e447af11",
   "metadata": {},
   "outputs": [],
   "source": [
    "\n",
    "document_chain = create_stuff_documents_chain(llm, prompt)\n",
    "\n"
   ]
  },
  {
   "cell_type": "markdown",
   "id": "d996a07c",
   "metadata": {},
   "source": [
    "### Criar a cadeia de recuperação"
   ]
  },
  {
   "cell_type": "code",
   "execution_count": 19,
   "id": "aa259fe1",
   "metadata": {},
   "outputs": [],
   "source": [
    "\n",
    "retrieval_chain = create_retrieval_chain(vectorstore.as_retriever(), document_chain)"
   ]
  },
  {
   "cell_type": "markdown",
   "id": "23d742d6",
   "metadata": {},
   "source": [
    "## Testando o Sistema RAG"
   ]
  },
  {
   "cell_type": "code",
   "execution_count": 20,
   "id": "23717504",
   "metadata": {},
   "outputs": [],
   "source": [
    "# Função para fazer perguntas\n",
    "def ask_question(question):\n",
    "    response = retrieval_chain.invoke({\"input\": question})\n",
    "    print(f\"Pergunta: {question}\")\n",
    "    print(f\"Resposta: {response['answer']}\")\n",
    "    "
   ]
  },
  {
   "cell_type": "code",
   "execution_count": 21,
   "id": "6828f4cb",
   "metadata": {},
   "outputs": [],
   "source": [
    "#Exemplos de perguntas (use os prompts e perguntas de teste )\n",
    "\n",
    "pergunta1 = \"Quais são os principais benefícios da atividade física regular para a saúde cardiovascular?\"\n",
    "\n",
    "pergunta2 = \"Explique o princípio da sobrecarga progressiva na musculação.\"\n",
    "\n",
    "pergunta3 = \"Qual a importância dos carboidratos na nutrição para atividade física?\"\n",
    "\n",
    "pergunta4 = \"Cite três exercícios essenciais para membros superiores e seus principais músculos trabalhados.\"\n",
    "\n",
    "pergunta5 = \"O que é periodização do treinamento e quais são seus principais ciclos?\"\n",
    "\n",
    "pergunta6 = \"Quais são as principais estratégias para prevenir lesões na musculação?\""
   ]
  },
  {
   "cell_type": "code",
   "execution_count": 22,
   "id": "b2e93855",
   "metadata": {},
   "outputs": [
    {
     "name": "stdout",
     "output_type": "stream",
     "text": [
      "Pergunta: Qual a importância dos carboidratos na nutrição para atividade física?\n",
      "Resposta: Os carboidratos são a principal fonte de energia para o exercício, especialmente para atividades de alta intensidade e longa duração. Eles são armazenados nos músculos e no fígado na forma de glicogênio. A ingestão adequada de carboidratos antes, durante (para exercícios prolongados) e após o treino é fundamental para manter os níveis de energia e otimizar a recuperação.\n"
     ]
    }
   ],
   "source": [
    "ask_question(pergunta3)"
   ]
  },
  {
   "cell_type": "markdown",
   "id": "835118f6",
   "metadata": {},
   "source": [
    "## Limpeza (Opcional)"
   ]
  },
  {
   "cell_type": "code",
   "execution_count": null,
   "id": "868c79aa",
   "metadata": {},
   "outputs": [],
   "source": [
    "# Para deletar o índice do Pinecone (use com cautela!)\n",
    "# pc.delete_index(index_name)"
   ]
  }
 ],
 "metadata": {
  "kernelspec": {
   "display_name": "langchain",
   "language": "python",
   "name": "python3"
  },
  "language_info": {
   "codemirror_mode": {
    "name": "ipython",
    "version": 3
   },
   "file_extension": ".py",
   "mimetype": "text/x-python",
   "name": "python",
   "nbconvert_exporter": "python",
   "pygments_lexer": "ipython3",
   "version": "3.13.5"
  }
 },
 "nbformat": 4,
 "nbformat_minor": 5
}
