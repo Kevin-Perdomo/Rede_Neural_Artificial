{
 "cells": [
  {
   "cell_type": "markdown",
   "id": "377eb04a",
   "metadata": {},
   "source": [
    "# Setup do Projeto\n",
    "Configuração de ambiente, variáveis e bibliotecas para o sistema de roteamento de consultas turísticas."
   ]
  },
  {
   "cell_type": "code",
   "execution_count": 2,
   "id": "8e878ac8",
   "metadata": {},
   "outputs": [],
   "source": [
    "from dotenv import find_dotenv, load_dotenv\n",
    "load_dotenv(find_dotenv())\n",
    "import numpy as np\n",
    "from pinecone import Pinecone\n",
    "from langchain_groq import ChatGroq"
   ]
  },
  {
   "cell_type": "code",
   "execution_count": 9,
   "id": "d82c1d82",
   "metadata": {},
   "outputs": [
    {
     "name": "stdout",
     "output_type": "stream",
     "text": [
      "Índices disponíveis:\n",
      "- Nome: guia-viagem\n",
      "  Dimensão: 384\n",
      "  Status: Ready\n",
      "  Spec: {'serverless': {'cloud': 'aws', 'region': 'us-east-1'}}\n",
      "---\n",
      "- Nome: ia-na-pratica\n",
      "  Dimensão: 2048\n",
      "  Status: Ready\n",
      "  Spec: {'serverless': {'cloud': 'aws', 'region': 'us-east-1'}}\n",
      "---\n",
      "- Nome: rag-musculacao\n",
      "  Dimensão: 384\n",
      "  Status: Ready\n",
      "  Spec: {'serverless': {'cloud': 'aws', 'region': 'us-east-1'}}\n",
      "---\n"
     ]
    }
   ],
   "source": [
    "# Inicialização do cliente Pinecone\n",
    "pinecone_client = Pinecone()\n",
    "\n",
    "# Listar índices existentes\n",
    "indices = pinecone_client.list_indexes()\n",
    "print(\"Índices disponíveis:\")\n",
    "for index in indices:\n",
    "    print(f\"- Nome: {index['name']}\")\n",
    "    print(f\"  Dimensão: {index['dimension']}\")\n",
    "    print(f\"  Status: {index['status']['state']}\")\n",
    "    print(f\"  Spec: {index['spec']}\")\n",
    "    print(\"---\")"
   ]
  },
  {
   "cell_type": "code",
   "execution_count": null,
   "id": "9de038c8",
   "metadata": {},
   "outputs": [],
   "source": [
    "# Deletar índices existentes (CUIDADO! Descomente apenas se necessário)\n",
    "# Descomente as linhas abaixo para deletar índices que não precisa mais\n",
    "\n",
    "# pinecone_client.delete_index('ia-na-pratica')\n",
    "# pinecone_client.delete_index('langchain-index')\n",
    "# print(\"Índices deletados!\")"
   ]
  },
  {
   "cell_type": "code",
   "execution_count": 8,
   "id": "b767f466",
   "metadata": {},
   "outputs": [
    {
     "name": "stdout",
     "output_type": "stream",
     "text": [
      "Índice 'guia-viagem' criado com sucesso!\n",
      "Dimensão: 384\n",
      "Aguarde alguns segundos para o índice ficar pronto...\n"
     ]
    }
   ],
   "source": [
    "# Criar novo índice para o projeto Guia de Viagem\n",
    "indice_nome = 'guia-viagem'\n",
    "dimensao = 384  # Dimensão compatível com sentence-transformers\n",
    "\n",
    "pinecone_client.create_index(\n",
    "    name=indice_nome,\n",
    "    dimension=dimensao,\n",
    "    metric='cosine',\n",
    "    spec={\n",
    "        \"serverless\": {\n",
    "            \"cloud\": \"aws\",\n",
    "            \"region\": \"us-east-1\"\n",
    "        }\n",
    "    }\n",
    ")\n",
    "\n",
    "print(f\"Índice '{indice_nome}' criado com sucesso!\")\n",
    "print(f\"Dimensão: {dimensao}\")\n",
    "print(\"Aguarde alguns segundos para o índice ficar pronto...\")"
   ]
  },
  {
   "cell_type": "code",
   "execution_count": 10,
   "id": "71316053",
   "metadata": {},
   "outputs": [
    {
     "name": "stdout",
     "output_type": "stream",
     "text": [
      "Estatísticas do índice:\n",
      "{'dimension': 384,\n",
      " 'index_fullness': 0.0,\n",
      " 'metric': 'cosine',\n",
      " 'namespaces': {},\n",
      " 'total_vector_count': 0,\n",
      " 'vector_type': 'dense'}\n",
      "\n",
      "Setup concluído! Conectado ao índice 'guia-viagem' com dimensão 384.\n"
     ]
    }
   ],
   "source": [
    "# Conectar ao índice criado e testar\n",
    "indice = pinecone_client.Index(indice_nome)\n",
    "\n",
    "# Verificar status e estatísticas\n",
    "print(\"Estatísticas do índice:\")\n",
    "print(indice.describe_index_stats())\n",
    "\n",
    "print(f\"\\nSetup concluído! Conectado ao índice '{indice_nome}' com dimensão {dimensao}.\")"
   ]
  }
 ],
 "metadata": {
  "kernelspec": {
   "display_name": "langchain",
   "language": "python",
   "name": "python3"
  },
  "language_info": {
   "codemirror_mode": {
    "name": "ipython",
    "version": 3
   },
   "file_extension": ".py",
   "mimetype": "text/x-python",
   "name": "python",
   "nbconvert_exporter": "python",
   "pygments_lexer": "ipython3",
   "version": "3.13.5"
  }
 },
 "nbformat": 4,
 "nbformat_minor": 5
}
