{
 "cells": [
  {
   "cell_type": "markdown",
   "id": "377eb04a",
   "metadata": {},
   "source": [
    "# Setup do Projeto\n",
    "Configuração de ambiente, variáveis e bibliotecas para o sistema de roteamento de consultas turísticas."
   ]
  },
  {
   "cell_type": "code",
   "execution_count": null,
   "id": "8e878ac8",
   "metadata": {},
   "outputs": [],
   "source": [
    "from dotenv import load_dotenv, find_dotenv\n",
    "load_dotenv(find_dotenv())\n",
    "import numpy as np\n",
    "from pinecone import Pinecone\n",
    "from langchain_groq import ChatGroq"
   ]
  },
  {
   "cell_type": "code",
   "execution_count": null,
   "id": "07d4deb9",
   "metadata": {},
   "outputs": [],
   "source": [
    "# Inicialização do cliente Pinecone\n",
    "pinecone_client = Pinecone()"
   ]
  },
  {
   "cell_type": "code",
   "execution_count": null,
   "id": "d82c1d82",
   "metadata": {},
   "outputs": [],
   "source": [
    "# Definição do nome do índice e dimensão dos vetores\n",
    "indice_nome = 'turismo'\n",
    "dimensao = 2048\n",
    "if indice_nome not in pinecone_client.list_indexes():\n",
    "    pinecone_client.create_index(name=indice_nome, dimension=dimensao)"
   ]
  }
 ],
 "metadata": {
  "language_info": {
   "name": "python"
  }
 },
 "nbformat": 4,
 "nbformat_minor": 5
}
