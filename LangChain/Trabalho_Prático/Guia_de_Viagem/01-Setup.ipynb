{
 "cells": [
  {
   "cell_type": "markdown",
   "id": "377eb04a",
   "metadata": {},
   "source": [
    "# 🛠️ Setup e Configuração do Projeto - Guia de Viagem\n",
    "\n",
    "**Objetivo**: Configurar o ambiente Pinecone para o sistema de router chains com RAG integration.\n",
    "\n",
    "## 🎯 Funcionalidades:\n",
    "- **Gestão de Índices**: Listar, criar e gerenciar índices Pinecone\n",
    "- **Configuração Serverless**: Setup otimizado para uso gratuito\n",
    "- **Validação de Ambiente**: Testes de conectividade e configuração\n",
    "\n",
    "## 📋 Ordem de Execução:\n",
    "1. **Célula 2**: Imports e carregamento de variáveis\n",
    "2. **Célula 3**: Listar índices existentes\n",
    "3. **Célula 4**: Deletar índices (opcional - use com cuidado)\n",
    "4. **Célula 5**: Criar novo índice 'guia-viagem'\n",
    "5. **Célula 6**: Testar conexão e validar setup\n",
    "\n",
    "## ✅ Especificações Técnicas:\n",
    "- **Índice**: guia-viagem\n",
    "- **Dimensão**: 384 (compatível com sentence-transformers/all-MiniLM-L6-v2)\n",
    "- **Métrica**: cosine similarity\n",
    "- **Tipo**: Serverless (AWS us-east-1)"
   ]
  },
  {
   "cell_type": "code",
   "execution_count": 1,
   "id": "8e878ac8",
   "metadata": {},
   "outputs": [
    {
     "name": "stdout",
     "output_type": "stream",
     "text": [
      "✅ Imports carregados com sucesso!\n",
      "🔑 Variáveis de ambiente carregadas!\n",
      "📋 Bibliotecas disponíveis: Pinecone, ChatGroq, dotenv\n"
     ]
    }
   ],
   "source": [
    "# Imports e configuração de ambiente\n",
    "import os\n",
    "from dotenv import load_dotenv\n",
    "from pinecone import Pinecone\n",
    "from langchain_groq import ChatGroq\n",
    "\n",
    "# Carregar variáveis de ambiente\n",
    "load_dotenv()\n",
    "\n",
    "print(\"✅ Imports carregados com sucesso!\")\n",
    "print(\"🔑 Variáveis de ambiente carregadas!\")\n",
    "print(\"📋 Bibliotecas disponíveis: Pinecone, ChatGroq, dotenv\")"
   ]
  },
  {
   "cell_type": "code",
   "execution_count": 5,
   "id": "d82c1d82",
   "metadata": {},
   "outputs": [
    {
     "name": "stdout",
     "output_type": "stream",
     "text": [
      "🔄 Conectando ao Pinecone...\n",
      "📋 Verificando índices existentes...\n",
      "Índices disponíveis:\n",
      "📊 Nome: guia-viagem\n",
      "   Dimensão: 384\n",
      "   Status: Ready\n",
      "   Métrica: cosine\n",
      "   ---\n",
      "📊 Nome: ia-na-pratica\n",
      "   Dimensão: 2048\n",
      "   Status: Ready\n",
      "   Métrica: cosine\n",
      "   ---\n",
      "📊 Nome: rag-musculacao\n",
      "   Dimensão: 384\n",
      "   Status: Ready\n",
      "   Métrica: cosine\n",
      "   ---\n",
      "Índices disponíveis:\n",
      "📊 Nome: guia-viagem\n",
      "   Dimensão: 384\n",
      "   Status: Ready\n",
      "   Métrica: cosine\n",
      "   ---\n",
      "📊 Nome: ia-na-pratica\n",
      "   Dimensão: 2048\n",
      "   Status: Ready\n",
      "   Métrica: cosine\n",
      "   ---\n",
      "📊 Nome: rag-musculacao\n",
      "   Dimensão: 384\n",
      "   Status: Ready\n",
      "   Métrica: cosine\n",
      "   ---\n"
     ]
    }
   ],
   "source": [
    "# Conectar ao Pinecone e listar índices existentes\n",
    "print(\"🔄 Conectando ao Pinecone...\")\n",
    "\n",
    "# Inicialização do cliente Pinecone\n",
    "pinecone_client = Pinecone(api_key=os.getenv('PINECONE_API_KEY'))\n",
    "\n",
    "# Listar índices existentes\n",
    "print(\"📋 Verificando índices existentes...\")\n",
    "indices = pinecone_client.list_indexes()\n",
    "\n",
    "if indices:\n",
    "    print(\"Índices disponíveis:\")\n",
    "    for i, index in enumerate(indices):\n",
    "        print(f\"📊 Nome: {index['name']}\")\n",
    "        print(f\"   Dimensão: {index['dimension']}\")\n",
    "        print(f\"   Status: {index['status']['state']}\")\n",
    "        print(f\"   Métrica: {index['metric']}\")\n",
    "        print(\"   ---\")\n",
    "else:\n",
    "    print(\"❌ Nenhum índice encontrado.\")"
   ]
  },
  {
   "cell_type": "code",
   "execution_count": 6,
   "id": "9de038c8",
   "metadata": {},
   "outputs": [
    {
     "name": "stdout",
     "output_type": "stream",
     "text": [
      "⚠️ Seção de limpeza de índices:\n",
      "💡 Descomente as linhas abaixo apenas se precisar deletar índices específicos:\n",
      "\n",
      "🛡️ Nenhum índice foi deletado (modo seguro ativo)\n"
     ]
    }
   ],
   "source": [
    "# ⚠️ ÁREA DE LIMPEZA - Deletar índices antigos (OPCIONAL)\n",
    "# ATENÇÃO: Use com cuidado! Esta operação é irreversível.\n",
    "# Descomente apenas as linhas dos índices que deseja deletar.\n",
    "\n",
    "print(\"⚠️ Seção de limpeza de índices:\")\n",
    "print(\"💡 Descomente as linhas abaixo apenas se precisar deletar índices específicos:\")\n",
    "print()\n",
    "\n",
    "# Exemplos de deleção (mantenha comentado por segurança):\n",
    "# pinecone_client.delete_index('ia-na-pratica')\n",
    "# pinecone_client.delete_index('langchain-index') \n",
    "# pinecone_client.delete_index('turismo')  # Se existir um índice antigo\n",
    "# print(\"✅ Índices selecionados foram deletados!\")\n",
    "\n",
    "print(\"🛡️ Nenhum índice foi deletado (modo seguro ativo)\")"
   ]
  },
  {
   "cell_type": "code",
   "execution_count": 7,
   "id": "b767f466",
   "metadata": {},
   "outputs": [
    {
     "name": "stdout",
     "output_type": "stream",
     "text": [
      "🔄 Criando índice para o sistema Guia de Viagem...\n",
      "ℹ️ Índice 'guia-viagem' já existe!\n",
      "💡 Se quiser recriar, delete primeiro na célula anterior.\n",
      "ℹ️ Índice 'guia-viagem' já existe!\n",
      "💡 Se quiser recriar, delete primeiro na célula anterior.\n"
     ]
    }
   ],
   "source": [
    "# Criar índice 'guia-viagem' para o projeto\n",
    "print(\"🔄 Criando índice para o sistema Guia de Viagem...\")\n",
    "\n",
    "# Configurações do índice\n",
    "indice_nome = 'guia-viagem'\n",
    "dimensao = 384  # Compatível com sentence-transformers/all-MiniLM-L6-v2\n",
    "\n",
    "# Verificar se o índice já existe\n",
    "indices_existentes = [idx['name'] for idx in pinecone_client.list_indexes()]\n",
    "\n",
    "if indice_nome in indices_existentes:\n",
    "    print(f\"ℹ️ Índice '{indice_nome}' já existe!\")\n",
    "    print(\"💡 Se quiser recriar, delete primeiro na célula anterior.\")\n",
    "else:\n",
    "    print(f\"🚀 Criando novo índice '{indice_nome}'...\")\n",
    "    \n",
    "    pinecone_client.create_index(\n",
    "        name=indice_nome,\n",
    "        dimension=dimensao,\n",
    "        metric='cosine',\n",
    "        spec={\n",
    "            \"serverless\": {\n",
    "                \"cloud\": \"aws\",\n",
    "                \"region\": \"us-east-1\"\n",
    "            }\n",
    "        }\n",
    "    )\n",
    "    \n",
    "    print(f\"✅ Índice '{indice_nome}' criado com sucesso!\")\n",
    "    print(f\"📊 Configurações:\")\n",
    "    print(f\"   - Dimensão: {dimensao}\")\n",
    "    print(f\"   - Métrica: cosine\")\n",
    "    print(f\"   - Tipo: Serverless (AWS us-east-1)\")\n",
    "    print(\"⏳ Aguarde alguns segundos para o índice ficar pronto...\")"
   ]
  },
  {
   "cell_type": "code",
   "execution_count": 9,
   "id": "71316053",
   "metadata": {},
   "outputs": [
    {
     "name": "stdout",
     "output_type": "stream",
     "text": [
      "🔍 Testando conexão com o índice criado...\n",
      "✅ Conexão bem-sucedida!\n",
      "\n",
      "📊 Estatísticas do índice:\n",
      "   - Nome: guia-viagem\n",
      "   - Dimensão: 384\n",
      "   - Métrica: cosine\n",
      "   - Vetores: 4\n",
      "   - Namespaces: ['']\n",
      "\n",
      "🎉 Setup concluído com sucesso!\n",
      "✅ Índice 'guia-viagem' está pronto para uso!\n",
      "📋 Próximo passo: Execute o notebook 02-Popular_Pinecone.ipynb\n",
      "✅ Conexão bem-sucedida!\n",
      "\n",
      "📊 Estatísticas do índice:\n",
      "   - Nome: guia-viagem\n",
      "   - Dimensão: 384\n",
      "   - Métrica: cosine\n",
      "   - Vetores: 4\n",
      "   - Namespaces: ['']\n",
      "\n",
      "🎉 Setup concluído com sucesso!\n",
      "✅ Índice 'guia-viagem' está pronto para uso!\n",
      "📋 Próximo passo: Execute o notebook 02-Popular_Pinecone.ipynb\n"
     ]
    }
   ],
   "source": [
    "# Testar conexão e validar configuração final\n",
    "print(\"🔍 Testando conexão com o índice criado...\")\n",
    "\n",
    "try:\n",
    "    # Conectar ao índice\n",
    "    indice = pinecone_client.Index(indice_nome)\n",
    "    \n",
    "    # Verificar status e estatísticas\n",
    "    stats = indice.describe_index_stats()\n",
    "    \n",
    "    print(\"✅ Conexão bem-sucedida!\")\n",
    "    print(\"\\n📊 Estatísticas do índice:\")\n",
    "    print(f\"   - Nome: {indice_nome}\")\n",
    "    print(f\"   - Dimensão: {stats['dimension']}\")\n",
    "    print(f\"   - Métrica: {stats['metric']}\")\n",
    "    print(f\"   - Vetores: {stats['total_vector_count']}\")\n",
    "    print(f\"   - Namespaces: {list(stats.get('namespaces', {}).keys())}\")\n",
    "    \n",
    "    print(f\"\\n🎉 Setup concluído com sucesso!\")\n",
    "    print(f\"✅ Índice '{indice_nome}' está pronto para uso!\")\n",
    "    print(\"📋 Próximo passo: Execute o notebook 02-Popular_Pinecone.ipynb\")\n",
    "    \n",
    "except Exception as e:\n",
    "    print(f\"❌ Erro na conexão: {e}\")\n",
    "    print(\"💡 Aguarde alguns segundos e tente novamente.\")"
   ]
  }
 ],
 "metadata": {
  "kernelspec": {
   "display_name": "langchain",
   "language": "python",
   "name": "python3"
  },
  "language_info": {
   "codemirror_mode": {
    "name": "ipython",
    "version": 3
   },
   "file_extension": ".py",
   "mimetype": "text/x-python",
   "name": "python",
   "nbconvert_exporter": "python",
   "pygments_lexer": "ipython3",
   "version": "3.13.5"
  }
 },
 "nbformat": 4,
 "nbformat_minor": 5
}
