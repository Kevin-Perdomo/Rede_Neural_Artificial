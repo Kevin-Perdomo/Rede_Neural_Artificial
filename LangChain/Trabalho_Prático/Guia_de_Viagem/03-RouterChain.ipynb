{
 "cells": [
  {
   "cell_type": "markdown",
   "id": "263eb11e",
   "metadata": {},
   "source": [
    "# Router Chain\n",
    "Classificação da intenção da consulta do usuário e roteamento para a cadeia especializada."
   ]
  },
  {
   "cell_type": "code",
   "execution_count": null,
   "id": "3b7b3646",
   "metadata": {},
   "outputs": [],
   "source": [
    "# Exemplo de função de roteamento\n",
    "def classificar_intencao(consulta):\n",
    "    if 'roteiro' in consulta or 'itinerário' in consulta:\n",
    "        return 'roteiro-viagem'\n",
    "    elif 'como chegar' in consulta or 'transporte' in consulta:\n",
    "        return 'logistica-transporte'\n",
    "    elif 'restaurante' in consulta or 'ponto turístico' in consulta or 'informação' in consulta:\n",
    "        return 'info-local'\n",
    "    elif 'traduzir' in consulta or 'tradução' in consulta:\n",
    "        return 'traducao-idiomas'\n",
    "    else:\n",
    "        return 'info-local'  # fallback\n",
    "# Exemplo de uso\n",
    "consulta = 'Quais são os melhores restaurantes veganos em Paris?'\n",
    "print(classificar_intencao(consulta))"
   ]
  }
 ],
 "metadata": {
  "language_info": {
   "name": "python"
  }
 },
 "nbformat": 4,
 "nbformat_minor": 5
}
