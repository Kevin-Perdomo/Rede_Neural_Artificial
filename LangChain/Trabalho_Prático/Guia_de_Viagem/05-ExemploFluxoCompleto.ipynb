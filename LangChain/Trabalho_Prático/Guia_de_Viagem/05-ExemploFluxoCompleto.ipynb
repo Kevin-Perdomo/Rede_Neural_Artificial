{
 "cells": [
  {
   "cell_type": "markdown",
   "id": "ae75d12d",
   "metadata": {},
   "source": [
    "# Exemplo de Fluxo Completo\n",
    "Demonstração do fluxo: consulta -> roteamento -> cadeia especializada -> resposta."
   ]
  },
  {
   "cell_type": "code",
   "execution_count": null,
   "id": "95b2b302",
   "metadata": {},
   "outputs": [],
   "source": [
    "# Funções importadas dos notebooks anteriores\n",
    "def classificar_intencao(consulta):\n",
    "    if 'roteiro' in consulta or 'itinerário' in consulta:\n",
    "        return 'roteiro-viagem'\n",
    "    elif 'como chegar' in consulta or 'transporte' in consulta:\n",
    "        return 'logistica-transporte'\n",
    "    elif 'restaurante' in consulta or 'ponto turístico' in consulta or 'informação' in consulta:\n",
    "        return 'info-local'\n",
    "    elif 'traduzir' in consulta or 'tradução' in consulta:\n",
    "        return 'traducao-idiomas'\n",
    "    else:\n",
    "        return 'info-local'\n",
    "def itinerary_chain(consulta):\n",
    "    return f'Roteiro personalizado para: {consulta}'\n",
    "def logistics_chain(consulta):\n",
    "    return f'Resposta logística para: {consulta}'\n",
    "def local_info_chain(consulta):\n",
    "    return f'Informação local para: {consulta}'\n",
    "def translation_chain(consulta):\n",
    "    return f'Tradução/guia de viagem: {consulta}'\n",
    "# Simulação de consulta\n",
    "consulta = 'Quais são os melhores restaurantes veganos em Paris?'\n",
    "intencao = classificar_intencao(consulta)\n",
    "if intencao == 'roteiro-viagem':\n",
    "    resposta = itinerary_chain(consulta)\n",
    "elif intencao == 'logistica-transporte':\n",
    "    resposta = logistics_chain(consulta)\n",
    "elif intencao == 'info-local':\n",
    "    resposta = local_info_chain(consulta)\n",
    "elif intencao == 'traducao-idiomas':\n",
    "    resposta = translation_chain(consulta)\n",
    "print('Consulta:', consulta)\n",
    "print('Intenção:', intencao)\n",
    "print('Resposta:', resposta)"
   ]
  }
 ],
 "metadata": {
  "language_info": {
   "name": "python"
  }
 },
 "nbformat": 4,
 "nbformat_minor": 5
}
