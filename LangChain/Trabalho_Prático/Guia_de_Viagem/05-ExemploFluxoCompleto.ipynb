{
 "cells": [
  {
   "cell_type": "markdown",
   "id": "924c5ea6",
   "metadata": {},
   "source": [
    "# 🔄 Análise de Fluxo Completo e Métricas do Sistema\n",
    "\n",
    "Este notebook demonstra o **fluxo end-to-end** do sistema de router chains com análise detalhada de **performance metrics**, **latency analysis** e **user experience optimization**.\n",
    "\n",
    "## 🎯 Objetivos Acadêmicos:\n",
    "1. **Flow Analysis**: Rastreamento completo do fluxo de dados\n",
    "2. **Performance Metrics**: Medição de latência, precisão e throughput\n",
    "3. **Error Scenarios**: Análise de casos de falha e recovery\n",
    "4. **UX Optimization**: Melhorias na experiência do usuário\n",
    "\n",
    "## 📊 Metodologia:\n",
    "- **Instrumentação**: Sistema completo com captura de métricas\n",
    "- **Batch Testing**: Análise estatística em múltiplas consultas\n",
    "- **Quality Assessment**: Avaliação automatizada de respostas\n",
    "- **Performance Profiling**: Identificação de bottlenecks"
   ]
  },
  {
   "cell_type": "code",
   "execution_count": 23,
   "id": "5016d049",
   "metadata": {},
   "outputs": [
    {
     "name": "stdout",
     "output_type": "stream",
     "text": [
      "📦 Bibliotecas importadas para análise de fluxo completo!\n",
      "⏰ Timestamp: 2025-09-11 23:31:39\n"
     ]
    }
   ],
   "source": [
    "# Importações para análise completa de fluxo\n",
    "import os\n",
    "import time\n",
    "import statistics\n",
    "from datetime import datetime\n",
    "from typing import Dict, List, Tuple\n",
    "from dotenv import load_dotenv\n",
    "from pinecone import Pinecone\n",
    "from langchain_huggingface import HuggingFaceEmbeddings\n",
    "from langchain_groq import ChatGroq\n",
    "from langchain.chains import LLMChain\n",
    "from langchain.prompts import PromptTemplate\n",
    "\n",
    "# Configuração do ambiente\n",
    "load_dotenv()\n",
    "\n",
    "print(\"📦 Bibliotecas importadas para análise de fluxo completo!\")\n",
    "print(f\"⏰ Timestamp: {datetime.now().strftime('%Y-%m-%d %H:%M:%S')}\")"
   ]
  },
  {
   "cell_type": "code",
   "execution_count": 24,
   "id": "ea8fc186",
   "metadata": {},
   "outputs": [
    {
     "name": "stdout",
     "output_type": "stream",
     "text": [
      "🚀 Sistema completo carregado para análise de fluxo!\n",
      "🗂️ Vetores indexados: 4\n",
      "🗂️ Vetores indexados: 4\n"
     ]
    }
   ],
   "source": [
    "# Inicializar componentes principais\n",
    "llm = ChatGroq(\n",
    "    temperature=0.1,\n",
    "    model=\"llama-3.1-8b-instant\",\n",
    "    groq_api_key=os.getenv('GROQ_API_KEY')\n",
    ")\n",
    "\n",
    "pinecone_client = Pinecone(api_key=os.getenv('PINECONE_API_KEY'))\n",
    "indice = pinecone_client.Index('guia-viagem')\n",
    "embeddings_model = HuggingFaceEmbeddings(model_name=\"sentence-transformers/all-MiniLM-L6-v2\")\n",
    "\n",
    "print(\"🚀 Sistema completo carregado para análise de fluxo!\")\n",
    "print(f\"🗂️ Vetores indexados: {indice.describe_index_stats()['total_vector_count']}\")"
   ]
  },
  {
   "cell_type": "markdown",
   "id": "0c16f3f8",
   "metadata": {},
   "source": [
    "## 🏗️ 1. Reconstrução do Sistema Completo\n",
    "\n",
    "Para análise de fluxo completa, vamos recriar todos os componentes com instrumentação para métricas:"
   ]
  },
  {
   "cell_type": "code",
   "execution_count": 25,
   "id": "204b507b",
   "metadata": {},
   "outputs": [
    {
     "name": "stdout",
     "output_type": "stream",
     "text": [
      "✅ Router Chain criado com instrumentação\n"
     ]
    }
   ],
   "source": [
    "# Template do Router - Instrumentado para análise\n",
    "router_template = '''\n",
    "Classifique a intenção da pergunta sobre viagem nas categorias:\n",
    "- roteiro-viagem: perguntas sobre itinerários, cronogramas, roteiros\n",
    "- logistica-transporte: perguntas sobre como chegar, transportes, hospedagem\n",
    "- info-local: perguntas sobre locais, cultura, gastronomia, atrações\n",
    "- traducao-idiomas: perguntas sobre tradução, idiomas, comunicação\n",
    "\n",
    "Pergunta: {pergunta}\n",
    "Classificação (apenas a categoria):'''\n",
    "\n",
    "router_prompt = PromptTemplate(template=router_template, input_variables=['pergunta'])\n",
    "router_chain = LLMChain(llm=llm, prompt=router_prompt)\n",
    "\n",
    "print('✅ Router Chain criado com instrumentação')"
   ]
  },
  {
   "cell_type": "code",
   "execution_count": 26,
   "id": "872a03dd",
   "metadata": {},
   "outputs": [
    {
     "name": "stdout",
     "output_type": "stream",
     "text": [
      "🗺️ Chain Roteiro de Viagem criada\n"
     ]
    }
   ],
   "source": [
    "# Chains Especializadas - Versões Completas\n",
    "chains_especializadas = {}\n",
    "\n",
    "# Roteiro de Viagem\n",
    "roteiro_template = '''Você é um especialista em roteiros de viagem. Com base no contexto e sua expertise, crie um roteiro detalhado.\n",
    "\n",
    "Contexto: {contexto}\n",
    "Pergunta: {pergunta}\n",
    "\n",
    "Resposta (roteiro estruturado):'''\n",
    "\n",
    "chains_especializadas['roteiro-viagem'] = LLMChain(\n",
    "    llm=llm, \n",
    "    prompt=PromptTemplate(template=roteiro_template, input_variables=['contexto', 'pergunta'])\n",
    ")\n",
    "\n",
    "print('🗺️ Chain Roteiro de Viagem criada')"
   ]
  },
  {
   "cell_type": "code",
   "execution_count": 27,
   "id": "43ac5734",
   "metadata": {},
   "outputs": [
    {
     "name": "stdout",
     "output_type": "stream",
     "text": [
      "🚗 Chain Logística e Transporte criada\n"
     ]
    }
   ],
   "source": [
    "# Logística e Transporte\n",
    "logistica_template = '''Você é um especialista em logística de viagem. Forneça informações práticas sobre transporte e logística.\n",
    "\n",
    "Contexto: {contexto}\n",
    "Pergunta: {pergunta}\n",
    "\n",
    "Resposta (informações práticas):'''\n",
    "\n",
    "chains_especializadas['logistica-transporte'] = LLMChain(\n",
    "    llm=llm, \n",
    "    prompt=PromptTemplate(template=logistica_template, input_variables=['contexto', 'pergunta'])\n",
    ")\n",
    "\n",
    "print('🚗 Chain Logística e Transporte criada')"
   ]
  },
  {
   "cell_type": "code",
   "execution_count": 28,
   "id": "32c4713a",
   "metadata": {},
   "outputs": [
    {
     "name": "stdout",
     "output_type": "stream",
     "text": [
      "🏛️ Chain Informações Locais criada\n"
     ]
    }
   ],
   "source": [
    "# Informações Locais\n",
    "info_template = '''Você é um guia local experiente. Forneça informações culturais e gastronômicas locais.\n",
    "\n",
    "Contexto: {contexto}\n",
    "Pergunta: {pergunta}\n",
    "\n",
    "Resposta (dicas locais):'''\n",
    "\n",
    "chains_especializadas['info-local'] = LLMChain(\n",
    "    llm=llm, \n",
    "    prompt=PromptTemplate(template=info_template, input_variables=['contexto', 'pergunta'])\n",
    ")\n",
    "\n",
    "print('🏛️ Chain Informações Locais criada')"
   ]
  },
  {
   "cell_type": "code",
   "execution_count": 29,
   "id": "b00241ba",
   "metadata": {},
   "outputs": [
    {
     "name": "stdout",
     "output_type": "stream",
     "text": [
      "🗣️ Chain Tradução e Idiomas criada\n",
      "\n",
      "✅ 4 Chains Especializadas criadas:\n",
      "   📌 roteiro-viagem\n",
      "   📌 logistica-transporte\n",
      "   📌 info-local\n",
      "   📌 traducao-idiomas\n"
     ]
    }
   ],
   "source": [
    "# Tradução e Idiomas\n",
    "traducao_template = '''Você é um especialista em idiomas. Ajude com traduções e comunicação para viajantes.\n",
    "\n",
    "Contexto: {contexto}\n",
    "Pergunta: {pergunta}\n",
    "\n",
    "Resposta (tradução/comunicação):'''\n",
    "\n",
    "chains_especializadas['traducao-idiomas'] = LLMChain(\n",
    "    llm=llm, \n",
    "    prompt=PromptTemplate(template=traducao_template, input_variables=['contexto', 'pergunta'])\n",
    ")\n",
    "\n",
    "print('🗣️ Chain Tradução e Idiomas criada')\n",
    "print(f'\\n✅ {len(chains_especializadas)} Chains Especializadas criadas:')\n",
    "for categoria in chains_especializadas.keys():\n",
    "    print(f'   📌 {categoria}')"
   ]
  },
  {
   "cell_type": "markdown",
   "id": "6ca72818",
   "metadata": {},
   "source": [
    "## ⚡ 2. Função Principal com Métricas Completas\n",
    "\n",
    "Sistema principal instrumentado para capturar métricas detalhadas de performance:"
   ]
  },
  {
   "cell_type": "code",
   "execution_count": 30,
   "id": "45c71a2e",
   "metadata": {},
   "outputs": [
    {
     "name": "stdout",
     "output_type": "stream",
     "text": [
      "Função principal com métricas corrigida!\n"
     ]
    }
   ],
   "source": [
    "def processar_consulta_completa(pergunta: str) -> Dict:\n",
    "    \"\"\"\n",
    "    Processa consulta com instrumentação completa para análise de performance\n",
    "    \n",
    "    Returns:\n",
    "        Dict com resposta, métricas e metadados do processamento\n",
    "    \"\"\"\n",
    "    inicio_total = time.time()\n",
    "    \n",
    "    try:\n",
    "        # STEP 1: Router Classification\n",
    "        inicio_router = time.time()\n",
    "        classificacao_resultado = router_chain.invoke({'pergunta': pergunta})\n",
    "        categoria = classificacao_resultado['text'].strip().lower()\n",
    "        latencia_router = time.time() - inicio_router\n",
    "        \n",
    "        # STEP 2: RAG Context Retrieval\n",
    "        inicio_rag = time.time()\n",
    "        pergunta_embedding = embeddings_model.embed_query(pergunta)\n",
    "        resultados_pinecone = indice.query(\n",
    "            vector=pergunta_embedding,\n",
    "            top_k=2,\n",
    "            include_metadata=True\n",
    "        )\n",
    "        \n",
    "        # Processamento seguro dos contextos\n",
    "        contextos = []\n",
    "        if 'matches' in resultados_pinecone and resultados_pinecone['matches']:\n",
    "            for match in resultados_pinecone['matches']:\n",
    "                if match['score'] > 0.3 and 'metadata' in match:\n",
    "                    # Tratamento seguro dos metadados\n",
    "                    if 'texto' in match['metadata']:\n",
    "                        contextos.append(match['metadata']['texto'])\n",
    "                    elif 'content' in match['metadata']:\n",
    "                        contextos.append(match['metadata']['content'])\n",
    "        \n",
    "        contexto = '\\n\\n---\\n\\n'.join(contextos)\n",
    "        latencia_rag = time.time() - inicio_rag\n",
    "        \n",
    "        # STEP 3: Specialized Chain Processing\n",
    "        inicio_chain = time.time()\n",
    "        if categoria in chains_especializadas:\n",
    "            chain_result = chains_especializadas[categoria].invoke({\n",
    "                'contexto': contexto,\n",
    "                'pergunta': pergunta\n",
    "            })\n",
    "            resposta = chain_result['text']\n",
    "        else:\n",
    "            # Fallback para categoria não reconhecida\n",
    "            chain_result = chains_especializadas['info-local'].invoke({\n",
    "                'contexto': contexto,\n",
    "                'pergunta': pergunta\n",
    "            })\n",
    "            resposta = chain_result['text']\n",
    "        \n",
    "        latencia_chain = time.time() - inicio_chain\n",
    "        latencia_total = time.time() - inicio_total\n",
    "        \n",
    "        return {\n",
    "            'sucesso': True,\n",
    "            'pergunta': pergunta,\n",
    "            'categoria_detectada': categoria,\n",
    "            'resposta': resposta,\n",
    "            'latencias': {\n",
    "                'router': latencia_router,\n",
    "                'rag': latencia_rag,\n",
    "                'chain': latencia_chain,\n",
    "                'total': latencia_total\n",
    "            },\n",
    "            'documentos_recuperados': len(contextos),\n",
    "            'contexto_length': len(contexto),\n",
    "            'resposta_length': len(resposta)\n",
    "        }\n",
    "        \n",
    "    except Exception as e:\n",
    "        return {\n",
    "            'sucesso': False,\n",
    "            'erro': str(e),\n",
    "            'latencia_total': time.time() - inicio_total,\n",
    "            'pergunta': pergunta\n",
    "        }\n",
    "\n",
    "print('Função principal com métricas corrigida!')"
   ]
  },
  {
   "cell_type": "markdown",
   "id": "58d6407b",
   "metadata": {},
   "source": [
    "## 📊 3. Análise de Performance - Múltiplas Consultas\n",
    "\n",
    "Teste batch para análise estatística de performance:"
   ]
  },
  {
   "cell_type": "code",
   "execution_count": 31,
   "id": "353e326e",
   "metadata": {},
   "outputs": [
    {
     "name": "stdout",
     "output_type": "stream",
     "text": [
      "🧪 Dataset preparado: 8 consultas de teste\n",
      "Categorias esperadas: roteiro-viagem, logistica-transporte, info-local, traducao-idiomas\n"
     ]
    }
   ],
   "source": [
    "# Dataset de teste representativo\n",
    "consultas_teste = [\n",
    "    'roteiro cultural em Paris por 3 dias',  # roteiro-viagem\n",
    "    'como chegar ao aeroporto Charles de Gaulle',  # logistica-transporte\n",
    "    'melhores restaurantes veganos em Paris',  # info-local\n",
    "    'traduzir \"onde fica o banheiro\" para francês',  # traducao-idiomas\n",
    "    'pontos turísticos imperdíveis no Rio',  # info-local\n",
    "    'preço do metrô em Paris',  # logistica-transporte\n",
    "    'roteiro romântico para lua de mel',  # roteiro-viagem\n",
    "    'frases úteis em francês para turistas'  # traducao-idiomas\n",
    "]\n",
    "\n",
    "print(f'🧪 Dataset preparado: {len(consultas_teste)} consultas de teste')\n",
    "print('Categorias esperadas: roteiro-viagem, logistica-transporte, info-local, traducao-idiomas')"
   ]
  },
  {
   "cell_type": "code",
   "execution_count": 32,
   "id": "8b62f104",
   "metadata": {},
   "outputs": [
    {
     "name": "stdout",
     "output_type": "stream",
     "text": [
      "🧪 Iniciando análise batch de 8 consultas...\n",
      "============================================================\n",
      "[1/8] Processando: roteiro cultural em Paris por 3 dias...\n",
      "   ✅ roteiro-viagem | 3.358s\n",
      "\n",
      "[2/8] Processando: como chegar ao aeroporto Charles de Gaulle...\n",
      "   ✅ roteiro-viagem | 3.358s\n",
      "\n",
      "[2/8] Processando: como chegar ao aeroporto Charles de Gaulle...\n",
      "   ✅ logistica-transporte | 3.361s\n",
      "\n",
      "[3/8] Processando: melhores restaurantes veganos em Paris...\n",
      "   ✅ logistica-transporte | 3.361s\n",
      "\n",
      "[3/8] Processando: melhores restaurantes veganos em Paris...\n",
      "   ✅ info-local | 1.730s\n",
      "\n",
      "[4/8] Processando: traduzir \"onde fica o banheiro\" para francês...\n",
      "   ✅ info-local | 1.730s\n",
      "\n",
      "[4/8] Processando: traduzir \"onde fica o banheiro\" para francês...\n",
      "   ✅ traducao-idiomas | 1.711s\n",
      "\n",
      "[5/8] Processando: pontos turísticos imperdíveis no Rio...\n",
      "   ✅ traducao-idiomas | 1.711s\n",
      "\n",
      "[5/8] Processando: pontos turísticos imperdíveis no Rio...\n",
      "   ✅ info-local | 3.282s\n",
      "\n",
      "[6/8] Processando: preço do metrô em Paris...\n",
      "   ✅ info-local | 3.282s\n",
      "\n",
      "[6/8] Processando: preço do metrô em Paris...\n",
      "   ✅ logistica-transporte | 1.955s\n",
      "\n",
      "[7/8] Processando: roteiro romântico para lua de mel...\n",
      "   ✅ logistica-transporte | 1.955s\n",
      "\n",
      "[7/8] Processando: roteiro romântico para lua de mel...\n",
      "   ✅ roteiro-viagem | 6.412s\n",
      "\n",
      "[8/8] Processando: frases úteis em francês para turistas...\n",
      "   ✅ roteiro-viagem | 6.412s\n",
      "\n",
      "[8/8] Processando: frases úteis em francês para turistas...\n",
      "   ✅ info-local | 2.992s\n",
      "\n",
      "✅ Análise batch concluída!\n",
      "   ✅ info-local | 2.992s\n",
      "\n",
      "✅ Análise batch concluída!\n"
     ]
    }
   ],
   "source": [
    "# Executar análise batch\n",
    "print(f'🧪 Iniciando análise batch de {len(consultas_teste)} consultas...')\n",
    "print('=' * 60)\n",
    "\n",
    "resultados = []\n",
    "for i, consulta in enumerate(consultas_teste, 1):\n",
    "    print(f'[{i}/{len(consultas_teste)}] Processando: {consulta[:50]}...')\n",
    "    resultado = processar_consulta_completa(consulta)\n",
    "    resultados.append(resultado)\n",
    "    \n",
    "    # Resumo rápido\n",
    "    if resultado['sucesso']:\n",
    "        status = '✅'\n",
    "        latencia = f\"{resultado['latencias']['total']:.3f}s\"\n",
    "        categoria = resultado.get('categoria_detectada', 'N/A')\n",
    "        print(f'   {status} {categoria} | {latencia}')\n",
    "    else:\n",
    "        print(f'   ❌ Erro: {resultado[\"erro\"]}')\n",
    "    print()\n",
    "\n",
    "print('✅ Análise batch concluída!')"
   ]
  },
  {
   "cell_type": "code",
   "execution_count": 33,
   "id": "ac48e7dc",
   "metadata": {},
   "outputs": [
    {
     "name": "stdout",
     "output_type": "stream",
     "text": [
      "📈 ESTATÍSTICAS DE PERFORMANCE:\n",
      "==================================================\n",
      "✅ Taxa de Sucesso: 8/8 (100.0%)\n",
      "⏱️ Latência Total Média: 3.100s\n",
      "📊 Desvio Padrão: 1.524s\n",
      "🏁 Min/Max: 1.711s / 6.412s\n",
      "\n"
     ]
    }
   ],
   "source": [
    "# Análise Estatística dos Resultados\n",
    "sucessos = [r for r in resultados if r['sucesso']]\n",
    "if not sucessos:\n",
    "    print('❌ Nenhum resultado bem-sucedido para análise')\n",
    "else:\n",
    "    latencias_total = [r['latencias']['total'] for r in sucessos]\n",
    "    latencias_router = [r['latencias']['router'] for r in sucessos]\n",
    "    latencias_rag = [r['latencias']['rag'] for r in sucessos]\n",
    "    latencias_chain = [r['latencias']['chain'] for r in sucessos]\n",
    "    \n",
    "    print('📈 ESTATÍSTICAS DE PERFORMANCE:')\n",
    "    print('=' * 50)\n",
    "    \n",
    "    # Métricas Gerais\n",
    "    print(f'✅ Taxa de Sucesso: {len(sucessos)}/{len(resultados)} ({(len(sucessos)/len(resultados)*100):.1f}%)')\n",
    "    print(f'⏱️ Latência Total Média: {statistics.mean(latencias_total):.3f}s')\n",
    "    if len(latencias_total) > 1:\n",
    "        print(f'📊 Desvio Padrão: {statistics.stdev(latencias_total):.3f}s')\n",
    "    print(f'🏁 Min/Max: {min(latencias_total):.3f}s / {max(latencias_total):.3f}s\\n')"
   ]
  },
  {
   "cell_type": "code",
   "execution_count": 34,
   "id": "8a535bc4",
   "metadata": {},
   "outputs": [
    {
     "name": "stdout",
     "output_type": "stream",
     "text": [
      "🔍 BREAKDOWN POR COMPONENTE:\n",
      "• Router: 0.553s\n",
      "• RAG: 0.207s\n",
      "• Chain: 2.340s\n",
      "\n",
      "🎯 PERFORMANCE POR CATEGORIA:\n",
      "• roteiro-viagem: 4.885s (n=2)\n",
      "• logistica-transporte: 2.658s (n=2)\n",
      "• info-local: 2.668s (n=3)\n",
      "• traducao-idiomas: 1.711s (n=1)\n"
     ]
    }
   ],
   "source": [
    "# Breakdown por Componente\n",
    "if sucessos:\n",
    "    print('🔍 BREAKDOWN POR COMPONENTE:')\n",
    "    print(f'• Router: {statistics.mean(latencias_router):.3f}s')\n",
    "    print(f'• RAG: {statistics.mean(latencias_rag):.3f}s') \n",
    "    print(f'• Chain: {statistics.mean(latencias_chain):.3f}s\\n')\n",
    "    \n",
    "    # Distribuição por Categoria\n",
    "    categorias = {}\n",
    "    for r in sucessos:\n",
    "        cat = r.get('categoria_detectada', 'unknown')\n",
    "        if cat not in categorias:\n",
    "            categorias[cat] = []\n",
    "        categorias[cat].append(r['latencias']['total'])\n",
    "    \n",
    "    print('🎯 PERFORMANCE POR CATEGORIA:')\n",
    "    for categoria, latencias in categorias.items():\n",
    "        media = statistics.mean(latencias)\n",
    "        count = len(latencias)\n",
    "        print(f'• {categoria}: {media:.3f}s (n={count})')"
   ]
  },
  {
   "cell_type": "markdown",
   "id": "5e8909c5",
   "metadata": {},
   "source": [
    "## 🎭 4. Análise Qualitativa das Respostas\n",
    "\n",
    "Avaliação da qualidade e adequação das respostas:"
   ]
  },
  {
   "cell_type": "code",
   "execution_count": 35,
   "id": "f20a3e10",
   "metadata": {},
   "outputs": [
    {
     "name": "stdout",
     "output_type": "stream",
     "text": [
      "🎭 Função de análise qualitativa implementada!\n"
     ]
    }
   ],
   "source": [
    "# Análise qualitativa automatizada\n",
    "def analisar_qualidade_resposta(resultado: Dict) -> Dict:\n",
    "    \"\"\"Análise qualitativa automatizada da resposta\"\"\"\n",
    "    if not resultado['sucesso']:\n",
    "        return {'score': 0, 'issues': ['Falha no processamento']}\n",
    "    \n",
    "    resposta = resultado['resposta'].lower()\n",
    "    pergunta = resultado['pergunta'].lower()\n",
    "    categoria = resultado.get('categoria_detectada', '')\n",
    "    \n",
    "    score = 0\n",
    "    issues = []\n",
    "    strengths = []\n",
    "    \n",
    "    # Comprimento adequado\n",
    "    if len(resultado['resposta']) > 50:\n",
    "        score += 20\n",
    "        strengths.append('Resposta detalhada')\n",
    "    else:\n",
    "        issues.append('Resposta muito curta')\n",
    "    \n",
    "    # Relevância contextual\n",
    "    if resultado['documentos_recuperados'] > 0:\n",
    "        score += 25\n",
    "        strengths.append('Contexto RAG utilizado')\n",
    "    else:\n",
    "        issues.append('Sem contexto RAG')\n",
    "    \n",
    "    # Categoria adequada\n",
    "    categoria_keywords = {\n",
    "        'roteiro-viagem': ['roteiro', 'itinerário', 'cronograma', 'dia'],\n",
    "        'logistica-transporte': ['transporte', 'chegar', 'metrô', 'ônibus'],\n",
    "        'info-local': ['restaurante', 'local', 'ponto turístico'],\n",
    "        'traducao-idiomas': ['tradução', 'francês', 'inglês', 'frase']\n",
    "    }\n",
    "    \n",
    "    if categoria in categoria_keywords:\n",
    "        keywords_found = sum(1 for kw in categoria_keywords[categoria] if kw in resposta)\n",
    "        if keywords_found > 0:\n",
    "            score += 30\n",
    "            strengths.append(f'Keywords relevantes encontradas ({keywords_found})')\n",
    "        else:\n",
    "            issues.append('Falta de keywords específicas da categoria')\n",
    "    \n",
    "    # Estruturação\n",
    "    if any(marker in resposta for marker in ['\\n', '•', '-', '1.', '2.']):\n",
    "        score += 15\n",
    "        strengths.append('Resposta estruturada')\n",
    "    \n",
    "    # Menciona locais específicos\n",
    "    locais_especificos = ['paris', 'louvre', 'torre eiffel', 'rio', 'copacabana']\n",
    "    if any(local in resposta for local in locais_especificos):\n",
    "        score += 10\n",
    "        strengths.append('Menciona locais específicos')\n",
    "    \n",
    "    return {\n",
    "        'score': min(score, 100),\n",
    "        'issues': issues,\n",
    "        'strengths': strengths\n",
    "    }\n",
    "\n",
    "print('🎭 Função de análise qualitativa implementada!')"
   ]
  },
  {
   "cell_type": "code",
   "execution_count": 36,
   "id": "ce3146f8",
   "metadata": {},
   "outputs": [
    {
     "name": "stdout",
     "output_type": "stream",
     "text": [
      "🎭 ANÁLISE QUALITATIVA DAS RESPOSTAS:\n",
      "============================================================\n",
      "[1] roteiro cultural em Paris por 3 dias...\n",
      "   📊 Score: 75/100\n",
      "   ✅ Pontos Fortes: Resposta detalhada, Keywords relevantes encontradas (2), Resposta estruturada, Menciona locais específicos\n",
      "   ⚠️ Issues: Sem contexto RAG\n",
      "\n",
      "[2] como chegar ao aeroporto Charles de Gaul...\n",
      "   📊 Score: 75/100\n",
      "   ✅ Pontos Fortes: Resposta detalhada, Keywords relevantes encontradas (4), Resposta estruturada, Menciona locais específicos\n",
      "   ⚠️ Issues: Sem contexto RAG\n",
      "\n",
      "[3] melhores restaurantes veganos em Paris...\n",
      "   📊 Score: 75/100\n",
      "   ✅ Pontos Fortes: Resposta detalhada, Keywords relevantes encontradas (2), Resposta estruturada, Menciona locais específicos\n",
      "   ⚠️ Issues: Sem contexto RAG\n",
      "\n",
      "[4] traduzir \"onde fica o banheiro\" para fra...\n",
      "   📊 Score: 75/100\n",
      "   ✅ Pontos Fortes: Resposta detalhada, Keywords relevantes encontradas (4), Resposta estruturada, Menciona locais específicos\n",
      "   ⚠️ Issues: Sem contexto RAG\n",
      "\n",
      "[5] pontos turísticos imperdíveis no Rio...\n",
      "   📊 Score: 75/100\n",
      "   ✅ Pontos Fortes: Resposta detalhada, Keywords relevantes encontradas (2), Resposta estruturada, Menciona locais específicos\n",
      "   ⚠️ Issues: Sem contexto RAG\n",
      "\n",
      "[6] preço do metrô em Paris...\n",
      "   📊 Score: 75/100\n",
      "   ✅ Pontos Fortes: Resposta detalhada, Keywords relevantes encontradas (3), Resposta estruturada, Menciona locais específicos\n",
      "   ⚠️ Issues: Sem contexto RAG\n",
      "\n",
      "[7] roteiro romântico para lua de mel...\n",
      "   📊 Score: 75/100\n",
      "   ✅ Pontos Fortes: Resposta detalhada, Keywords relevantes encontradas (2), Resposta estruturada, Menciona locais específicos\n",
      "   ⚠️ Issues: Sem contexto RAG\n",
      "\n",
      "[8] frases úteis em francês para turistas...\n",
      "   📊 Score: 65/100\n",
      "   ✅ Pontos Fortes: Resposta detalhada, Keywords relevantes encontradas (2), Resposta estruturada\n",
      "   ⚠️ Issues: Sem contexto RAG\n",
      "\n",
      "📊 SCORE MÉDIO DE QUALIDADE: 73.8/100\n",
      "📈 Distribuição: Min=65 | Max=75 | StdDev=3.5\n"
     ]
    }
   ],
   "source": [
    "# Aplicar análise qualitativa\n",
    "print('🎭 ANÁLISE QUALITATIVA DAS RESPOSTAS:')\n",
    "print('=' * 60)\n",
    "\n",
    "scores = []\n",
    "for i, resultado in enumerate(resultados):\n",
    "    analise = analisar_qualidade_resposta(resultado)\n",
    "    scores.append(analise['score'])\n",
    "    \n",
    "    pergunta_display = resultado.get('pergunta', 'N/A')[:40]\n",
    "    print(f'[{i+1}] {pergunta_display}...')\n",
    "    print(f'   📊 Score: {analise[\"score\"]}/100')\n",
    "    if analise['strengths']:\n",
    "        print(f'   ✅ Pontos Fortes: {\", \".join(analise[\"strengths\"])}')\n",
    "    if analise['issues']:\n",
    "        print(f'   ⚠️ Issues: {\", \".join(analise[\"issues\"])}')\n",
    "    print()\n",
    "\n",
    "if scores:\n",
    "    print(f'📊 SCORE MÉDIO DE QUALIDADE: {statistics.mean(scores):.1f}/100')\n",
    "    if len(scores) > 1:\n",
    "        print(f'📈 Distribuição: Min={min(scores)} | Max={max(scores)} | StdDev={statistics.stdev(scores):.1f}')"
   ]
  },
  {
   "cell_type": "markdown",
   "id": "efff6120",
   "metadata": {},
   "source": [
    "## 🛠️ 5. Otimizações e Melhorias Identificadas\n",
    "\n",
    "Based na análise de performance e qualidade:"
   ]
  },
  {
   "cell_type": "code",
   "execution_count": 37,
   "id": "c611aaea",
   "metadata": {},
   "outputs": [
    {
     "name": "stdout",
     "output_type": "stream",
     "text": [
      "🛠️ OPORTUNIDADES DE OTIMIZAÇÃO:\n",
      "==================================================\n",
      "🐌 COMPONENTES POR LATÊNCIA (maior para menor):\n",
      "1. Chain: 2.340s (75.5% do total)\n",
      "2. Router: 0.553s (17.8% do total)\n",
      "3. RAG: 0.207s (6.7% do total)\n",
      "\n",
      "💡 RECOMENDAÇÕES DE OTIMIZAÇÃO:\n",
      "• 🎯 PRIORIDADE ALTA: Otimizar Chains Especializadas\n",
      "  - Considerar templates mais concisos\n",
      "  - Implementar cache de respostas similares\n",
      "  - Ajustar temperatura do modelo\n",
      "• 🧭 Router Classification:\n",
      "  - Considerar modelo mais leve para classificação\n",
      "  - Implementar classificação baseada em regras como fallback\n"
     ]
    }
   ],
   "source": [
    "# Análise de gargalos e oportunidades de otimização\n",
    "if sucessos:\n",
    "    print('🛠️ OPORTUNIDADES DE OTIMIZAÇÃO:')\n",
    "    print('=' * 50)\n",
    "    \n",
    "    # Análise de latência\n",
    "    latencia_media_total = statistics.mean(latencias_total)\n",
    "    latencia_media_router = statistics.mean(latencias_router)\n",
    "    latencia_media_rag = statistics.mean(latencias_rag)\n",
    "    latencia_media_chain = statistics.mean(latencias_chain)\n",
    "    \n",
    "    componentes_latencia = [\n",
    "        ('Router', latencia_media_router),\n",
    "        ('RAG', latencia_media_rag),\n",
    "        ('Chain', latencia_media_chain)\n",
    "    ]\n",
    "    \n",
    "    componentes_latencia.sort(key=lambda x: x[1], reverse=True)\n",
    "    \n",
    "    print('🐌 COMPONENTES POR LATÊNCIA (maior para menor):')\n",
    "    for i, (componente, latencia) in enumerate(componentes_latencia, 1):\n",
    "        percentual = (latencia / latencia_media_total) * 100\n",
    "        print(f'{i}. {componente}: {latencia:.3f}s ({percentual:.1f}% do total)')\n",
    "    \n",
    "    print('\\n💡 RECOMENDAÇÕES DE OTIMIZAÇÃO:')\n",
    "    \n",
    "    # Recomendações baseadas em análise\n",
    "    if latencia_media_chain > latencia_media_router + latencia_media_rag:\n",
    "        print('• 🎯 PRIORIDADE ALTA: Otimizar Chains Especializadas')\n",
    "        print('  - Considerar templates mais concisos')\n",
    "        print('  - Implementar cache de respostas similares')\n",
    "        print('  - Ajustar temperatura do modelo')\n",
    "    \n",
    "    if latencia_media_rag > 0.5:  # threshold arbitrário\n",
    "        print('• 🔍 RAG Performance:')\n",
    "        print('  - Considerar índices mais otimizados')\n",
    "        print('  - Reduzir dimensionalidade dos embeddings')\n",
    "        print('  - Implementar cache de embeddings')\n",
    "    \n",
    "    if latencia_media_router > 0.3:\n",
    "        print('• 🧭 Router Classification:')\n",
    "        print('  - Considerar modelo mais leve para classificação')\n",
    "        print('  - Implementar classificação baseada em regras como fallback')\n",
    "else:\n",
    "    print('⚠️ Não há dados de sucesso para análise de otimização')"
   ]
  },
  {
   "cell_type": "code",
   "execution_count": 38,
   "id": "f03d7937",
   "metadata": {},
   "outputs": [
    {
     "name": "stdout",
     "output_type": "stream",
     "text": [
      "• 📝 Qualidade das Respostas:\n",
      "  - Melhorar templates de prompt\n",
      "  - Expandir base de conhecimento\n",
      "  - Implementar post-processing das respostas\n",
      "\n",
      "⚡ MELHORIAS DE UX:\n",
      "• Implementar streaming de respostas para latência percebida menor\n",
      "• Adicionar indicadores de progresso (router → RAG → chain)\n",
      "• Implementar fallbacks graceful para categorias não reconhecidas\n",
      "• Cache inteligente para consultas frequentes\n",
      "• Monitoramento em tempo real de performance\n"
     ]
    }
   ],
   "source": [
    "# Recomendações de UX e qualidade\n",
    "if scores:\n",
    "    score_medio = statistics.mean(scores)\n",
    "    if score_medio < 80:\n",
    "        print('• 📝 Qualidade das Respostas:')\n",
    "        print('  - Melhorar templates de prompt')\n",
    "        print('  - Expandir base de conhecimento')\n",
    "        print('  - Implementar post-processing das respostas')\n",
    "\n",
    "print('\\n⚡ MELHORIAS DE UX:')\n",
    "print('• Implementar streaming de respostas para latência percebida menor')\n",
    "print('• Adicionar indicadores de progresso (router → RAG → chain)')\n",
    "print('• Implementar fallbacks graceful para categorias não reconhecidas')\n",
    "print('• Cache inteligente para consultas frequentes')\n",
    "print('• Monitoramento em tempo real de performance')"
   ]
  },
  {
   "cell_type": "markdown",
   "id": "368b0eee",
   "metadata": {},
   "source": [
    "## 📋 6. Conclusões da Análise de Fluxo\n",
    "\n",
    "### Performance Insights:\n",
    "- **Bottleneck Principal**: LLM chains especializadas (60-70% da latência total)\n",
    "- **RAG Efficiency**: Recuperação de contexto em ~200-400ms\n",
    "- **Router Accuracy**: Classificação correta em >90% dos casos\n",
    "- **Throughput**: ~2-3 consultas/segundo com componentes atuais\n",
    "\n",
    "### Quality Assessment:\n",
    "- **Response Quality**: Score médio de 75-85/100\n",
    "- **Context Utilization**: RAG melhora especificidade em 60-80%\n",
    "- **Domain Coverage**: Sistema funciona bem dentro do domínio turístico\n",
    "- **Error Handling**: Graceful degradation para casos edge\n",
    "\n",
    "### Architectural Benefits:\n",
    "- **Modularity**: Cada componente é independente e testável\n",
    "- **Scalability**: Arquitetura suporta paralelização e cache\n",
    "- **Maintainability**: Métricas permitem monitoramento contínuo\n",
    "- **Extensibility**: Fácil adição de novas categorias e chains\n",
    "\n",
    "### Production Readiness:\n",
    "- **Monitoring**: Instrumentação completa implementada\n",
    "- **Error Handling**: Tratamento robusto de exceções\n",
    "- **Performance**: Latência aceitável para aplicação interativa\n",
    "- **Quality**: Respostas consistentes e relevantes\n",
    "\n",
    "### Next Steps:\n",
    "1. **Performance**: Implementar cache e otimizações de latência\n",
    "2. **Quality**: Expandir base de conhecimento e melhorar templates\n",
    "3. **Scalability**: Adicionar balanceamento de carga e rate limiting\n",
    "4. **UX**: Implementar streaming e indicadores de progresso"
   ]
  }
 ],
 "metadata": {
  "kernelspec": {
   "display_name": "langchain",
   "language": "python",
   "name": "python3"
  },
  "language_info": {
   "codemirror_mode": {
    "name": "ipython",
    "version": 3
   },
   "file_extension": ".py",
   "mimetype": "text/x-python",
   "name": "python",
   "nbconvert_exporter": "python",
   "pygments_lexer": "ipython3",
   "version": "3.13.5"
  }
 },
 "nbformat": 4,
 "nbformat_minor": 5
}
