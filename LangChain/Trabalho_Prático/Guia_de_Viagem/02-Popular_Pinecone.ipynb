{
 "cells": [
  {
   "cell_type": "markdown",
   "id": "94f8859c",
   "metadata": {},
   "source": [
    "# Populando o Pinecone com Base de Conhecimento\n",
    "Indexação de informações turísticas de Rio de Janeiro e Paris para uso no RAG."
   ]
  },
  {
   "cell_type": "code",
   "execution_count": null,
   "id": "4decd7db",
   "metadata": {},
   "outputs": [],
   "source": [
    "import numpy as np\n",
    "from pinecone import Pinecone\n",
    "pinecone_client = Pinecone()\n",
    "indice = pinecone_client.Index('turismo')"
   ]
  },
  {
   "cell_type": "code",
   "execution_count": null,
   "id": "76a510db",
   "metadata": {},
   "outputs": [],
   "source": [
    "# Carregar base de conhecimento\n",
    "with open('base_conhecimento_rio_paris.txt', 'r', encoding='utf-8') as f:\n",
    "    linhas = f.readlines()\n",
    "docs = [linha.strip() for linha in linhas if linha.strip() and not linha.startswith('#')]\n",
    "ids = [f'doc_{i}' for i in range(len(docs))]\n",
    "# Vetorização simples (exemplo):\n",
    "vetores = [np.random.normal(0, 1, 2048).tolist() for _ in docs]\n",
    "indice.upsert(vectors=list(zip(ids, vetores)))"
   ]
  }
 ],
 "metadata": {
  "language_info": {
   "name": "python"
  }
 },
 "nbformat": 4,
 "nbformat_minor": 5
}
