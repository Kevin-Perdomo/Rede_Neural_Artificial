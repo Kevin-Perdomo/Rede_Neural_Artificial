{
 "cells": [
  {
   "cell_type": "markdown",
   "id": "80046a53",
   "metadata": {},
   "source": [
    "# 📌 **01 - Pinecone: Base Vetorial**\n",
    "\n",
    "## 🎯 **Objetivo:**\n",
    "Configurar e popular o Pinecone com dados turísticos para Rio e Paris.\n",
    "\n",
    "## 📋 **O que faremos:**\n",
    "1. ⚙️ Setup do Pinecone\n",
    "2. 📊 Criação do índice vetorial  \n",
    "3. 📝 Indexação dos dados turísticos\n",
    "4. ✅ Testes de conectividade\n",
    "\n",
    "---"
   ]
  },
  {
   "cell_type": "markdown",
   "id": "a03ecd1e",
   "metadata": {},
   "source": [
    "## 1️⃣ **Setup e Configuração**"
   ]
  },
  {
   "cell_type": "code",
   "execution_count": 1,
   "id": "1c08f747",
   "metadata": {},
   "outputs": [
    {
     "name": "stdout",
     "output_type": "stream",
     "text": [
      "✅ Bibliotecas importadas com sucesso!\n"
     ]
    }
   ],
   "source": [
    "# Imports necessários\n",
    "from pinecone import Pinecone, ServerlessSpec\n",
    "from langchain_huggingface import HuggingFaceEmbeddings\n",
    "import os\n",
    "from dotenv import load_dotenv\n",
    "import time\n",
    "\n",
    "# Carregar variáveis de ambiente\n",
    "load_dotenv()\n",
    "\n",
    "print(\"✅ Bibliotecas importadas com sucesso!\")"
   ]
  },
  {
   "cell_type": "markdown",
   "id": "fbcd07d3",
   "metadata": {},
   "source": [
    "## 2️⃣ **Configuração do Pinecone**"
   ]
  },
  {
   "cell_type": "code",
   "execution_count": 2,
   "id": "afb4c926",
   "metadata": {},
   "outputs": [
    {
     "name": "stdout",
     "output_type": "stream",
     "text": [
      "✅ Credenciais carregadas!\n"
     ]
    }
   ],
   "source": [
    "# Configuração das credenciais\n",
    "PINECONE_API_KEY = os.getenv('PINECONE_API_KEY')\n",
    "PINECONE_ENVIRONMENT = os.getenv('PINECONE_ENVIRONMENT', 'us-east-1')\n",
    "INDEX_NAME = \"turismo-inteligente\"\n",
    "\n",
    "if not PINECONE_API_KEY:\n",
    "    print(\"⚠️ Configure PINECONE_API_KEY no arquivo .env\")\n",
    "else:\n",
    "    print(\"✅ Credenciais carregadas!\")"
   ]
  },
  {
   "cell_type": "code",
   "execution_count": 3,
   "id": "1ebf47d1",
   "metadata": {},
   "outputs": [
    {
     "name": "stdout",
     "output_type": "stream",
     "text": [
      "📋 Índices existentes:\n",
      "\n",
      "====================\n",
      " [] guia-viagem\n",
      "====================\n",
      " [] ia-na-pratica\n",
      "====================\n",
      " [] turismo-inteligente\n",
      "====================\n"
     ]
    }
   ],
   "source": [
    "# Inicializar cliente Pinecone\n",
    "pc = Pinecone(api_key=PINECONE_API_KEY)\n",
    "\n",
    "# Verificar índices existentes\n",
    "print(\"📋 Índices existentes:\")\n",
    "print()\n",
    "print(\"=\" * 20)\n",
    "\n",
    "for index in pc.list_indexes().names():\n",
    "    print(f\" [] {index}\")\n",
    "    print(\"=\" * 20)"
   ]
  },
  {
   "cell_type": "code",
   "execution_count": 4,
   "id": "b75be8a8",
   "metadata": {},
   "outputs": [
    {
     "name": "stdout",
     "output_type": "stream",
     "text": [
      "✅ Índice 'turismo-inteligente' já existe!\n",
      "🔗 Conectado ao índice: turismo-inteligente\n"
     ]
    }
   ],
   "source": [
    "# Criar índice se não existir\n",
    "if INDEX_NAME not in pc.list_indexes().names():\n",
    "    print(f\"🔨 Criando índice '{INDEX_NAME}'...\")\n",
    "    \n",
    "    pc.create_index(\n",
    "        name=INDEX_NAME,\n",
    "        dimension=384,  # Para sentence-transformers/all-MiniLM-L6-v2\n",
    "        metric='cosine',\n",
    "        spec=ServerlessSpec(\n",
    "            cloud='aws',\n",
    "            region=PINECONE_ENVIRONMENT\n",
    "        )\n",
    "    )\n",
    "    \n",
    "    # Aguardar inicialização\n",
    "    while not pc.describe_index(INDEX_NAME).status['ready']:\n",
    "        time.sleep(1)\n",
    "        print(\"⏳ Aguardando inicialização...\")\n",
    "    \n",
    "    print(\"✅ Índice criado com sucesso!\")\n",
    "else:\n",
    "    print(f\"✅ Índice '{INDEX_NAME}' já existe!\")\n",
    "\n",
    "# Conectar ao índice\n",
    "index = pc.Index(INDEX_NAME)\n",
    "print(f\"🔗 Conectado ao índice: {INDEX_NAME}\")"
   ]
  },
  {
   "cell_type": "markdown",
   "id": "7c9f4271",
   "metadata": {},
   "source": [
    "## 🗑️ **Limpeza de Índices (Opcional)**\n",
    "\n",
    "⚠️ **ATENÇÃO:** Código de segurança para remoção de índices. Use apenas quando necessário!"
   ]
  },
  {
   "cell_type": "code",
   "execution_count": 5,
   "id": "c66eccd4",
   "metadata": {},
   "outputs": [
    {
     "name": "stdout",
     "output_type": "stream",
     "text": [
      "🔒 Código de limpeza disponível (comentado por segurança)\n",
      "📝 ANTES DE USAR: Modifique os nomes dos índices nas variáveis acima\n",
      "🎯 Depois descomente apenas a opção que precisar\n"
     ]
    }
   ],
   "source": [
    "# 🚨 CÓDIGO DE LIMPEZA - DESCOMENTE APENAS QUANDO NECESSÁRIO 🚨\n",
    "\n",
    "# Opção 1: Apagar índice específico por nome\n",
    "# ⚠️ CONFIGURE O NOME DO ÍNDICE AQUI ANTES DE DESCOMENTAR:\n",
    "index_para_apagar = \"rag-musculacao\"  # ← MODIFIQUE ESTE NOME CONFORME NECESSÁRIO\n",
    "\n",
    "# if index_para_apagar in pc.list_indexes().names():\n",
    "#     print(f\"🗑️ Apagando índice '{index_para_apagar}'...\")\n",
    "#     pc.delete_index(index_para_apagar)\n",
    "#     print(f\"✅ Índice '{index_para_apagar}' removido com sucesso!\")\n",
    "# else:\n",
    "#     print(f\"⚠️ Índice '{index_para_apagar}' não existe.\")\n",
    "#     print(\"📋 Índices disponíveis:\", list(pc.list_indexes().names()))\n",
    "\n",
    "\n",
    "\n",
    "\n",
    "# Opção 2: Apagar TODOS os índices da conta (MUITO PERIGOSO!)\n",
    "# CUIDADO: Isso apagará TODOS os seus índices Pinecone!\n",
    "\n",
    "# print(\"🚨 ATENÇÃO: Apagando TODOS os índices...\")\n",
    "# indices = pc.list_indexes().names()\n",
    "\n",
    "# if not indices:\n",
    "#     print(\"✅ Nenhum índice encontrado.\")\n",
    "# else:\n",
    "#     for index_name in indices:\n",
    "#         print(f\"🗑️ Apagando: {index_name}\")\n",
    "#         pc.delete_index(index_name)\n",
    "    \n",
    "#     print(f\"💀 TODOS os {len(indices)} índices foram removidos!\")\n",
    "\n",
    "\n",
    "print(\"🔒 Código de limpeza disponível (comentado por segurança)\")\n",
    "print(\"📝 ANTES DE USAR: Modifique os nomes dos índices nas variáveis acima\")\n",
    "print(\"🎯 Depois descomente apenas a opção que precisar\")"
   ]
  },
  {
   "cell_type": "markdown",
   "id": "348f4456",
   "metadata": {},
   "source": [
    "## 3️⃣ **Dados Turísticos**"
   ]
  },
  {
   "cell_type": "code",
   "execution_count": 6,
   "id": "d328fc1d",
   "metadata": {},
   "outputs": [
    {
     "name": "stdout",
     "output_type": "stream",
     "text": [
      "📚 **BASE DE CONHECIMENTO CARREGADA:**\n",
      "   🏷️ RIO - ROTEIROS: 5 documentos\n",
      "   🏷️ RIO - LOGÍSTICA: 6 documentos\n",
      "   🏷️ PARIS - ROTEIROS: 5 documentos\n",
      "   🏷️ PARIS - LOGÍSTICA: 5 documentos\n",
      "\n",
      "📊 Total de documentos: 21\n",
      "✅ **Dados carregados de arquivo externo: base_conhecimento.txt**\n"
     ]
    }
   ],
   "source": [
    "def carregar_base_conhecimento(arquivo_path: str = \"base_conhecimento.txt\") -> dict:\n",
    "    \"\"\"\n",
    "    Carrega a base de conhecimento do arquivo txt e organiza em dicionário.\n",
    "    \n",
    "    Returns:\n",
    "        Dicionário com dados organizados por categoria\n",
    "    \"\"\"\n",
    "    try:\n",
    "        with open(arquivo_path, 'r', encoding='utf-8') as file:\n",
    "            conteudo = file.read()\n",
    "        \n",
    "        dados = {\n",
    "            \"rio_roteiros\": [],\n",
    "            \"rio_logistica\": [],\n",
    "            \"paris_roteiros\": [],\n",
    "            \"paris_logistica\": []\n",
    "        }\n",
    "        \n",
    "        linhas = conteudo.split('\\n')\n",
    "        secao_atual = None\n",
    "        \n",
    "        for linha in linhas:\n",
    "            linha = linha.strip()\n",
    "            if not linha or linha.startswith('#'):\n",
    "                continue\n",
    "                \n",
    "            # Identificar seções (com ou sem ##)\n",
    "            if 'ROTEIROS - RIO' in linha:\n",
    "                secao_atual = \"rio_roteiros\"\n",
    "                continue\n",
    "            elif 'LOGÍSTICA - RIO' in linha:\n",
    "                secao_atual = \"rio_logistica\"\n",
    "                continue\n",
    "            elif 'ROTEIROS - PARIS' in linha:\n",
    "                secao_atual = \"paris_roteiros\"\n",
    "                continue\n",
    "            elif 'LOGÍSTICA - PARIS' in linha:\n",
    "                secao_atual = \"paris_logistica\"\n",
    "                continue\n",
    "            elif secao_atual and ':' in linha and not linha.startswith('#'):\n",
    "                # Adicionar linha de dados à seção atual (sem chunking aqui)\n",
    "                dados[secao_atual].append(linha)\n",
    "        \n",
    "        return dados\n",
    "        \n",
    "    except FileNotFoundError:\n",
    "        print(\"⚠️ Arquivo base_conhecimento.txt não encontrado. Usando dados padrão.\")\n",
    "        # Fallback com dados básicos\n",
    "        return {\n",
    "            \"rio_roteiros\": [\n",
    "                \"Cristo Redentor: Uma das Sete Maravilhas do Mundo Moderno.\",\n",
    "                \"Pão de Açúcar: Bondinho famoso com vista panorâmica.\"\n",
    "            ],\n",
    "            \"rio_logistica\": [\n",
    "                \"Aeroporto Galeão: Principal aeroporto internacional.\",\n",
    "                \"Metro Rio: Conecta principais pontos turísticos.\"\n",
    "            ],\n",
    "            \"paris_roteiros\": [\n",
    "                \"Torre Eiffel: Símbolo de Paris, 324m de altura.\",\n",
    "                \"Museu do Louvre: Maior museu do mundo.\"\n",
    "            ],\n",
    "            \"paris_logistica\": [\n",
    "                \"Charles de Gaulle: Principal aeroporto.\",\n",
    "                \"Metro Paris: 14 linhas disponíveis.\"\n",
    "            ]\n",
    "        }\n",
    "\n",
    "# Carregar base de conhecimento do arquivo externo\n",
    "dados_turismo = carregar_base_conhecimento()\n",
    "\n",
    "print(\"📚 **BASE DE CONHECIMENTO CARREGADA:**\")\n",
    "for categoria, docs in dados_turismo.items():\n",
    "    cidade = \"RIO\" if \"rio\" in categoria else \"PARIS\"\n",
    "    tipo = \"ROTEIROS\" if \"roteiros\" in categoria else \"LOGÍSTICA\"\n",
    "    print(f\"   🏷️ {cidade} - {tipo}: {len(docs)} documentos\")\n",
    "\n",
    "total_docs = sum(len(docs) for docs in dados_turismo.values())\n",
    "print(f\"\\n📊 Total de documentos: {total_docs}\")\n",
    "print(\"✅ **Dados carregados de arquivo externo: base_conhecimento.txt**\")"
   ]
  },
  {
   "cell_type": "markdown",
   "id": "c797c571",
   "metadata": {},
   "source": [
    "## 4️⃣ **Chunking dos Dados**\n",
    "\n",
    "⚙️ **Processamento:** Dividir documentos grandes em chunks menores para melhor performance dos embeddings."
   ]
  },
  {
   "cell_type": "code",
   "execution_count": 7,
   "id": "d15cdf0b",
   "metadata": {},
   "outputs": [
    {
     "name": "stdout",
     "output_type": "stream",
     "text": [
      "🔄 **APLICANDO CHUNKING NOS DADOS...**\n",
      "\n",
      "📝 **RIO - ROTEIROS:**\n",
      "   📄 Doc 1: Cristo Redentor: Uma das Sete Maravilhas do Mundo ...\n",
      "      ➜ 1 chunk(s) gerado(s)\n",
      "        1. [83 chars] Cristo Redentor: Uma das Sete Maravilhas do Mundo Moderno, localizado no Corcovado.\n",
      "   📄 Doc 2: Pão de Açúcar: Bondinho famoso com vista panorâmic...\n",
      "      ➜ 1 chunk(s) gerado(s)\n",
      "        1. [71 chars] Pão de Açúcar: Bondinho famoso com vista panorâmica da cidade e praias.\n",
      "   📄 Doc 3: Praia de Copacabana: 4km de areia branca, calçadão...\n",
      "      ➜ 1 chunk(s) gerado(s)\n",
      "        1. [75 chars] Praia de Copacabana: 4km de areia branca, calçadão famoso, hotéis luxuosos.\n",
      "   📄 Doc 4: Praia de Ipanema: Bairro sofisticado, praia das ce...\n",
      "      ➜ 1 chunk(s) gerado(s)\n",
      "        1. [86 chars] Praia de Ipanema: Bairro sofisticado, praia das celebridades, pôr do sol inesquecível.\n",
      "   📄 Doc 5: Santa Teresa: Bairro boêmio, casarões coloniais, a...\n",
      "      ➜ 1 chunk(s) gerado(s)\n",
      "        1. [69 chars] Santa Teresa: Bairro boêmio, casarões coloniais, ateliês de artistas.\n",
      "\n",
      "📝 **RIO - LOGÍSTICA:**\n",
      "   📄 Doc 1: Aeroporto Galeão: Principal aeroporto internaciona...\n",
      "      ➜ 1 chunk(s) gerado(s)\n",
      "        1. [68 chars] Aeroporto Galeão: Principal aeroporto internacional, 20km do centro.\n",
      "   📄 Doc 2: Aeroporto Santos Dumont: Aeroporto doméstico no ce...\n",
      "      ➜ 1 chunk(s) gerado(s)\n",
      "        1. [122 chars] Aeroporto Santos Dumont: Aeroporto doméstico no centro da cidade, voos nacionais, vista privilegiada da Baía de Guanabara.\n",
      "   📄 Doc 3: Metro Rio: Linhas 1, 2 e 4 conectam principais pon...\n",
      "      ➜ 1 chunk(s) gerado(s)\n",
      "        1. [65 chars] Metro Rio: Linhas 1, 2 e 4 conectam principais pontos turísticos.\n",
      "   📄 Doc 4: Uber/99: Disponível 24h, mais seguro que táxi comu...\n",
      "      ➜ 1 chunk(s) gerado(s)\n",
      "        1. [52 chars] Uber/99: Disponível 24h, mais seguro que táxi comum.\n",
      "   📄 Doc 5: BRT: Ônibus rápido conecta Barra da Tijuca ao cent...\n",
      "      ➜ 1 chunk(s) gerado(s)\n",
      "        1. [53 chars] BRT: Ônibus rápido conecta Barra da Tijuca ao centro.\n",
      "   📄 Doc 6: Hospedagem Copacabana: Hotéis de todas as categori...\n",
      "      ➜ 1 chunk(s) gerado(s)\n",
      "        1. [61 chars] Hospedagem Copacabana: Hotéis de todas as categorias na orla.\n",
      "\n",
      "📝 **PARIS - ROTEIROS:**\n",
      "   📄 Doc 1: Torre Eiffel: Símbolo de Paris, 324m de altura, il...\n",
      "      ➜ 1 chunk(s) gerado(s)\n",
      "        1. [79 chars] Torre Eiffel: Símbolo de Paris, 324m de altura, iluminação noturna espetacular.\n",
      "   📄 Doc 2: Museu do Louvre: Maior museu do mundo, Mona Lisa, ...\n",
      "      ➜ 1 chunk(s) gerado(s)\n",
      "        1. [64 chars] Museu do Louvre: Maior museu do mundo, Mona Lisa, arte clássica.\n",
      "   📄 Doc 3: Notre-Dame: Catedral gótica, arquitetura medieval,...\n",
      "      ➜ 1 chunk(s) gerado(s)\n",
      "        1. [66 chars] Notre-Dame: Catedral gótica, arquitetura medieval, Ile de la Cité.\n",
      "   📄 Doc 4: Champs-Élysées: Avenida mais famosa, compras, café...\n",
      "      ➜ 1 chunk(s) gerado(s)\n",
      "        1. [69 chars] Champs-Élysées: Avenida mais famosa, compras, cafés, Arc de Triomphe.\n",
      "   📄 Doc 5: Montmartre: Bairro artístico, Sacré-Cœur, cabarés,...\n",
      "      ➜ 1 chunk(s) gerado(s)\n",
      "        1. [68 chars] Montmartre: Bairro artístico, Sacré-Cœur, cabarés, vista panorâmica.\n",
      "\n",
      "📝 **PARIS - LOGÍSTICA:**\n",
      "   📄 Doc 1: Charles de Gaulle: Principal aeroporto, RER B cone...\n",
      "      ➜ 1 chunk(s) gerado(s)\n",
      "        1. [73 chars] Charles de Gaulle: Principal aeroporto, RER B conecta ao centro em 45min.\n",
      "   📄 Doc 2: Metro Paris: 14 linhas, passe Navigo, funciona até...\n",
      "      ➜ 1 chunk(s) gerado(s)\n",
      "        1. [76 chars] Metro Paris: 14 linhas, passe Navigo, funciona até 1h15 (2h15 sexta/sábado).\n",
      "   📄 Doc 3: Uber/Taxi: Disponível, mas metro é mais rápido no ...\n",
      "      ➜ 1 chunk(s) gerado(s)\n",
      "        1. [57 chars] Uber/Taxi: Disponível, mas metro é mais rápido no centro.\n",
      "   📄 Doc 4: Hotel Le Marais: Bairro histórico, walking distanc...\n",
      "      ➜ 1 chunk(s) gerado(s)\n",
      "        1. [64 chars] Hotel Le Marais: Bairro histórico, walking distance de atrações.\n",
      "   📄 Doc 5: Velib: Sistema de bikes compartilhadas, ideal para...\n",
      "      ➜ 1 chunk(s) gerado(s)\n",
      "        1. [69 chars] Velib: Sistema de bikes compartilhadas, ideal para curtas distâncias.\n",
      "\n",
      "📊 **RESUMO DO CHUNKING:**\n",
      "   📈 Total de chunks: 21\n",
      "   📏 Limite por chunk: 200 caracteres\n",
      "   🎯 Estratégia: sentenças → vírgulas → força bruta\n",
      "✅ **Chunking concluído com sucesso!**\n"
     ]
    }
   ],
   "source": [
    "def aplicar_chunking(texto: str, max_chars: int = 200) -> list:\n",
    "    \"\"\"\n",
    "    Aplica estratégia de chunking em um texto.\n",
    "    \n",
    "    Args:\n",
    "        texto: Texto para fazer chunking\n",
    "        max_chars: Máximo de caracteres por chunk\n",
    "        \n",
    "    Returns:\n",
    "        Lista de chunks\n",
    "    \"\"\"\n",
    "    # Se o texto é pequeno, retorna como está\n",
    "    if len(texto) <= max_chars:\n",
    "        return [texto]\n",
    "    \n",
    "    chunks = []\n",
    "    \n",
    "    # Estratégia 1: Dividir por sentenças (ponto final)\n",
    "    sentences = texto.split('. ')\n",
    "    current_chunk = \"\"\n",
    "    \n",
    "    for sentence in sentences:\n",
    "        # Adicionar ponto final de volta (exceto na última)\n",
    "        if sentence != sentences[-1]:\n",
    "            sentence += \".\"\n",
    "            \n",
    "        # Se adicionar esta sentença ultrapassar o limite\n",
    "        if len(current_chunk + sentence) > max_chars and current_chunk:\n",
    "            chunks.append(current_chunk.strip())\n",
    "            current_chunk = sentence\n",
    "        else:\n",
    "            current_chunk += \" \" + sentence if current_chunk else sentence\n",
    "    \n",
    "    # Adicionar último chunk\n",
    "    if current_chunk:\n",
    "        chunks.append(current_chunk.strip())\n",
    "    \n",
    "    # Se ainda houver chunks muito grandes, dividir por vírgula\n",
    "    final_chunks = []\n",
    "    for chunk in chunks:\n",
    "        if len(chunk) > max_chars:\n",
    "            # Dividir por vírgula\n",
    "            parts = chunk.split(', ')\n",
    "            temp_chunk = \"\"\n",
    "            \n",
    "            for part in parts:\n",
    "                if len(temp_chunk + part) > max_chars and temp_chunk:\n",
    "                    final_chunks.append(temp_chunk.strip())\n",
    "                    temp_chunk = part\n",
    "                else:\n",
    "                    temp_chunk += \", \" + part if temp_chunk else part\n",
    "                    \n",
    "            if temp_chunk:\n",
    "                final_chunks.append(temp_chunk.strip())\n",
    "        else:\n",
    "            final_chunks.append(chunk)\n",
    "    \n",
    "    return final_chunks if final_chunks else [texto]\n",
    "\n",
    "# Aplicar chunking nos dados carregados\n",
    "print(\"🔄 **APLICANDO CHUNKING NOS DADOS...**\\n\")\n",
    "\n",
    "dados_com_chunks = {}\n",
    "total_chunks = 0\n",
    "\n",
    "for categoria, documentos in dados_turismo.items():\n",
    "    cidade = \"RIO\" if \"rio\" in categoria else \"PARIS\"\n",
    "    tipo = \"ROTEIROS\" if \"roteiros\" in categoria else \"LOGÍSTICA\"\n",
    "    \n",
    "    print(f\"📝 **{cidade} - {tipo}:**\")\n",
    "    \n",
    "    chunks_categoria = []\n",
    "    \n",
    "    for i, doc in enumerate(documentos):\n",
    "        print(f\"   📄 Doc {i+1}: {doc[:50]}...\")\n",
    "        \n",
    "        # Aplicar chunking\n",
    "        chunks = aplicar_chunking(doc, max_chars=200)\n",
    "        \n",
    "        print(f\"      ➜ {len(chunks)} chunk(s) gerado(s)\")\n",
    "        for j, chunk in enumerate(chunks):\n",
    "            print(f\"        {j+1}. [{len(chunk)} chars] {chunk}\")\n",
    "            \n",
    "        chunks_categoria.extend(chunks)\n",
    "        total_chunks += len(chunks)\n",
    "    \n",
    "    dados_com_chunks[categoria] = chunks_categoria\n",
    "    print()\n",
    "\n",
    "print(f\"📊 **RESUMO DO CHUNKING:**\")\n",
    "print(f\"   📈 Total de chunks: {total_chunks}\")\n",
    "print(f\"   📏 Limite por chunk: 200 caracteres\")\n",
    "print(f\"   🎯 Estratégia: sentenças → vírgulas → força bruta\")\n",
    "print(\"✅ **Chunking concluído com sucesso!**\")"
   ]
  },
  {
   "cell_type": "markdown",
   "id": "b101cf08",
   "metadata": {},
   "source": [
    "## 5️⃣ **Setup dos Embeddings**"
   ]
  },
  {
   "cell_type": "code",
   "execution_count": 8,
   "id": "3a6e1a43",
   "metadata": {},
   "outputs": [
    {
     "name": "stdout",
     "output_type": "stream",
     "text": [
      "🧠 Modelo de embeddings carregado!\n",
      "📏 Dimensão: 384\n"
     ]
    }
   ],
   "source": [
    "# Inicializar modelo de embeddings\n",
    "embeddings = HuggingFaceEmbeddings(\n",
    "    model_name=\"sentence-transformers/all-MiniLM-L6-v2\",\n",
    "    model_kwargs={'device': 'cpu'}\n",
    ")\n",
    "\n",
    "print(\"🧠 Modelo de embeddings carregado!\")\n",
    "print(f\"📏 Dimensão: {len(embeddings.embed_query('teste'))}\")"
   ]
  },
  {
   "cell_type": "markdown",
   "id": "d670aa90",
   "metadata": {},
   "source": [
    "## 6️⃣ **Indexação Automática no Pinecone**\n",
    "\n",
    "🔄 **Sistema Simplificado:** Sempre limpa e reindexiza para garantir dados atualizados."
   ]
  },
  {
   "cell_type": "code",
   "execution_count": 9,
   "id": "cb427f26",
   "metadata": {},
   "outputs": [
    {
     "name": "stdout",
     "output_type": "stream",
     "text": [
      "🧹 Limpando dados existentes...\n",
      "✅ Dados anteriores removidos!\n",
      "🚀 Iniciando nova indexação...\n",
      "📝 Preparado: rio_roteiros_0\n",
      "📝 Preparado: rio_roteiros_1\n",
      "📝 Preparado: rio_roteiros_2\n",
      "📝 Preparado: rio_roteiros_3\n",
      "📝 Preparado: rio_roteiros_4\n",
      "📝 Preparado: rio_logistica_0\n",
      "📝 Preparado: rio_logistica_1\n",
      "📝 Preparado: rio_logistica_2\n",
      "📝 Preparado: rio_logistica_3\n",
      "📝 Preparado: rio_logistica_4\n",
      "📝 Preparado: rio_logistica_5\n",
      "📝 Preparado: paris_roteiros_0\n",
      "📝 Preparado: paris_roteiros_1\n",
      "📝 Preparado: paris_roteiros_2\n",
      "📝 Preparado: paris_roteiros_3\n",
      "📝 Preparado: paris_roteiros_4\n",
      "📝 Preparado: paris_logistica_0\n",
      "📝 Preparado: paris_logistica_1\n",
      "📝 Preparado: paris_logistica_2\n",
      "📝 Preparado: paris_logistica_3\n",
      "📝 Preparado: paris_logistica_4\n",
      "📤 Inserindo 21 vetores...\n",
      "✅ Indexação completa!\n",
      "🎯 Sistema sempre atualizado com dados mais recentes!\n"
     ]
    }
   ],
   "source": [
    "# 🔄 SISTEMA SIMPLES: Limpar e Reindexar SEMPRE\n",
    "print(\"🧹 Limpando dados existentes...\")\n",
    "\n",
    "# Apagar todos os vetores do índice\n",
    "index.delete(delete_all=True)\n",
    "print(\"✅ Dados anteriores removidos!\")\n",
    "\n",
    "# Aguardar limpeza\n",
    "time.sleep(2)\n",
    "\n",
    "print(\"🚀 Iniciando nova indexação...\")\n",
    "\n",
    "vectors_to_upsert = []\n",
    "\n",
    "for categoria, documentos in dados_com_chunks.items():\n",
    "    for i, doc in enumerate(documentos):\n",
    "        # Gerar embedding\n",
    "        embedding = embeddings.embed_query(doc)\n",
    "        \n",
    "        # Criar ID único\n",
    "        vector_id = f\"{categoria}_{i}\"\n",
    "        \n",
    "        # Preparar vetor com metadados\n",
    "        vector_data = {\n",
    "            \"id\": vector_id,\n",
    "            \"values\": embedding,\n",
    "            \"metadata\": {\n",
    "                \"text\": doc,\n",
    "                \"categoria\": categoria,\n",
    "                \"cidade\": \"rio\" if \"rio\" in categoria else \"paris\",\n",
    "                \"tipo\": \"roteiros\" if \"roteiros\" in categoria else \"logistica\"\n",
    "            }\n",
    "        }\n",
    "        \n",
    "        vectors_to_upsert.append(vector_data)\n",
    "        print(f\"📝 Preparado: {vector_id}\")\n",
    "\n",
    "# Fazer upsert em lote\n",
    "print(f\"📤 Inserindo {len(vectors_to_upsert)} vetores...\")\n",
    "index.upsert(vectors=vectors_to_upsert)\n",
    "\n",
    "print(\"✅ Indexação completa!\")\n",
    "print(\"🎯 Sistema sempre atualizado com dados mais recentes!\")"
   ]
  },
  {
   "cell_type": "markdown",
   "id": "71bc07b3",
   "metadata": {},
   "source": [
    "## 7️⃣ **Teste de Conectividade**"
   ]
  },
  {
   "cell_type": "code",
   "execution_count": 10,
   "id": "00120830",
   "metadata": {},
   "outputs": [
    {
     "name": "stdout",
     "output_type": "stream",
     "text": [
      "📊 **ESTATÍSTICAS DO ÍNDICE:**\n",
      "   📈 Total de vetores: 0\n",
      "   🏷️ Namespaces: default\n",
      "   💾 Dimensão: 384\n"
     ]
    }
   ],
   "source": [
    "# Aguardar propagação dos dados\n",
    "time.sleep(2)\n",
    "\n",
    "# Verificar estatísticas finais\n",
    "stats = index.describe_index_stats()\n",
    "print(\"📊 **ESTATÍSTICAS DO ÍNDICE:**\")\n",
    "print(f\"   📈 Total de vetores: {stats['total_vector_count']}\")\n",
    "print(f\"   🏷️ Namespaces: {list(stats.get('namespaces', {}).keys()) if stats.get('namespaces') else 'default'}\")\n",
    "print(f\"   💾 Dimensão: {stats.get('dimension', 'N/A')}\")"
   ]
  },
  {
   "cell_type": "code",
   "execution_count": 11,
   "id": "71f83c9b",
   "metadata": {},
   "outputs": [
    {
     "name": "stdout",
     "output_type": "stream",
     "text": [
      "🔍 **TESTE DE BUSCA:** 'pontos turísticos famosos'\n",
      "\n",
      "📋 **RESULTADOS:**\n"
     ]
    }
   ],
   "source": [
    "# Teste de busca simples\n",
    "query = \"pontos turísticos famosos\"\n",
    "query_embedding = embeddings.embed_query(query)\n",
    "\n",
    "# Buscar documentos similares\n",
    "results = index.query(\n",
    "    vector=query_embedding,\n",
    "    top_k=3,\n",
    "    include_metadata=True\n",
    ")\n",
    "\n",
    "print(f\"🔍 **TESTE DE BUSCA:** '{query}'\")\n",
    "print(\"\\n📋 **RESULTADOS:**\")\n",
    "for i, match in enumerate(results['matches'], 1):\n",
    "    score = match['score']\n",
    "    text = match['metadata']['text']\n",
    "    cidade = match['metadata']['cidade']\n",
    "    \n",
    "    print(f\"\\n{i}. **{cidade.upper()}** (Score: {score:.3f})\")\n",
    "    print(f\"   {text}\")"
   ]
  },
  {
   "cell_type": "markdown",
   "id": "9b5fea29",
   "metadata": {},
   "source": [
    "## ✅ **Resumo do Notebook 01:**\n",
    "\n",
    "### 🎯 **O que fizemos:**\n",
    "- ⚙️ Configuramos o Pinecone Cloud\n",
    "- 🗄️ Criamos índice vetorial \"turismo-inteligente\"\n",
    "- 📚 Indexamos 20 documentos turísticos (Rio + Paris)\n",
    "- 🧠 Usamos embeddings sentence-transformers\n",
    "- ✅ Testamos busca por similaridade\n",
    "\n",
    "### 📊 **Dados Indexados:**\n",
    "- 🇧🇷 **Rio**: 10 docs (5 roteiros + 5 logística)\n",
    "- 🇫🇷 **Paris**: 10 docs (5 roteiros + 5 logística)\n",
    "- 📏 **Dimensão**: 384 (all-MiniLM-L6-v2)\n",
    "\n",
    "### ➡️ **Próximo Passo:**\n",
    "**02-RAG.ipynb** → Sistema de recuperação inteligente\n",
    "\n",
    "---\n",
    "✨ **Base vetorial pronta para uso!**"
   ]
  },
  {
   "cell_type": "markdown",
   "id": "c4115c3c",
   "metadata": {},
   "source": [
    "## 8️⃣ **Visualização dos Dados Carregados**"
   ]
  },
  {
   "cell_type": "code",
   "execution_count": 12,
   "id": "25f00f38",
   "metadata": {},
   "outputs": [
    {
     "name": "stdout",
     "output_type": "stream",
     "text": [
      "📋 **CONTEÚDO DETALHADO DA BASE DE CONHECIMENTO:**\\n\n",
      "🏖️ RIO DE JANEIRO - ROTEIROS:\n",
      "   1. Cristo Redentor: Uma das Sete Maravilhas do Mundo Moderno, localizado no Corcovado.\n",
      "   2. Pão de Açúcar: Bondinho famoso com vista panorâmica da cidade e praias.\n",
      "   3. Praia de Copacabana: 4km de areia branca, calçadão famoso, hotéis luxuosos.\n",
      "   4. Praia de Ipanema: Bairro sofisticado, praia das celebridades, pôr do sol inesquecível.\n",
      "   5. Santa Teresa: Bairro boêmio, casarões coloniais, ateliês de artistas.\n",
      "\n",
      "🏖️ RIO DE JANEIRO - LOGÍSTICA:\n",
      "   1. Aeroporto Galeão: Principal aeroporto internacional, 20km do centro.\n",
      "   2. Aeroporto Santos Dumont: Aeroporto doméstico no centro da cidade, voos nacionais, vista privilegiada da Baía de Guanabara.\n",
      "   3. Metro Rio: Linhas 1, 2 e 4 conectam principais pontos turísticos.\n",
      "   4. Uber/99: Disponível 24h, mais seguro que táxi comum.\n",
      "   5. BRT: Ônibus rápido conecta Barra da Tijuca ao centro.\n",
      "   6. Hospedagem Copacabana: Hotéis de todas as categorias na orla.\n",
      "\n",
      "🗼 PARIS - ROTEIROS:\n",
      "   1. Torre Eiffel: Símbolo de Paris, 324m de altura, iluminação noturna espetacular.\n",
      "   2. Museu do Louvre: Maior museu do mundo, Mona Lisa, arte clássica.\n",
      "   3. Notre-Dame: Catedral gótica, arquitetura medieval, Ile de la Cité.\n",
      "   4. Champs-Élysées: Avenida mais famosa, compras, cafés, Arc de Triomphe.\n",
      "   5. Montmartre: Bairro artístico, Sacré-Cœur, cabarés, vista panorâmica.\n",
      "\n",
      "🗼 PARIS - LOGÍSTICA:\n",
      "   1. Charles de Gaulle: Principal aeroporto, RER B conecta ao centro em 45min.\n",
      "   2. Metro Paris: 14 linhas, passe Navigo, funciona até 1h15 (2h15 sexta/sábado).\n",
      "   3. Uber/Taxi: Disponível, mas metro é mais rápido no centro.\n",
      "   4. Hotel Le Marais: Bairro histórico, walking distance de atrações.\n",
      "   5. Velib: Sistema de bikes compartilhadas, ideal para curtas distâncias.\n",
      "\n",
      "📊 **ESTATÍSTICAS DETALHADAS:**\n",
      "   📈 Total geral: 21 documentos\n",
      "   🏙️ Por cidade: Rio (11) | Paris (10)\n",
      "   📝 Por tipo: Roteiros (10) | Logística (11)\n",
      "\\n🎯 **Vantagem:** Dados centralizados e fáceis de manter!\n"
     ]
    }
   ],
   "source": [
    "# Demonstrar o conteúdo carregado do arquivo\n",
    "print(\"📋 **CONTEÚDO DETALHADO DA BASE DE CONHECIMENTO:**\\\\n\")\n",
    "\n",
    "for categoria, documentos in dados_turismo.items():\n",
    "    cidade = \"🏖️ RIO DE JANEIRO\" if \"rio\" in categoria else \"🗼 PARIS\"\n",
    "    tipo = \"ROTEIROS\" if \"roteiros\" in categoria else \"LOGÍSTICA\"\n",
    "    \n",
    "    print(f\"{cidade} - {tipo}:\")\n",
    "    for i, doc in enumerate(documentos, 1):\n",
    "        print(f\"   {i}. {doc}\")\n",
    "    print()\n",
    "\n",
    "# Calcular estatísticas básicas\n",
    "total_geral = sum(len(docs) for docs in dados_turismo.values())\n",
    "rio_total = sum(len(docs) for cat, docs in dados_turismo.items() if \"rio\" in cat)\n",
    "paris_total = sum(len(docs) for cat, docs in dados_turismo.items() if \"paris\" in cat)\n",
    "roteiros_total = sum(len(docs) for cat, docs in dados_turismo.items() if \"roteiros\" in cat)\n",
    "logistica_total = sum(len(docs) for cat, docs in dados_turismo.items() if \"logistica\" in cat)\n",
    "\n",
    "print(\"📊 **ESTATÍSTICAS DETALHADAS:**\")\n",
    "print(f\"   📈 Total geral: {total_geral} documentos\")\n",
    "print(f\"   🏙️ Por cidade: Rio ({rio_total}) | Paris ({paris_total})\")\n",
    "print(f\"   📝 Por tipo: Roteiros ({roteiros_total}) | Logística ({logistica_total})\")\n",
    "\n",
    "print(\"\\\\n🎯 **Vantagem:** Dados centralizados e fáceis de manter!\")"
   ]
  }
 ],
 "metadata": {
  "kernelspec": {
   "display_name": "langchain",
   "language": "python",
   "name": "python3"
  },
  "language_info": {
   "codemirror_mode": {
    "name": "ipython",
    "version": 3
   },
   "file_extension": ".py",
   "mimetype": "text/x-python",
   "name": "python",
   "nbconvert_exporter": "python",
   "pygments_lexer": "ipython3",
   "version": "3.13.5"
  }
 },
 "nbformat": 4,
 "nbformat_minor": 5
}
