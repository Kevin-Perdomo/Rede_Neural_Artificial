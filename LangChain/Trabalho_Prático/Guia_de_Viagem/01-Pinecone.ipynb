{
 "cells": [
  {
   "cell_type": "markdown",
   "id": "80046a53",
   "metadata": {},
   "source": [
    "# 📌 **01 - Pinecone: Base Vetorial**\n",
    "\n",
    "## 🎯 **Objetivo:**\n",
    "Configurar e popular o Pinecone com dados turísticos para Rio e Paris.\n",
    "\n",
    "## 📋 **O que faremos:**\n",
    "1. ⚙️ Setup do Pinecone\n",
    "2. 📊 Criação do índice vetorial  \n",
    "3. 📝 Indexação dos dados turísticos\n",
    "4. ✅ Testes de conectividade\n",
    "\n",
    "---"
   ]
  },
  {
   "cell_type": "markdown",
   "id": "a03ecd1e",
   "metadata": {},
   "source": [
    "## 1️⃣ **Setup e Configuração**"
   ]
  },
  {
   "cell_type": "code",
   "execution_count": null,
   "id": "6364675c",
   "metadata": {},
   "outputs": [],
   "source": [
    "# Instalação das dependências\n",
    "!pip install -q pinecone-client langchain-huggingface sentence-transformers langchain-groq python-dotenv"
   ]
  },
  {
   "cell_type": "code",
   "execution_count": null,
   "id": "1c08f747",
   "metadata": {},
   "outputs": [],
   "source": [
    "# Imports necessários\n",
    "from pinecone import Pinecone, ServerlessSpec\n",
    "from langchain_huggingface import HuggingFaceEmbeddings\n",
    "import os\n",
    "from dotenv import load_dotenv\n",
    "import time\n",
    "\n",
    "# Carregar variáveis de ambiente\n",
    "load_dotenv()\n",
    "\n",
    "print(\"✅ Bibliotecas importadas com sucesso!\")"
   ]
  },
  {
   "cell_type": "markdown",
   "id": "fbcd07d3",
   "metadata": {},
   "source": [
    "## 2️⃣ **Configuração do Pinecone**"
   ]
  },
  {
   "cell_type": "code",
   "execution_count": null,
   "id": "afb4c926",
   "metadata": {},
   "outputs": [],
   "source": [
    "# Configuração das credenciais\n",
    "PINECONE_API_KEY = os.getenv('PINECONE_API_KEY')\n",
    "PINECONE_ENVIRONMENT = os.getenv('PINECONE_ENVIRONMENT', 'us-east-1')\n",
    "INDEX_NAME = \"turismo-inteligente\"\n",
    "\n",
    "if not PINECONE_API_KEY:\n",
    "    print(\"⚠️ Configure PINECONE_API_KEY no arquivo .env\")\n",
    "else:\n",
    "    print(\"✅ Credenciais carregadas!\")"
   ]
  },
  {
   "cell_type": "code",
   "execution_count": null,
   "id": "1ebf47d1",
   "metadata": {},
   "outputs": [],
   "source": [
    "# Inicializar cliente Pinecone\n",
    "pc = Pinecone(api_key=PINECONE_API_KEY)\n",
    "\n",
    "# Verificar índices existentes\n",
    "print(\"📋 Índices existentes:\")\n",
    "for index in pc.list_indexes().names():\n",
    "    print(f\"  - {index}\")"
   ]
  },
  {
   "cell_type": "code",
   "execution_count": null,
   "id": "b75be8a8",
   "metadata": {},
   "outputs": [],
   "source": [
    "# Criar índice se não existir\n",
    "if INDEX_NAME not in pc.list_indexes().names():\n",
    "    print(f\"🔨 Criando índice '{INDEX_NAME}'...\")\n",
    "    \n",
    "    pc.create_index(\n",
    "        name=INDEX_NAME,\n",
    "        dimension=384,  # Para sentence-transformers/all-MiniLM-L6-v2\n",
    "        metric='cosine',\n",
    "        spec=ServerlessSpec(\n",
    "            cloud='aws',\n",
    "            region=PINECONE_ENVIRONMENT\n",
    "        )\n",
    "    )\n",
    "    \n",
    "    # Aguardar inicialização\n",
    "    while not pc.describe_index(INDEX_NAME).status['ready']:\n",
    "        time.sleep(1)\n",
    "        print(\"⏳ Aguardando inicialização...\")\n",
    "    \n",
    "    print(\"✅ Índice criado com sucesso!\")\n",
    "else:\n",
    "    print(f\"✅ Índice '{INDEX_NAME}' já existe!\")\n",
    "\n",
    "# Conectar ao índice\n",
    "index = pc.Index(INDEX_NAME)\n",
    "print(f\"🔗 Conectado ao índice: {INDEX_NAME}\")"
   ]
  },
  {
   "cell_type": "markdown",
   "id": "25c5b350",
   "metadata": {},
   "source": [
    "## 3️⃣ **Setup dos Embeddings**"
   ]
  },
  {
   "cell_type": "code",
   "execution_count": null,
   "id": "784de305",
   "metadata": {},
   "outputs": [],
   "source": [
    "# Inicializar modelo de embeddings\n",
    "embeddings = HuggingFaceEmbeddings(\n",
    "    model_name=\"sentence-transformers/all-MiniLM-L6-v2\",\n",
    "    model_kwargs={'device': 'cpu'}\n",
    ")\n",
    "\n",
    "print(\"🧠 Modelo de embeddings carregado!\")\n",
    "print(f\"📏 Dimensão: {len(embeddings.embed_query('teste'))}\")"
   ]
  },
  {
   "cell_type": "markdown",
   "id": "ef0b91f0",
   "metadata": {},
   "source": [
    "## 4️⃣ **Dados Turísticos**"
   ]
  },
  {
   "cell_type": "code",
   "execution_count": null,
   "id": "a4612dcc",
   "metadata": {},
   "outputs": [],
   "source": [
    "# Base de conhecimento turístico\n",
    "dados_turismo = {\n",
    "    \"rio_roteiros\": [\n",
    "        \"Cristo Redentor: Uma das Sete Maravilhas do Mundo Moderno, localizado no Corcovado.\",\n",
    "        \"Pão de Açúcar: Bondinho famoso com vista panorâmica da cidade e praias.\",\n",
    "        \"Praia de Copacabana: 4km de areia branca, calçadão famoso, hotéis luxuosos.\",\n",
    "        \"Praia de Ipanema: Bairro sofisticado, praia das celebridades, pôr do sol inesquecível.\",\n",
    "        \"Santa Teresa: Bairro boêmio, casarões coloniais, ateliês de artistas.\"\n",
    "    ],\n",
    "    \"rio_logistica\": [\n",
    "        \"Aeroporto Galeão: Principal aeroporto internacional, 20km do centro.\",\n",
    "        \"Metro Rio: Linhas 1, 2 e 4 conectam principais pontos turísticos.\",\n",
    "        \"Uber/99: Disponível 24h, mais seguro que táxi comum.\",\n",
    "        \"BRT: Ônibus rápido conecta Barra da Tijuca ao centro.\",\n",
    "        \"Hospedagem Copacabana: Hotéis de todas as categorias na orla.\"\n",
    "    ],\n",
    "    \"paris_roteiros\": [\n",
    "        \"Torre Eiffel: Símbolo de Paris, 324m de altura, iluminação noturna espetacular.\",\n",
    "        \"Museu do Louvre: Maior museu do mundo, Mona Lisa, arte clássica.\",\n",
    "        \"Notre-Dame: Catedral gótica, arquitetura medieval, Ile de la Cité.\",\n",
    "        \"Champs-Élysées: Avenida mais famosa, compras, cafés, Arc de Triomphe.\",\n",
    "        \"Montmartre: Bairro artístico, Sacré-Cœur, cabarés, vista panorâmica.\"\n",
    "    ],\n",
    "    \"paris_logistica\": [\n",
    "        \"Charles de Gaulle: Principal aeroporto, RER B conecta ao centro em 45min.\",\n",
    "        \"Metro Paris: 14 linhas, passe Navigo, funciona até 1h15 (2h15 sexta/sábado).\",\n",
    "        \"Uber/Taxi: Disponível, mas metro é mais rápido no centro.\",\n",
    "        \"Hotel Le Marais: Bairro histórico, walking distance de atrações.\",\n",
    "        \"Velib: Sistema de bikes compartilhadas, ideal para curtas distâncias.\"\n",
    "    ]\n",
    "}\n",
    "\n",
    "print(\"📚 Base de conhecimento preparada!\")\n",
    "total_docs = sum(len(docs) for docs in dados_turismo.values())\n",
    "print(f\"📊 Total de documentos: {total_docs}\")"
   ]
  },
  {
   "cell_type": "markdown",
   "id": "d670aa90",
   "metadata": {},
   "source": [
    "## 5️⃣ **Indexação no Pinecone**"
   ]
  },
  {
   "cell_type": "code",
   "execution_count": null,
   "id": "cb427f26",
   "metadata": {},
   "outputs": [],
   "source": [
    "# Verificar se já temos dados\n",
    "stats = index.describe_index_stats()\n",
    "print(f\"📊 Vetores já indexados: {stats['total_vector_count']}\")\n",
    "\n",
    "if stats['total_vector_count'] == 0:\n",
    "    print(\"🔄 Iniciando indexação...\")\n",
    "    \n",
    "    vectors_to_upsert = []\n",
    "    \n",
    "    for categoria, documentos in dados_turismo.items():\n",
    "        for i, doc in enumerate(documentos):\n",
    "            # Gerar embedding\n",
    "            embedding = embeddings.embed_query(doc)\n",
    "            \n",
    "            # Criar ID único\n",
    "            vector_id = f\"{categoria}_{i}\"\n",
    "            \n",
    "            # Preparar vetor com metadados\n",
    "            vector_data = {\n",
    "                \"id\": vector_id,\n",
    "                \"values\": embedding,\n",
    "                \"metadata\": {\n",
    "                    \"text\": doc,\n",
    "                    \"categoria\": categoria,\n",
    "                    \"cidade\": \"rio\" if \"rio\" in categoria else \"paris\",\n",
    "                    \"tipo\": \"roteiros\" if \"roteiros\" in categoria else \"logistica\"\n",
    "                }\n",
    "            }\n",
    "            \n",
    "            vectors_to_upsert.append(vector_data)\n",
    "            print(f\"📝 Preparado: {vector_id}\")\n",
    "    \n",
    "    # Fazer upsert em lote\n",
    "    print(f\"🚀 Inserindo {len(vectors_to_upsert)} vetores...\")\n",
    "    index.upsert(vectors=vectors_to_upsert)\n",
    "    \n",
    "    print(\"✅ Indexação completa!\")\n",
    "else:\n",
    "    print(\"✅ Dados já indexados!\")"
   ]
  },
  {
   "cell_type": "markdown",
   "id": "71bc07b3",
   "metadata": {},
   "source": [
    "## 6️⃣ **Teste de Conectividade**"
   ]
  },
  {
   "cell_type": "code",
   "execution_count": null,
   "id": "00120830",
   "metadata": {},
   "outputs": [],
   "source": [
    "# Aguardar propagação dos dados\n",
    "time.sleep(2)\n",
    "\n",
    "# Verificar estatísticas finais\n",
    "stats = index.describe_index_stats()\n",
    "print(\"📊 **ESTATÍSTICAS DO ÍNDICE:**\")\n",
    "print(f\"   📈 Total de vetores: {stats['total_vector_count']}\")\n",
    "print(f\"   🏷️ Namespaces: {list(stats.get('namespaces', {}).keys()) if stats.get('namespaces') else 'default'}\")\n",
    "print(f\"   💾 Dimensão: {stats.get('dimension', 'N/A')}\")"
   ]
  },
  {
   "cell_type": "code",
   "execution_count": null,
   "id": "71f83c9b",
   "metadata": {},
   "outputs": [],
   "source": [
    "# Teste de busca simples\n",
    "query = \"pontos turísticos famosos\"\n",
    "query_embedding = embeddings.embed_query(query)\n",
    "\n",
    "# Buscar documentos similares\n",
    "results = index.query(\n",
    "    vector=query_embedding,\n",
    "    top_k=3,\n",
    "    include_metadata=True\n",
    ")\n",
    "\n",
    "print(f\"🔍 **TESTE DE BUSCA:** '{query}'\")\n",
    "print(\"\\n📋 **RESULTADOS:**\")\n",
    "for i, match in enumerate(results['matches'], 1):\n",
    "    score = match['score']\n",
    "    text = match['metadata']['text']\n",
    "    cidade = match['metadata']['cidade']\n",
    "    \n",
    "    print(f\"\\n{i}. **{cidade.upper()}** (Score: {score:.3f})\")\n",
    "    print(f\"   {text}\")"
   ]
  },
  {
   "cell_type": "markdown",
   "id": "9b5fea29",
   "metadata": {},
   "source": [
    "## ✅ **Resumo do Notebook 01:**\n",
    "\n",
    "### 🎯 **O que fizemos:**\n",
    "- ⚙️ Configuramos o Pinecone Cloud\n",
    "- 🗄️ Criamos índice vetorial \"turismo-inteligente\"\n",
    "- 📚 Indexamos 20 documentos turísticos (Rio + Paris)\n",
    "- 🧠 Usamos embeddings sentence-transformers\n",
    "- ✅ Testamos busca por similaridade\n",
    "\n",
    "### 📊 **Dados Indexados:**\n",
    "- 🇧🇷 **Rio**: 10 docs (5 roteiros + 5 logística)\n",
    "- 🇫🇷 **Paris**: 10 docs (5 roteiros + 5 logística)\n",
    "- 📏 **Dimensão**: 384 (all-MiniLM-L6-v2)\n",
    "\n",
    "### ➡️ **Próximo Passo:**\n",
    "**02-RAG.ipynb** → Sistema de recuperação inteligente\n",
    "\n",
    "---\n",
    "✨ **Base vetorial pronta para uso!**"
   ]
  }
 ],
 "metadata": {
  "language_info": {
   "name": "python"
  }
 },
 "nbformat": 4,
 "nbformat_minor": 5
}
