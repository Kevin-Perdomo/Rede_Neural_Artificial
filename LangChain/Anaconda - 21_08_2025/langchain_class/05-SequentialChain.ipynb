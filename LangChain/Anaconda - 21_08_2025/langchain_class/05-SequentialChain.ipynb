{
 "cells": [
  {
   "cell_type": "markdown",
   "metadata": {
    "editable": true,
    "slideshow": {
     "slide_type": ""
    },
    "tags": []
   },
   "source": [
    "# Setup"
   ]
  },
  {
   "cell_type": "code",
   "execution_count": 2,
   "metadata": {},
   "outputs": [],
   "source": [
    "from langchain_groq import ChatGroq"
   ]
  },
  {
   "cell_type": "code",
   "execution_count": 3,
   "metadata": {
    "editable": true,
    "id": "vOISp5PYq4qi",
    "slideshow": {
     "slide_type": ""
    },
    "tags": []
   },
   "outputs": [],
   "source": [
    "from langchain.prompts import PromptTemplate\n",
    "from langchain.document_loaders import TextLoader\n"
   ]
  },
  {
   "cell_type": "code",
   "execution_count": 4,
   "metadata": {},
   "outputs": [
    {
     "data": {
      "text/plain": [
       "True"
      ]
     },
     "execution_count": 4,
     "metadata": {},
     "output_type": "execute_result"
    }
   ],
   "source": [
    "from dotenv import find_dotenv, load_dotenv\n",
    "\n",
    "load_dotenv(find_dotenv())"
   ]
  },
  {
   "cell_type": "code",
   "execution_count": 5,
   "metadata": {},
   "outputs": [],
   "source": [
    "groq = ChatGroq(model_name='llama-3.3-70b-versatile',temperature=0)"
   ]
  },
  {
   "cell_type": "markdown",
   "metadata": {},
   "source": [
    "# SequentialChain"
   ]
  },
  {
   "cell_type": "code",
   "execution_count": 6,
   "metadata": {},
   "outputs": [],
   "source": [
    "# Carregar os documentos\n",
    "loader = TextLoader('base_conhecimento_britadeira.txt')\n",
    "documents = loader.load()\n",
    "# Carregar histórico de conversas \n",
    "historico_conversas = \"\"\"Cliente: Minha britadeira não liga. Chatbot: Você já verificou \n",
    "                         se a bateria está carregada e conectada corretamente?\"\"\"\n",
    "# Pergunta do cliente\n",
    "pergunta = \"Minha britadeira não liga. Eu já veriquei e a bateria está carregada e conectada corretamente\""
   ]
  },
  {
   "cell_type": "code",
   "execution_count": 7,
   "metadata": {},
   "outputs": [],
   "source": [
    "inputs = {\n",
    "    \"context\": \"\\n\".join(doc.page_content for doc in documents),\n",
    "    \"question\": pergunta,\n",
    "    \"historico\": historico_conversas\n",
    "}"
   ]
  },
  {
   "cell_type": "code",
   "execution_count": 8,
   "metadata": {},
   "outputs": [],
   "source": [
    "prompt_base_conhecimento = PromptTemplate(\n",
    "    input_variables=[\"context\", \"question\"],\n",
    "    template=\"\"\"Use o seguinte contexto para responder à pergunta. \n",
    "    Responda apenas com base nas informações fornecidas.\n",
    "    Não forneceça instruções de procedimento já realizados.\n",
    "    Não utilize informações externas ao contexto:\n",
    "    Contexto: {context}\n",
    "    Pergunta: {question}\"\"\"\n",
    ")\n"
   ]
  },
  {
   "cell_type": "code",
   "execution_count": 9,
   "metadata": {},
   "outputs": [],
   "source": [
    "prompt_historico_conversas = PromptTemplate(\n",
    "    input_variables=[\"historico\", \"question\"],\n",
    "    template=\"\"\"Use o histórico de conversas para responder à pergunta. \n",
    "    Responda apenas com base nas informações fornecidas. \n",
    "    Não forneceça instruções de procedimento já realizados.\n",
    "    Não utilize informações externas ao contexto:\n",
    "    Histórico: {historico}\n",
    "    Pergunta: {question}\"\"\"\n",
    ")\n"
   ]
  },
  {
   "cell_type": "code",
   "execution_count": 10,
   "metadata": {},
   "outputs": [],
   "source": [
    "prompt_final = PromptTemplate(\n",
    "    input_variables=[\"resposta_base_conhecimento\", \"resposta_historico_conversas\"],\n",
    "    template=\"\"\"Combine as seguintes respostas para gerar uma resposta final,\n",
    "    mas não forneça instruções de procedimentos já realizados:\n",
    "    Resposta da base de conhecimento: {resposta_base_conhecimento}\n",
    "    Resposta do histórico de conversas: {resposta_historico_conversas}\"\"\"\n",
    ")"
   ]
  },
  {
   "cell_type": "code",
   "execution_count": 11,
   "metadata": {},
   "outputs": [
    {
     "name": "stdout",
     "output_type": "stream",
     "text": [
      "input_variables=['context', 'question'] input_types={} partial_variables={} template='Use o seguinte contexto para responder à pergunta. \\n    Responda apenas com base nas informações fornecidas.\\n    Não forneceça instruções de procedimento já realizados.\\n    Não utilize informações externas ao contexto:\\n    Contexto: {context}\\n    Pergunta: {question}'\n"
     ]
    }
   ],
   "source": [
    "print(prompt_base_conhecimento)"
   ]
  },
  {
   "cell_type": "code",
   "execution_count": 12,
   "metadata": {},
   "outputs": [],
   "source": [
    "# Definir as cadeias  \n",
    "chain_base_conhecimento = prompt_base_conhecimento | groq\n",
    "chain_historico_conversas = prompt_historico_conversas | groq\n",
    "chain_final = prompt_final | groq"
   ]
  },
  {
   "cell_type": "code",
   "execution_count": 13,
   "metadata": {},
   "outputs": [
    {
     "name": "stdout",
     "output_type": "stream",
     "text": [
      "first=PromptTemplate(input_variables=['context', 'question'], input_types={}, partial_variables={}, template='Use o seguinte contexto para responder à pergunta. \\n    Responda apenas com base nas informações fornecidas.\\n    Não forneceça instruções de procedimento já realizados.\\n    Não utilize informações externas ao contexto:\\n    Contexto: {context}\\n    Pergunta: {question}') middle=[] last=ChatGroq(client=<groq.resources.chat.completions.Completions object at 0x75efd4fd67b0>, async_client=<groq.resources.chat.completions.AsyncCompletions object at 0x75efd4fd7380>, model_name='llama-3.3-70b-versatile', temperature=1e-08, model_kwargs={}, groq_api_key=SecretStr('**********'))\n"
     ]
    }
   ],
   "source": [
    "print(chain_base_conhecimento)"
   ]
  },
  {
   "cell_type": "code",
   "execution_count": 14,
   "metadata": {},
   "outputs": [
    {
     "name": "stdout",
     "output_type": "stream",
     "text": [
      "first=PromptTemplate(input_variables=['historico', 'question'], input_types={}, partial_variables={}, template='Use o histórico de conversas para responder à pergunta. \\n    Responda apenas com base nas informações fornecidas. \\n    Não forneceça instruções de procedimento já realizados.\\n    Não utilize informações externas ao contexto:\\n    Histórico: {historico}\\n    Pergunta: {question}') middle=[] last=ChatGroq(client=<groq.resources.chat.completions.Completions object at 0x75efd4fd67b0>, async_client=<groq.resources.chat.completions.AsyncCompletions object at 0x75efd4fd7380>, model_name='llama-3.3-70b-versatile', temperature=1e-08, model_kwargs={}, groq_api_key=SecretStr('**********'))\n"
     ]
    }
   ],
   "source": [
    "print(chain_historico_conversas)"
   ]
  },
  {
   "cell_type": "code",
   "execution_count": 15,
   "metadata": {},
   "outputs": [],
   "source": [
    "# Passando dados e executando\n",
    "resultado_base_conhecimento = chain_base_conhecimento.invoke({\"context\": inputs[\"context\"], \"question\": inputs[\"question\"]})\n",
    "resultado_historico_conversas = chain_historico_conversas.invoke({\"historico\": inputs[\"historico\"], \"question\": inputs[\"question\"]})\n",
    "resultado_final = chain_final.invoke({\"resposta_base_conhecimento\": resultado_base_conhecimento, \n",
    "                                      \"resposta_historico_conversas\": resultado_historico_conversas})"
   ]
  },
  {
   "cell_type": "code",
   "execution_count": 16,
   "metadata": {},
   "outputs": [
    {
     "name": "stdout",
     "output_type": "stream",
     "text": [
      "Resultado Base de Conhecimento:\n",
      " content='Aguarde 30 segundos após conectar a bateria para que o sistema inicialize. Além disso, verifique se o interruptor liga/desliga está na posição correta. Se o problema persistir, contate o suporte técnico pelo 0800 555 5555.' additional_kwargs={} response_metadata={'token_usage': {'completion_tokens': 64, 'prompt_tokens': 831, 'total_tokens': 895, 'completion_time': 0.229649641, 'prompt_time': 0.070646315, 'queue_time': 0.269751792, 'total_time': 0.300295956}, 'model_name': 'llama-3.3-70b-versatile', 'system_fingerprint': 'fp_3f3b593e33', 'service_tier': 'on_demand', 'finish_reason': 'stop', 'logprobs': None} id='run--50450cc7-b77a-4210-94eb-fa6a901b5cc1-0' usage_metadata={'input_tokens': 831, 'output_tokens': 64, 'total_tokens': 895}\n",
      "----\n",
      "Resultado Histórico de Conversas:\n",
      " content='Verifique se o cabo ou a fonte de alimentação está funcionando corretamente e se não há danos visíveis na britadeira. Além disso, certifique-se de que o interruptor ou gatilho esteja funcionando corretamente. Se o problema persistir, pode ser necessário verificar se há algum problema interno na britadeira. Você já tentou ligar a britadeira com uma fonte de alimentação diferente ou verificar se há algum problema com o motor ou outros componentes internos?' additional_kwargs={} response_metadata={'token_usage': {'completion_tokens': 113, 'prompt_tokens': 162, 'total_tokens': 275, 'completion_time': 0.345600907, 'prompt_time': 0.019500159, 'queue_time': 0.26797483, 'total_time': 0.365101066}, 'model_name': 'llama-3.3-70b-versatile', 'system_fingerprint': 'fp_6507bcfb6f', 'service_tier': 'on_demand', 'finish_reason': 'stop', 'logprobs': None} id='run--55537e58-2748-4d2a-a651-e0787134b18f-0' usage_metadata={'input_tokens': 162, 'output_tokens': 113, 'total_tokens': 275}\n"
     ]
    }
   ],
   "source": [
    "print(\"Resultado Base de Conhecimento:\\n\", resultado_base_conhecimento)\n",
    "print(\"----\")\n",
    "print(\"Resultado Histórico de Conversas:\\n\", resultado_historico_conversas)"
   ]
  },
  {
   "cell_type": "code",
   "execution_count": 17,
   "metadata": {},
   "outputs": [
    {
     "name": "stdout",
     "output_type": "stream",
     "text": [
      "Para resolver o problema com a britadeira, é importante seguir alguns passos. Primeiramente, aguarde 30 segundos após conectar a bateria para que o sistema inicialize. Além disso, verifique se o interruptor liga/desliga está na posição correta. \n",
      "\n",
      "É fundamental também verificar se o cabo ou a fonte de alimentação está funcionando corretamente e se não há danos visíveis na britadeira. Certifique-se de que o interruptor ou gatilho esteja funcionando corretamente. Se o problema persistir, pode ser necessário verificar se há algum problema interno na britadeira, como um problema com o motor ou outros componentes internos. \n",
      "\n",
      "Se mesmo após essas verificações o problema não for resolvido, é recomendável contatar o suporte técnico pelo 0800 555 5555 para obter assistência especializada.\n"
     ]
    }
   ],
   "source": [
    "print(resultado_final.content)"
   ]
  },
  {
   "cell_type": "code",
   "execution_count": 18,
   "metadata": {},
   "outputs": [
    {
     "name": "stdout",
     "output_type": "stream",
     "text": [
      "content='Para resolver o problema com a britadeira, é importante seguir alguns passos. Primeiramente, aguarde 30 segundos após conectar a bateria para que o sistema inicialize. Além disso, verifique se o interruptor liga/desliga está na posição correta. \\n\\nÉ fundamental também verificar se o cabo ou a fonte de alimentação está funcionando corretamente e se não há danos visíveis na britadeira. Certifique-se de que o interruptor ou gatilho esteja funcionando corretamente. Se o problema persistir, pode ser necessário verificar se há algum problema interno na britadeira, como um problema com o motor ou outros componentes internos. \\n\\nSe mesmo após essas verificações o problema não for resolvido, é recomendável contatar o suporte técnico pelo 0800 555 5555 para obter assistência especializada.' additional_kwargs={} response_metadata={'token_usage': {'completion_tokens': 194, 'prompt_tokens': 625, 'total_tokens': 819, 'completion_time': 0.389683628, 'prompt_time': 0.119016311, 'queue_time': 0.269916063, 'total_time': 0.508699939}, 'model_name': 'llama-3.3-70b-versatile', 'system_fingerprint': 'fp_6507bcfb6f', 'service_tier': 'on_demand', 'finish_reason': 'stop', 'logprobs': None} id='run--3ddb4343-3c25-45fb-b7c6-bc6395569500-0' usage_metadata={'input_tokens': 625, 'output_tokens': 194, 'total_tokens': 819}\n"
     ]
    }
   ],
   "source": [
    "print(resultado_final)"
   ]
  },
  {
   "cell_type": "code",
   "execution_count": null,
   "metadata": {},
   "outputs": [],
   "source": []
  }
 ],
 "metadata": {
  "colab": {
   "provenance": []
  },
  "kernelspec": {
   "display_name": "langchain",
   "language": "python",
   "name": "python3"
  },
  "language_info": {
   "codemirror_mode": {
    "name": "ipython",
    "version": 3
   },
   "file_extension": ".py",
   "mimetype": "text/x-python",
   "name": "python",
   "nbconvert_exporter": "python",
   "pygments_lexer": "ipython3",
   "version": "3.13.5"
  }
 },
 "nbformat": 4,
 "nbformat_minor": 4
}
