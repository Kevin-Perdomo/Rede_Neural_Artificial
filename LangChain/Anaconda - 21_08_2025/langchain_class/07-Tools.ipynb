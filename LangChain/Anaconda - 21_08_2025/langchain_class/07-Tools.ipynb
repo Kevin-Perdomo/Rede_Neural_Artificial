{
 "cells": [
  {
   "cell_type": "markdown",
   "metadata": {
    "editable": true,
    "slideshow": {
     "slide_type": ""
    },
    "tags": []
   },
   "source": [
    "# Setup"
   ]
  },
  {
   "cell_type": "code",
   "execution_count": 1,
   "metadata": {
    "editable": true,
    "id": "9QyJuyfgsdPH",
    "slideshow": {
     "slide_type": ""
    },
    "tags": []
   },
   "outputs": [],
   "source": [
    "from langchain_experimental.utilities import PythonREPL\n",
    "from langchain_community.tools import DuckDuckGoSearchRun,WikipediaQueryRun\n",
    "from langchain_community.utilities import WikipediaAPIWrapper"
   ]
  },
  {
   "cell_type": "markdown",
   "metadata": {},
   "source": [
    "# Executa Código Python"
   ]
  },
  {
   "cell_type": "code",
   "execution_count": 2,
   "metadata": {
    "colab": {
     "base_uri": "https://localhost:8080/",
     "height": 35
    },
    "id": "EHCXlsu4sdYn",
    "outputId": "d8451137-e13a-4804-dbf4-ad775fae6eee"
   },
   "outputs": [
    {
     "name": "stderr",
     "output_type": "stream",
     "text": [
      "Python REPL can execute arbitrary code. Use with caution.\n"
     ]
    },
    {
     "name": "stdout",
     "output_type": "stream",
     "text": [
      "25\n",
      "\n"
     ]
    }
   ],
   "source": [
    "python_repl = PythonREPL()\n",
    "result = python_repl.run(\"print(5 * 5)\")\n",
    "print(result)"
   ]
  },
  {
   "cell_type": "markdown",
   "metadata": {},
   "source": [
    "# Busca na Web"
   ]
  },
  {
   "cell_type": "code",
   "execution_count": 3,
   "metadata": {},
   "outputs": [
    {
     "name": "stderr",
     "output_type": "stream",
     "text": [
      "/opt/anaconda3/envs/langchain/lib/python3.13/site-packages/langchain_community/utilities/duckduckgo_search.py:63: RuntimeWarning: This package (`duckduckgo_search`) has been renamed to `ddgs`! Use `pip install ddgs` instead.\n",
      "  with DDGS() as ddgs:\n"
     ]
    }
   ],
   "source": [
    "ddg_search = DuckDuckGoSearchRun()\n",
    "\n",
    "query = \"Qual é a capital da Brasil?\"\n",
    "search_results = ddg_search.run(query)"
   ]
  },
  {
   "cell_type": "code",
   "execution_count": 4,
   "metadata": {},
   "outputs": [
    {
     "name": "stdout",
     "output_type": "stream",
     "text": [
      "Resultados da busca: May 14, 2025 · O Brasil, um vasto e diversificado país da América do Sul, é uma república federativa composta por 26 estados e um distrito federal, cada um com sua própria capital. Feb 18, 2025 · Mas você sabe qual é a capital do Brasil? E qual a sua história? Nesta jornada, vamos explorar a capital brasileira, Brasília, e desvendar os segredos de sua construção e da … Apr 18, 2025 · A capital do Brasil é a cidade de Brasília. Portanto, a opção correta é a. Brasília. Vamos entender um pouco mais sobre Brasília: Quem: Brasília é a capital do Brasil desde … Mar 31, 2025 · Descubra onde localizar Brasília, a capital do Brasil, e conheça sua história e principais atrações turísticas em nosso post de viagem. Aug 27, 2024 · Brasília é a capital do Brasil, inaugurada em 21 de abril de 1960. Projetada pelo arquiteto Oscar Niemeyer e pelo urbanista Lúcio Costa, a cidade foi idealizada com o objetivo …\n"
     ]
    }
   ],
   "source": [
    "print(\"Resultados da busca:\", search_results)"
   ]
  },
  {
   "cell_type": "markdown",
   "metadata": {},
   "source": [
    "# Consulta a Wikipedia"
   ]
  },
  {
   "cell_type": "code",
   "execution_count": 5,
   "metadata": {
    "editable": true,
    "slideshow": {
     "slide_type": ""
    },
    "tags": []
   },
   "outputs": [
    {
     "name": "stderr",
     "output_type": "stream",
     "text": [
      "/opt/anaconda3/envs/langchain/lib/python3.13/site-packages/wikipedia/wikipedia.py:389: GuessedAtParserWarning: No parser was explicitly specified, so I'm using the best available HTML parser for this system (\"lxml\"). This usually isn't a problem, but if you run this code on another system, or in a different virtual environment, it may use a different parser and behave differently.\n",
      "\n",
      "The code that caused this warning is on line 389 of the file /opt/anaconda3/envs/langchain/lib/python3.13/site-packages/wikipedia/wikipedia.py. To get rid of this warning, pass the additional argument 'features=\"lxml\"' to the BeautifulSoup constructor.\n",
      "\n",
      "  lis = BeautifulSoup(html).find_all('li')\n"
     ]
    }
   ],
   "source": [
    "wikipedia = WikipediaQueryRun(api_wrapper=WikipediaAPIWrapper())\n",
    "query = \"Guiana\"\n",
    "wikipedia_results = wikipedia.run(query)"
   ]
  },
  {
   "cell_type": "code",
   "execution_count": 6,
   "metadata": {},
   "outputs": [
    {
     "name": "stdout",
     "output_type": "stream",
     "text": [
      "Resultados da Wikipedia: Page: French Guiana\n",
      "Summary: French Guiana, or Guyane in French, is an overseas department and region of France located on the northern coast of South America in the Guianas and the West Indies. Bordered by Suriname to the west and Brazil to the east and south, French Guiana covers a total area of 84,000 km2 (32,000 sq mi) and a land area of 83,534 km2 (32,253 sq mi). As of January 2025, it is home to 292,354 people.\n",
      "\n",
      "French Guiana is the second-largest region in France, being approximately one-seventh the size of European France, and the largest outermost region within the European Union. It has a very low population density, with only 3.6 inhabitants per square kilometre (9.3/sq mi). About half of its residents live in its capital, Cayenne. Approximately 98.9% of French Guiana is covered by forests, much of it primeval rainforest. Guiana Amazonian Park, the largest national park in the European Union covers 41% of French Guiana's territory.\n",
      "Since December 2015, both the region and department have been ruled by a single assembly within the framework of a single territorial collectivity, the French Guiana Territorial Collectivity. This assembly, the French Guiana Assembly, replaced the former regional and departmental council, which were dissolved. The French Guiana Assembly is in charge of regional and departmental government. Its president is Gabriel Serville.\n",
      "\n",
      "Fully integrated in the French Republic since 1946, French Guiana is a part of the European Union, and its official currency is the euro. A large part of French Guiana's economy depends on jobs and businesses associated with the presence of the Guiana Space Centre, now the European Space Agency's primary launch site near the equator. As elsewhere in France, the official language is standard French, but each ethnic community has its own language, of which French Guianese Creole, a French-based creole language, is the most widely spoken. French Guiana is the only territory on the continental mainland of the Americas that is still under the sovereignty of a European state.\n",
      "The border between French Guiana and Brazil is the longest land border that France shares with another country, as well as one of only two borders which France shares with non-European states, the other being the border with Suriname in the west.\n",
      "\n",
      "Page: The Guianas\n",
      "Summary: The Guianas, also spelled Guyanas or Guayanas, are a geographical region in north-eastern South America. Strictly, the term refers to the three Guianas: Guyana, Suriname, and French Guiana, formerly British, Dutch, and French Guiana respectively. Broadly, it refers to the South American coast from the mouth of the Orinoco to the mouth of the Amazon.\n",
      "Politically it is divided into:\n",
      "\n",
      "Spanish or Venezuelan Guiana, now the Delta Amacuro State and Guayana Region of Venezuela.\n",
      "Guyana, formerly British Guiana, independent since 1966.\n",
      "Suriname, formerly Dutch Guiana, independent since 1975.\n",
      "French Guiana, an overseas department and region of France.\n",
      "Brazilian or Portuguese Guiana, now the Amapá State of Brazil.\n",
      "The three Guianas proper have a combined population of 1,718,651; Guyana: 804,567, Suriname: 612,985, and French Guiana: 301,099. Most of the population is along the coast. Due to the jungles to the south, the Guianas are one of the most sparsely populated regions on Earth.\n",
      "Prior to c. 1815 there was a string of mostly Dutch settlements along the coast which changed hands several times. They were mostly several miles upriver to avoid the coastal marshes which were only drained later. \n",
      "\n",
      "British Guiana (before 1793 part of Dutch Guyana):\n",
      "Pomeroon (colony) (70 miles NW of Georgetown) 165?: Dutch, 1689:abandoned after French destruction, Dutch later return, 1831 to British Guyana.\n",
      "Essequibo (colony) (20 miles NW of Georgetown) c 1616 Dutch, 1665 British occupation, (1781 British, 1782 French occupation, 1783 Dutch), 1793 British, 1831 British Guiana\n",
      "Demerara (Georgetown) 1745 Dutch from Essequibo, 1781-1831: like Essequibo\n",
      "Berbice (114 m\n"
     ]
    }
   ],
   "source": [
    "print(\"Resultados da Wikipedia:\", wikipedia_results)"
   ]
  },
  {
   "cell_type": "code",
   "execution_count": null,
   "metadata": {},
   "outputs": [],
   "source": []
  }
 ],
 "metadata": {
  "colab": {
   "provenance": []
  },
  "kernelspec": {
   "display_name": "langchain",
   "language": "python",
   "name": "python3"
  },
  "language_info": {
   "codemirror_mode": {
    "name": "ipython",
    "version": 3
   },
   "file_extension": ".py",
   "mimetype": "text/x-python",
   "name": "python",
   "nbconvert_exporter": "python",
   "pygments_lexer": "ipython3",
   "version": "3.13.5"
  }
 },
 "nbformat": 4,
 "nbformat_minor": 4
}
