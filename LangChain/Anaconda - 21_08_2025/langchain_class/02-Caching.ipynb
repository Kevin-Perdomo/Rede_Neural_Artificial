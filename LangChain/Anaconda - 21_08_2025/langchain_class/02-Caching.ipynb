{
 "cells": [
  {
   "cell_type": "markdown",
   "metadata": {},
   "source": [
    "# Setup"
   ]
  },
  {
   "cell_type": "code",
   "execution_count": 1,
   "metadata": {
    "editable": true,
    "id": "6eGKcwYtdWVu",
    "slideshow": {
     "slide_type": ""
    },
    "tags": []
   },
   "outputs": [],
   "source": [
    "from langchain_groq import ChatGroq\n",
    "from langchain.cache import InMemoryCache,SQLiteCache\n",
    "from langchain.globals import set_llm_cache\n",
    "import os\n",
    "import json\n",
    "import hashlib\n"
   ]
  },
  {
   "cell_type": "code",
   "execution_count": 2,
   "metadata": {},
   "outputs": [
    {
     "data": {
      "text/plain": [
       "True"
      ]
     },
     "execution_count": 2,
     "metadata": {},
     "output_type": "execute_result"
    }
   ],
   "source": [
    "from dotenv import find_dotenv, load_dotenv\n",
    "\n",
    "load_dotenv(find_dotenv())"
   ]
  },
  {
   "cell_type": "code",
   "execution_count": 3,
   "metadata": {
    "id": "8VOSdK2vdfeO"
   },
   "outputs": [],
   "source": [
    "groq = ChatGroq(model_name='llama-3.1-8b-instant')\n",
    "set_llm_cache(InMemoryCache())"
   ]
  },
  {
   "cell_type": "markdown",
   "metadata": {
    "id": "TftZH6m-pSe4"
   },
   "source": [
    "# Memória"
   ]
  },
  {
   "cell_type": "code",
   "execution_count": 4,
   "metadata": {
    "colab": {
     "base_uri": "https://localhost:8080/"
    },
    "id": "TCOBpmFBdfho",
    "outputId": "ccdade8c-6e16-41b2-f4e1-495112be3eda"
   },
   "outputs": [
    {
     "name": "stdout",
     "output_type": "stream",
     "text": [
      "Primeira resposta (API chamada): content='Carl Sagan foi um astrônomo e cosmólogo americano, conhecido por seu livro \"O Pântano de Júpiter\" e a série de TV \"Cosmos\".' additional_kwargs={} response_metadata={'token_usage': {'completion_tokens': 41, 'prompt_tokens': 49, 'total_tokens': 90, 'completion_time': 0.066606967, 'prompt_time': 0.009274622, 'queue_time': 0.273348746, 'total_time': 0.075881589}, 'model_name': 'llama-3.1-8b-instant', 'system_fingerprint': 'fp_46fc01befd', 'service_tier': 'on_demand', 'finish_reason': 'stop', 'logprobs': None} id='run--b259ef51-9a0e-450d-bfaf-58d0d44d812a-0' usage_metadata={'input_tokens': 49, 'output_tokens': 41, 'total_tokens': 90}\n"
     ]
    }
   ],
   "source": [
    "prompt = 'Me diga em poucas palavras que foi Carl Sagan.'\n",
    "response1 = groq.invoke(prompt)\n",
    "print(\"Primeira resposta (API chamada):\", response1)"
   ]
  },
  {
   "cell_type": "code",
   "execution_count": 5,
   "metadata": {
    "colab": {
     "base_uri": "https://localhost:8080/"
    },
    "id": "-SuwTClBdfkU",
    "outputId": "aed30081-9aa1-456c-a948-f5b118a431f9"
   },
   "outputs": [
    {
     "name": "stdout",
     "output_type": "stream",
     "text": [
      "Segunda resposta (usando cache): content='Carl Sagan foi um astrônomo e cosmólogo americano, conhecido por seu livro \"O Pântano de Júpiter\" e a série de TV \"Cosmos\".' additional_kwargs={} response_metadata={'token_usage': {'completion_tokens': 41, 'prompt_tokens': 49, 'total_tokens': 90, 'completion_time': 0.066606967, 'prompt_time': 0.009274622, 'queue_time': 0.273348746, 'total_time': 0.075881589}, 'model_name': 'llama-3.1-8b-instant', 'system_fingerprint': 'fp_46fc01befd', 'service_tier': 'on_demand', 'finish_reason': 'stop', 'logprobs': None} id='run--b259ef51-9a0e-450d-bfaf-58d0d44d812a-0' usage_metadata={'input_tokens': 49, 'output_tokens': 41, 'total_tokens': 90, 'total_cost': 0}\n"
     ]
    }
   ],
   "source": [
    "response2 = groq.invoke(prompt)\n",
    "print(\"Segunda resposta (usando cache):\", response2)"
   ]
  },
  {
   "cell_type": "markdown",
   "metadata": {
    "id": "tTtYinh-pcj7"
   },
   "source": [
    "# Disco / Banco de Dados"
   ]
  },
  {
   "cell_type": "code",
   "execution_count": 6,
   "metadata": {
    "id": "dp4gExg3lbAH"
   },
   "outputs": [],
   "source": [
    "set_llm_cache(SQLiteCache(database_path=\"groq_cache.db\"))"
   ]
  },
  {
   "cell_type": "code",
   "execution_count": 7,
   "metadata": {
    "id": "Zh0m5jo8lggv"
   },
   "outputs": [],
   "source": [
    "prompt = 'Me diga em poucas palavras quem foi Neil Armstrong.'"
   ]
  },
  {
   "cell_type": "code",
   "execution_count": 8,
   "metadata": {
    "colab": {
     "base_uri": "https://localhost:8080/"
    },
    "id": "gAeoflbzlbDK",
    "outputId": "ef4c5f9f-0fed-431b-96be-ef30eed34370"
   },
   "outputs": [
    {
     "name": "stdout",
     "output_type": "stream",
     "text": [
      "Primeira resposta (API chamada): content='Neil Armstrong foi um astronauta norte-americano que foi o primeiro homem a pisar na Lua em 20 de julho de 1969, durante a Missão Apolo 11.' additional_kwargs={} response_metadata={'token_usage': {'completion_tokens': 42, 'prompt_tokens': 48, 'total_tokens': 90, 'completion_time': 0.048800924, 'prompt_time': 0.006565854, 'queue_time': 0.68662994, 'total_time': 0.055366778}, 'model_name': 'llama-3.1-8b-instant', 'system_fingerprint': 'fp_510c177af0', 'service_tier': 'on_demand', 'finish_reason': 'stop', 'logprobs': None} id='run--e7f8fa37-79db-415f-98d5-88f7747f46ac-0' usage_metadata={'input_tokens': 48, 'output_tokens': 42, 'total_tokens': 90}\n"
     ]
    }
   ],
   "source": [
    "response1 = groq.invoke(prompt)\n",
    "print(\"Primeira resposta (API chamada):\", response1)"
   ]
  },
  {
   "cell_type": "code",
   "execution_count": 9,
   "metadata": {
    "colab": {
     "base_uri": "https://localhost:8080/"
    },
    "id": "XNlIF1YklbF4",
    "outputId": "621f0482-030d-4dc1-a2ca-e020168b7d51"
   },
   "outputs": [
    {
     "name": "stdout",
     "output_type": "stream",
     "text": [
      "Segunda resposta (usando cache): content='Neil Armstrong foi um astronauta norte-americano que foi o primeiro homem a pisar na Lua em 20 de julho de 1969, durante a Missão Apolo 11.' additional_kwargs={} response_metadata={'token_usage': {'completion_tokens': 42, 'prompt_tokens': 48, 'total_tokens': 90, 'completion_time': 0.048800924, 'prompt_time': 0.006565854, 'queue_time': 0.68662994, 'total_time': 0.055366778}, 'model_name': 'llama-3.1-8b-instant', 'system_fingerprint': 'fp_510c177af0', 'service_tier': 'on_demand', 'finish_reason': 'stop', 'logprobs': None} id='run--e7f8fa37-79db-415f-98d5-88f7747f46ac-0' usage_metadata={'input_tokens': 48, 'output_tokens': 42, 'total_tokens': 90, 'total_cost': 0}\n"
     ]
    }
   ],
   "source": [
    "response2 = groq.invoke(prompt)\n",
    "print(\"Segunda resposta (usando cache):\", response2)"
   ]
  },
  {
   "cell_type": "markdown",
   "metadata": {
    "id": "gCzytB3cph2u"
   },
   "source": [
    "# Personalizado"
   ]
  },
  {
   "cell_type": "code",
   "execution_count": 10,
   "metadata": {
    "id": "hQdCdSoAps26"
   },
   "outputs": [],
   "source": [
    "class SimpleDiskCache:\n",
    "    def __init__(self, cache_dir='cache_dir'):\n",
    "        self.cache_dir = cache_dir\n",
    "        os.makedirs(self.cache_dir, exist_ok=True)\n",
    "\n",
    "    def _get_cache_path(self, key):\n",
    "        hashed_key = hashlib.md5(key.encode()).hexdigest() #hasg cria nome de arquivo único\n",
    "        return os.path.join(self.cache_dir, f\"{hashed_key}.json\")\n",
    "\n",
    "    def lookup(self, key, llm_string):\n",
    "        cache_path = self._get_cache_path(key)\n",
    "        if os.path.exists(cache_path):\n",
    "            with open(cache_path, 'r') as f:\n",
    "                return json.load(f)\n",
    "        return None\n",
    "\n",
    "    def update(self, key, value, llm_string):\n",
    "        cache_path = self._get_cache_path(key)\n",
    "        with open(cache_path, 'w') as f:\n",
    "            #json.dump(value.to_json(), f)\n",
    "            print(value)"
   ]
  },
  {
   "cell_type": "code",
   "execution_count": 11,
   "metadata": {
    "id": "wjp02OMnps59"
   },
   "outputs": [],
   "source": [
    "cache = SimpleDiskCache()\n",
    "set_llm_cache(cache)\n",
    "prompt = 'Me diga em poucas palavras quem foi Neil Degrasse Tyson.'"
   ]
  },
  {
   "cell_type": "code",
   "execution_count": 12,
   "metadata": {
    "id": "jD6mmnObps9C"
   },
   "outputs": [],
   "source": [
    "def invoke_with_cache(llm, prompt, cache):\n",
    "    cached_response = cache.lookup(prompt, \"\")\n",
    "    if cached_response:\n",
    "        print(\"Usando cache:\")\n",
    "        return cached_response\n",
    "\n",
    "    response = llm.invoke(prompt)\n",
    "    cache.update(prompt, response, \"\")\n",
    "    return response"
   ]
  },
  {
   "cell_type": "code",
   "execution_count": null,
   "metadata": {
    "colab": {
     "base_uri": "https://localhost:8080/"
    },
    "id": "3yzsKC8CptAK",
    "outputId": "80e6f397-96cd-4058-cca7-679cc3158496"
   },
   "outputs": [],
   "source": [
    "response1 = invoke_with_cache(groq, prompt, cache)\n",
    "response_text1 = response1.replace('\\n', ' ') \n",
    "\n",
    "print(\"Primeira resposta (API chamada):\", response_text1)"
   ]
  },
  {
   "cell_type": "code",
   "execution_count": null,
   "metadata": {
    "colab": {
     "base_uri": "https://localhost:8080/"
    },
    "editable": true,
    "id": "2CTyn8qtlbJB",
    "outputId": "b2695de3-0cd5-4cdc-afdc-3e2363464d6b",
    "slideshow": {
     "slide_type": ""
    },
    "tags": []
   },
   "outputs": [],
   "source": [
    "response2 = invoke_with_cache(groq, prompt, cache)\n",
    "response_text2 = response2.replace('\\n', ' ')  \n",
    "\n",
    "print(\"Segunda resposta (usando cache):\", response_text2)"
   ]
  },
  {
   "cell_type": "code",
   "execution_count": null,
   "metadata": {},
   "outputs": [],
   "source": []
  }
 ],
 "metadata": {
  "colab": {
   "provenance": []
  },
  "kernelspec": {
   "display_name": "langchain",
   "language": "python",
   "name": "python3"
  },
  "language_info": {
   "codemirror_mode": {
    "name": "ipython",
    "version": 3
   },
   "file_extension": ".py",
   "mimetype": "text/x-python",
   "name": "python",
   "nbconvert_exporter": "python",
   "pygments_lexer": "ipython3",
   "version": "3.13.5"
  }
 },
 "nbformat": 4,
 "nbformat_minor": 4
}
