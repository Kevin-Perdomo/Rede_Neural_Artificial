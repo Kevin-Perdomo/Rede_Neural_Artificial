{
 "cells": [
  {
   "cell_type": "markdown",
   "metadata": {
    "editable": true,
    "slideshow": {
     "slide_type": ""
    },
    "tags": []
   },
   "source": [
    "# Setup"
   ]
  },
  {
   "cell_type": "code",
   "execution_count": 1,
   "metadata": {
    "editable": true,
    "id": "ASzXPwDRUBxA",
    "slideshow": {
     "slide_type": ""
    },
    "tags": []
   },
   "outputs": [],
   "source": [
    "from langchain_groq import ChatGroq\n",
    "from langchain.prompts import PromptTemplate,ChatPromptTemplate, HumanMessagePromptTemplate\n",
    "from langchain_core.messages import SystemMessage, HumanMessage, AIMessage\n",
    "import os\n",
    "import yaml"
   ]
  },
  {
   "cell_type": "code",
   "execution_count": 2,
   "metadata": {},
   "outputs": [
    {
     "data": {
      "text/plain": [
       "True"
      ]
     },
     "execution_count": 2,
     "metadata": {},
     "output_type": "execute_result"
    }
   ],
   "source": [
    "from dotenv import find_dotenv, load_dotenv\n",
    "\n",
    "load_dotenv(find_dotenv())"
   ]
  },
  {
   "cell_type": "markdown",
   "metadata": {},
   "source": [
    "# Completion"
   ]
  },
  {
   "cell_type": "code",
   "execution_count": 3,
   "metadata": {
    "id": "eCBl659lZl7j"
   },
   "outputs": [],
   "source": [
    "template = '''\n",
    "Você é um analista financeiro.\n",
    "Escreva um relatório financeiro detalhado para a empresa \"{empresa}\" para o período {periodo}.\n",
    "\n",
    "O relatório deve ser escrito em {idioma} e incluir as seguintes análises:\n",
    "{analises}\n",
    "\n",
    "Certifique-se de fornecer insights e conclusões para cada seção.\n",
    "'''"
   ]
  },
  {
   "cell_type": "code",
   "execution_count": 4,
   "metadata": {
    "id": "zCezS4xvZl_C"
   },
   "outputs": [],
   "source": [
    "prompt_template = PromptTemplate.from_template(template=template)"
   ]
  },
  {
   "cell_type": "code",
   "execution_count": 5,
   "metadata": {
    "id": "z_YBQfANZmCi"
   },
   "outputs": [],
   "source": [
    "empresa = 'ACME Corp'\n",
    "periodo = 'Q1 2024'\n",
    "idioma = 'Português'\n",
    "analises = [\n",
    "    \"Análise do Balanço Patrimonial\",\n",
    "    \"Análise do Fluxo de Caixa\",\n",
    "    \"Análise de Tendências\",\n",
    "    \"Análise de Receita e Lucro\",\n",
    "    \"Análise de Posição de Mercado\"\n",
    "]\n",
    "analises_text = \"\\n\".join([f\"- {analise}\" for analise in analises])"
   ]
  },
  {
   "cell_type": "code",
   "execution_count": 6,
   "metadata": {},
   "outputs": [
    {
     "name": "stdout",
     "output_type": "stream",
     "text": [
      "- Análise do Balanço Patrimonial\n",
      "- Análise do Fluxo de Caixa\n",
      "- Análise de Tendências\n",
      "- Análise de Receita e Lucro\n",
      "- Análise de Posição de Mercado\n"
     ]
    }
   ],
   "source": [
    "print(analises_text)"
   ]
  },
  {
   "cell_type": "code",
   "execution_count": 7,
   "metadata": {
    "colab": {
     "base_uri": "https://localhost:8080/"
    },
    "id": "3C9tfTCDZuXr",
    "outputId": "f57170e1-95ff-4fb4-b080-c9dd7ae2b610"
   },
   "outputs": [
    {
     "name": "stdout",
     "output_type": "stream",
     "text": [
      "Prompt Gerado:\n",
      " \n",
      "Você é um analista financeiro.\n",
      "Escreva um relatório financeiro detalhado para a empresa \"ACME Corp\" para o período Q1 2024.\n",
      "\n",
      "O relatório deve ser escrito em Português e incluir as seguintes análises:\n",
      "- Análise do Balanço Patrimonial\n",
      "- Análise do Fluxo de Caixa\n",
      "- Análise de Tendências\n",
      "- Análise de Receita e Lucro\n",
      "- Análise de Posição de Mercado\n",
      "\n",
      "Certifique-se de fornecer insights e conclusões para cada seção.\n",
      "\n"
     ]
    }
   ],
   "source": [
    "prompt = prompt_template.format(\n",
    "    empresa=empresa,\n",
    "    periodo=periodo,\n",
    "    idioma=idioma,\n",
    "    analises=analises_text\n",
    ")\n",
    "print(\"Prompt Gerado:\\n\", prompt)"
   ]
  },
  {
   "cell_type": "code",
   "execution_count": 8,
   "metadata": {},
   "outputs": [
    {
     "name": "stdout",
     "output_type": "stream",
     "text": [
      "Saída do LLM:\n",
      " **Relatório Financeiro Detalhado ACME Corp - Q1 2024**\n",
      "\n",
      "**Introdução**\n",
      "\n",
      "O presente relatório financeiro foi elaborado para a empresa ACME Corp, com o objetivo de analisar a situação financeira da empresa no período Q1 2024. O relatório abrange as análises do balanço patrimonial, fluxo de caixa, tendências, receita e lucro, e posição de mercado.\n",
      "\n",
      "**Análise do Balanço Patrimonial**\n",
      "\n",
      "O balanço patrimonial da ACME Corp no Q1 2024 é apresentado abaixo:\n",
      "\n",
      "| Ativo | Q1 2023 | Q1 2024 | Variação |\n",
      "| --- | --- | --- | --- |\n",
      "| Ativo Circulante | 100.000 | 120.000 | 20% |\n",
      "| Ativo Não Circulante | 300.000 | 350.000 | 16.7% |\n",
      "| Total Ativo | 400.000 | 470.000 | 17.5% |\n",
      "\n",
      "O balanço patrimonial da ACME Corp mostra uma expansão significativa dos ativos circulantes e não circulantes no Q1 2024, com uma variação de 20% e 16.7%, respectivamente. Isso pode ser atribuído à expansão da frota de veículos da empresa e ao investimento em novas tecnologias. No entanto, é importante notar que a dívida da empresa aumentou em 15% no mesmo período, o que pode ser um sinal de que a empresa está se endividando para financiar suas operações.\n",
      "\n",
      "**Análise do Fluxo de Caixa**\n",
      "\n",
      "O fluxo de caixa da ACME Corp no Q1 2024 é apresentado abaixo:\n",
      "\n",
      "| Caixa e Equivalentes | Q1 2023 | Q1 2024 | Variação |\n",
      "| --- | --- | --- | --- |\n",
      "| Caixa Inicial | 50.000 | 60.000 | 20% |\n",
      "| Caixa Final | 70.000 | 80.000 | 14.3% |\n",
      "| Fluxo de Caixa Operacional | 20.000 | 30.000 | 50% |\n",
      "| Fluxo de Caixa Investimentos | 10.000 | 15.000 | 50% |\n",
      "| Fluxo de Caixa Financeiro | 5.000 | 10.000 | 100% |\n",
      "| Fluxo de Caixa Total | 35.000 | 55.000 | 57.1% |\n",
      "\n",
      "O fluxo de caixa da ACME Corp mostra uma expansão significativa nos fluxos de caixa operacional, investimentos e financeiro no Q1 2024. Isso pode ser atribuído à melhoria da eficiência operacional da empresa e ao investimento em novas tecnologias. No entanto, é importante notar que a empresa ainda depende em grande medida de empréstimos para financiar suas operações.\n",
      "\n",
      "**Análise de Tendências**\n",
      "\n",
      "A análise de tendências da ACME Corp no Q1 2024 é apresentada abaixo:\n",
      "\n",
      "| Indicador | Q1 2023 | Q1 2024 | Variação |\n",
      "| --- | --- | --- | --- |\n",
      "| Vendas | 200.000 | 250.000 | 25% |\n",
      "| Lucro Operacional | 30.000 | 40.000 | 33.3% |\n",
      "| Margem de Lucro | 15% | 16% | 6.7% |\n",
      "\n",
      "A análise de tendências da ACME Corp mostra uma expansão significativa nas vendas e lucro operacional no Q1 2024, com uma variação de 25% e 33.3%, respectivamente. Isso pode ser atribuído à melhoria da eficiência operacional da empresa e ao investimento em novas tecnologias. No entanto, é importante notar que a margem de lucro da empresa aumentou apenas 6.7% no mesmo período.\n",
      "\n",
      "**Análise de Receita e Lucro**\n",
      "\n",
      "A análise de receita e lucro da ACME Corp no Q1 2024 é apresentada abaixo:\n",
      "\n",
      "| Receita | Q1 2023 | Q1 2024 | Variação |\n",
      "| --- | --- | --- | --- |\n",
      "| Receita Bruta | 250.000 | 300.000 | 20% |\n",
      "| Despesas Operacionais | 150.000 | 180.000 | 20% |\n",
      "| Lucro Operacional | 30.000 | 40.000 | 33.3% |\n",
      "| Impostos | 10.000 | 12.000 | 20% |\n",
      "| Lucro Líquido | 20.000 | 28.000 | 40% |\n",
      "\n",
      "A análise de receita e lucro da ACME Corp mostra uma expansão significativa nas vendas e lucro operacional no Q1 2024, com uma variação de 20% e 33.3%, respectivamente. Isso pode ser atribuído à melhoria da eficiência operacional da empresa e ao investimento em novas tecnologias. No entanto, é importante notar que a despesa operacional da empresa aumentou 20% no mesmo período.\n",
      "\n",
      "**Análise de Posição de Mercado**\n",
      "\n",
      "A análise de posição de mercado da ACME Corp no Q1 2024 é apresentada abaixo:\n",
      "\n",
      "| Indicador | Q1 2023 | Q1 2024 | Variação |\n",
      "| --- | --- | --- | --- |\n",
      "| Participação de Mercado | 20% | 25% | 25% |\n",
      "| Posição de Mercado | 1º | 1º | - |\n",
      "| Competitividade | Alta | Alta | - |\n",
      "\n",
      "A análise de posição de mercado da ACME Corp mostra uma expansão significativa da participação de mercado da empresa no Q1 2024, com uma variação de 25%. Isso pode ser atribuído à melhoria da eficiência operacional da empresa e ao investimento em novas tecnologias. No entanto, é importante notar que a competição no mercado continua alta.\n",
      "\n",
      "**Conclusão**\n",
      "\n",
      "Em resumo, o relatório financeiro da ACME Corp no Q1 2024 mostra uma expansão significativa das vendas, lucro operacional e margem de lucro da empresa. No entanto, é importante notar que a empresa ainda depende em grande medida de empréstimos para financiar suas operações e que a competição no mercado continua alta. Além disso, é importante monitorar a dívida da empresa e garantir que ela esteja sendo gerenciada de forma eficaz.\n",
      "\n",
      "**Recomendações**\n",
      "\n",
      "Com base no relatório financeiro, recomendo que a ACME Corp:\n",
      "\n",
      "* Continue a investir em novas tecnologias e processos para melhorar a eficiência operacional e aumentar a participação de mercado.\n",
      "* Garanta que a dívida da empresa seja gerenciada de forma eficaz e que não afete negativamente a saúde financeira da empresa.\n",
      "* Continue a monitorar a competição no mercado e ajustar suas estratégias de forma a manter a liderança no mercado.\n",
      "\n",
      "**Observações Finais**\n",
      "\n",
      "O relatório financeiro da ACME Corp no Q1 2024 é um reflexo da melhoria da eficiência operacional e do investimento em novas tecnologias da empresa. No entanto, é importante continuar a monitorar a situação financeira da empresa e ajustar as estratégias de forma a manter a liderança no mercado.\n"
     ]
    }
   ],
   "source": [
    "groq = ChatGroq(model_name='llama-3.1-8b-instant')\n",
    "response = groq.invoke(prompt)\n",
    "print(\"Saída do LLM:\\n\", response.content)"
   ]
  },
  {
   "cell_type": "markdown",
   "metadata": {},
   "source": [
    "# Chat"
   ]
  },
  {
   "cell_type": "code",
   "execution_count": 9,
   "metadata": {
    "id": "QGQUp499fKBZ"
   },
   "outputs": [],
   "source": [
    "#equivalência aos roles: system: system, Human: user, AI: assistant\n",
    "chat_template = ChatPromptTemplate.from_messages(\n",
    "    [\n",
    "        SystemMessage(content='Você deve estruturar suas respostas de acordo com o método de análise de negócios, garantindo clareza e concisão.'),\n",
    "        HumanMessagePromptTemplate.from_template('Por favor, gere um relatório detalhado sobre a indústria de tecnologia na região \"{regiao}\".'),\n",
    "        AIMessage(content='Claro, vou começar coletando informações sobre a região e analisando os dados disponíveis.'),\n",
    "        HumanMessage(content='Certifique-se de incluir uma análise SWOT e uma previsão de crescimento para os próximos 5 anos.'),\n",
    "        AIMessage(content='Entendido. Aqui está o relatório completo:')\n",
    "    ]\n",
    ")"
   ]
  },
  {
   "cell_type": "code",
   "execution_count": 10,
   "metadata": {
    "colab": {
     "base_uri": "https://localhost:8080/"
    },
    "id": "WDxgxLrofKEc",
    "outputId": "a3e79711-b163-4824-fed8-0f2c399a4b3f"
   },
   "outputs": [
    {
     "name": "stdout",
     "output_type": "stream",
     "text": [
      "[SystemMessage(content='Você deve estruturar suas respostas de acordo com o método de análise de negócios, garantindo clareza e concisão.', additional_kwargs={}, response_metadata={}), HumanMessage(content='Por favor, gere um relatório detalhado sobre a indústria de tecnologia na região \"América Latina\".', additional_kwargs={}, response_metadata={}), AIMessage(content='Claro, vou começar coletando informações sobre a região e analisando os dados disponíveis.', additional_kwargs={}, response_metadata={}), HumanMessage(content='Certifique-se de incluir uma análise SWOT e uma previsão de crescimento para os próximos 5 anos.', additional_kwargs={}, response_metadata={}), AIMessage(content='Entendido. Aqui está o relatório completo:', additional_kwargs={}, response_metadata={})]\n"
     ]
    }
   ],
   "source": [
    "prompt_gerado = chat_template.format_messages(regiao='América Latina')\n",
    "print(prompt_gerado)  "
   ]
  },
  {
   "cell_type": "code",
   "execution_count": 11,
   "metadata": {
    "colab": {
     "base_uri": "https://localhost:8080/"
    },
    "editable": true,
    "id": "daEu9my2fKHm",
    "outputId": "aeeb4f0b-a4bd-4596-c5b3-affc6b8e3426",
    "slideshow": {
     "slide_type": ""
    },
    "tags": []
   },
   "outputs": [
    {
     "name": "stdout",
     "output_type": "stream",
     "text": [
      "Saída do LLM:\n",
      "  \n",
      "\n",
      "**Relatório sobre a Indústria de Tecnologia na América Latina**\n",
      "\n",
      "**Introdução**\n",
      "\n",
      "A América Latina é uma região diversificada e em constante evolução, com uma população de mais de 650 milhões de pessoas e uma economia em crescimento. A indústria de tecnologia tem sido um setor em destaque na região, com uma crescente demanda por soluções digitais e uma abundância de talentos tecnológicos.\n",
      "\n",
      "**Mercado**\n",
      "\n",
      "O mercado de tecnologia na América Latina é estimado em cerca de US$ 300 bilhões, com uma taxa de crescimento anual de 10% ao ano. O setor é dominado por países como Brasil, México, Argentina e Colômbia, que concentram mais de 70% da demanda de tecnologia na região.\n",
      "\n",
      "**Setores em Destaque**\n",
      "\n",
      "1. **Tecnologia da Informação (TI)**: O setor de TI é o mais importante na América Latina, com uma demanda por soluções de software, hardware e serviços de TI.\n",
      "2. **Telecomunicações**: A indústria de telecomunicações é outra área em destaque, com uma demanda por serviços de internet, televisão e telefone móvel.\n",
      "3. **E-commerce**: O setor de e-commerce está em crescimento, com uma demanda por soluções de comércio eletrônico e pagamento online.\n",
      "\n",
      "**Análise SWOT**\n",
      "\n",
      "**Forças (Strengths)**\n",
      "\n",
      "1. **Talento humano**: A América Latina tem uma abundância de talentos tecnológicos, com uma grande quantidade de desenvolvedores de software e especialistas em TI.\n",
      "2. **Crescimento econômico**: A região está experimentando um crescimento econômico, o que tem levado a uma maior demanda por soluções tecnológicas.\n",
      "3. **Infraestrutura**: A América Latina tem uma infraestrutura de tecnologia em constante melhoria, com uma expansão de redes de fibra óptica e acesso a internet.\n",
      "\n",
      "**Fraquezas (Weaknesses)**\n",
      "\n",
      "1. **Insegurança jurídica**: A região enfrenta problemas de insegurança jurídica, o que pode afetar a investimento em tecnologia.\n",
      "2. **Corrupção**: A corrupção é um problema comum na América Latina, o que pode levar a problemas de confiança entre investidores e consumidores.\n",
      "3. **Desigualdade social**: A desigualdade social é um desafio na região, o que pode afetar a acessibilidade a soluções tecnológicas.\n",
      "\n",
      "**Oportunidades (Opportunities)**\n",
      "\n",
      "1. **Crescimento do mercado**: O mercado de tecnologia na América Latina está crescendo rapidamente, o que oferece oportunidades para investidores e empresas.\n",
      "2. **Uso de tecnologia**: A região está experimentando um aumento no uso de tecnologia, o que pode levar a novas oportunidades de negócios.\n",
      "3. **Parcerias internacionais**: A América Latina tem oportunidades para estabelecer parcerias internacionais, o que pode levar a uma maior competitividade e crescimento econômico.\n",
      "\n",
      "**Ameaças (Threats)**\n",
      "\n",
      "1. **Concorrência internacional**: A concorrência internacional é uma ameaça para empresas de tecnologia na América Latina, o que pode levar a perda de mercado e lucro.\n",
      "2. **Crise econômica**: A crise econômica pode afetar a demanda por soluções tecnológicas e levar a uma redução de investimentos.\n",
      "3. **Desenvolvimento de tecnologia**: A rapidez do desenvolvimento de tecnologia é uma ameaça para empresas de tecnologia na América Latina, o que pode levar a obsolescência rápida de produtos e serviços.\n",
      "\n",
      "**Previsão de Crescimento**\n",
      "\n",
      "A previsão de crescimento para os próximos 5 anos é de 15% ao ano, com uma demanda por soluções tecnológicas que deve chegar a US$ 600 bilhões. O setor de tecnologia da informação (TI) deve crescer 18% ao ano, enquanto o setor de telecomunicações deve crescer 12% ao ano.\n",
      "\n",
      "**Conclusão**\n",
      "\n",
      "A indústria de tecnologia na América Latina é uma área em constante crescimento, com uma demanda por soluções digitais e uma abundância de talentos tecnológicos. No entanto, a região enfrenta desafios como insegurança jurídica, corrupção e desigualdade social. Com uma análise SWOT e uma previsão de crescimento, é possível identificar oportunidades e ameaças para investidores e empresas.\n"
     ]
    }
   ],
   "source": [
    "groq = ChatGroq(model_name='llama-3.1-8b-instant')\n",
    "response = groq.invoke(prompt_gerado)\n",
    "print(\"Saída do LLM:\\n\", response.content)"
   ]
  },
  {
   "cell_type": "code",
   "execution_count": null,
   "metadata": {},
   "outputs": [],
   "source": []
  }
 ],
 "metadata": {
  "colab": {
   "provenance": []
  },
  "kernelspec": {
   "display_name": "langchain",
   "language": "python",
   "name": "python3"
  },
  "language_info": {
   "codemirror_mode": {
    "name": "ipython",
    "version": 3
   },
   "file_extension": ".py",
   "mimetype": "text/x-python",
   "name": "python",
   "nbconvert_exporter": "python",
   "pygments_lexer": "ipython3",
   "version": "3.13.5"
  }
 },
 "nbformat": 4,
 "nbformat_minor": 4
}
