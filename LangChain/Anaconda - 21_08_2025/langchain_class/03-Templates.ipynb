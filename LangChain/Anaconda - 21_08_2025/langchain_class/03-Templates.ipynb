{
  "cells": [
    {
      "cell_type": "markdown",
      "metadata": {
        "editable": true,
        "slideshow": {
          "slide_type": ""
        },
        "tags": []
      },
      "source": [
        "# Setup"
      ]
    },
    {
      "cell_type": "code",
      "execution_count": 1,
      "metadata": {
        "editable": true,
        "id": "ASzXPwDRUBxA",
        "slideshow": {
          "slide_type": ""
        },
        "tags": []
      },
      "outputs": [],
      "source": [
        "from langchain_groq import ChatGroq\n",
        "from langchain.prompts import PromptTemplate,ChatPromptTemplate, HumanMessagePromptTemplate\n",
        "from langchain_core.messages import SystemMessage, HumanMessage, AIMessage\n",
        "import os\n",
        "import yaml"
      ]
    },
    {
      "cell_type": "code",
      "execution_count": 2,
      "metadata": {},
      "outputs": [
        {
          "data": {
            "text/plain": [
              "True"
            ]
          },
          "execution_count": 2,
          "metadata": {},
          "output_type": "execute_result"
        }
      ],
      "source": [
        "from dotenv import find_dotenv, load_dotenv\n",
        "\n",
        "load_dotenv(find_dotenv())"
      ]
    },
    {
      "cell_type": "markdown",
      "metadata": {},
      "source": [
        "# Completion"
      ]
    },
    {
      "cell_type": "code",
      "execution_count": 12,
      "metadata": {
        "id": "eCBl659lZl7j"
      },
      "outputs": [],
      "source": [
        "template = '''\n",
        "Você é um analista financeiro.\n",
        "Escreva um relatório financeiro detalhado para a empresa \"{empresa}\" para o período {periodo}.\n",
        "\n",
        "O relatório deve ser escrito em {idioma} e incluir as seguintes análises:\n",
        "{analises}\n",
        "\n",
        "Certifique-se de fornecer insights e conclusões para cada seção.\n",
        "'''"
      ]
    },
    {
      "cell_type": "code",
      "execution_count": 13,
      "metadata": {
        "id": "zCezS4xvZl_C"
      },
      "outputs": [],
      "source": [
        "prompt_template = PromptTemplate.from_template(template=template)"
      ]
    },
    {
      "cell_type": "code",
      "execution_count": 14,
      "metadata": {
        "id": "z_YBQfANZmCi"
      },
      "outputs": [],
      "source": [
        "empresa = 'ACME Corp'\n",
        "periodo = 'Q1 2024'\n",
        "idioma = 'Português'\n",
        "analises = [\n",
        "    \"Análise do Balanço Patrimonial\",\n",
        "    \"Análise do Fluxo de Caixa\",\n",
        "    \"Análise de Tendências\",\n",
        "    \"Análise de Receita e Lucro\",\n",
        "    \"Análise de Posição de Mercado\"\n",
        "]\n",
        "analises_text = \"\\n\".join([f\"- {analise}\" for analise in analises])"
      ]
    },
    {
      "cell_type": "code",
      "execution_count": 15,
      "metadata": {},
      "outputs": [
        {
          "name": "stdout",
          "output_type": "stream",
          "text": [
            "- Análise do Balanço Patrimonial\n",
            "- Análise do Fluxo de Caixa\n",
            "- Análise de Tendências\n",
            "- Análise de Receita e Lucro\n",
            "- Análise de Posição de Mercado\n"
          ]
        }
      ],
      "source": [
        "print(analises_text)"
      ]
    },
    {
      "cell_type": "code",
      "execution_count": 16,
      "metadata": {
        "colab": {
          "base_uri": "https://localhost:8080/"
        },
        "id": "3C9tfTCDZuXr",
        "outputId": "f57170e1-95ff-4fb4-b080-c9dd7ae2b610"
      },
      "outputs": [
        {
          "name": "stdout",
          "output_type": "stream",
          "text": [
            "Prompt Gerado:\n",
            " \n",
            "Você é um analista financeiro.\n",
            "Escreva um relatório financeiro detalhado para a empresa \"ACME Corp\" para o período Q1 2024.\n",
            "\n",
            "O relatório deve ser escrito em Português e incluir as seguintes análises:\n",
            "- Análise do Balanço Patrimonial\n",
            "- Análise do Fluxo de Caixa\n",
            "- Análise de Tendências\n",
            "- Análise de Receita e Lucro\n",
            "- Análise de Posição de Mercado\n",
            "\n",
            "Certifique-se de fornecer insights e conclusões para cada seção.\n",
            "\n"
          ]
        }
      ],
      "source": [
        "prompt = prompt_template.format(\n",
        "    empresa=empresa,\n",
        "    periodo=periodo,\n",
        "    idioma=idioma,\n",
        "    analises=analises_text\n",
        ")\n",
        "print(\"Prompt Gerado:\\n\", prompt)"
      ]
    },
    {
      "cell_type": "code",
      "execution_count": 17,
      "metadata": {},
      "outputs": [
        {
          "name": "stdout",
          "output_type": "stream",
          "text": [
            "Saída do LLM:\n",
            " **Relatório Financeiro da ACME Corp - Q1 2024**\n",
            "\n",
            "**Análise do Balanço Patrimonial**\n",
            "\n",
            "O balanço patrimonial da ACME Corp para o período Q1 2024 apresenta um quadro financeiro saudável. As principais características são:\n",
            "\n",
            "* Ativos: A empresa apresenta ativos totais de US$ 10,5 milhões, composta por US$ 3,5 milhões em ativos circulantes (caixa e equivalentes) e US$ 7 milhões em ativos não circulantes (investimentos e propriedade intelectual).\n",
            "* Patrimônio Líquido: O patrimônio líquido da empresa é de US$ 5,2 milhões, o que representa um aumento de 15% em relação ao período Q1 2023.\n",
            "* Dívida: A empresa tem uma dívida total de US$ 2,3 milhões, composta por US$ 1,5 milhão em dívida por prazo curto (mais de 90 dias) e US$ 0,8 milhão em dívida por prazo longo.\n",
            "\n",
            "**Conclusão:** O balanço patrimonial da ACME Corp apresenta uma estrutura financeira robusta, com um patrimônio líquido crescente e uma dívida controlada.\n",
            "\n",
            "**Análise do Fluxo de Caixa**\n",
            "\n",
            "O fluxo de caixa da ACME Corp para o período Q1 2024 é o seguinte:\n",
            "\n",
            "* Fluxo de Caixa Operacional: US$ 2,2 milhões, resultado de uma melhoria de 12% em relação ao período Q1 2023.\n",
            "* Investimentos: US$ 1,5 milhão, destinados à expansão da capacidade de produção e à aquisição de novas tecnologias.\n",
            "* Financiamento: US$ 0,5 milhão, resultado de uma emissão de títulos para refinanciar dívida e financiar investimentos.\n",
            "* Caixa e Equivalentes: US$ 1,2 milhão, resultado de um aumento de 10% em relação ao período Q1 2023.\n",
            "\n",
            "**Conclusão:** O fluxo de caixa da ACME Corp apresenta uma melhoria em relação ao período anterior, resultado de uma melhor gestão de fluxos e investimentos.\n",
            "\n",
            "**Análise de Tendências**\n",
            "\n",
            "A análise de tendências para o período Q1 2024 apresenta uma evolução positiva para a ACME Corp:\n",
            "\n",
            "* Receita: A receita líquida da empresa apresentou um crescimento de 8% em relação ao período Q1 2023, resultado de uma expansão de mercado e de uma melhor gestão de preços.\n",
            "* Custos: Os custos da empresa apresentaram um crescimento de 5% em relação ao período Q1 2023, resultado de uma melhoria de eficiência operacional e de uma redução de custos.\n",
            "* Margem de Lucro: A margem de lucro da empresa apresentou um crescimento de 10% em relação ao período Q1 2023, resultado de uma melhor gestão de receita e de custos.\n",
            "\n",
            "**Conclusão:** A análise de tendências para o período Q1 2024 apresenta uma evolução positiva para a ACME Corp, resultado de uma melhor gestão de receita e custos e de uma expansão de mercado.\n",
            "\n",
            "**Análise de Receita e Lucro**\n",
            "\n",
            "A análise de receita e lucro da ACME Corp para o período Q1 2024 é a seguinte:\n",
            "\n",
            "* Receita Líquida: US$ 5,8 milhões, resultado de um crescimento de 8% em relação ao período Q1 2023.\n",
            "* Lucro Líquido: US$ 1,2 milhão, resultado de um crescimento de 15% em relação ao período Q1 2023.\n",
            "* Margem de Lucro: 20,7%, resultado de uma melhor gestão de receita e custos.\n",
            "\n",
            "**Conclusão:** A análise de receita e lucro da ACME Corp apresenta um crescimento positivo, resultado de uma melhor gestão de receita e custos e de uma expansão de mercado.\n",
            "\n",
            "**Análise de Posição de Mercado**\n",
            "\n",
            "A análise de posição de mercado da ACME Corp para o período Q1 2024 é a seguinte:\n",
            "\n",
            "* Posição de Mercado: A empresa mantém sua posição de líder no mercado, com uma participação de 35% no segmento de produtos.\n",
            "* Competição: A competição no mercado é intensa, com várias empresas oferecendo produtos similares.\n",
            "* Estratégia: A ACME Corp está focada em expansão de mercado e na melhoria de sua oferta de produtos e serviços.\n",
            "\n",
            "**Conclusão:** A análise de posição de mercado da ACME Corp apresenta uma situação competitiva, com a empresa mantendo sua posição de líder no mercado e focada em expansão e melhoria de sua oferta.\n",
            "\n",
            "**Resumo**\n",
            "\n",
            "O relatório financeiro da ACME Corp para o período Q1 2024 apresenta uma evolução positiva, com um crescimento de receita e lucro, uma melhoria de fluxo de caixa e uma estrutura financeira robusta. A empresa está bem posicionada no mercado e está focada em expansão e melhoria de sua oferta.\n"
          ]
        }
      ],
      "source": [
        "groq = ChatGroq(model_name='llama-3.3-70b-versatile')\n",
        "response = groq.invoke(prompt)\n",
        "print(\"Saída do LLM:\\n\", response.content)"
      ]
    },
    {
      "cell_type": "markdown",
      "metadata": {},
      "source": [
        "# Chat"
      ]
    },
    {
      "cell_type": "code",
      "execution_count": 8,
      "metadata": {
        "id": "QGQUp499fKBZ"
      },
      "outputs": [],
      "source": [
        "#equivalência aos roles: system: system, Human: user, AI: assistant\n",
        "chat_template = ChatPromptTemplate.from_messages(\n",
        "    [\n",
        "        SystemMessage(content='Você deve estruturar suas respostas de acordo com o método de análise de negócios, garantindo clareza e concisão.'),\n",
        "        HumanMessagePromptTemplate.from_template('Por favor, gere um relatório detalhado sobre a indústria de tecnologia na região \"{regiao}\".'),\n",
        "        AIMessage(content='Claro, vou começar coletando informações sobre a região e analisando os dados disponíveis.'),\n",
        "        HumanMessage(content='Certifique-se de incluir uma análise SWOT e uma previsão de crescimento para os próximos 5 anos.'),\n",
        "        AIMessage(content='Entendido. Aqui está o relatório completo:')\n",
        "    ]\n",
        ")"
      ]
    },
    {
      "cell_type": "code",
      "execution_count": 9,
      "metadata": {
        "colab": {
          "base_uri": "https://localhost:8080/"
        },
        "id": "WDxgxLrofKEc",
        "outputId": "a3e79711-b163-4824-fed8-0f2c399a4b3f"
      },
      "outputs": [
        {
          "name": "stdout",
          "output_type": "stream",
          "text": [
            "[SystemMessage(content='Você deve estruturar suas respostas de acordo com o método de análise de negócios, garantindo clareza e concisão.', additional_kwargs={}, response_metadata={}), HumanMessage(content='Por favor, gere um relatório detalhado sobre a indústria de tecnologia na região \"América Latina\".', additional_kwargs={}, response_metadata={}), AIMessage(content='Claro, vou começar coletando informações sobre a região e analisando os dados disponíveis.', additional_kwargs={}, response_metadata={}), HumanMessage(content='Certifique-se de incluir uma análise SWOT e uma previsão de crescimento para os próximos 5 anos.', additional_kwargs={}, response_metadata={}), AIMessage(content='Entendido. Aqui está o relatório completo:', additional_kwargs={}, response_metadata={})]\n"
          ]
        }
      ],
      "source": [
        "prompt_gerado = chat_template.format_messages(regiao='América Latina')\n",
        "print(prompt_gerado)  "
      ]
    },
    {
      "cell_type": "code",
      "execution_count": 11,
      "metadata": {
        "colab": {
          "base_uri": "https://localhost:8080/"
        },
        "editable": true,
        "id": "daEu9my2fKHm",
        "outputId": "aeeb4f0b-a4bd-4596-c5b3-affc6b8e3426",
        "slideshow": {
          "slide_type": ""
        },
        "tags": []
      },
      "outputs": [
        {
          "name": "stdout",
          "output_type": "stream",
          "text": [
            "Saída do LLM:\n",
            "  \n",
            "\n",
            "**Relatório sobre a Indústria de Tecnologia na América Latina**\n",
            "\n",
            "**Introdução**\n",
            "\n",
            "A América Latina é uma região em constante evolução, com um crescimento econômico sustentável e uma população jovem e em constante expansão. A indústria de tecnologia na região tem sido um dos setores mais dinâmicos e promissores, com uma crescente demanda por serviços e produtos digitais. Neste relatório, vamos analisar a indústria de tecnologia na América Latina, incluindo seus principais atores, tendências, oportunidades e desafios.\n",
            "\n",
            "**Análise SWOT**\n",
            "\n",
            "**Forças (Strengths)**\n",
            "\n",
            "* Crescimento econômico sustentável: A região apresenta um crescimento econômico sustentável, o que gera uma demanda constante por serviços e produtos digitais.\n",
            "* Jovem população: A América Latina é uma região jovem, com uma população em constante expansão, o que cria uma grande base de consumidores para os produtos e serviços digitais.\n",
            "* Inovação: A região apresenta uma cultura inovadora, com muitas Startups e empresas de tecnologia emergentes.\n",
            "\n",
            "**Fraquezas (Weaknesses)**\n",
            "\n",
            "* Infraestrutura limitada: A infraestrutura de transporte e comunicação na região pode ser limitada em alguns países, o que pode afetar a entrega efetiva dos produtos e serviços digitais.\n",
            "* Competição internacional: A América Latina é uma região concorrencial em termos de tecnologia, com muitas empresas estrangeiras presentes no mercado.\n",
            "* Limitações de recursos: Algum países da região podem ter limitações de recursos financeiros e humanos para investir em tecnologia.\n",
            "\n",
            "**Oportunidades (Opportunities)**\n",
            "\n",
            "* Crescimento da demanda por serviços digitais: A demanda por serviços digitais, como e-commerce, fintech e saúde digital, está em crescimento na região.\n",
            "* Investimentos em infraestrutura: A construção de infraestrutura de transporte e comunicação pode melhorar a entrega efetiva dos produtos e serviços digitais na região.\n",
            "* Colaboração internacional: A colaboração internacional entre empresas de tecnologia da região e do mundo pode gerar novas oportunidades de negócios e inovação.\n",
            "\n",
            "**Amostras (Threats)**\n",
            "\n",
            "* Competição internacional: A competição internacional pode ser uma ameaça para as empresas de tecnologia da região, especialmente para as Startups e empresas emergentes.\n",
            "* Mudanças políticas: Mudanças políticas em alguns países da região podem afetar a estabilidade econômica e a confiança dos investidores.\n",
            "* Proteção de dados: A proteção de dados é um tema importante na região, e qualquer violação dessas proteções pode prejudicar a reputação das empresas de tecnologia.\n",
            "\n",
            "**Tendências**\n",
            "\n",
            "* Crescimento da demanda por serviços digitais, como e-commerce e fintech.\n",
            "* Investimentos em infraestrutura de transporte e comunicação.\n",
            "* Colaboração internacional entre empresas de tecnologia da região e do mundo.\n",
            "* Aumento da adoção de tecnologias emergentes, como inteligência artificial e blockchain.\n",
            "\n",
            "**Previsão de crescimento**\n",
            "\n",
            "Com base na análise SWOT e nas tendências, prevemos que a indústria de tecnologia na América Latina crescerá em uma taxa anual composta de 10% ao longo dos próximos 5 anos. Isso será impulsionado pelo crescimento da demanda por serviços digitais, investimentos em infraestrutura e colaboração internacional.\n",
            "\n",
            "**Conclusão**\n",
            "\n",
            "A indústria de tecnologia na América Latina é um setor em constante evolução, com muitas oportunidades de negócios e inovação. Embora existam desafios, como a competição internacional e a limitação de recursos, a região apresenta uma cultura inovadora e uma população jovem e em constante expansão. Com uma análise SWOT e uma previsão de crescimento, podemos identificar oportunidades e desafios e estabelecer estratégias para aproveitar essas oportunidades e superar esses desafios.\n",
            "\n",
            "**Referências**\n",
            "\n",
            "* Euromonitor International. (2020). Technology and Telecommunications in Latin America.\n",
            "* World Bank. (2020). Latin America and the Caribbean: Regional Overview.\n",
            "* Deloitte. (2020). Technology, Media and Telecommunications Predictions 2020.\n"
          ]
        }
      ],
      "source": [
        "groq = ChatGroq(model_name='llama-3.3-70b-versatile')\n",
        "response = groq.invoke(prompt_gerado)\n",
        "print(\"Saída do LLM:\\n\", response.content)"
      ]
    },
    {
      "cell_type": "code",
      "execution_count": null,
      "metadata": {},
      "outputs": [],
      "source": []
    }
  ],
  "metadata": {
    "colab": {
      "provenance": []
    },
    "kernelspec": {
      "display_name": "langchain",
      "language": "python",
      "name": "python3"
    },
    "language_info": {
      "codemirror_mode": {
        "name": "ipython",
        "version": 3
      },
      "file_extension": ".py",
      "mimetype": "text/x-python",
      "name": "python",
      "nbconvert_exporter": "python",
      "pygments_lexer": "ipython3",
      "version": "3.13.5"
    }
  },
  "nbformat": 4,
  "nbformat_minor": 4
}
