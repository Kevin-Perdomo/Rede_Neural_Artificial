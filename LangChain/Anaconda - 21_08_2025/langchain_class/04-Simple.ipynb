{
 "cells": [
  {
   "cell_type": "markdown",
   "metadata": {
    "editable": true,
    "slideshow": {
     "slide_type": ""
    },
    "tags": []
   },
   "source": [
    "# Setup"
   ]
  },
  {
   "cell_type": "code",
   "execution_count": 1,
   "metadata": {
    "editable": true,
    "id": "vOISp5PYq4qi",
    "slideshow": {
     "slide_type": ""
    },
    "tags": []
   },
   "outputs": [],
   "source": [
    "from langchain_groq import ChatGroq\n",
    "from langchain.prompts import PromptTemplate\n"
   ]
  },
  {
   "cell_type": "code",
   "execution_count": 2,
   "metadata": {},
   "outputs": [
    {
     "data": {
      "text/plain": [
       "True"
      ]
     },
     "execution_count": 2,
     "metadata": {},
     "output_type": "execute_result"
    }
   ],
   "source": [
    "from dotenv import find_dotenv, load_dotenv\n",
    "\n",
    "load_dotenv(find_dotenv())"
   ]
  },
  {
   "cell_type": "code",
   "execution_count": 3,
   "metadata": {},
   "outputs": [],
   "source": [
    "groq = ChatGroq(model_name='llama-3.1-8b-instant',temperature=0)"
   ]
  },
  {
   "cell_type": "markdown",
   "metadata": {},
   "source": [
    "# Simple"
   ]
  },
  {
   "cell_type": "code",
   "execution_count": 4,
   "metadata": {
    "colab": {
     "base_uri": "https://localhost:8080/"
    },
    "id": "959301hQh_yi",
    "outputId": "5401a17d-f579-4ae0-b9c4-0994b05cfe7a"
   },
   "outputs": [],
   "source": [
    "prompt_template = PromptTemplate.from_template(\"Descreva as tendências tecnológicas em {ano}.\")\n",
    "runnable_sequence = prompt_template | groq\n",
    "output = runnable_sequence.invoke({\"ano\": \"2024\"})"
   ]
  },
  {
   "cell_type": "code",
   "execution_count": 5,
   "metadata": {},
   "outputs": [
    {
     "name": "stdout",
     "output_type": "stream",
     "text": [
      "Output:\n",
      " content='Embora seja difícil prever com certeza as tendências tecnológicas de 2024, aqui estão algumas das principais tendências que podem surgir:\\n\\n1. **Inteligência Artificial (IA) Avançada**: A IA continuará a evoluir e se tornará mais integrada em nossas vidas, com aplicativos como inteligência artificial de nível humano, aprendizado de máquina e visão computacional.\\n2. **Realidade Aumentada (RA) e Realidade Virtual (RV)**: A RA e RV continuarão a melhorar e se tornar mais acessíveis, com aplicações em áreas como educação, entretenimento e saúde.\\n3. **5G e Redes de Comunicação**: A expansão da rede 5G continuará a melhorar a velocidade e a capacidade de comunicação, permitindo a transmissão de dados em alta velocidade e baixa latência.\\n4. **Segurança Cibernética**: A segurança cibernética será uma prioridade, com a implementação de tecnologias como blockchain, criptografia e inteligência artificial para proteger contra ameaças cibernéticas.\\n5. **Energia Renovável e Sustentável**: A tecnologia continuará a evoluir para reduzir a dependência de fontes de energia não renováveis, com foco em energias renováveis como a solar, eólica e hidrelétrica.\\n6. **Internet das Coisas (IoT)**: A IoT continuará a crescer, com a integração de dispositivos inteligentes em nossas vidas, permitindo a coleta e análise de dados em tempo real.\\n7. **Automação e Robótica**: A automação e robótica continuarão a melhorar, com a implementação de robôs e máquinas que podem realizar tarefas complexas e precisas.\\n8. **Saúde Digital**: A saúde digital continuará a evoluir, com a implementação de tecnologias como telemedicina, inteligência artificial em saúde e análise de dados para melhorar a qualidade de vida.\\n9. **Educação Online**: A educação online continuará a crescer, com a implementação de tecnologias como aprendizado de máquina, realidade virtual e realidade aumentada para melhorar a experiência de aprendizado.\\n10. **Blockchain e Criptomoedas**: A blockchain e criptomoedas continuarão a evoluir, com a implementação de tecnologias como blockchain em saúde, educação e finanças.\\n\\nEssas são apenas algumas das tendências tecnológicas que podem surgir em 2024. É importante notar que a tecnologia está em constante evolução e que novas tendências podem surgir a qualquer momento.' additional_kwargs={} response_metadata={'token_usage': {'completion_tokens': 602, 'prompt_tokens': 49, 'total_tokens': 651, 'completion_time': 0.831519494, 'prompt_time': 0.007778629, 'queue_time': 0.269549058, 'total_time': 0.839298123}, 'model_name': 'llama-3.1-8b-instant', 'system_fingerprint': 'fp_510c177af0', 'service_tier': 'on_demand', 'finish_reason': 'stop', 'logprobs': None} id='run--a6506680-f85e-4af6-8d0a-b0c1b2af42ba-0' usage_metadata={'input_tokens': 49, 'output_tokens': 602, 'total_tokens': 651}\n"
     ]
    }
   ],
   "source": [
    "print(\"Output:\\n\", output)"
   ]
  },
  {
   "cell_type": "code",
   "execution_count": null,
   "metadata": {},
   "outputs": [],
   "source": []
  }
 ],
 "metadata": {
  "colab": {
   "provenance": []
  },
  "kernelspec": {
   "display_name": "langchain",
   "language": "python",
   "name": "python3"
  },
  "language_info": {
   "codemirror_mode": {
    "name": "ipython",
    "version": 3
   },
   "file_extension": ".py",
   "mimetype": "text/x-python",
   "name": "python",
   "nbconvert_exporter": "python",
   "pygments_lexer": "ipython3",
   "version": "3.13.5"
  }
 },
 "nbformat": 4,
 "nbformat_minor": 4
}
