{
 "cells": [
  {
   "cell_type": "markdown",
   "metadata": {},
   "source": [
    "# Setpup"
   ]
  },
  {
   "cell_type": "code",
   "execution_count": 1,
   "metadata": {
    "editable": true,
    "id": "2ytPLsuJfx1d",
    "slideshow": {
     "slide_type": ""
    },
    "tags": []
   },
   "outputs": [],
   "source": [
    "from langchain_groq import ChatGroq"
   ]
  },
  {
   "cell_type": "code",
   "execution_count": 2,
   "metadata": {},
   "outputs": [
    {
     "data": {
      "text/plain": [
       "True"
      ]
     },
     "execution_count": 2,
     "metadata": {},
     "output_type": "execute_result"
    }
   ],
   "source": [
    "from dotenv import find_dotenv, load_dotenv\n",
    "\n",
    "load_dotenv(find_dotenv())"
   ]
  },
  {
   "cell_type": "markdown",
   "metadata": {
    "id": "YmLVQ3dgzKdm"
   },
   "source": [
    "# Chat"
   ]
  },
  {
   "cell_type": "code",
   "execution_count": 3,
   "metadata": {
    "colab": {
     "base_uri": "https://localhost:8080/"
    },
    "id": "kFb-LFPTdqp5",
    "outputId": "b1d82bde-6b08-48ed-a664-0cf1774f7356"
   },
   "outputs": [
    {
     "name": "stdout",
     "output_type": "stream",
     "text": [
      "content='Carl Sagan foi um astrônomo, astrobiólogo e comunicador científico americano nascido em 9 de novembro de 1934 e falecido em 20 de novembro de 1996. Ele é mais conhecido por sua abordagem inspiradora e acessível da física e da astronomia.\\n\\nSagan foi um prolífico escritor e autor de várias obras, incluindo o livro \"Cosmos\" (com o qual ganhou um prmio Pulitzer em 1981). Ele também foi o apresentador da série de televisão de mesmo nome, \"Cosmos: Uma Viagem Pessoal\", que foi transmitida em 1980 e ganhou um grande número de elogios.\\n\\nSeus principais contribuições científicas incluem:\\n\\n1. **Astronomia**: Sagan estudou as atmosferas de outros planetas do sistema solar, como Vênus e Mars, e suas condições para a vida.\\n2. **Biologia extraterrestre**: Ele argumentou que, embora seja improvável que a vida exista em outros planetas, não há nenhuma razão para acreditar que a vida seja única da Terra.\\n3. **Exobiologia**: Sagan foi um dos principais defensores da busca por vida extraterrestre, argumentando que a existência de vida em outro lugar no universo é altamente provável.\\n4. **Comunicação científica**: Ele acreditava que a ciência deve ser acessível e interessante para o público em geral, e trabalhou incansavelmente para promover a educação científica e a conscientização sobre as questões científicas que afetam a sociedade.\\n\\nO legado de Carl Sagan continua a inspirar a próxima geração de cientistas, comunicadores científicos e cidadãos do mundo. Seu trabalho continua a ser uma referência valiosa para qualquer um que esteja interessado em astronomia, astrobiologia e a exploração cósmica.' additional_kwargs={} response_metadata={'token_usage': {'completion_tokens': 437, 'prompt_tokens': 42, 'total_tokens': 479, 'completion_time': 0.708161259, 'prompt_time': 0.006221529, 'queue_time': 0.941988053, 'total_time': 0.714382788}, 'model_name': 'llama-3.1-8b-instant', 'system_fingerprint': 'fp_510c177af0', 'service_tier': 'on_demand', 'finish_reason': 'stop', 'logprobs': None} id='run--b8501dd8-671d-4a43-8b3a-aeb0ca5e18a0-0' usage_metadata={'input_tokens': 42, 'output_tokens': 437, 'total_tokens': 479}\n"
     ]
    }
   ],
   "source": [
    "groq = ChatGroq(model_name='llama-3.1-8b-instant')\n",
    "frequency_penalty=1\n",
    "presence_penalty = 1\n",
    "temperature =  1\n",
    "max_tokens=500\n",
    "n = 1\n",
    "seed = 123\n",
    "response = groq.invoke(input='Quem foi Carl Sagan?', temperature=temperature,\n",
    "                    frequency_penalty=frequency_penalty,presence_penalty=presence_penalty,\n",
    "                    max_tokens=max_tokens,n=n, seed=seed)\n",
    "print(response)"
   ]
  },
  {
   "cell_type": "code",
   "execution_count": 8,
   "metadata": {
    "colab": {
     "base_uri": "https://localhost:8080/"
    },
    "id": "AE1XHZmWxS4X",
    "outputId": "daf2f1de-2449-4794-84d1-c74fbc31f0bf"
   },
   "outputs": [
    {
     "name": "stdout",
     "output_type": "stream",
     "text": [
      "content='Carl Sagan foi um astrofísico, astrônomo, cosmologista e pesquisador estadunidense. Ele é mais conhecido por sua capacidade de comunicar complexos conceitos científicos de forma clara e acessível ao público em geral.\\n\\nSagan nasceu em 1934 em Brooklyn, Nova York, e morreu em 1996 em Seattle, Washington. Ele foi um professor da Universidade Cornell e foi um dos principais cientistas da NASA durante a década de 1960 e 1970.\\n\\nSagan é mais conhecido por sua participação no programa de televisão \"Cosmos: Uma Jornada pelo Tempo e o Espaço\", que foi transmitido pela CBS em 1980. O programa foi um sucesso global e ajudou a popularizar a astronomia e a astrofísica entre o público em geral.\\n\\nSagan também foi um defensor da busca por vida extraterrestre e foi um dos principais cientistas envolvidos na busca por vida em Marte. Ele também foi um crítico da política nuclear e ambiental e foi um dos líderes do movimento contra a construção de uma base militar em Alaska.\\n\\nAlém disso, Sagan foi um escritor prolífico e publicou vários livros sobre ciência, incluindo \"Intelligent Life in the Universe\" e \"The Demon-Haunted World\". Ele também foi um defensor da educação científica e do ensino de ciências nas escolas.\\n\\nSagan foi homenageado com vários prêmios e condecorações, incluindo o Prêmio Pulitzer, o Prêmio Nacional de Ciência e a Medalha de Ouro da Royal Astronomical Society. Ele é considerado um dos cientistas mais influentes e mais popular da história.' additional_kwargs={} response_metadata={'token_usage': {'completion_tokens': 384, 'prompt_tokens': 39, 'total_tokens': 423, 'completion_time': 0.482165823, 'prompt_time': 0.005705737, 'queue_time': 0.145256437, 'total_time': 0.48787156}, 'model_name': 'llama3-8b-8192', 'system_fingerprint': 'fp_343314801a', 'service_tier': 'on_demand', 'finish_reason': 'stop', 'logprobs': None} id='run--b2cf917e-56ad-4c34-bd9d-1170f71540cf-0' usage_metadata={'input_tokens': 39, 'output_tokens': 384, 'total_tokens': 423}\n"
     ]
    }
   ],
   "source": [
    "groq = ChatGroq(model_name='llama3-8b-8192')\n",
    "messages = [\n",
    "    {\"role\": \"system\", \"content\": \"Você é um assistente que fornece informações sobre figuras históricas.\"},\n",
    "    {\"role\": \"user\", \"content\": \"Quem foi Carl Sagan?\"}\n",
    "]\n",
    "response = groq.invoke(messages)\n",
    "print(response)"
   ]
  },
  {
   "cell_type": "code",
   "execution_count": 9,
   "metadata": {
    "colab": {
     "base_uri": "https://localhost:8080/"
    },
    "id": "MTBMLJXlyOZ_",
    "outputId": "313c0e4c-99ff-4a54-c91c-b98823c9e7e6"
   },
   "outputs": [
    {
     "name": "stdout",
     "output_type": "stream",
     "text": [
      "Carl Sagan foi um astrofísico, astrônomo, cosmologista e pesquisador estadunidense. Ele é mais conhecido por sua capacidade de comunicar complexos conceitos científicos de forma clara e acessível ao público em geral.\n",
      "\n",
      "Sagan nasceu em 1934 em Brooklyn, Nova York, e morreu em 1996 em Seattle, Washington. Ele foi um professor da Universidade Cornell e foi um dos principais cientistas da NASA durante a década de 1960 e 1970.\n",
      "\n",
      "Sagan é mais conhecido por sua participação no programa de televisão \"Cosmos: Uma Jornada pelo Tempo e o Espaço\", que foi transmitido pela CBS em 1980. O programa foi um sucesso global e ajudou a popularizar a astronomia e a astrofísica entre o público em geral.\n",
      "\n",
      "Sagan também foi um defensor da busca por vida extraterrestre e foi um dos principais cientistas envolvidos na busca por vida em Marte. Ele também foi um crítico da política nuclear e ambiental e foi um dos líderes do movimento contra a construção de uma base militar em Alaska.\n",
      "\n",
      "Além disso, Sagan foi um escritor prolífico e publicou vários livros sobre ciência, incluindo \"Intelligent Life in the Universe\" e \"The Demon-Haunted World\". Ele também foi um defensor da educação científica e do ensino de ciências nas escolas.\n",
      "\n",
      "Sagan foi homenageado com vários prêmios e condecorações, incluindo o Prêmio Pulitzer, o Prêmio Nacional de Ciência e a Medalha de Ouro da Royal Astronomical Society. Ele é considerado um dos cientistas mais influentes e mais popular da história.\n"
     ]
    }
   ],
   "source": [
    "print(response.content)"
   ]
  },
  {
   "cell_type": "code",
   "execution_count": null,
   "metadata": {
    "editable": true,
    "slideshow": {
     "slide_type": ""
    },
    "tags": []
   },
   "outputs": [],
   "source": []
  }
 ],
 "metadata": {
  "colab": {
   "provenance": []
  },
  "kernelspec": {
   "display_name": "langchain",
   "language": "python",
   "name": "python3"
  },
  "language_info": {
   "codemirror_mode": {
    "name": "ipython",
    "version": 3
   },
   "file_extension": ".py",
   "mimetype": "text/x-python",
   "name": "python",
   "nbconvert_exporter": "python",
   "pygments_lexer": "ipython3",
   "version": "3.13.5"
  }
 },
 "nbformat": 4,
 "nbformat_minor": 4
}
