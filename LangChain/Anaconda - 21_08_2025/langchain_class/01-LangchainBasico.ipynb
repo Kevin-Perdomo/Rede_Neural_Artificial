{
 "cells": [
  {
   "cell_type": "markdown",
   "metadata": {},
   "source": [
    "# Setpup"
   ]
  },
  {
   "cell_type": "code",
   "execution_count": 5,
   "metadata": {
    "editable": true,
    "id": "2ytPLsuJfx1d",
    "slideshow": {
     "slide_type": ""
    },
    "tags": []
   },
   "outputs": [],
   "source": [
    "from langchain_groq import ChatGroq"
   ]
  },
  {
   "cell_type": "code",
   "execution_count": 6,
   "metadata": {},
   "outputs": [
    {
     "data": {
      "text/plain": [
       "True"
      ]
     },
     "execution_count": 6,
     "metadata": {},
     "output_type": "execute_result"
    }
   ],
   "source": [
    "from dotenv import find_dotenv, load_dotenv\n",
    "\n",
    "load_dotenv(find_dotenv())"
   ]
  },
  {
   "cell_type": "markdown",
   "metadata": {
    "id": "YmLVQ3dgzKdm"
   },
   "source": [
    "# Chat"
   ]
  },
  {
   "cell_type": "code",
   "execution_count": null,
   "metadata": {
    "colab": {
     "base_uri": "https://localhost:8080/"
    },
    "id": "kFb-LFPTdqp5",
    "outputId": "b1d82bde-6b08-48ed-a664-0cf1774f7356"
   },
   "outputs": [
    {
     "name": "stdout",
     "output_type": "stream",
     "text": [
      "content='Carl Sagan (1934-1996) foi um astrônomo, astrobiólogo e divulgador científico norte-americano. Ele é conhecido por suas contribuições significativas para o campo da astrobiologia e pela forma como apresentou a ciência para o público em geral através de suas obras escritas e televisivas.\\n\\nSagan nasceu em Brooklyn, Nova York, e cresceu em Long Island. Ele se formou em física e astronomia na Universidade Cornell, onde também obteve seu doutorado em 1960. Sagan se tornou professor da Universidade de Cornell e passou a maior parte de sua carreira lá.\\n\\nSagan fez contribuições importantes para o campo da astrobiologia, estudando a possibilidade de vida extraterrestre e o impacto que a descoberta de vida em outros planetas teria sobre a humanidade. Ele também foi um defensor da busca pela vida em Marte e foi membro da equipe do projeto Viking, que enviou sondas para Marte nos anos 1970.\\n\\nSagan é mais conhecido por sua série de televisão \"Cosmos: A Personal Voyage\", que foi transmitida pela primeira vez em 1980 e teve grande audiência e impacto. A série apresentou conceitos complexos da astronomia, física e biologia de forma acessível e interessante para um público amplo. A série também abordou temas como a criação do universo, a evolução do homem e a busca pela vida extraterrestre.\\n\\nAlém de sua televisão e suas pesquisas, Sagan foi um autor prolífico e escreveu vários livros sobre ciência, incluindo \"The Cosmic Connection\" e \"Contact\", que foi adaptado para o cinema em 1997. Sagan também foi um activista em defesa da ciência e da liberdade de expressão e foi membro da Academia Nacional de Ciências dos Estados Unidos.\\n\\nCarl Sagan é considerado um dos maiores divulgadores científicos da história e seus trabalhos continuam a inspirar gerações de cientistas e amantes da ciência até hoje.' additional_kwargs={} response_metadata={'token_usage': {'completion_tokens': 465, 'prompt_tokens': 17, 'total_tokens': 482, 'completion_time': 0.583181223, 'prompt_time': 0.003286892, 'queue_time': 0.145232561, 'total_time': 0.586468115}, 'model_name': 'llama3-8b-8192', 'system_fingerprint': 'fp_343314801a', 'service_tier': 'on_demand', 'finish_reason': 'stop', 'logprobs': None} id='run--63291f4d-a03c-41bd-98ba-38015f178086-0' usage_metadata={'input_tokens': 17, 'output_tokens': 465, 'total_tokens': 482}\n"
     ]
    }
   ],
   "source": [
    "groq = ChatGroq(model_name='llama-3.3-70b-versatile')\n",
    "frequency_penalty=1\n",
    "presence_penalty = 1\n",
    "temperature =  1\n",
    "max_tokens=500\n",
    "n = 1\n",
    "seed = 123\n",
    "response = groq.invoke(input='Quem foi Carl Sagan?', temperature=temperature,\n",
    "                    frequency_penalty=frequency_penalty,presence_penalty=presence_penalty,\n",
    "                    max_tokens=max_tokens,n=n, seed=seed)\n",
    "print(response)"
   ]
  },
  {
   "cell_type": "code",
   "execution_count": null,
   "metadata": {
    "colab": {
     "base_uri": "https://localhost:8080/"
    },
    "id": "AE1XHZmWxS4X",
    "outputId": "daf2f1de-2449-4794-84d1-c74fbc31f0bf"
   },
   "outputs": [
    {
     "name": "stdout",
     "output_type": "stream",
     "text": [
      "content='Carl Sagan foi um astrofísico, astrônomo, cosmologista e pesquisador estadunidense. Ele é mais conhecido por sua capacidade de comunicar complexos conceitos científicos de forma clara e acessível ao público em geral.\\n\\nSagan nasceu em 1934 em Brooklyn, Nova York, e morreu em 1996 em Seattle, Washington. Ele foi um professor da Universidade Cornell e foi um dos principais cientistas da NASA durante a década de 1960 e 1970.\\n\\nSagan é mais conhecido por sua participação no programa de televisão \"Cosmos: Uma Jornada pelo Tempo e o Espaço\", que foi transmitido pela CBS em 1980. O programa foi um sucesso global e ajudou a popularizar a astronomia e a astrofísica entre o público em geral.\\n\\nSagan também foi um defensor da busca por vida extraterrestre e foi um dos principais cientistas envolvidos na busca por vida em Marte. Ele também foi um crítico da política nuclear e ambiental e foi um dos líderes do movimento contra a construção de uma base militar em Alaska.\\n\\nAlém disso, Sagan foi um escritor prolífico e publicou vários livros sobre ciência, incluindo \"Intelligent Life in the Universe\" e \"The Demon-Haunted World\". Ele também foi um defensor da educação científica e do ensino de ciências nas escolas.\\n\\nSagan foi homenageado com vários prêmios e condecorações, incluindo o Prêmio Pulitzer, o Prêmio Nacional de Ciência e a Medalha de Ouro da Royal Astronomical Society. Ele é considerado um dos cientistas mais influentes e mais popular da história.' additional_kwargs={} response_metadata={'token_usage': {'completion_tokens': 384, 'prompt_tokens': 39, 'total_tokens': 423, 'completion_time': 0.482165823, 'prompt_time': 0.005705737, 'queue_time': 0.145256437, 'total_time': 0.48787156}, 'model_name': 'llama3-8b-8192', 'system_fingerprint': 'fp_343314801a', 'service_tier': 'on_demand', 'finish_reason': 'stop', 'logprobs': None} id='run--b2cf917e-56ad-4c34-bd9d-1170f71540cf-0' usage_metadata={'input_tokens': 39, 'output_tokens': 384, 'total_tokens': 423}\n"
     ]
    }
   ],
   "source": [
    "groq = ChatGroq(model_name='llama-3.3-70b-versatile')\n",
    "messages = [\n",
    "    {\"role\": \"system\", \"content\": \"Você é um assistente que fornece informações sobre figuras históricas.\"},\n",
    "    {\"role\": \"user\", \"content\": \"Quem foi Carl Sagan?\"}\n",
    "]\n",
    "response = groq.invoke(messages)\n",
    "print(response)"
   ]
  },
  {
   "cell_type": "code",
   "execution_count": 9,
   "metadata": {
    "colab": {
     "base_uri": "https://localhost:8080/"
    },
    "id": "MTBMLJXlyOZ_",
    "outputId": "313c0e4c-99ff-4a54-c91c-b98823c9e7e6"
   },
   "outputs": [
    {
     "name": "stdout",
     "output_type": "stream",
     "text": [
      "Carl Sagan foi um astrofísico, astrônomo, cosmologista e pesquisador estadunidense. Ele é mais conhecido por sua capacidade de comunicar complexos conceitos científicos de forma clara e acessível ao público em geral.\n",
      "\n",
      "Sagan nasceu em 1934 em Brooklyn, Nova York, e morreu em 1996 em Seattle, Washington. Ele foi um professor da Universidade Cornell e foi um dos principais cientistas da NASA durante a década de 1960 e 1970.\n",
      "\n",
      "Sagan é mais conhecido por sua participação no programa de televisão \"Cosmos: Uma Jornada pelo Tempo e o Espaço\", que foi transmitido pela CBS em 1980. O programa foi um sucesso global e ajudou a popularizar a astronomia e a astrofísica entre o público em geral.\n",
      "\n",
      "Sagan também foi um defensor da busca por vida extraterrestre e foi um dos principais cientistas envolvidos na busca por vida em Marte. Ele também foi um crítico da política nuclear e ambiental e foi um dos líderes do movimento contra a construção de uma base militar em Alaska.\n",
      "\n",
      "Além disso, Sagan foi um escritor prolífico e publicou vários livros sobre ciência, incluindo \"Intelligent Life in the Universe\" e \"The Demon-Haunted World\". Ele também foi um defensor da educação científica e do ensino de ciências nas escolas.\n",
      "\n",
      "Sagan foi homenageado com vários prêmios e condecorações, incluindo o Prêmio Pulitzer, o Prêmio Nacional de Ciência e a Medalha de Ouro da Royal Astronomical Society. Ele é considerado um dos cientistas mais influentes e mais popular da história.\n"
     ]
    }
   ],
   "source": [
    "print(response.content)"
   ]
  },
  {
   "cell_type": "code",
   "execution_count": null,
   "metadata": {
    "editable": true,
    "slideshow": {
     "slide_type": ""
    },
    "tags": []
   },
   "outputs": [],
   "source": []
  }
 ],
 "metadata": {
  "colab": {
   "provenance": []
  },
  "kernelspec": {
   "display_name": "langchain",
   "language": "python",
   "name": "python3"
  },
  "language_info": {
   "codemirror_mode": {
    "name": "ipython",
    "version": 3
   },
   "file_extension": ".py",
   "mimetype": "text/x-python",
   "name": "python",
   "nbconvert_exporter": "python",
   "pygments_lexer": "ipython3",
   "version": "3.13.5"
  }
 },
 "nbformat": 4,
 "nbformat_minor": 4
}
