{
 "cells": [
  {
   "cell_type": "markdown",
   "id": "739c3a10",
   "metadata": {},
   "source": [
    "# 🌐 **03 - LangGraph: Pipeline de Processamento**\n",
    "\n",
    "## 🎯 **Objetivo:**\n",
    "Implementar pipeline completo com LangGraph para processamento inteligente de requisições fitness.\n",
    "\n",
    "## 📋 **O que faremos:**\n",
    "1. 🏗️ Definir estrutura de estado (State)\n",
    "2. 🔧 Implementar nós especializados\n",
    "3. 🌐 Construir grafo do pipeline\n",
    "\n",
    "---"
   ]
  },
  {
   "cell_type": "markdown",
   "id": "de6d0005",
   "metadata": {},
   "source": [
    "## 📦 Imports e Configurações"
   ]
  },
  {
   "cell_type": "markdown",
   "id": "ab899519",
   "metadata": {},
   "source": [
    "# 🌐 **IMPLEMENTAÇÃO LANGGRAPH COMO NO PROJETO EDUCAÇÃO**\n",
    "\n",
    "## 📋 **Seguindo a estrutura do LangGraphEducação.ipynb**"
   ]
  },
  {
   "cell_type": "code",
   "execution_count": 1,
   "id": "c05821c2",
   "metadata": {},
   "outputs": [
    {
     "name": "stdout",
     "output_type": "stream",
     "text": [
      "✅ Imports do LangGraph carregados!\n"
     ]
    }
   ],
   "source": [
    "# Imports necessários para LangGraph\n",
    "from typing import TypedDict, List, Dict, Any\n",
    "from langgraph.graph import StateGraph, START, END\n",
    "from langgraph.checkpoint.memory import MemorySaver\n",
    "from langchain_core.messages import HumanMessage\n",
    "\n",
    "print(\"✅ Imports do LangGraph carregados!\")"
   ]
  },
  {
   "cell_type": "code",
   "execution_count": 2,
   "id": "384f227c",
   "metadata": {},
   "outputs": [
    {
     "name": "stdout",
     "output_type": "stream",
     "text": [
      "✅ Estado FitnessGraphState definido!\n"
     ]
    }
   ],
   "source": [
    "# Definição do Estado do Grafo\n",
    "\n",
    "class FitnessGraphState(TypedDict):\n",
    "    \"\"\"Estado estruturado para o pipeline de fitness\"\"\"\n",
    "    messages: List[HumanMessage]         # Histórico de mensagens\n",
    "    pergunta_usuario: str                # Pergunta original\n",
    "    objetivo: str                        # Objetivo extraído (hipertrofia, emagrecimento, etc.)\n",
    "    periodicidade: int                   # Frequência semanal\n",
    "    experiencia: str                     # Nível do usuário\n",
    "    restricoes: List[str]                # Limitações físicas\n",
    "    dados_validados: bool                # Flag de validação\n",
    "    calculos_realizados: Dict[str, Any]  # Cálculos personalizados\n",
    "    contexto_rag: List[str]              # Informações da base de conhecimento\n",
    "    info_web: List[str]                  # Informações complementares\n",
    "    plano_gerado: str                    # Plano de treino final\n",
    "\n",
    "print(\"✅ Estado FitnessGraphState definido!\")"
   ]
  },
  {
   "cell_type": "markdown",
   "id": "277fae7e",
   "metadata": {},
   "source": [
    "## 🏗️ Definição do Estado"
   ]
  },
  {
   "cell_type": "code",
   "execution_count": 3,
   "id": "302aad8e",
   "metadata": {},
   "outputs": [
    {
     "name": "stdout",
     "output_type": "stream",
     "text": [
      "✅ Graph builder inicializado!\n"
     ]
    }
   ],
   "source": [
    "# Inicialização do Grafo\n",
    "fitness_graph_builder = StateGraph(FitnessGraphState)\n",
    "memory = MemorySaver()\n",
    "\n",
    "print(\"✅ Graph builder inicializado!\")"
   ]
  },
  {
   "cell_type": "code",
   "execution_count": 4,
   "id": "932473de",
   "metadata": {},
   "outputs": [
    {
     "name": "stdout",
     "output_type": "stream",
     "text": [
      "✅ Funções dos nós simplificadas e organizadas!\n"
     ]
    }
   ],
   "source": [
    "# Funções dos Nós do Grafo LangGraph\n",
    "\n",
    "def no_validacao_graph(estado: FitnessGraphState) -> FitnessGraphState:\n",
    "    \"\"\"Valida e extrai informações da pergunta do usuário\"\"\"\n",
    "    pergunta = estado[\"pergunta_usuario\"]\n",
    "    \n",
    "    # Lógica simples de extração de informações\n",
    "    if \"hipertrofia\" in pergunta.lower():\n",
    "        objetivo = \"hipertrofia\"\n",
    "    elif \"emagrecimento\" in pergunta.lower() or \"perder peso\" in pergunta.lower():\n",
    "        objetivo = \"emagrecimento\"\n",
    "    elif \"condicionamento\" in pergunta.lower():\n",
    "        objetivo = \"condicionamento\"\n",
    "    else:\n",
    "        objetivo = \"condicionamento geral\"\n",
    "    \n",
    "    # Extrair periodicidade\n",
    "    periodicidade = 3  # default\n",
    "    if \"4\" in pergunta or \"quatro\" in pergunta:\n",
    "        periodicidade = 4\n",
    "    elif \"5\" in pergunta or \"cinco\" in pergunta:\n",
    "        periodicidade = 5\n",
    "    elif \"2\" in pergunta or \"dois\" in pergunta:\n",
    "        periodicidade = 2\n",
    "    \n",
    "    # Extrair experiência\n",
    "    if \"iniciante\" in pergunta.lower():\n",
    "        experiencia = \"iniciante\"\n",
    "    elif \"avançado\" in pergunta.lower():\n",
    "        experiencia = \"avancado\"\n",
    "    else:\n",
    "        experiencia = \"intermediario\"\n",
    "    \n",
    "    mensagem = HumanMessage(content=f\"✅ Validação: {objetivo}, {periodicidade}x/semana\")\n",
    "    \n",
    "    return {\n",
    "        **estado,\n",
    "        \"objetivo\": objetivo,\n",
    "        \"periodicidade\": periodicidade,\n",
    "        \"experiencia\": experiencia,\n",
    "        \"dados_validados\": True,\n",
    "        \"messages\": estado[\"messages\"] + [mensagem]\n",
    "    }\n",
    "\n",
    "def no_calculos_graph(estado: FitnessGraphState) -> FitnessGraphState:\n",
    "    \"\"\"Realiza cálculos específicos baseados no objetivo\"\"\"\n",
    "    objetivo = estado[\"objetivo\"]\n",
    "    periodicidade = estado[\"periodicidade\"]\n",
    "    \n",
    "    # Cálculos baseados no objetivo\n",
    "    calculos = {\n",
    "        \"series_recomendadas\": 3 if objetivo == \"hipertrofia\" else 2,\n",
    "        \"repeticoes\": \"8-12\" if objetivo == \"hipertrofia\" else \"12-15\",\n",
    "        \"descanso\": \"60-90s\" if objetivo == \"hipertrofia\" else \"30-45s\",\n",
    "        \"intensidade\": \"alta\" if objetivo == \"hipertrofia\" else \"moderada\"\n",
    "    }\n",
    "    \n",
    "    mensagem = HumanMessage(content=f\"⚙️ Cálculos para {objetivo}\")\n",
    "    \n",
    "    return {\n",
    "        **estado,\n",
    "        \"calculos_realizados\": calculos,\n",
    "        \"messages\": estado[\"messages\"] + [mensagem]\n",
    "    }\n",
    "\n",
    "def no_rag_graph(estado: FitnessGraphState) -> FitnessGraphState:\n",
    "    \"\"\"Busca informações na base de conhecimento\"\"\"\n",
    "    objetivo = estado[\"objetivo\"]\n",
    "    \n",
    "    # Simulação de busca RAG\n",
    "    contexto_rag = [f\"Exercícios recomendados para {objetivo}: Agachamento, Supino, Remada\"]\n",
    "    \n",
    "    mensagem = HumanMessage(content=f\"📚 Contexto RAG para {objetivo}\")\n",
    "    \n",
    "    return {\n",
    "        **estado,\n",
    "        \"contexto_rag\": contexto_rag,\n",
    "        \"messages\": estado[\"messages\"] + [mensagem]\n",
    "    }\n",
    "\n",
    "def no_busca_web_graph(estado: FitnessGraphState) -> FitnessGraphState:\n",
    "    \"\"\"Busca informações complementares na web\"\"\"\n",
    "    objetivo = estado[\"objetivo\"]\n",
    "    \n",
    "    # Simulação de busca web\n",
    "    info_web = [f\"Tendências atuais em treino de {objetivo}\"]\n",
    "    \n",
    "    mensagem = HumanMessage(content=f\"🌐 Informações web para {objetivo}\")\n",
    "    \n",
    "    return {\n",
    "        **estado,\n",
    "        \"info_web\": info_web,\n",
    "        \"messages\": estado[\"messages\"] + [mensagem]\n",
    "    }\n",
    "\n",
    "def no_geracao_graph(estado: FitnessGraphState) -> FitnessGraphState:\n",
    "    \"\"\"Gera o plano de treino final\"\"\"\n",
    "    objetivo = estado[\"objetivo\"]\n",
    "    periodicidade = estado[\"periodicidade\"]\n",
    "    calculos = estado[\"calculos_realizados\"]\n",
    "    \n",
    "    # Geração do plano\n",
    "    plano = f\"\"\"\n",
    "# 🏋️‍♂️ PLANO DE TREINO PERSONALIZADO\n",
    "\n",
    "**Objetivo:** {objetivo.capitalize()}\n",
    "**Frequência:** {periodicidade}x por semana\n",
    "**Séries:** {calculos.get('series_recomendadas', 3)}\n",
    "**Repetições:** {calculos.get('repeticoes', '8-12')}\n",
    "**Descanso:** {calculos.get('descanso', '60s')}\n",
    "\n",
    "## Exercícios Principais:\n",
    "- Agachamento: {calculos.get('series_recomendadas', 3)}x{calculos.get('repeticoes', '8-12')}\n",
    "- Supino: {calculos.get('series_recomendadas', 3)}x{calculos.get('repeticoes', '8-12')}\n",
    "- Remada: {calculos.get('series_recomendadas', 3)}x{calculos.get('repeticoes', '8-12')}\n",
    "\n",
    "✅ Plano personalizado gerado!\n",
    "\"\"\"\n",
    "    \n",
    "    mensagem = HumanMessage(content=f\"✨ Plano de {objetivo} gerado!\")\n",
    "    \n",
    "    return {\n",
    "        **estado,\n",
    "        \"plano_gerado\": plano,\n",
    "        \"messages\": estado[\"messages\"] + [mensagem]\n",
    "    }\n",
    "\n",
    "print(\"✅ Funções dos nós simplificadas e organizadas!\")"
   ]
  },
  {
   "cell_type": "markdown",
   "id": "70108809",
   "metadata": {},
   "source": [
    "## ⚙️ Funções dos Nós"
   ]
  },
  {
   "cell_type": "code",
   "execution_count": 5,
   "id": "fc40d989",
   "metadata": {},
   "outputs": [
    {
     "name": "stdout",
     "output_type": "stream",
     "text": [
      "✅ Nós adicionados ao grafo!\n"
     ]
    }
   ],
   "source": [
    "# Adicionando nós ao grafo\n",
    "fitness_graph_builder.add_node(\"validacao\", no_validacao_graph)\n",
    "fitness_graph_builder.add_node(\"calculos\", no_calculos_graph)\n",
    "fitness_graph_builder.add_node(\"rag\", no_rag_graph)\n",
    "fitness_graph_builder.add_node(\"busca_web\", no_busca_web_graph)\n",
    "fitness_graph_builder.add_node(\"geracao\", no_geracao_graph)\n",
    "\n",
    "print(\"✅ Nós adicionados ao grafo!\")"
   ]
  },
  {
   "cell_type": "code",
   "execution_count": 6,
   "id": "72fbc899",
   "metadata": {},
   "outputs": [
    {
     "name": "stdout",
     "output_type": "stream",
     "text": [
      "✅ Fluxo definido: START → validacao → calculos → rag → busca_web → geracao → END\n"
     ]
    }
   ],
   "source": [
    "# Definindo conexões entre nós\n",
    "fitness_graph_builder.add_edge(START, \"validacao\")\n",
    "fitness_graph_builder.add_edge(\"validacao\", \"calculos\")\n",
    "fitness_graph_builder.add_edge(\"calculos\", \"rag\")\n",
    "fitness_graph_builder.add_edge(\"rag\", \"busca_web\")\n",
    "fitness_graph_builder.add_edge(\"busca_web\", \"geracao\")\n",
    "fitness_graph_builder.add_edge(\"geracao\", END)\n",
    "\n",
    "print(\"✅ Fluxo definido: START → validacao → calculos → rag → busca_web → geracao → END\")"
   ]
  },
  {
   "cell_type": "code",
   "execution_count": 7,
   "id": "05c25b90",
   "metadata": {},
   "outputs": [
    {
     "name": "stdout",
     "output_type": "stream",
     "text": [
      "✅ Grafo LangGraph compilado e pronto para uso!\n"
     ]
    }
   ],
   "source": [
    "# Compilação do grafo final\n",
    "fitness_graph = fitness_graph_builder.compile(checkpointer=memory)\n",
    "\n",
    "print(\"✅ Grafo LangGraph compilado e pronto para uso!\")"
   ]
  },
  {
   "cell_type": "markdown",
   "id": "522d7460",
   "metadata": {},
   "source": [
    "## 🌐 Construção do Grafo"
   ]
  },
  {
   "cell_type": "code",
   "execution_count": 8,
   "id": "024bf55b",
   "metadata": {},
   "outputs": [
    {
     "name": "stdout",
     "output_type": "stream",
     "text": [
      "🎨 Gerando visualização minimalista do LangGraph Fitness...\n"
     ]
    },
    {
     "name": "stdout",
     "output_type": "stream",
     "text": [
      "Requirement already satisfied: ipython in /home/kevin/anaconda3/envs/langchain/lib/python3.13/site-packages (9.4.0)\n",
      "Requirement already satisfied: decorator in /home/kevin/anaconda3/envs/langchain/lib/python3.13/site-packages (from ipython) (5.2.1)\n",
      "Requirement already satisfied: ipython-pygments-lexers in /home/kevin/anaconda3/envs/langchain/lib/python3.13/site-packages (from ipython) (1.1.1)\n",
      "Requirement already satisfied: jedi>=0.16 in /home/kevin/anaconda3/envs/langchain/lib/python3.13/site-packages (from ipython) (0.19.2)\n",
      "Requirement already satisfied: matplotlib-inline in /home/kevin/anaconda3/envs/langchain/lib/python3.13/site-packages (from ipython) (0.1.7)\n",
      "Requirement already satisfied: pexpect>4.3 in /home/kevin/anaconda3/envs/langchain/lib/python3.13/site-packages (from ipython) (4.9.0)\n",
      "Requirement already satisfied: prompt_toolkit<3.1.0,>=3.0.41 in /home/kevin/anaconda3/envs/langchain/lib/python3.13/site-packages (from ipython) (3.0.51)\n",
      "Requirement already satisfied: pygments>=2.4.0 in /home/kevin/anaconda3/envs/langchain/lib/python3.13/site-packages (from ipython) (2.19.2)\n",
      "Requirement already satisfied: stack_data in /home/kevin/anaconda3/envs/langchain/lib/python3.13/site-packages (from ipython) (0.6.3)\n",
      "Requirement already satisfied: traitlets>=5.13.0 in /home/kevin/anaconda3/envs/langchain/lib/python3.13/site-packages (from ipython) (5.14.3)\n",
      "Requirement already satisfied: wcwidth in /home/kevin/anaconda3/envs/langchain/lib/python3.13/site-packages (from prompt_toolkit<3.1.0,>=3.0.41->ipython) (0.2.13)\n",
      "Requirement already satisfied: parso<0.9.0,>=0.8.4 in /home/kevin/anaconda3/envs/langchain/lib/python3.13/site-packages (from jedi>=0.16->ipython) (0.8.4)\n",
      "Requirement already satisfied: ptyprocess>=0.5 in /home/kevin/anaconda3/envs/langchain/lib/python3.13/site-packages (from pexpect>4.3->ipython) (0.7.0)\n",
      "Requirement already satisfied: executing>=1.2.0 in /home/kevin/anaconda3/envs/langchain/lib/python3.13/site-packages (from stack_data->ipython) (2.2.0)\n",
      "Requirement already satisfied: asttokens>=2.1.0 in /home/kevin/anaconda3/envs/langchain/lib/python3.13/site-packages (from stack_data->ipython) (3.0.0)\n",
      "Requirement already satisfied: pure-eval in /home/kevin/anaconda3/envs/langchain/lib/python3.13/site-packages (from stack_data->ipython) (0.2.3)\n",
      "Requirement already satisfied: executing>=1.2.0 in /home/kevin/anaconda3/envs/langchain/lib/python3.13/site-packages (from stack_data->ipython) (2.2.0)\n",
      "Requirement already satisfied: asttokens>=2.1.0 in /home/kevin/anaconda3/envs/langchain/lib/python3.13/site-packages (from stack_data->ipython) (3.0.0)\n",
      "Requirement already satisfied: pure-eval in /home/kevin/anaconda3/envs/langchain/lib/python3.13/site-packages (from stack_data->ipython) (0.2.3)\n",
      "Note: you may need to restart the kernel to use updated packages.\n",
      "Note: you may need to restart the kernel to use updated packages.\n"
     ]
    },
    {
     "data": {
      "image/jpeg": "[encoded data removed]",
      "text/plain": [
       "<IPython.core.display.Image object>"
      ]
     },
     "metadata": {},
     "output_type": "display_data"
    },
    {
     "name": "stdout",
     "output_type": "stream",
     "text": [
      "✅ Visualização gerada e salva!\n",
      "📁 Arquivo: fitness_langgraph.png\n",
      "📍 Localização: ./AI_Fitness_Coach/ (pasta raiz do projeto)\n",
      "\\n🔍 Estrutura do Grafo:\n",
      "   🚀 Início: START\n",
      "   ✅ Validação → Cálculos → RAG → Busca Web → Geração\n",
      "   🏁 Final: END\n"
     ]
    }
   ],
   "source": [
    "# Visualização Minimalista do Grafo\n",
    "\n",
    "print(\"🎨 Gerando visualização minimalista do LangGraph Fitness...\")\n",
    "\n",
    "# Corrige erro de importação do IPython.display\n",
    "%pip install ipython\n",
    "\n",
    "try:\n",
    "    from IPython.display import Image, display\n",
    "    \n",
    "    # Gerar imagem Mermaid do grafo\n",
    "    graph_image = fitness_graph.get_graph().draw_mermaid_png()\n",
    "    \n",
    "    # Exibir a imagem no notebook\n",
    "    display(Image(graph_image))\n",
    "    \n",
    "    # Salvar imagem com nome limpo na pasta raiz do projeto\n",
    "    filename = \"fitness_langgraph.png\"\n",
    "    filepath = f\"{filename}\"  # Salva na pasta atual (AI_Fitness_Coach)\n",
    "    \n",
    "    with open(filepath, \"wb\") as f:\n",
    "        f.write(graph_image)\n",
    "    \n",
    "    print(f\"✅ Visualização gerada e salva!\")\n",
    "    print(f\"📁 Arquivo: {filename}\")\n",
    "    print(f\"📍 Localização: ./AI_Fitness_Coach/ (pasta raiz do projeto)\")\n",
    "    \n",
    "    # Mostrar informações do grafo\n",
    "    print(f\"\\\\n🔍 Estrutura do Grafo:\")\n",
    "    print(f\"   🚀 Início: START\")\n",
    "    print(f\"   ✅ Validação → Cálculos → RAG → Busca Web → Geração\")\n",
    "    print(f\"   🏁 Final: END\")\n",
    "    \n",
    "except Exception as e:\n",
    "    print(f\"❌ Erro na visualização: {e}\")\n",
    "    # Fallback simples\n",
    "    print(\"\\\\n📊 Estrutura LangGraph Fitness:\")\n",
    "    print(\"START → validacao → calculos → rag → busca_web → geracao → END\")"
   ]
  },
  {
   "cell_type": "code",
   "execution_count": 9,
   "id": "cad9ee64",
   "metadata": {},
   "outputs": [
    {
     "name": "stdout",
     "output_type": "stream",
     "text": [
      "🧪 Executando pipeline fitness...\n",
      "✅ Pipeline concluído!\n",
      "📊 Objetivo: hipertrofia\n",
      "📅 Frequência: 4x/semana\n",
      "🎯 Experiência: intermediario\n",
      "📝 Plano gerado: Sim\n",
      "\\n\n",
      "# 🏋️‍♂️ PLANO DE TREINO PERSONALIZADO\n",
      "\n",
      "**Objetivo:** Hipertrofia\n",
      "**Frequência:** 4x por semana\n",
      "**Séries:** 3\n",
      "**Repetições:** 8-12\n",
      "**Descanso:** 60-90s\n",
      "\n",
      "## Exercícios Principais:\n",
      "- Agachamento: 3x8-12\n",
      "- Supino: 3x8-12\n",
      "- Remada: 3x8-12\n",
      "\n",
      "✅ Plano personalizado gerado!\n",
      "\n"
     ]
    }
   ],
   "source": [
    "# Teste do Grafo LangGraph\n",
    "\n",
    "def testar_fitness_graph():\n",
    "    \"\"\"Teste simples do grafo fitness\"\"\"\n",
    "    estado_inicial = {\n",
    "        \"messages\": [],\n",
    "        \"pergunta_usuario\": \"Quero um treino de hipertrofia 4x por semana\",\n",
    "        \"objetivo\": \"\",\n",
    "        \"periodicidade\": 0,\n",
    "        \"experiencia\": \"\",\n",
    "        \"restricoes\": [],\n",
    "        \"dados_validados\": False,\n",
    "        \"calculos_realizados\": {},\n",
    "        \"contexto_rag\": [],\n",
    "        \"info_web\": [],\n",
    "        \"plano_gerado\": \"\"\n",
    "    }\n",
    "    \n",
    "    print(\"🧪 Executando pipeline fitness...\")\n",
    "    \n",
    "    config = {\"configurable\": {\"thread_id\": \"test_fitness\"}}\n",
    "    resultado = fitness_graph.invoke(estado_inicial, config=config)\n",
    "    \n",
    "    print(f\"✅ Pipeline concluído!\")\n",
    "    print(f\"📊 Objetivo: {resultado['objetivo']}\")\n",
    "    print(f\"📅 Frequência: {resultado['periodicidade']}x/semana\")\n",
    "    print(f\"🎯 Experiência: {resultado['experiencia']}\")\n",
    "    print(f\"📝 Plano gerado: {'Sim' if resultado['plano_gerado'] else 'Não'}\")\n",
    "    \n",
    "    if resultado[\"plano_gerado\"]:\n",
    "        print(\"\\\\n\" + resultado[\"plano_gerado\"])\n",
    "    \n",
    "    return resultado\n",
    "\n",
    "# Executar teste\n",
    "resultado = testar_fitness_graph()"
   ]
  }
 ],
 "metadata": {
  "kernelspec": {
   "display_name": "langchain",
   "language": "python",
   "name": "python3"
  },
  "language_info": {
   "codemirror_mode": {
    "name": "ipython",
    "version": 3
   },
   "file_extension": ".py",
   "mimetype": "text/x-python",
   "name": "python",
   "nbconvert_exporter": "python",
   "pygments_lexer": "ipython3",
   "version": "3.13.5"
  }
 },
 "nbformat": 4,
 "nbformat_minor": 5
}
