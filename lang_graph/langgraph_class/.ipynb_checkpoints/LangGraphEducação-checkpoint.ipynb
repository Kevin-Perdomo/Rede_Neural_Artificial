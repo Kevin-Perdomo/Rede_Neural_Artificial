{
 "cells": [
  {
   "cell_type": "markdown",
   "metadata": {
    "id": "HWRxWeG8S24p"
   },
   "source": [
    "# Projeto para Educação - Geração de Exercícios (RAG e Agentes)\n",
    "\n",
    "* Parte 1: Uso de documentos como referência via RAG com PINECONE\n",
    "* Parte 2: Tutor digital com agente de IA e acesso ao repositório vetorial\n"
   ]
  },
  {
   "cell_type": "markdown",
   "metadata": {
    "id": "TxKd-GfYPsXR",
    "jp-MarkdownHeadingCollapsed": true
   },
   "source": [
    "## Instalação das bibliotecas\n"
   ]
  },
  {
   "cell_type": "code",
   "execution_count": 1,
   "metadata": {},
   "outputs": [
    {
     "name": "stderr",
     "output_type": "stream",
     "text": [
      "/opt/anaconda3/envs/langgraph/lib/python3.13/site-packages/langchain_pinecone/__init__.py:3: LangChainDeprecationWarning: As of langchain-core 0.3.0, LangChain uses pydantic v2 internally. The langchain_core.pydantic_v1 module was a compatibility shim for pydantic v1, and should no longer be used. Please update the code to import from Pydantic directly.\n",
      "\n",
      "For example, replace imports like: `from langchain_core.pydantic_v1 import BaseModel`\n",
      "with: `from pydantic import BaseModel`\n",
      "or the v1 compatibility namespace if you are working in a code base that has not been fully upgraded to pydantic 2 yet. \tfrom pydantic.v1 import BaseModel\n",
      "\n",
      "  from langchain_pinecone.vectorstores import Pinecone, PineconeVectorStore\n"
     ]
    }
   ],
   "source": [
    "import ipywidgets as widgets\n",
    "from IPython.display import display\n",
    "from dotenv import find_dotenv, load_dotenv\n",
    "from langchain_groq import ChatGroq\n",
    "from pinecone import Pinecone, ServerlessSpec\n",
    "import os\n",
    "import time\n",
    "\n",
    "from langchain_text_splitters import RecursiveCharacterTextSplitter, MarkdownHeaderTextSplitter\n",
    "from langchain_core.documents import Document\n",
    "from langchain_pinecone import PineconeVectorStore\n",
    "from langchain_docling import DoclingLoader\n",
    "from docling.document_converter import DocumentConverter\n",
    "from langchain.tools.retriever import create_retriever_tool\n",
    "from langgraph.prebuilt import ToolNode, tools_condition\n",
    "from langgraph.checkpoint.memory import MemorySaver\n",
    "from pathlib import Path\n",
    "\n",
    "from langchain_huggingface import HuggingFaceEmbeddings\n",
    "from langchain.vectorstores import FAISS\n"
   ]
  },
  {
   "cell_type": "markdown",
   "metadata": {
    "id": "Rm_G-fVkeTTY",
    "jp-MarkdownHeadingCollapsed": true
   },
   "source": [
    "## Escolha do modelo\n",
    "\n"
   ]
  },
  {
   "cell_type": "code",
   "execution_count": 58,
   "metadata": {},
   "outputs": [
    {
     "data": {
      "text/plain": [
       "True"
      ]
     },
     "execution_count": 58,
     "metadata": {},
     "output_type": "execute_result"
    }
   ],
   "source": [
    "load_dotenv(find_dotenv())"
   ]
  },
  {
   "cell_type": "code",
   "execution_count": 3,
   "metadata": {
    "executionInfo": {
     "elapsed": 77,
     "status": "ok",
     "timestamp": 1755918853681,
     "user": {
      "displayName": "Gabriel Alves",
      "userId": "07503873055563742982"
     },
     "user_tz": 180
    },
    "id": "R21fi3AabIXH"
   },
   "outputs": [],
   "source": [
    "\n",
    "\n",
    "def load_llm(id_model, temperature):\n",
    "  llm = ChatGroq(\n",
    "      model=id_model,\n",
    "      temperature=temperature,\n",
    "      max_tokens=None,\n",
    "      timeout=None,\n",
    "      max_retries=2,\n",
    "  )\n",
    "  return llm"
   ]
  },
  {
   "cell_type": "code",
   "execution_count": 4,
   "metadata": {
    "executionInfo": {
     "elapsed": 396,
     "status": "ok",
     "timestamp": 1755918871251,
     "user": {
      "displayName": "Gabriel Alves",
      "userId": "07503873055563742982"
     },
     "user_tz": 180
    },
    "id": "mvD483KubKmj"
   },
   "outputs": [],
   "source": [
    "id_model = \"deepseek-r1-distill-llama-70b\"  # @param {type:\"string\"}\n",
    "temperature = 0.7 #@param {type:\"slider\", min:0.1, max:1.5, step:0.1}\n",
    "\n",
    "llm = load_llm(id_model, temperature)"
   ]
  },
  {
   "cell_type": "markdown",
   "metadata": {
    "id": "B1O9JIycyAKm",
    "jp-MarkdownHeadingCollapsed": true
   },
   "source": [
    "## Construindo o prompt"
   ]
  },
  {
   "cell_type": "code",
   "execution_count": 5,
   "metadata": {
    "id": "bbOS3Pjls-2S"
   },
   "outputs": [],
   "source": [
    "def format_res(res, return_thinking=False):\n",
    "  res = res.strip()\n",
    "\n",
    "  if return_thinking:\n",
    "    res = res.replace(\"<think>\", \"[pensando...] \")\n",
    "    res = res.replace(\"</think>\", \"\\n---\\n\")\n",
    "\n",
    "  else:\n",
    "    if \"</think>\" in res:\n",
    "      res = res.split(\"</think>\")[-1].strip()\n",
    "\n",
    "  return res\n",
    "\n",
    "def show_res(res):\n",
    "    from IPython.display import Markdown\n",
    "    display(Markdown(res))"
   ]
  },
  {
   "cell_type": "markdown",
   "metadata": {
    "id": "ZNcY1q-r3ZEi"
   },
   "source": [
    "### Chain-of-Thought Prompting\n",
    "\n"
   ]
  },
  {
   "cell_type": "markdown",
   "metadata": {
    "id": "QT4Z90Xe8E2N"
   },
   "source": [
    "#### Exemplo de exercício 1 - Resolução de Problema de Ciência ou Conhecimentos gerais"
   ]
  },
  {
   "cell_type": "code",
   "execution_count": null,
   "metadata": {
    "colab": {
     "base_uri": "https://localhost:8080/",
     "height": 567
    },
    "executionInfo": {
     "elapsed": 2729,
     "status": "ok",
     "timestamp": 1747661311780,
     "user": {
      "displayName": "Jones Granatyr",
      "userId": "10042675233362078631"
     },
     "user_tz": 180
    },
    "id": "810J5mrNuwct",
    "outputId": "86aa081e-4c21-44d0-9e90-57ada89650f0"
   },
   "outputs": [],
   "source": [
    "prompt = \"\"\"\n",
    "Explique o raciocínio passo a passo antes de responder e detalhe cada fase do processo.\n",
    "Pergunta: Por que as nuvens se formam no céu?\n",
    "\"\"\"\n",
    "res = llm.invoke(prompt)\n",
    "show_res(format_res(res.content, return_thinking=True))"
   ]
  },
  {
   "cell_type": "markdown",
   "metadata": {
    "id": "fyfDPUDK8IGR"
   },
   "source": [
    "#### Exemplo de exercício 2 - Resolução de Problema de Matemática"
   ]
  },
  {
   "cell_type": "code",
   "execution_count": null,
   "metadata": {
    "colab": {
     "base_uri": "https://localhost:8080/",
     "height": 702
    },
    "executionInfo": {
     "elapsed": 2563,
     "status": "ok",
     "timestamp": 1747661395706,
     "user": {
      "displayName": "Jones Granatyr",
      "userId": "10042675233362078631"
     },
     "user_tz": 180
    },
    "id": "tEMV293CvD2f",
    "outputId": "e196d769-70eb-4aff-82e6-a9a35bb93af8"
   },
   "outputs": [],
   "source": [
    "prompt = \"\"\"\n",
    "Resolva o seguinte problema de forma passo a passo:\n",
    "Se João tem 3 vezes mais maçãs que Maria, e juntos eles têm 48 maçãs, quantas maçãs cada um tem?\n",
    "Pense passo a passo.\n",
    "\"\"\"\n",
    "res = llm.invoke(prompt)\n",
    "show_res(format_res(res.content, return_thinking=True))"
   ]
  },
  {
   "cell_type": "markdown",
   "metadata": {
    "id": "Wd4jg_VE9xLW"
   },
   "source": [
    "#### Exemplo de exercício 3 - Análise de Decisão"
   ]
  },
  {
   "cell_type": "code",
   "execution_count": null,
   "metadata": {
    "colab": {
     "base_uri": "https://localhost:8080/",
     "height": 1000
    },
    "executionInfo": {
     "elapsed": 6848,
     "status": "ok",
     "timestamp": 1747661476163,
     "user": {
      "displayName": "Jones Granatyr",
      "userId": "10042675233362078631"
     },
     "user_tz": 180
    },
    "id": "C8Nzq--1vWRc",
    "outputId": "45befa95-3e72-4efa-9f34-99a2f5d9cc5b"
   },
   "outputs": [],
   "source": [
    "prompt = \"\"\"\n",
    "Você é um consultor financeiro. Um cliente tem 100 mil reais para investir. Ele pode escolher entre um fundo de ações com alta volatilidade e um título de renda fixa de baixo risco.\n",
    "Pense passo a passo: quais fatores ele deve considerar para tomar a decisão mais adequada ao seu perfil?\n",
    "Explique seu raciocínio antes de sugerir uma opção.\n",
    "\"\"\"\n",
    "res = llm.invoke(prompt)\n",
    "show_res(format_res(res.content, return_thinking=True))"
   ]
  },
  {
   "cell_type": "code",
   "execution_count": null,
   "metadata": {
    "colab": {
     "base_uri": "https://localhost:8080/",
     "height": 626
    },
    "executionInfo": {
     "elapsed": 4226,
     "status": "ok",
     "timestamp": 1747661595099,
     "user": {
      "displayName": "Jones Granatyr",
      "userId": "10042675233362078631"
     },
     "user_tz": 180
    },
    "id": "St4qFUw4v4Z7",
    "outputId": "10a2aba6-e7b6-435b-dcd2-d88335473d54"
   },
   "outputs": [],
   "source": [
    "prompt = \"explique computação quântica para uma criança de 5 anos\"\n",
    "res = llm.invoke(prompt)\n",
    "show_res(format_res(res.content, return_thinking=True))"
   ]
  },
  {
   "cell_type": "markdown",
   "metadata": {
    "id": "egg2DJCGRjq_",
    "jp-MarkdownHeadingCollapsed": true
   },
   "source": [
    "# PINECONE - Repositório Vetorial\n"
   ]
  },
  {
   "cell_type": "code",
   "execution_count": 6,
   "metadata": {},
   "outputs": [],
   "source": [
    "pc = Pinecone(api_key=os.environ.get(\"PINECONE_API_KEY\"))"
   ]
  },
  {
   "cell_type": "markdown",
   "metadata": {
    "id": "bMkBNbkHkGBh"
   },
   "source": [
    "## Criando uma collection\n",
    "\n"
   ]
  },
  {
   "cell_type": "code",
   "execution_count": 7,
   "metadata": {},
   "outputs": [],
   "source": [
    "def create_index(pc,index_name,dimension=1024):\n",
    "    existing_indexes= [index_info[\"name\"] for index_info in pc.list_indexes()] # change if desired\n",
    "    if index_name in existing_indexes:\n",
    "        print(f\"Deletando o índice existente '{index_name}'...\")\n",
    "        pc.delete_index(index_name)\n",
    "        time.sleep(1) # Aguardar a exclusão\n",
    "\n",
    "    pc.create_index(\n",
    "        name=index_name,\n",
    "        metric=\"cosine\",\n",
    "        dimension=dimension, # Isso irá retornar 768\n",
    "        spec=ServerlessSpec(cloud=\"aws\", region=\"us-east-1\")\n",
    "    )\n",
    "    while not pc.describe_index(index_name).status[\"ready\"]:\n",
    "        print(\"Aguardando o índice ficar pronto...\"+pc.describe_index(index_name).status)\n",
    "        time.sleep(1)\n",
    "\n",
    "    index = pc.Index(index_name)\n",
    "    return index"
   ]
  },
  {
   "cell_type": "markdown",
   "metadata": {
    "id": "HuYvPW-_gYgf"
   },
   "source": [
    "### Modelo de embedding\n",
    "\n"
   ]
  },
  {
   "cell_type": "code",
   "execution_count": 8,
   "metadata": {
    "colab": {
     "base_uri": "https://localhost:8080/",
     "height": 525,
     "referenced_widgets": [
      "7cb57b48e7464f509594068a8842f558",
      "c153bcd9570e4205bb51becac714ca81",
      "b7a4eaa5ca294b06acdfc28159dbe624",
      "6c688a1614d54306a48b4e949dd8f97c",
      "d0682c538b234e7cada85bb019efec52",
      "4a7317e797bd44d2ad0cdb05e185e325",
      "ccb4795431e94a1ba59819e4a6335738",
      "696647d080584abca58865408031baa9",
      "6fe6a9c3507a4e47ae0032b0aaa2faca",
      "18c545fe3281489cbb3e158379a58ff4",
      "84f284b396ea4dc1b3197fa136a56135",
      "b862d360c736495f97fa825c115bcd8d",
      "3f2925c657a04555a4a56fd74a872266",
      "e6ca95fff0d749f6a34c085e17dbc513",
      "dc3e1b9f22fc4a9daad9182b6c2abc4f",
      "e414502628634f128063f98a4027464a",
      "fadad9ff7c7b4fbbbcd494b30a60cd34",
      "4be15df04c3d42988436658159bfb02b",
      "aa136cb32bf34e939f0239cb8c31b8d4",
      "095626396e80404d82b2857a8c8da83e",
      "c686ec12c69046ee96b80135fa558611",
      "decf4f5a309f425e947c032410cdfdde",
      "0d80fdefc52e42819c49221c6c103236",
      "da1774b4b339413aa64bac9f51600cc3",
      "5a5522db852f4028aff3fb9a77683d1d",
      "cac2964ea9684a8ca6d7742bd3a018dd",
      "348b6787e1f84f239fb460722931c7fa",
      "047dabc155564197b30c3e24b6b6187c",
      "08f088d508c2470581d3150172029664",
      "8c1da5635f06477f95fe1f9e3f3d5c4e",
      "3eb88d81d6ee4d889a42cb944f79274b",
      "ad626e7473a449d6a499fb526134e82e",
      "92002773f9ac4218816141fe77f7e5de",
      "96da2ee820fc48009e051f74878ab8d4",
      "dfd90c97c43046c4841b99db42dd86a1",
      "6b2b511e3d554451a8af9f1fa0e71501",
      "feb313a6822c43149752a6f6c133d625",
      "4f10872861304142a2979a3545e91516",
      "779753ca9699480e869ff7c75305ae18",
      "aaf899b50e484ccd997fcb0288d70af6",
      "981337f74b884dbeb1e6e171795f5e2a",
      "bb93c280cf2a4f4e8cd7af9e338c02dd",
      "3566e4d9733f41c797c43e62e614d1b4",
      "9c598828c37145d995e5a1dca3384382",
      "6c0935fe91894249bf1c4ed3b2e06ca3",
      "44c4e4d6317c466191f4d42871215f87",
      "b8db757951794b02bc0162a6e94c9ff0",
      "e8cad83215fd4366bb669a0a37fe163d",
      "175e79ba6a2c4abc94c058b0b0e21d1c",
      "dd7dd36f53784043990e606ee7280d39",
      "5663a3935e154c00b87e3e4609e32672",
      "b8fa5804ab644dcd87c85ffce1ddd8c0",
      "844eed9574074d78b3b1c88a126f5a92",
      "d9f14b9a507f47b0983fcc4383aecd66",
      "93764a0d2cde40c2b84e2a68489f4928",
      "6bd0d147c20f490db2db92d594416804",
      "570be816090240e9bd98ee651fe036c1",
      "72ba3fc1de8a4282b69cd22ffead5ccf",
      "0cec4f4fecae4b069ec3aa6b3016566a",
      "6755f0e8c9db443b8cc7920d3ac22ea9",
      "ab1832fa02cb4fa18e731befd05af31a",
      "ffd49f620f364bfa8086c3489a9a26e6",
      "735bb6c39adf4276a96488811d88bed5",
      "4e8e214975f94fc9b1a834c469ab9b33",
      "284d2e4840f441d4ae03cfeb49402072",
      "2b9936b3fff24b508c8e4927a5c75e59",
      "b0041065c08947f09a5222813cd77487",
      "cb0efcc4baf74b288f145082b6bae66e",
      "114917e2a4444eb694d734ccad35d34c",
      "5fd1f88512bb419c813253af894326da",
      "ffe49b255a8846bf8c3df4af50956d05",
      "84e59b62ff184c828b57b30439d7bb5d",
      "89c176fd9f9a4abb859c7eb054f179ba",
      "071e1560fe754b52957d5adaaadf0c4b",
      "5c24f3a3b600454193bf383d6c30aa5d",
      "d4017e2b642240e3ab9c7eba4590e4eb",
      "c85301fbae7146359821dd11f1807550",
      "e796428ccc1f4786a21a82191893240e",
      "0d9b9f90fa914d0d8541f9b6cf89e48b",
      "a4754e8d4ded4e2aa42136416c9c3aba",
      "f959003e567d490691630123b82bfa58",
      "b08c432cf76647beba45a675355aaf7d",
      "e7f424b47628446d89144292f7f5dfaa",
      "706d1f5ea7af4456a8f5f1f3cb1c1bb3",
      "0863465c595f4c1c930b82bc387bc3a1",
      "6853dd0ce5f54a459d14d01f2dd45065",
      "a3627767eb5d4274948dae9e02f38406",
      "4707dd90085a4603a641c759922931b0",
      "fbe46f951f9c4791bcaf1ce0b6e70920",
      "9eebd6bc2ece47fda9649d6fa6829895",
      "399f5dd68fa94a9497744bafd10affda",
      "08c9d93949984e488670e504e4cda27e",
      "5b75e000879c462985436345809131d5",
      "e43b12fc58d7494bbee73e52be59b15d",
      "80dbf920718f4c27a40581884749ebaa",
      "f81e9301d3d545e796514819cbc648d0",
      "bc60e1e4aab444af94f227f95009467d",
      "d2ad55c9acdc4427a160d554a9bd9e63",
      "89885bd479ad4290bbad6287fce9ca40",
      "fb9d484aed544858bd30509b688e684b",
      "78036686aae14a739f7e7421a8c6e2dd",
      "27a93b1175da4452a9cda652cb610c95",
      "af5bd6b73dce4a55b7900f5af487e659",
      "31afc11054034ebe94b9ae19a3f54745",
      "b61a721a3c6e458abd9eb5daaa1faff3",
      "e2efca8f56ca4bf990ef9e73a7fac184",
      "0270ee90dcf74974afb3a2397dc56abf",
      "b574110a52754811aac379be9f34070c",
      "5b13fd5d27664814a221930a243478e8",
      "de4dcf6f84734046b19e4b1e4fc4a46c",
      "da1bc4e39bea4e388c019a269c9b0b5c",
      "26623507c83c4eb9b0e95c1b917f2e7f",
      "aba7ec21df0840e2aa2dc6b3db825db2",
      "9e242667d6a445f5ba90d96dcec12102",
      "b4e5cb03cef54a5095a832c163356e46",
      "365fcf5a9ba4454785b42d37a8502501",
      "0ea914b37a0c40b99e364eebc10ffe20",
      "c00891402f8c4d56a5dd82cf88c8987d",
      "9837adaa21e241938a5ab9b3a7771a83",
      "393ac51171fa44b9a1ea3523df135040",
      "25455854a2d14d1881438aae63882c78",
      "9c83d4cdf7e14862b97da8c56fca4be7",
      "8d5e2b0b66d046e4bd671bbf03e34c7c",
      "7de0437bdfbd468d8bf18cff634cf972",
      "85c1a2c3667040f1b7e3805fecc8993c",
      "947d99fe99174acb830737e4e5fd3ebe",
      "9ba5abe5fe654c7895237a9d4e11df62",
      "86354d2e37184751aeaa142aff2464c3",
      "80a79f8cb7e24aa787c455051ffe53af",
      "6cda5d663a734543b3646bd270bd9d8f",
      "46309ced99eb422893b9ade43daf0ee0",
      "c69a55b236d74c2c9434e370ef4c8c21"
     ]
    },
    "executionInfo": {
     "elapsed": 56630,
     "status": "ok",
     "timestamp": 1747914016988,
     "user": {
      "displayName": "Jones Granatyr",
      "userId": "10042675233362078631"
     },
     "user_tz": 180
    },
    "id": "gwPVsSx1rxHy",
    "outputId": "b3138349-056b-4728-f38a-97629485e7a1"
   },
   "outputs": [
    {
     "name": "stderr",
     "output_type": "stream",
     "text": [
      "2025-09-25 09:07:33,994 - INFO - Use pytorch device_name: mps\n",
      "2025-09-25 09:07:33,995 - INFO - Load pretrained SentenceTransformer: BAAI/bge-m3\n"
     ]
    }
   ],
   "source": [
    "embedding_model = \"BAAI/bge-m3\"\n",
    "\n",
    "embeddings = HuggingFaceEmbeddings(model_name=embedding_model)"
   ]
  },
  {
   "cell_type": "code",
   "execution_count": 9,
   "metadata": {
    "id": "l3G0Z3lVsgPo"
   },
   "outputs": [],
   "source": [
    "\n",
    "def split_chunks(markdown_splits, chunk_size=1000, chunk_overlap=200):\n",
    "    text_splitter = RecursiveCharacterTextSplitter(\n",
    "        chunk_size=chunk_size,\n",
    "        chunk_overlap=chunk_overlap\n",
    "    )\n",
    "    chunks = text_splitter.split_documents(markdown_splits)\n",
    "    print(f\"Chunks gerados: {len(chunks)}\")\n",
    "    return chunks"
   ]
  },
  {
   "cell_type": "markdown",
   "metadata": {
    "id": "M-_3bcuIjOED"
   },
   "source": [
    "## Criação do Retriever\n"
   ]
  },
  {
   "cell_type": "code",
   "execution_count": 10,
   "metadata": {
    "id": "c_IuCbjZuM5X"
   },
   "outputs": [],
   "source": [
    "def config_retriever(pc ,index_name, docs, embeddings):\n",
    "  create_index(pc, index_name)\n",
    "  vectorstore = PineconeVectorStore.from_documents(\n",
    "      documents=docs,\n",
    "      embedding=embeddings,\n",
    "      index_name=index_name,\n",
    "  )\n",
    "  return vectorstore.as_retriever()"
   ]
  },
  {
   "cell_type": "markdown",
   "metadata": {
    "id": "yDP4Pwmf3p1x"
   },
   "source": [
    "## Carregando documentos\n",
    "\n"
   ]
  },
  {
   "cell_type": "markdown",
   "metadata": {
    "id": "Cky6oj6h2Che"
   },
   "source": [
    "### Funções para divisão (split) do documento em chunks\n",
    "\n"
   ]
  },
  {
   "cell_type": "code",
   "execution_count": 11,
   "metadata": {},
   "outputs": [],
   "source": [
    "def split_chunks(markdown_splits, chunk_size=1000, chunk_overlap=200):\n",
    "    text_splitter = RecursiveCharacterTextSplitter(\n",
    "        chunk_size=chunk_size,\n",
    "        chunk_overlap=chunk_overlap\n",
    "    )\n",
    "    chunks = text_splitter.split_documents(markdown_splits)\n",
    "    print(f\"Chunks gerados: {len(chunks)}\")\n",
    "    return chunks"
   ]
  },
  {
   "cell_type": "code",
   "execution_count": 12,
   "metadata": {
    "colab": {
     "base_uri": "https://localhost:8080/"
    },
    "executionInfo": {
     "elapsed": 6,
     "status": "ok",
     "timestamp": 1747914045829,
     "user": {
      "displayName": "Jones Granatyr",
      "userId": "10042675233362078631"
     },
     "user_tz": 180
    },
    "id": "G0T8FtkztPGt",
    "outputId": "4151408a-8dc3-420b-b7c9-d8c1070676aa"
   },
   "outputs": [
    {
     "name": "stdout",
     "output_type": "stream",
     "text": [
      "Chunks gerados: 8\n"
     ]
    },
    {
     "data": {
      "text/plain": [
       "[Document(metadata={}, page_content='A'),\n",
       " Document(metadata={}, page_content='bibliotec'),\n",
       " Document(metadata={}, page_content='teca'),\n",
       " Document(metadata={}, page_content='possui'),\n",
       " Document(metadata={}, page_content='atualment'),\n",
       " Document(metadata={}, page_content='ente'),\n",
       " Document(metadata={}, page_content='42998'),\n",
       " Document(metadata={}, page_content='livros.')]"
      ]
     },
     "execution_count": 12,
     "metadata": {},
     "output_type": "execute_result"
    }
   ],
   "source": [
    "text = \"\"\"\n",
    "A biblioteca possui atualmente 42998 livros.\n",
    "\"\"\"\n",
    "\n",
    "docs = [Document(page_content=text)]\n",
    "\n",
    "#chunks = split_chunks(docs)\n",
    "chunks = split_chunks(docs, 10, 3)\n",
    "chunks"
   ]
  },
  {
   "cell_type": "markdown",
   "metadata": {
    "id": "V_ufDF6j3tx5"
   },
   "source": [
    "### Criação das demais funções\n",
    "\n"
   ]
  },
  {
   "cell_type": "code",
   "execution_count": 13,
   "metadata": {
    "colab": {
     "base_uri": "https://localhost:8080/"
    },
    "executionInfo": {
     "elapsed": 98595,
     "status": "ok",
     "timestamp": 1747914222936,
     "user": {
      "displayName": "Jones Granatyr",
      "userId": "10042675233362078631"
     },
     "user_tz": 180
    },
    "id": "cp6Viy701B4Y",
    "outputId": "c9f8787d-8ecd-4574-ce1b-49619f3bb9d0"
   },
   "outputs": [
    {
     "name": "stderr",
     "output_type": "stream",
     "text": [
      "2025-09-25 09:07:49,515 - INFO - detected formats: [<InputFormat.PDF: 'pdf'>]\n",
      "2025-09-25 09:07:49,745 - INFO - Going to convert document batch...\n",
      "2025-09-25 09:07:49,747 - INFO - Initializing pipeline for StandardPdfPipeline with options hash e647edf348883bed75367b22fbe60347\n",
      "2025-09-25 09:07:49,808 - INFO - Loading plugin 'docling_defaults'\n",
      "2025-09-25 09:07:49,813 - WARNING - The plugin langchain_docling will not be loaded because Docling is being executed with allow_external_plugins=false.\n",
      "2025-09-25 09:07:49,813 - INFO - Registered picture descriptions: ['vlm', 'api']\n",
      "2025-09-25 09:07:49,841 - INFO - Loading plugin 'docling_defaults'\n",
      "2025-09-25 09:07:49,848 - WARNING - The plugin langchain_docling will not be loaded because Docling is being executed with allow_external_plugins=false.\n",
      "2025-09-25 09:07:49,848 - INFO - Registered ocr engines: ['easyocr', 'ocrmac', 'rapidocr', 'tesserocr', 'tesseract']\n",
      "2025-09-25 09:07:51,693 - INFO - Accelerator device: 'mps'\n",
      "2025-09-25 09:07:53,615 - INFO - Accelerator device: 'mps'\n",
      "2025-09-25 09:07:54,960 - INFO - Accelerator device: 'mps'\n",
      "2025-09-25 09:07:55,353 - INFO - Processing document astronomia.pdf\n",
      "2025-09-25 09:07:58,341 - INFO - Finished converting document astronomia.pdf in 8.83 sec.\n"
     ]
    },
    {
     "data": {
      "text/plain": [
       "[Document(metadata={'source': './artigos/astronomia.pdf', 'dl_meta': {'schema_name': 'docling_core.transforms.chunker.DocMeta', 'version': '1.0.0', 'doc_items': [{'self_ref': '#/texts/1', 'parent': {'$ref': '#/body'}, 'children': [], 'content_layer': 'body', 'label': 'text', 'prov': [{'page_no': 1, 'bbox': {'l': 72.0, 't': 725.814, 'r': 516.221, 'b': 678.184, 'coord_origin': 'BOTTOMLEFT'}, 'charspan': [0, 169]}]}, {'self_ref': '#/texts/2', 'parent': {'$ref': '#/body'}, 'children': [], 'content_layer': 'body', 'label': 'text', 'prov': [{'page_no': 1, 'bbox': {'l': 72.0, 't': 399.012, 'r': 516.779, 'b': 373.646, 'coord_origin': 'BOTTOMLEFT'}, 'charspan': [0, 94]}]}, {'self_ref': '#/texts/3', 'parent': {'$ref': '#/body'}, 'children': [], 'content_layer': 'body', 'label': 'text', 'prov': [{'page_no': 1, 'bbox': {'l': 72.0, 't': 352.945, 'r': 526.023, 'b': 269.611, 'coord_origin': 'BOTTOMLEFT'}, 'charspan': [0, 276]}]}], 'headings': ['Astronomia'], 'origin': {'mimetype': 'application/pdf', 'binary_hash': 10719400491668737820, 'filename': 'astronomia.pdf'}}}, page_content='Astronomia\\nA astronomia é a ciência mais antiga do mundo. Ela investiga os corpos celestes em sua estrutura, formação e ciclo de vida, além dos fenômenos que acontecem no Universo.\\nAstronomia é a ciência que estuda os corpos celestes e os fenômenos que acontecem no Universo.\\nAstronomia é uma ciência que estuda a composição e formação dos corpos celestes e os fenômenos que acontecem no Universo. É considerada a mais antiga das ciências, tendo se originado, há milhares de anos, com base na observação do comportamento dos astros e estrelas nos céus.'),\n",
       " Document(metadata={'source': './artigos/astronomia.pdf', 'dl_meta': {'schema_name': 'docling_core.transforms.chunker.DocMeta', 'version': '1.0.0', 'doc_items': [{'self_ref': '#/texts/4', 'parent': {'$ref': '#/body'}, 'children': [], 'content_layer': 'body', 'label': 'text', 'prov': [{'page_no': 1, 'bbox': {'l': 72.0, 't': 252.68399999999997, 'r': 526.745, 'b': 187.202, 'coord_origin': 'BOTTOMLEFT'}, 'charspan': [0, 263]}]}, {'self_ref': '#/texts/5', 'parent': {'$ref': '#/body'}, 'children': [], 'content_layer': 'body', 'label': 'text', 'prov': [{'page_no': 1, 'bbox': {'l': 72.0, 't': 155.27499999999998, 'r': 526.726, 'b': 107.64499999999998, 'coord_origin': 'BOTTOMLEFT'}, 'charspan': [0, 185]}]}, {'self_ref': '#/texts/6', 'parent': {'$ref': '#/body'}, 'children': [], 'content_layer': 'body', 'label': 'text', 'prov': [{'page_no': 2, 'bbox': {'l': 72.0, 't': 767.001, 'r': 526.729, 'b': 737.223, 'coord_origin': 'BOTTOMLEFT'}, 'charspan': [0, 74]}]}], 'headings': ['Astronomia'], 'origin': {'mimetype': 'application/pdf', 'binary_hash': 10719400491668737820, 'filename': 'astronomia.pdf'}}}, page_content='Astronomia\\nO surgimento de instrumentos e o aperfeiçoamento tecnológico permitiram grandes  feitos  e  descobertas  no  campo  da  astronomia,  o  que  inclui evidências de como o Universo surgiu, a caminhada sobre a superfície da Lua e a primeira imagem de um buraco negro.\\nOs profissionais formados em astronomia recebem o título de astrônomos, e  podem  trabalhar  com  pesquisa  e  divulgação  científica  e  também  em museus, observatórios e planetários.\\nLeia também: Sistema Solar - conjunto de corpos celestes que orbitam o Sol'),\n",
       " Document(metadata={'source': './artigos/astronomia.pdf', 'dl_meta': {'schema_name': 'docling_core.transforms.chunker.DocMeta', 'version': '1.0.0', 'doc_items': [{'self_ref': '#/texts/8', 'parent': {'$ref': '#/groups/0'}, 'children': [], 'content_layer': 'body', 'label': 'list_item', 'prov': [{'page_no': 2, 'bbox': {'l': 108.0, 't': 667.389, 'r': 300.836, 'b': 655.463, 'coord_origin': 'BOTTOMLEFT'}, 'charspan': [0, 29]}]}, {'self_ref': '#/texts/9', 'parent': {'$ref': '#/groups/0'}, 'children': [], 'content_layer': 'body', 'label': 'list_item', 'prov': [{'page_no': 2, 'bbox': {'l': 108.0, 't': 649.536, 'r': 268.589, 'b': 637.611, 'coord_origin': 'BOTTOMLEFT'}, 'charspan': [0, 25]}]}, {'self_ref': '#/texts/10', 'parent': {'$ref': '#/groups/0'}, 'children': [], 'content_layer': 'body', 'label': 'list_item', 'prov': [{'page_no': 2, 'bbox': {'l': 108.0, 't': 631.684, 'r': 301.614, 'b': 619.758, 'coord_origin': 'BOTTOMLEFT'}, 'charspan': [0, 30]}]}, {'self_ref': '#/texts/11', 'parent': {'$ref': '#/groups/0'}, 'children': [], 'content_layer': 'body', 'label': 'list_item', 'prov': [{'page_no': 2, 'bbox': {'l': 108.0, 't': 613.832, 'r': 263.316, 'b': 601.906, 'coord_origin': 'BOTTOMLEFT'}, 'charspan': [0, 23]}]}, {'self_ref': '#/texts/12', 'parent': {'$ref': '#/groups/0'}, 'children': [], 'content_layer': 'body', 'label': 'list_item', 'prov': [{'page_no': 2, 'bbox': {'l': 108.0, 't': 595.98, 'r': 266.315, 'b': 584.054, 'coord_origin': 'BOTTOMLEFT'}, 'charspan': [0, 26]}]}, {'self_ref': '#/texts/13', 'parent': {'$ref': '#/groups/0'}, 'children': [], 'content_layer': 'body', 'label': 'list_item', 'prov': [{'page_no': 2, 'bbox': {'l': 108.0, 't': 578.127, 'r': 285.095, 'b': 566.202, 'coord_origin': 'BOTTOMLEFT'}, 'charspan': [0, 27]}]}, {'self_ref': '#/texts/14', 'parent': {'$ref': '#/groups/0'}, 'children': [], 'content_layer': 'body', 'label': 'list_item', 'prov': [{'page_no': 2, 'bbox': {'l': 108.0, 't': 560.275, 'r': 272.32, 'b': 548.349, 'coord_origin': 'BOTTOMLEFT'}, 'charspan': [0, 27]}]}, {'self_ref': '#/texts/15', 'parent': {'$ref': '#/groups/0'}, 'children': [], 'content_layer': 'body', 'label': 'list_item', 'prov': [{'page_no': 2, 'bbox': {'l': 108.0, 't': 542.423, 'r': 314.35, 'b': 530.497, 'coord_origin': 'BOTTOMLEFT'}, 'charspan': [0, 33]}]}], 'headings': ['Tópicos deste artigo'], 'origin': {'mimetype': 'application/pdf', 'binary_hash': 10719400491668737820, 'filename': 'astronomia.pdf'}}}, page_content='Tópicos deste artigo\\n- 1 - Resumo sobre a astronomia\\n- 2 - O que é a astronomia?\\n- 3 - O que a astronomia estuda?\\n- 4 - Ramos da astronomia\\n- 5 - História da astronomia\\n- 6 - Faculdade de Astronomia\\n- 7 - Astronomia x astrologia\\n- 8 - Curiosidades sobre astronomia'),\n",
       " Document(metadata={'source': './artigos/astronomia.pdf', 'dl_meta': {'schema_name': 'docling_core.transforms.chunker.DocMeta', 'version': '1.0.0', 'doc_items': [{'self_ref': '#/texts/17', 'parent': {'$ref': '#/groups/1'}, 'children': [], 'content_layer': 'body', 'label': 'list_item', 'prov': [{'page_no': 2, 'bbox': {'l': 90.0, 't': 463.663, 'r': 469.705, 'b': 433.885, 'coord_origin': 'BOTTOMLEFT'}, 'charspan': [0, 69]}]}, {'self_ref': '#/texts/18', 'parent': {'$ref': '#/groups/1'}, 'children': [], 'content_layer': 'body', 'label': 'list_item', 'prov': [{'page_no': 2, 'bbox': {'l': 90.0, 't': 427.958, 'r': 318.12, 'b': 416.033, 'coord_origin': 'BOTTOMLEFT'}, 'charspan': [0, 36]}]}, {'self_ref': '#/texts/19', 'parent': {'$ref': '#/groups/1'}, 'children': [], 'content_layer': 'body', 'label': 'list_item', 'prov': [{'page_no': 2, 'bbox': {'l': 90.0, 't': 410.106, 'r': 512.433, 'b': 380.328, 'coord_origin': 'BOTTOMLEFT'}, 'charspan': [0, 132]}]}, {'self_ref': '#/texts/20', 'parent': {'$ref': '#/groups/1'}, 'children': [], 'content_layer': 'body', 'label': 'list_item', 'prov': [{'page_no': 2, 'bbox': {'l': 90.0, 't': 374.402, 'r': 519.242, 'b': 291.067, 'coord_origin': 'BOTTOMLEFT'}, 'charspan': [0, 283]}]}, {'self_ref': '#/texts/21', 'parent': {'$ref': '#/groups/1'}, 'children': [], 'content_layer': 'body', 'label': 'list_item', 'prov': [{'page_no': 2, 'bbox': {'l': 90.0, 't': 285.1410000000001, 'r': 502.69, 'b': 237.51, 'coord_origin': 'BOTTOMLEFT'}, 'charspan': [0, 137]}]}], 'headings': ['Resumo sobre a astronomia'], 'origin': {'mimetype': 'application/pdf', 'binary_hash': 10719400491668737820, 'filename': 'astronomia.pdf'}}}, page_content='Resumo sobre a astronomia\\n-  A astronomia estuda os corpos celestes e os fenômenos do Universo.\\n-  É a ciência mais antiga do mundo.\\n-  A ciência astronômica se divide em oito ramos complementares de estudo, os quais incluem áreas como a cosmologia e a astrofísica.\\n- Surgiu da curiosidade a respeito dos astros no céu, cujas observações começaram a milhares de anos antes do presente. Civilizações antigas já construíam monumentos em pedra que auxiliavam na determinação da passagem do tempo e das estações do ano e na identificação dos solstícios.\\n- Importantes contribuições à astronomia foram feitas, durante os séculos XVI e XVII, por nomes como Nicolau Copérnico e Galileu Galilei.'),\n",
       " Document(metadata={'source': './artigos/astronomia.pdf', 'dl_meta': {'schema_name': 'docling_core.transforms.chunker.DocMeta', 'version': '1.0.0', 'doc_items': [{'self_ref': '#/texts/22', 'parent': {'$ref': '#/groups/1'}, 'children': [], 'content_layer': 'body', 'label': 'list_item', 'prov': [{'page_no': 2, 'bbox': {'l': 90.0, 't': 231.58400000000006, 'r': 514.747, 'b': 183.95399999999995, 'coord_origin': 'BOTTOMLEFT'}, 'charspan': [0, 135]}]}, {'self_ref': '#/texts/23', 'parent': {'$ref': '#/groups/1'}, 'children': [], 'content_layer': 'body', 'label': 'list_item', 'prov': [{'page_no': 2, 'bbox': {'l': 90.0, 't': 178.02700000000004, 'r': 504.958, 'b': 130.39699999999993, 'coord_origin': 'BOTTOMLEFT'}, 'charspan': [0, 172]}]}, {'self_ref': '#/texts/24', 'parent': {'$ref': '#/groups/1'}, 'children': [], 'content_layer': 'body', 'label': 'list_item', 'prov': [{'page_no': 2, 'bbox': {'l': 90.0, 't': 124.47000000000003, 'r': 516.263, 'b': 76.84000000000003, 'coord_origin': 'BOTTOMLEFT'}, 'charspan': [0, 161]}]}], 'headings': ['Resumo sobre a astronomia'], 'origin': {'mimetype': 'application/pdf', 'binary_hash': 10719400491668737820, 'filename': 'astronomia.pdf'}}}, page_content='Resumo sobre a astronomia\\n-  O surgimento de novas tecnologias e o aperfeiçoamento da ciência astronômica proporcionaram grandes feitos nos períodos posteriores.\\n-  A faculdade de astronomia forma os astrônomos, que atuam principalmente na pesquisa e divulgação científica. No Brasil, três instituições oferecem o curso gratuitamente.\\n-  Astronomia e astrologia não são a mesma coisa. A astrologia é considerada uma pseudociência que analisa a influência dos astros na nossa vida e personalidade.'),\n",
       " Document(metadata={'source': './artigos/astronomia.pdf', 'dl_meta': {'schema_name': 'docling_core.transforms.chunker.DocMeta', 'version': '1.0.0', 'doc_items': [{'self_ref': '#/texts/26', 'parent': {'$ref': '#/body'}, 'children': [], 'content_layer': 'body', 'label': 'text', 'prov': [{'page_no': 3, 'bbox': {'l': 72.0, 't': 729.093, 'r': 526.779, 'b': 645.758, 'coord_origin': 'BOTTOMLEFT'}, 'charspan': [0, 340]}]}], 'headings': ['O que é a astronomia?'], 'origin': {'mimetype': 'application/pdf', 'binary_hash': 10719400491668737820, 'filename': 'astronomia.pdf'}}}, page_content='O que é a astronomia?\\nA astronomia é uma ciência da natureza que se dedica à compreensão de tudo aquilo que se encontra além da nossa atmosfera terrestre, estudando os  astros  e  estrelas  que  compõem  o Universo bem como os fenômenos que nele acontecem. Surgida a milhares de anos antes da Era Comum, a astronomia é considerada a ciência mais antiga do mundo.'),\n",
       " Document(metadata={'source': './artigos/astronomia.pdf', 'dl_meta': {'schema_name': 'docling_core.transforms.chunker.DocMeta', 'version': '1.0.0', 'doc_items': [{'self_ref': '#/texts/28', 'parent': {'$ref': '#/body'}, 'children': [], 'content_layer': 'body', 'label': 'text', 'prov': [{'page_no': 3, 'bbox': {'l': 72.0, 't': 575.924, 'r': 526.758, 'b': 546.146, 'coord_origin': 'BOTTOMLEFT'}, 'charspan': [0, 132]}]}, {'self_ref': '#/texts/29', 'parent': {'$ref': '#/groups/2'}, 'children': [], 'content_layer': 'body', 'label': 'list_item', 'prov': [{'page_no': 3, 'bbox': {'l': 90.0, 't': 514.22, 'r': 162.771, 'b': 502.294, 'coord_origin': 'BOTTOMLEFT'}, 'charspan': [0, 11]}]}, {'self_ref': '#/texts/30', 'parent': {'$ref': '#/groups/2'}, 'children': [], 'content_layer': 'body', 'label': 'list_item', 'prov': [{'page_no': 3, 'bbox': {'l': 90.0, 't': 496.367, 'r': 140.267, 'b': 484.442, 'coord_origin': 'BOTTOMLEFT'}, 'charspan': [0, 7]}]}, {'self_ref': '#/texts/31', 'parent': {'$ref': '#/groups/2'}, 'children': [], 'content_layer': 'body', 'label': 'list_item', 'prov': [{'page_no': 3, 'bbox': {'l': 90.0, 't': 478.515, 'r': 263.336, 'b': 466.589, 'coord_origin': 'BOTTOMLEFT'}, 'charspan': [0, 27]}]}, {'self_ref': '#/texts/32', 'parent': {'$ref': '#/groups/2'}, 'children': [], 'content_layer': 'body', 'label': 'list_item', 'prov': [{'page_no': 3, 'bbox': {'l': 90.0, 't': 460.663, 'r': 166.542, 'b': 448.737, 'coord_origin': 'BOTTOMLEFT'}, 'charspan': [0, 11]}]}, {'self_ref': '#/texts/33', 'parent': {'$ref': '#/groups/2'}, 'children': [], 'content_layer': 'body', 'label': 'list_item', 'prov': [{'page_no': 3, 'bbox': {'l': 90.0, 't': 442.811, 'r': 178.526, 'b': 430.885, 'coord_origin': 'BOTTOMLEFT'}, 'charspan': [0, 13]}]}, {'self_ref': '#/texts/34', 'parent': {'$ref': '#/groups/2'}, 'children': [], 'content_layer': 'body', 'label': 'list_item', 'prov': [{'page_no': 3, 'bbox': {'l': 90.0, 't': 424.958, 'r': 177.787, 'b': 413.033, 'coord_origin': 'BOTTOMLEFT'}, 'charspan': [0, 13]}]}, {'self_ref': '#/texts/35', 'parent': {'$ref': '#/groups/2'}, 'children': [], 'content_layer': 'body', 'label': 'list_item', 'prov': [{'page_no': 3, 'bbox': {'l': 90.0, 't': 407.106, 'r': 165.032, 'b': 395.18, 'coord_origin': 'BOTTOMLEFT'}, 'charspan': [0, 11]}]}, {'self_ref': '#/texts/36', 'parent': {'$ref': '#/groups/2'}, 'children': [], 'content_layer': 'body', 'label': 'list_item', 'prov': [{'page_no': 3, 'bbox': {'l': 90.0, 't': 389.254, 'r': 177.049, 'b': 377.328, 'coord_origin': 'BOTTOMLEFT'}, 'charspan': [0, 13]}]}], 'headings': ['O que a astronomia estuda?'], 'origin': {'mimetype': 'application/pdf', 'binary_hash': 10719400491668737820, 'filename': 'astronomia.pdf'}}}, page_content='O que a astronomia estuda?\\nPor definição, a astronomia estuda os diferentes corpos e objetos celestes que fazem parte do Universo, dentre os quais se destacam:\\n- estrelas;\\n- luas;\\n-  aglomerados de estrelas;\\n- planetas;\\n- meteoritos;\\n- asteroides;\\n- galáxias;\\n-  nebulosas.'),\n",
       " Document(metadata={'source': './artigos/astronomia.pdf', 'dl_meta': {'schema_name': 'docling_core.transforms.chunker.DocMeta', 'version': '1.0.0', 'doc_items': [{'self_ref': '#/texts/37', 'parent': {'$ref': '#/body'}, 'children': [], 'content_layer': 'body', 'label': 'text', 'prov': [{'page_no': 3, 'bbox': {'l': 72.0, 't': 348.402, 'r': 526.745, 'b': 229.36300000000006, 'coord_origin': 'BOTTOMLEFT'}, 'charspan': [0, 526]}]}, {'self_ref': '#/texts/38', 'parent': {'$ref': '#/body'}, 'children': [], 'content_layer': 'body', 'label': 'text', 'prov': [{'page_no': 3, 'bbox': {'l': 72.0, 't': 197.43600000000004, 'r': 526.768, 'b': 167.65800000000002, 'coord_origin': 'BOTTOMLEFT'}, 'charspan': [0, 82]}]}], 'headings': ['O que a astronomia estuda?'], 'origin': {'mimetype': 'application/pdf', 'binary_hash': 10719400491668737820, 'filename': 'astronomia.pdf'}}}, page_content='O que a astronomia estuda?\\nA ciência astronômica investiga a estrutura do Universo e de cada um dos diferentes  corpos  celestes  que  dele  fazem  parte,  a  forma  como  eles  se originam  e  se  desenvolvem,  sua  interação  e  os  fenômenos  por  eles provocados  ou  dos  quais  esses  mesmos  objetos  resultam.  Para  isso, utiliza-se  de  conceitos  e  formulações  de  outras  disciplinas  que  são  tão importantes quanto a astronomia para a compreensão do cosmos, como a Física, a Matemática, a meteorologia, a Química e até mesmo a Biologia.\\nVeja  abaixo  alguns  exemplos  de  temas  abordados  nos  estudos  da astronomia:'),\n",
       " Document(metadata={'source': './artigos/astronomia.pdf', 'dl_meta': {'schema_name': 'docling_core.transforms.chunker.DocMeta', 'version': '1.0.0', 'doc_items': [{'self_ref': '#/texts/39', 'parent': {'$ref': '#/groups/3'}, 'children': [], 'content_layer': 'body', 'label': 'list_item', 'prov': [{'page_no': 3, 'bbox': {'l': 90.0, 't': 135.73199999999997, 'r': 232.552, 'b': 123.80600000000004, 'coord_origin': 'BOTTOMLEFT'}, 'charspan': [0, 22]}]}, {'self_ref': '#/texts/40', 'parent': {'$ref': '#/groups/3'}, 'children': [], 'content_layer': 'body', 'label': 'list_item', 'prov': [{'page_no': 3, 'bbox': {'l': 90.0, 't': 117.87900000000002, 'r': 262.591, 'b': 105.95399999999995, 'coord_origin': 'BOTTOMLEFT'}, 'charspan': [0, 27]}]}, {'self_ref': '#/texts/41', 'parent': {'$ref': '#/groups/3'}, 'children': [], 'content_layer': 'body', 'label': 'list_item', 'prov': [{'page_no': 3, 'bbox': {'l': 90.0, 't': 100.02700000000004, 'r': 324.105, 'b': 88.101, 'coord_origin': 'BOTTOMLEFT'}, 'charspan': [0, 37]}]}, {'self_ref': '#/texts/42', 'parent': {'$ref': '#/groups/3'}, 'children': [], 'content_layer': 'body', 'label': 'list_item', 'prov': [{'page_no': 4, 'bbox': {'l': 90.0, 't': 767.001, 'r': 513.976, 'b': 755.075, 'coord_origin': 'BOTTOMLEFT'}, 'charspan': [0, 66]}]}, {'self_ref': '#/texts/43', 'parent': {'$ref': '#/groups/3'}, 'children': [], 'content_layer': 'body', 'label': 'list_item', 'prov': [{'page_no': 4, 'bbox': {'l': 90.0, 't': 749.148, 'r': 199.534, 'b': 737.223, 'coord_origin': 'BOTTOMLEFT'}, 'charspan': [0, 17]}]}, {'self_ref': '#/texts/44', 'parent': {'$ref': '#/groups/3'}, 'children': [], 'content_layer': 'body', 'label': 'list_item', 'prov': [{'page_no': 4, 'bbox': {'l': 90.0, 't': 731.296, 'r': 470.226, 'b': 719.37, 'coord_origin': 'BOTTOMLEFT'}, 'charspan': [0, 61]}]}, {'self_ref': '#/texts/45', 'parent': {'$ref': '#/groups/3'}, 'children': [], 'content_layer': 'body', 'label': 'list_item', 'prov': [{'page_no': 4, 'bbox': {'l': 90.0, 't': 713.444, 'r': 491.471, 'b': 683.666, 'coord_origin': 'BOTTOMLEFT'}, 'charspan': [0, 70]}]}, {'self_ref': '#/texts/46', 'parent': {'$ref': '#/groups/3'}, 'children': [], 'content_layer': 'body', 'label': 'list_item', 'prov': [{'page_no': 4, 'bbox': {'l': 90.0, 't': 677.74, 'r': 372.133, 'b': 665.814, 'coord_origin': 'BOTTOMLEFT'}, 'charspan': [0, 45]}]}, {'self_ref': '#/texts/47', 'parent': {'$ref': '#/groups/3'}, 'children': [], 'content_layer': 'body', 'label': 'list_item', 'prov': [{'page_no': 4, 'bbox': {'l': 90.0, 't': 659.887, 'r': 215.295, 'b': 647.962, 'coord_origin': 'BOTTOMLEFT'}, 'charspan': [0, 20]}]}, {'self_ref': '#/texts/48', 'parent': {'$ref': '#/groups/3'}, 'children': [], 'content_layer': 'body', 'label': 'list_item', 'prov': [{'page_no': 4, 'bbox': {'l': 90.0, 't': 642.035, 'r': 348.139, 'b': 630.109, 'coord_origin': 'BOTTOMLEFT'}, 'charspan': [0, 40]}]}], 'headings': ['O que a astronomia estuda?'], 'origin': {'mimetype': 'application/pdf', 'binary_hash': 10719400491668737820, 'filename': 'astronomia.pdf'}}}, page_content='O que a astronomia estuda?\\n-  origem do Universo;\\n-  surgimento dos planetas;\\n- cálculo de distâncias astronômicas;\\n-  determinação da idade e composição química dos corpos celestes;\\n-  Sistema Solar;\\n-  Via Láctea, outras galáxias e fenômenos a elas associados;\\n-  exoplanetas e outros corpos que se encontram fora do Sistema Solar;\\n-  nascimento, evolução e morte das estrelas;\\n- meio interestelar;\\n-  origem e evolução dos buracos negros.'),\n",
       " Document(metadata={'source': './artigos/astronomia.pdf', 'dl_meta': {'schema_name': 'docling_core.transforms.chunker.DocMeta', 'version': '1.0.0', 'doc_items': [{'self_ref': '#/texts/50', 'parent': {'$ref': '#/body'}, 'children': [], 'content_layer': 'body', 'label': 'text', 'prov': [{'page_no': 4, 'bbox': {'l': 72.0, 't': 563.275, 'r': 526.756, 'b': 479.941, 'coord_origin': 'BOTTOMLEFT'}, 'charspan': [0, 339]}]}], 'headings': ['Ramos da astronomia'], 'origin': {'mimetype': 'application/pdf', 'binary_hash': 10719400491668737820, 'filename': 'astronomia.pdf'}}}, page_content='Ramos da astronomia\\nA astronomia trabalha com temas bastante complexos que são abordados por diferentes  ramificações  dessa  ciência.  Dividida  anteriormente  em observacional  (observação  dos  astros  e  coleta  de  dados)  e  teórica (desenvolvimento de modelos e teorias com base nos dados coletados), a astronomia hoje é composta pelos seguintes ramos:'),\n",
       " Document(metadata={'source': './artigos/astronomia.pdf', 'dl_meta': {'schema_name': 'docling_core.transforms.chunker.DocMeta', 'version': '1.0.0', 'doc_items': [{'self_ref': '#/texts/51', 'parent': {'$ref': '#/groups/4'}, 'children': [], 'content_layer': 'body', 'label': 'list_item', 'prov': [{'page_no': 4, 'bbox': {'l': 90.0, 't': 448.014, 'r': 520.923, 'b': 418.236, 'coord_origin': 'BOTTOMLEFT'}, 'charspan': [0, 131]}]}, {'self_ref': '#/texts/52', 'parent': {'$ref': '#/groups/4'}, 'children': [], 'content_layer': 'body', 'label': 'list_item', 'prov': [{'page_no': 4, 'bbox': {'l': 90.0, 't': 412.31, 'r': 524.483, 'b': 346.827, 'coord_origin': 'BOTTOMLEFT'}, 'charspan': [0, 211]}]}, {'self_ref': '#/texts/53', 'parent': {'$ref': '#/groups/4'}, 'children': [], 'content_layer': 'body', 'label': 'list_item', 'prov': [{'page_no': 4, 'bbox': {'l': 90.0, 't': 340.901, 'r': 517.72, 'b': 275.418, 'coord_origin': 'BOTTOMLEFT'}, 'charspan': [0, 252]}]}, {'self_ref': '#/texts/54', 'parent': {'$ref': '#/groups/4'}, 'children': [], 'content_layer': 'body', 'label': 'list_item', 'prov': [{'page_no': 4, 'bbox': {'l': 90.0, 't': 269.491, 'r': 510.95, 'b': 221.86199999999997, 'coord_origin': 'BOTTOMLEFT'}, 'charspan': [0, 148]}]}], 'headings': ['Ramos da astronomia'], 'origin': {'mimetype': 'application/pdf', 'binary_hash': 10719400491668737820, 'filename': 'astronomia.pdf'}}}, page_content='Ramos da astronomia\\n- Astrobiologia: estuda a origem, a evolução e o futuro da vida no Universo. Trata-se de um dos campos mais recentes da astronomia.\\n- Astrofísica: é um ramo, tanto da astronomia quanto da Física, que aplica os princípios da Física para a compreensão das propriedades, dinâmicas e interações entre os diferentes objetos e fenômenos do Universo.\\n-  Astrometria: chamada também de astronomia de posição, a astrometria é o ramo que estuda e calcula a posição e o movimento dos astros celestes, além de analisar os exoplanetas. Por meio da astrometria, é possível prever eclipses e chuvas de meteoros.\\n-  Astroquímica: estuda a composição química dos corpos celestes e as reações entre as diferentes partículas que formam o Universo e seus elementos.'),\n",
       " Document(metadata={'source': './artigos/astronomia.pdf', 'dl_meta': {'schema_name': 'docling_core.transforms.chunker.DocMeta', 'version': '1.0.0', 'doc_items': [{'self_ref': '#/texts/55', 'parent': {'$ref': '#/groups/4'}, 'children': [], 'content_layer': 'body', 'label': 'list_item', 'prov': [{'page_no': 4, 'bbox': {'l': 90.0, 't': 215.93499999999995, 'r': 516.948, 'b': 186.15700000000004, 'coord_origin': 'BOTTOMLEFT'}, 'charspan': [0, 83]}]}, {'self_ref': '#/texts/56', 'parent': {'$ref': '#/groups/4'}, 'children': [], 'content_layer': 'body', 'label': 'list_item', 'prov': [{'page_no': 4, 'bbox': {'l': 90.0, 't': 180.23000000000002, 'r': 522.229, 'b': 114.74800000000005, 'coord_origin': 'BOTTOMLEFT'}, 'charspan': [0, 206]}]}, {'self_ref': '#/texts/57', 'parent': {'$ref': '#/groups/4'}, 'children': [], 'content_layer': 'body', 'label': 'list_item', 'prov': [{'page_no': 4, 'bbox': {'l': 90.0, 't': 108.822, 'r': 475.46, 'b': 79.04399999999998, 'coord_origin': 'BOTTOMLEFT'}, 'charspan': [0, 115]}]}], 'headings': ['Ramos da astronomia'], 'origin': {'mimetype': 'application/pdf', 'binary_hash': 10719400491668737820, 'filename': 'astronomia.pdf'}}}, page_content='Ramos da astronomia\\n- Astronomia estelar: estuda a classificação e também o ciclo de vida das estrelas.\\n-  Astronomia planetária: estuda o Sistema Solar e todos os elementos que o formam, como os planetas e as luas, aprofundando-se em temas como a formação e evolução dos planetas e a sua composição geológica.\\n- Astronomia galática: estuda a estrutura, a formação, o desenvolvimento e a morte das galáxias, como a Via Láctea.'),\n",
       " Document(metadata={'source': './artigos/astronomia.pdf', 'dl_meta': {'schema_name': 'docling_core.transforms.chunker.DocMeta', 'version': '1.0.0', 'doc_items': [{'self_ref': '#/texts/58', 'parent': {'$ref': '#/groups/4'}, 'children': [], 'content_layer': 'body', 'label': 'list_item', 'prov': [{'page_no': 5, 'bbox': {'l': 90.0, 't': 767.001, 'r': 526.711, 'b': 683.666, 'coord_origin': 'BOTTOMLEFT'}, 'charspan': [0, 318]}]}], 'headings': ['Ramos da astronomia'], 'origin': {'mimetype': 'application/pdf', 'binary_hash': 10719400491668737820, 'filename': 'astronomia.pdf'}}}, page_content='Ramos da astronomia\\n-  Cosmologia: apesar de usada como sinônimo de astronomia em muitos casos, trata-se, na verdade, de um dos ramos de estudo dessa ciência. Ela se dedica à compreensão da origem do Universo como um todo, bem como de sua evolução e estrutura. Faz parte dela temas como energia escura, matéria escura e teoria das cordas.'),\n",
       " Document(metadata={'source': './artigos/astronomia.pdf', 'dl_meta': {'schema_name': 'docling_core.transforms.chunker.DocMeta', 'version': '1.0.0', 'doc_items': [{'self_ref': '#/texts/60', 'parent': {'$ref': '#/pictures/1'}, 'children': [], 'content_layer': 'body', 'label': 'caption', 'prov': [{'page_no': 5, 'bbox': {'l': 84.208, 't': 309.03, 'r': 514.263, 'b': 283.664, 'coord_origin': 'BOTTOMLEFT'}, 'charspan': [0, 164]}]}, {'self_ref': '#/texts/61', 'parent': {'$ref': '#/body'}, 'children': [], 'content_layer': 'body', 'label': 'text', 'prov': [{'page_no': 5, 'bbox': {'l': 72.0, 't': 267.17100000000005, 'r': 526.748, 'b': 130.27999999999997, 'coord_origin': 'BOTTOMLEFT'}, 'charspan': [0, 589]}]}], 'headings': ['História da astronomia'], 'origin': {'mimetype': 'application/pdf', 'binary_hash': 10719400491668737820, 'filename': 'astronomia.pdf'}}}, page_content='História da astronomia\\nCírculo de rochas construído pelos egípcios há mais de 7 mil anos. Ele era utilizado para determinar a chegada do solstício de verão e a aproximação das monções.[1]\\nSurgida  da  curiosidade  humana  sobre  a  forma  como  os  astros  se comportam no céu, a astronomia é considerada a ciência mais antiga do mundo. As observações astronômicas datam de milhares de anos antes da Era Comum, com povos egípcios que viviam na região de Assuã, onde fica o  sítio  de  Nabta  Playa.  Lá  foi  construído  um  círculo  de  pedras  utilizado para determinar a chegada do solstício de verão, sendo um dos primeiros registros  físicos  de  como  a  posição  dos  astros  e  a sua interação com o planeta Terra eram importantes no cotidiano das civilizações antigas.'),\n",
       " Document(metadata={'source': './artigos/astronomia.pdf', 'dl_meta': {'schema_name': 'docling_core.transforms.chunker.DocMeta', 'version': '1.0.0', 'doc_items': [{'self_ref': '#/texts/62', 'parent': {'$ref': '#/body'}, 'children': [], 'content_layer': 'body', 'label': 'text', 'prov': [{'page_no': 6, 'bbox': {'l': 72.0, 't': 767.001, 'r': 526.764, 'b': 665.814, 'coord_origin': 'BOTTOMLEFT'}, 'charspan': [0, 389]}]}, {'self_ref': '#/texts/63', 'parent': {'$ref': '#/body'}, 'children': [], 'content_layer': 'body', 'label': 'text', 'prov': [{'page_no': 6, 'bbox': {'l': 72.0, 't': 633.887, 'r': 526.748, 'b': 550.553, 'coord_origin': 'BOTTOMLEFT'}, 'charspan': [0, 328]}]}], 'headings': ['História da astronomia'], 'origin': {'mimetype': 'application/pdf', 'binary_hash': 10719400491668737820, 'filename': 'astronomia.pdf'}}}, page_content='História da astronomia\\nEstruturas tão importantes quanto a de Nabta Playa foram construídas no norte  da  Europa  por  volta  do  ano  3000  a.C.,  como  o  monumento  de Stonehenge, em Wiltshire, na Inglaterra. Além do seu propósito religioso e espiritual, os círculos dessa construção eram utilizados na identificação do início  e  do  término  dos  solstícios  de  inverno  e  de  verão  no  Hemisfério Norte.\\nOutros  povos  antigos,  como  babilônios  e  os  assírios,  foram  também responsáveis por grandes contribuições à astronomia, algumas das quais identificadas  em registros em tábuas de argila em escrita cuneiforme. As tábuas que foram preservadas se encontram hoje em exibição em museus, como o Museu Britânico, na Inglaterra.'),\n",
       " Document(metadata={'source': './artigos/astronomia.pdf', 'dl_meta': {'schema_name': 'docling_core.transforms.chunker.DocMeta', 'version': '1.0.0', 'doc_items': [{'self_ref': '#/texts/64', 'parent': {'$ref': '#/body'}, 'children': [], 'content_layer': 'body', 'label': 'text', 'prov': [{'page_no': 6, 'bbox': {'l': 72.0, 't': 518.626, 'r': 526.747, 'b': 399.587, 'coord_origin': 'BOTTOMLEFT'}, 'charspan': [0, 463]}]}], 'headings': ['História da astronomia'], 'origin': {'mimetype': 'application/pdf', 'binary_hash': 10719400491668737820, 'filename': 'astronomia.pdf'}}}, page_content='História da astronomia\\nCom o passar do tempo, gregos, chineses, árabes e indianos aperfeiçoaram a astronomia e fizeram a introdução de novas proposições e  elementos (obtidos com base em cálculos matemáticos) a esse campo do conhecimento, imprimindo-lhe o caráter multidisciplinar que hoje exibe. Atribui-se aos gregos a sistematização da astronomia e do princípio de sua teorização,  com  destaque  para  nomes  como  Anaxímenes  de  Mileto, Pitágoras, Aristóteles, Hiparco e Ptolomeu.'),\n",
       " Document(metadata={'source': './artigos/astronomia.pdf', 'dl_meta': {'schema_name': 'docling_core.transforms.chunker.DocMeta', 'version': '1.0.0', 'doc_items': [{'self_ref': '#/texts/65', 'parent': {'$ref': '#/body'}, 'children': [], 'content_layer': 'body', 'label': 'text', 'prov': [{'page_no': 6, 'bbox': {'l': 72.0, 't': 367.66, 'r': 526.767, 'b': 248.62099999999998, 'coord_origin': 'BOTTOMLEFT'}, 'charspan': [0, 473]}]}], 'headings': ['História da astronomia'], 'origin': {'mimetype': 'application/pdf', 'binary_hash': 10719400491668737820, 'filename': 'astronomia.pdf'}}}, page_content='História da astronomia\\nAs civilizações pré-colombianas nas Américas, como os incas, os maias e os  astecas,  além  de  manterem  uma  relação  espiritual  com  os  astros, guiavam-se por meio deles, e ainda possuíam monumentos com base nos quais observavam a passagem do tempo, as estações do ano (o que era importante  para  saber  o  momento  mais  adequado  para  o  plantio  e  a colheita),  e  buscavam  também  representar  os  corpos  celestes  e  um modelo de outros mundos e do Universo.'),\n",
       " Document(metadata={'source': './artigos/astronomia.pdf', 'dl_meta': {'schema_name': 'docling_core.transforms.chunker.DocMeta', 'version': '1.0.0', 'doc_items': [{'self_ref': '#/texts/66', 'parent': {'$ref': '#/body'}, 'children': [], 'content_layer': 'body', 'label': 'text', 'prov': [{'page_no': 6, 'bbox': {'l': 72.0, 't': 216.69499999999994, 'r': 526.766, 'b': 115.50800000000004, 'coord_origin': 'BOTTOMLEFT'}, 'charspan': [0, 400]}]}], 'headings': ['História da astronomia'], 'origin': {'mimetype': 'application/pdf', 'binary_hash': 10719400491668737820, 'filename': 'astronomia.pdf'}}}, page_content='História da astronomia\\nNo século XVI, na Europa, os escritos de Nicolau Copérnico representaram  um  marco  na  ciência astronômica. O matemático polonês refutava  a  tese  de  Cláudio  Ptolomeu  de  que  o  Sistema  Solar  era geocêntrico, ou seja, tinha a Terra em seu centro. Assim, Copérnico propôs o modelo heliocentrista, que dizia que o Sol era o centro do Sistema Solar, e era em torno dele que os planetas giravam.'),\n",
       " Document(metadata={'source': './artigos/astronomia.pdf', 'dl_meta': {'schema_name': 'docling_core.transforms.chunker.DocMeta', 'version': '1.0.0', 'doc_items': [{'self_ref': '#/texts/67', 'parent': {'$ref': '#/body'}, 'children': [], 'content_layer': 'body', 'label': 'text', 'prov': [{'page_no': 7, 'bbox': {'l': 72.0, 't': 767.001, 'r': 526.769, 'b': 647.962, 'coord_origin': 'BOTTOMLEFT'}, 'charspan': [0, 445]}]}], 'headings': ['História da astronomia'], 'origin': {'mimetype': 'application/pdf', 'binary_hash': 10719400491668737820, 'filename': 'astronomia.pdf'}}}, page_content='História da astronomia\\nTambém  no  século  XVI,  o  dinamarquês  Tycho  Brahe  construiu  um observatório astronômico em uma ilha próximo a Copenhague, ainda sem o  auxílio  de  instrumentos  como  telescópios,  conhecido  pela  acurácia  de suas observações, como sobre a posição do planeta Marte. Contemporâneo  a  ele,  John  Kepler  foi  responsável  pelos  modelos  que descreviam as órbitas dos planetas em torno do Sol, dos quais derivam as três leis de Kepler.'),\n",
       " Document(metadata={'source': './artigos/astronomia.pdf', 'dl_meta': {'schema_name': 'docling_core.transforms.chunker.DocMeta', 'version': '1.0.0', 'doc_items': [{'self_ref': '#/texts/68', 'parent': {'$ref': '#/body'}, 'children': [], 'content_layer': 'body', 'label': 'text', 'prov': [{'page_no': 7, 'bbox': {'l': 72.0, 't': 616.035, 'r': 526.728, 'b': 496.996, 'coord_origin': 'BOTTOMLEFT'}, 'charspan': [0, 471]}]}], 'headings': ['História da astronomia'], 'origin': {'mimetype': 'application/pdf', 'binary_hash': 10719400491668737820, 'filename': 'astronomia.pdf'}}}, page_content='História da astronomia\\nNo século XVII, o italiano Galileu Galilei fez contribuições muito importantes para a astronomia e para a ciência como um todo. No campo astronômico,  ele  construiu seu  próprio  telescópio,  por  meio  do  qual realizou  uma  série  de  descobertas,  como  a  de que estrelas formavam a Via Láctea, algumas das luas de Júpiter, manchas solares em Vênus e a irregularidade  da  superfície  da  Lua.  Além  disso,  Galileu  comprovou  o modelo heliocêntrico de Copérnico.'),\n",
       " Document(metadata={'source': './artigos/astronomia.pdf', 'dl_meta': {'schema_name': 'docling_core.transforms.chunker.DocMeta', 'version': '1.0.0', 'doc_items': [{'self_ref': '#/texts/69', 'parent': {'$ref': '#/body'}, 'children': [], 'content_layer': 'body', 'label': 'text', 'prov': [{'page_no': 7, 'bbox': {'l': 72.0, 't': 465.069, 'r': 526.789, 'b': 346.03, 'coord_origin': 'BOTTOMLEFT'}, 'charspan': [0, 466]}]}], 'headings': ['História da astronomia'], 'origin': {'mimetype': 'application/pdf', 'binary_hash': 10719400491668737820, 'filename': 'astronomia.pdf'}}}, page_content='História da astronomia\\nO intervalo do século XVII ao XX foi marcado por grandes descobertas no campo  da  astronomia  e  da  Física,  com  destaque  para  Isaac  Newton, Edmund  Halley,  Albert  Einstein  e  Edwin  Hubble.  O  aperfeiçoamento técnico e o advento de novos instrumentos, a partir da segunda metade do século  XX,  permitiram  observações  mais  precisas  e  a  descoberta,  por exemplo, da radiação cósmica de fundo em micro-ondas, prova fundamental da expansão do Universo.'),\n",
       " Document(metadata={'source': './artigos/astronomia.pdf', 'dl_meta': {'schema_name': 'docling_core.transforms.chunker.DocMeta', 'version': '1.0.0', 'doc_items': [{'self_ref': '#/texts/70', 'parent': {'$ref': '#/body'}, 'children': [], 'content_layer': 'body', 'label': 'text', 'prov': [{'page_no': 7, 'bbox': {'l': 72.0, 't': 314.10400000000004, 'r': 526.772, 'b': 177.21299999999997, 'coord_origin': 'BOTTOMLEFT'}, 'charspan': [0, 568]}]}, {'self_ref': '#/texts/71', 'parent': {'$ref': '#/body'}, 'children': [], 'content_layer': 'body', 'label': 'text', 'prov': [{'page_no': 7, 'bbox': {'l': 72.0, 't': 145.28600000000006, 'r': 328.652, 'b': 133.36, 'coord_origin': 'BOTTOMLEFT'}, 'charspan': [0, 39]}]}], 'headings': ['História da astronomia'], 'origin': {'mimetype': 'application/pdf', 'binary_hash': 10719400491668737820, 'filename': 'astronomia.pdf'}}}, page_content='História da astronomia\\nNo ano de 1969, uma missão da Nasa colocou os primeiros astronautas para  andarem  na  superfície  da  Lua,  feito  realizado por Neil Armstrong e Edwin  Aldrin.  Quase  seis  décadas  mais  tarde,  em  2022,  foi  lançada  a missão Artemis, com  o  objetivo de repetir a caminhada  lunar.  As descobertas  recentes  proporcionadas  pelo  avanço  tecnológico  incluem a primeira  imagem  de  um  buraco  negro,  lançada  pela  Nasa em 2019, e o som  que  essas  estruturas  emitem,  divulgado  em  2022,  demonstrando assim a constante evolução da ciência astronômica.\\nLeia também: Quais são as fases da Lua?'),\n",
       " Document(metadata={'source': './artigos/astronomia.pdf', 'dl_meta': {'schema_name': 'docling_core.transforms.chunker.DocMeta', 'version': '1.0.0', 'doc_items': [{'self_ref': '#/texts/73', 'parent': {'$ref': '#/body'}, 'children': [], 'content_layer': 'body', 'label': 'text', 'prov': [{'page_no': 8, 'bbox': {'l': 72.0, 't': 767.001, 'r': 526.761, 'b': 683.666, 'coord_origin': 'BOTTOMLEFT'}, 'charspan': [0, 304]}]}, {'self_ref': '#/texts/74', 'parent': {'$ref': '#/body'}, 'children': [], 'content_layer': 'body', 'label': 'text', 'prov': [{'page_no': 8, 'bbox': {'l': 72.0, 't': 651.74, 'r': 526.717, 'b': 568.405, 'coord_origin': 'BOTTOMLEFT'}, 'charspan': [0, 354]}]}], 'headings': ['Faculdade de Astronomia'], 'origin': {'mimetype': 'application/pdf', 'binary_hash': 10719400491668737820, 'filename': 'astronomia.pdf'}}}, page_content='Faculdade de Astronomia\\nA faculdade de Astronomia forma os bacharéis nessa área do conhecimento, que recebem o título de astrônomos. O campo de atuação dos  astrônomos  é  principalmente  na  pesquisa  e  divulgação  científica, estando  aptos ainda a trabalhar em observatórios, planetários, museus e empresas de tecnologia.|1|\\nO curso  de Astronomia tem duração média de oito semestres (ou quatro anos), e tem uma grade curricular formada por disciplinas pertencentes a áreas  como  a  Física,  a  Matemática,  a  computação,  além  da  prática observacional. No Brasil, três universidades oferecem o curso de Astronomia gratuitamente, cujo ingresso se dá via vestibular. São elas:'),\n",
       " Document(metadata={'source': './artigos/astronomia.pdf', 'dl_meta': {'schema_name': 'docling_core.transforms.chunker.DocMeta', 'version': '1.0.0', 'doc_items': [{'self_ref': '#/texts/75', 'parent': {'$ref': '#/groups/5'}, 'children': [], 'content_layer': 'body', 'label': 'list_item', 'prov': [{'page_no': 8, 'bbox': {'l': 90.0, 't': 536.478, 'r': 400.623, 'b': 524.553, 'coord_origin': 'BOTTOMLEFT'}, 'charspan': [0, 49]}]}, {'self_ref': '#/texts/76', 'parent': {'$ref': '#/groups/5'}, 'children': [], 'content_layer': 'body', 'label': 'list_item', 'prov': [{'page_no': 8, 'bbox': {'l': 90.0, 't': 518.626, 'r': 319.61, 'b': 506.701, 'coord_origin': 'BOTTOMLEFT'}, 'charspan': [0, 35]}]}, {'self_ref': '#/texts/77', 'parent': {'$ref': '#/groups/5'}, 'children': [], 'content_layer': 'body', 'label': 'list_item', 'prov': [{'page_no': 8, 'bbox': {'l': 90.0, 't': 500.774, 'r': 352.608, 'b': 488.848, 'coord_origin': 'BOTTOMLEFT'}, 'charspan': [0, 41]}]}], 'headings': ['Faculdade de Astronomia'], 'origin': {'mimetype': 'application/pdf', 'binary_hash': 10719400491668737820, 'filename': 'astronomia.pdf'}}}, page_content='Faculdade de Astronomia\\n-  Universidade Federal do Rio de Janeiro (UFRJ);\\n-  Universidade de São Paulo (USP);\\n-  Universidade Federal de Sergipe (UFS).'),\n",
       " Document(metadata={'source': './artigos/astronomia.pdf', 'dl_meta': {'schema_name': 'docling_core.transforms.chunker.DocMeta', 'version': '1.0.0', 'doc_items': [{'self_ref': '#/texts/79', 'parent': {'$ref': '#/body'}, 'children': [], 'content_layer': 'body', 'label': 'text', 'prov': [{'page_no': 8, 'bbox': {'l': 72.0, 't': 422.014, 'r': 526.74, 'b': 356.531, 'coord_origin': 'BOTTOMLEFT'}, 'charspan': [0, 213]}]}, {'self_ref': '#/texts/80', 'parent': {'$ref': '#/body'}, 'children': [], 'content_layer': 'body', 'label': 'text', 'prov': [{'page_no': 8, 'bbox': {'l': 72.0, 't': 324.605, 'r': 526.761, 'b': 223.418, 'coord_origin': 'BOTTOMLEFT'}, 'charspan': [0, 411]}]}], 'headings': ['Astronomia x astrologia'], 'origin': {'mimetype': 'application/pdf', 'binary_hash': 10719400491668737820, 'filename': 'astronomia.pdf'}}}, page_content='Astronomia x astrologia\\nA astronomia e a astrologia são frequentemente confundidas e interpretadas como se fossem uma única ciência ou área do conhecimento. Não obstante tenham em comum a observação dos astros, elas não são equivalentes.\\nA astrologia, diferentemente da ciência astronômica, é comumente descrita como uma pseudociência e também como uma forma de linguagem ou de arte.  Ela  busca,  ancorada  na  análise  da  posição  e  do  movimento  dos corpos  celestes  nos  céus  (estrelas  e  constelações,  planetas,  a  Lua), determinar como  esses  astros  influenciam  na  personalidade  de  um indivíduo e nos acontecimentos do dia a dia.'),\n",
       " Document(metadata={'source': './artigos/astronomia.pdf', 'dl_meta': {'schema_name': 'docling_core.transforms.chunker.DocMeta', 'version': '1.0.0', 'doc_items': [{'self_ref': '#/texts/82', 'parent': {'$ref': '#/groups/6'}, 'children': [], 'content_layer': 'body', 'label': 'list_item', 'prov': [{'page_no': 8, 'bbox': {'l': 90.0, 't': 153.58400000000006, 'r': 507.951, 'b': 123.80500000000006, 'coord_origin': 'BOTTOMLEFT'}, 'charspan': [0, 74]}]}, {'self_ref': '#/texts/83', 'parent': {'$ref': '#/groups/6'}, 'children': [], 'content_layer': 'body', 'label': 'list_item', 'prov': [{'page_no': 8, 'bbox': {'l': 90.0, 't': 117.88, 'r': 513.218, 'b': 88.101, 'coord_origin': 'BOTTOMLEFT'}, 'charspan': [0, 77]}]}, {'self_ref': '#/texts/84', 'parent': {'$ref': '#/groups/6'}, 'children': [], 'content_layer': 'body', 'label': 'list_item', 'prov': [{'page_no': 9, 'bbox': {'l': 90.0, 't': 767.001, 'r': 511.761, 'b': 719.371, 'coord_origin': 'BOTTOMLEFT'}, 'charspan': [0, 133]}]}], 'headings': ['Curiosidades sobre astronomia'], 'origin': {'mimetype': 'application/pdf', 'binary_hash': 10719400491668737820, 'filename': 'astronomia.pdf'}}}, page_content='Curiosidades sobre astronomia\\n- A teoria mais aceita para explicar a origem do Universo é a do Big Bang.\\n-  O Dia Mundial da Astronomia é celebrado no Brasil todos os dias 8 de maio.\\n-  O Dia Internacional da Astronomia não tem data fixa, mas é celebrado duas vezes ao ano: na Lua crescente de primavera e de outono.'),\n",
       " Document(metadata={'source': './artigos/astronomia.pdf', 'dl_meta': {'schema_name': 'docling_core.transforms.chunker.DocMeta', 'version': '1.0.0', 'doc_items': [{'self_ref': '#/texts/86', 'parent': {'$ref': '#/body'}, 'children': [], 'content_layer': 'body', 'label': 'text', 'prov': [{'page_no': 9, 'bbox': {'l': 72.0, 't': 637.812, 'r': 360.818, 'b': 627.653, 'coord_origin': 'BOTTOMLEFT'}, 'charspan': [0, 56]}]}], 'headings': ['Escrito por: Paloma Guitarrara'], 'origin': {'mimetype': 'application/pdf', 'binary_hash': 10719400491668737820, 'filename': 'astronomia.pdf'}}}, page_content='Escrito por: Paloma Guitarrara\\nhttps://brasilescola.uol.com.br/geografia/astronomia.htm')]"
      ]
     },
     "execution_count": 13,
     "metadata": {},
     "output_type": "execute_result"
    }
   ],
   "source": [
    "from langchain_docling import DoclingLoader\n",
    "\n",
    "loader = DoclingLoader(file_path = \"./artigos/astronomia.pdf\")\n",
    "docs = loader.load()\n",
    "docs"
   ]
  },
  {
   "cell_type": "code",
   "execution_count": 14,
   "metadata": {
    "id": "dAdI2MUr1tii"
   },
   "outputs": [],
   "source": [
    "def parse_document(file_path):\n",
    "  loader = DoclingLoader(file_path)\n",
    "  doc = loader.load()\n",
    "  return doc\n",
    "\n",
    "def load_documents(input_path):\n",
    "  input_path = Path(input_path)\n",
    "\n",
    "  if input_path.is_dir():\n",
    "    pdf_files = list(input_path.glob(\"*.pdf\"))\n",
    "  elif input_path.is_file():\n",
    "    pdf_files = [input_path]\n",
    "  else:\n",
    "    raise ValueError(\"Caminho inválido. Forneça um diretório ou arquivo\")\n",
    "\n",
    "  documents = []\n",
    "  for file in pdf_files:\n",
    "    documents.extend(parse_document(file))\n",
    "\n",
    "  print(f\"Documentos carregados: {len(documents)}\")\n",
    "  return documents\n",
    "\n",
    "def split_markdown(documents):\n",
    "  splitter = MarkdownHeaderTextSplitter(\n",
    "      headers_to_split_on=[\n",
    "          (\"#\", \"Header_1\"),\n",
    "          (\"##\", \"Header_2\"),\n",
    "          (\"###\", \"Header_3\")\n",
    "      ]\n",
    "  )\n",
    "  markdown_splits = [\n",
    "      split\n",
    "      for doc in documents\n",
    "      for split in splitter.split_text(doc.page_content)\n",
    "  ]\n",
    "\n",
    "  print(f\"Splits gerados via Markdown: {len(markdown_splits)}\")\n",
    "  return markdown_splits\n",
    "\n",
    "def build_chunks(input_path):\n",
    "  documents = load_documents(input_path)\n",
    "  markdown_splits = split_markdown(documents)\n",
    "  chunks = split_chunks(markdown_splits)\n",
    "  return chunks"
   ]
  },
  {
   "cell_type": "code",
   "execution_count": 15,
   "metadata": {
    "colab": {
     "base_uri": "https://localhost:8080/"
    },
    "executionInfo": {
     "elapsed": 121847,
     "status": "ok",
     "timestamp": 1747914568246,
     "user": {
      "displayName": "Jones Granatyr",
      "userId": "10042675233362078631"
     },
     "user_tz": 180
    },
    "id": "xH3Ers8w4aND",
    "outputId": "be0afadd-f18e-4cc4-92de-04bfeccf32fa"
   },
   "outputs": [
    {
     "name": "stderr",
     "output_type": "stream",
     "text": [
      "2025-09-25 09:07:58,918 - INFO - detected formats: [<InputFormat.PDF: 'pdf'>]\n",
      "2025-09-25 09:07:58,928 - INFO - Going to convert document batch...\n",
      "2025-09-25 09:07:58,929 - INFO - Initializing pipeline for StandardPdfPipeline with options hash e647edf348883bed75367b22fbe60347\n",
      "2025-09-25 09:07:58,930 - INFO - Accelerator device: 'mps'\n",
      "2025-09-25 09:08:00,863 - INFO - Accelerator device: 'mps'\n",
      "2025-09-25 09:08:01,588 - INFO - Accelerator device: 'mps'\n",
      "2025-09-25 09:08:01,805 - INFO - Processing document biologia.pdf\n",
      "2025-09-25 09:08:03,909 - INFO - Finished converting document biologia.pdf in 4.99 sec.\n",
      "2025-09-25 09:08:04,507 - INFO - detected formats: [<InputFormat.PDF: 'pdf'>]\n",
      "2025-09-25 09:08:04,513 - INFO - Going to convert document batch...\n",
      "2025-09-25 09:08:04,513 - INFO - Initializing pipeline for StandardPdfPipeline with options hash e647edf348883bed75367b22fbe60347\n",
      "2025-09-25 09:08:04,514 - INFO - Accelerator device: 'mps'\n",
      "2025-09-25 09:08:06,447 - INFO - Accelerator device: 'mps'\n",
      "2025-09-25 09:08:07,202 - INFO - Accelerator device: 'mps'\n",
      "2025-09-25 09:08:07,435 - INFO - Processing document astronomia.pdf\n",
      "2025-09-25 09:08:09,802 - INFO - Finished converting document astronomia.pdf in 5.30 sec.\n"
     ]
    },
    {
     "name": "stdout",
     "output_type": "stream",
     "text": [
      "Documentos carregados: 58\n",
      "Splits gerados via Markdown: 58\n",
      "Chunks gerados: 58\n"
     ]
    },
    {
     "data": {
      "text/plain": [
       "[Document(metadata={}, page_content='A fotossíntese é um processo usado por plantas e outros organismos para converter energia luminosa em energia química que, por meio da respiração celular, pode ser liberada posteriormente para alimentar as atividades do organismo. Parte dessa energia química é armazenada em moléculas de carboidratos, como açúcares e amidos, que são sintetizados a partir do dióxido de carbono e da água daí o nome fotossíntese , do grego phōs (φῶς), \"luz\", e súnthesis (σύνθεσις), \"colocar junto\". [1][2][3] A maioria das plantas, algas e cianobactérias realizam a fotossíntese; tais organismos são chamados fotoautotróficos. A fotossíntese é amplamente responsável pela produção e manutenção do teor de oxigênio da'),\n",
       " Document(metadata={}, page_content='atmosfera da Terra e fornece a maior parte da energia necessária para a vida no planeta. [4]'),\n",
       " Document(metadata={}, page_content='Embora a fotossíntese seja realizada de forma diferente por cada espécie, o processo sempre começa quando a energia da luz é absorvida por proteínas chamadas centros de reação que contêm pigmentos/cromóforos de clorofila verde (ou outras colorações). Nas plantas, essas proteínas são mantidas dentro de enquanto nas bactérias elas estão embutidas na membrana plasmática. Nessas reações dependentes de luz, parte da energia é usada para tirar elétrons de substâncias adequadas, como água, produzindo oxigênio. O hidrogênio liberado pela separação da água é utilizado na criação de mais dois compostos que servem como reservas de energia a curto prazo, permitindo a sua transferência para conduzir outras reações: estes compostos são o fosfato de dinucleótido de'),\n",
       " Document(metadata={}, page_content='nicotinamida e adenina reduzido (NADPH) e o trifosfato de adenosina (ATP), que sevem como a \"moeda energética\" das células.'),\n",
       " Document(metadata={}, page_content='da história evolutiva da vida e provavelmente usavam agentes redutores como hidrogênio ou sulfeto de hidrogênio, em vez de água, como fontes de elétrons. [6] cianobactérias apareceram mais tarde; o excesso de oxigênio que elas produziram contribuiu diretamente para a oxigenação da Terra, [7] o que tornou possível a evolução de formas de vida complexas. Hoje, a taxa média global de captura de energia pela fotossíntese é de aproximadamente 130 terawatts, [8][9][10] que é cerca organelas chamadas cloroplastos, que são mais abundantes nas células das folhas, Nas plantas, algas e cianobactérias, os açúcares são sintetizados por uma sequência de reações independentes de luz chamada ciclo de Calvin. Neste, o dióxido de carbono atmosférico é'),\n",
       " Document(metadata={}, page_content='incorporado a compostos orgânicos de carbono já existentes, como a ribulose bisfosfato (RuBP). [5] Usando o ATP e o NADPH produzidos pelas reações dependentes de luz, os compostos resultantes são então reduzidos e removidos para formar mais carboidratos, como a glicose. Em outras bactérias, diferentes mecanismos, como o ciclo de Krebs reverso, são usados\\npara atingir o mesmo objetivo. Os primeiros organismos fotossintéticos provavelmente se desenvolveram no início As'),\n",
       " Document(metadata={}, page_content='de oito vezes o consumo atual de energia da civilização humana. [11] Organismos fotossintéticos também convertem cerca de 100 a 115 bilhões de toneladas (91-104 de petagramas, ou bilhões de toneladas métricas) de carbono em biomassa por ano. [12][13] A fotossíntese também é vital para os processos climáticos, pois captura o dióxido de carbono do ar e depois junta o carbono nas plantas e, posteriormente, nos solos e nos produtos colhidos. Estima-se que os cereais sozinhos se ligam a 3825 teragramas ou 3,825 petagramas de dióxido de carbono a cada ano, ou seja, 3,825 bilhões de toneladas métricas. [14]'),\n",
       " Document(metadata={}, page_content='Processo da fotossíntese\\nA fotossíntese é um processo físico-químico, a nível celular, realizado pelos seres vivos clorofilados, que utilizam dióxido de carbono e água, para obter glicose através da energia da luz solar, de acordo com a seguinte equação:\\nA fotossíntese inicia a maior parte das cadeias alimentares na Terra. Sem ela, os animais e muitos outros seres heterotróficos seriam incapazes de sobreviver porque a base da sua alimentação estará sempre nas substâncias orgânicas proporcionadas pelas plantas verdes. A maior parte da vida na Terra usa a luz vermelha visível na fotossíntese, mas algumas usam luz infravermelha. [15]\\n-'),\n",
       " Document(metadata={}, page_content='Processo da fotossíntese\\nAristóteles tinha observado e descrito que as plantas necessitavam de luz solar para adquirir a sua cor verde. No entanto, só em 1771, a fotossíntese começou a ser estudada por Joseph Priestley. Este químico inglês, confinando uma planta numa redoma de cristal comprovou a produção de uma substância que permitia a combustão e que, em certos casos, avivava a chama de um carvão em brasa. Posteriormente, concluiu-se que a substância observada era o gás oxigênio.'),\n",
       " Document(metadata={}, page_content='Processo da fotossíntese\\nAs plantas possuem folhagem de coloração verde pois essa frequência de onda eletromagnética é refletida por não ser aproveitada de forma eficiente no processo da fotossíntese em que se converte a energia luminosa em química. Dessa forma, se um vegetal for iluminado somente com luz monocromática verde a taxa de fotossíntese será insuficiente para garantir a sua sobrevivência e ocorrerá a atrofia dos tecidos da planta, podendo resultar na morte do organismo.\\nEnquanto a luz verde é a que gera o menor rendimento fotossintético, as frequências de luz azul, violeta e vermelho são as que apresentam o maior índice de absorção pela clorofila. [16]'),\n",
       " Document(metadata={}, page_content='A descoberta da fotossíntese\\nEm 1778, Jan Ingenhousz, físico-químico neerlandês, verificou que uma vela colocada dentro de um frasco fechado não se apagava, desde que houvesse também no frasco partes verdes de plantas e o frasco estivesse exposto à luz, ou seja, que na presença de luz, as plantas libertam oxigénio. [17]'),\n",
       " Document(metadata={}, page_content='A incorporação da água pelas plantas\\nNicolas-Théodore de Saussure, já no início do século XIX descobriu que os vegetais incorporavam água em seus tecidos. Com o passar do tempo, os avanços no campo óptico e as tecnologias de estudo aprimoradas, possibilitaram os conhecimentos em relação a nutrição vegetal.'),\n",
       " Document(metadata={}, page_content='A descoberta da retirada de nutrientes do solo\\nUma observação importante foi que o azoto, assim como diversos sais e minerais, era retirado do solo pelas plantas e que a energia proveniente do Sol se transformava em energia química, ficando armazenada numa série de produtos em virtude de um processo que então acabou por ser chamado de fotossíntese.\\nA substância chamada de clorofila foi isolada na segunda década do século XIX. Ainda naquele século, descobriu-se que a clorofila era a responsável pela cor verde das plantas, além de desempenhar um papel importante na síntese da matéria orgânica. Julius von Sachs demonstrou que a clorofila se localizava nos chamados organelos celulares, que, por meio de estudos mais apurados, foram chamados de cloroplastos.'),\n",
       " Document(metadata={}, page_content='A reprodução do ciclo da clorofila em laboratório\\nAo avançarem as técnicas bioquímicas, em 1954 foi possível o isolamento e extracção destes organelos. Foi Daniel Israel Arnon quem obteve cloroplastos a partir das células do espinafre, conseguindo reproduzir em laboratório as reações completas da fotossíntese.'),\n",
       " Document(metadata={}, page_content='As etapas da fotossíntese\\nCom estas técnicas, descobriu-se, por exemplo, que a fotossíntese ocorre ao longo de duas etapas:\\n- A fase fotoquímica ou fase luminosa (fase dependente da luz solar) é a primeira fase do processo fotossintético. Essa fase ocorre nos tilacoides. Seu evento principal é a fotofosforilação, que é a adição de fosfato inorgânico (Pi) ao difosfato de adenosina (ADP). A energia luminosa é captada por meio de pigmentos fotossintetizantes, capazes de conduzi-la até o centro de reação. Tal centro é composto por um par de clorofilas α, também denominado P 700 . Os elétrons excitados da P 700'),\n",
       " Document(metadata={}, page_content='As etapas da fotossíntese\\nsaem da molécula e são transferidos para uma primeira substância aceptora de elétrons, a ferredoxina. Esta logo os transfere para outra substância, e assim por diante, formando uma cadeia de transporte de elétrons. Tais substâncias aceptoras estão presente na membrana do tilacoide. Nessa transferência entre os aceptores, os elétrons vão liberando energia gradativamente e esta é aproveitada para transportar hidrogênio iônico de fora para dentro do tilacoide, reduzindo o pH do interior deste. A redução do pH ativa o complexo proteico \"ATP sintetase\". O fluxo de hidrogênios iônicos através do complexo gira, em seu interior, uma espécie de \"turbina proteica\", que promove a fosforilação de moléculas de adenosina difosfato dando origem à adenosina'),\n",
       " Document(metadata={}, page_content=\"As etapas da fotossíntese\\ntrifosfato (ATP). Ao chegarem ao último aceptor, os elétrons têm nível energético suficientemente baixo e retornam ao par de clorofilas 'a', fala-se em fotofosforilação cíclica.\"),\n",
       " Document(metadata={}, page_content=\"As etapas da fotossíntese\\n- Porém, existe outra forma de fosforilação, a fotofosforilação acíclica onde os elétrons das moléculas de clorofila 'a' (P 700 ), excitados pela luz, são captados pela ferredoxina, mas ao em vez de passarem pela cadeia transportadora são captados pelo NADP (nicotinamida adenina dinucleotídeo Fosfato) e não retornam para o P 700 . Este fica temporariamente deficiente de elétrons. Esses elétrons são repostos por outros provenientes de outro Em seguida passa aos citocromos e plastocianina até serem captados pelo P 700 , que se recompõe. Este processo de transporte também promove a síntese do (ATP). Já o P 680 fica deficiente de elétrons. Esses elétrons serão repostos pela fotólise da água. A quebra da molécula\"),\n",
       " Document(metadata={}, page_content='As etapas da fotossíntese\\nda água por radiação (fotólise da água) produz íons de hidrogênios e hidróxidos. Os elétrons dos íons hidróxidos são utilizados para recompor o P 680\\ne os íons hidrogênio são aceptados pelo NADP, com isso ocorre a formação de água oxigenada (H 2 O 2 ) oriunda da reação de síntese entre as hidroxilas. A água oxigenada é decomposta pela célula em água e O 2  sendo este último liberado do processo como resíduo. Com a repetição do processo forma-se o aporte energético e de NADPHs necessários para a fase escura.\\nEquação: 12H 2 O + 6NADP + 9ADP + 9P -(luz)→ 9ATP + 6NADPH 2  + 3O 2 + 6H 2 O\\nCiclo de Calvin e fixação do carbono.'),\n",
       " Document(metadata={}, page_content='As etapas da fotossíntese\\n- A fase química ou reações de assimilação de carbono (algumas vezes chamada erroneamente de fase escura ) [18] é um ciclo descoberto pelos cientistas Melvin Calvin, Andrew Benson e James Bassham. Nessa fase chamada de ciclo de Calvin ou ciclo das pentoses, que ocorre no estroma do cloroplasto, o tilacoide fornece ATP e NADPH 2  ao estroma do cloroplasto, onde se encontra a pentose (ribulose fosfato), essa pentose ativada por um fosfato, fixa o carbono que provém do dióxido de carbono do ar sob a ação catalisadora da \"RuBisCO\" (ribulose bifosfato carboxilase-oxidase) e em seguida é hidrogenada pelo NAPH 2'),\n",
       " Document(metadata={}, page_content='As etapas da fotossíntese\\nformando o aldeído que dará origem à glicose. Para a síntese de uma molécula de glicose são fixadas seis de dióxido de carbono, permitindo que o processo recicle a ribulose fosfato. devolvendo-a ao estroma. Desta fase resulta a formação de compostos orgânicos como a glicose, necessária à atividade da planta. A denominação de \" fase escura \" é incorreta pois para a \"RuBisCO\" entrar em atividade determinando a fixação do CO 2 atmosférico para a formação de moléculas de glicose, ela precisa estar num estado reduzido, e para isso acontecer é necessário que a luz esteja presente.'),\n",
       " Document(metadata={}, page_content='As etapas da fotossíntese\\nEquação: 6CO 2  + 12NADPH 2  + 18ATP -(enzimas)→ 12NADP + 18ADP + 18P + 6H2 O + C 6 H 12 O 6\\nPlantas jovens consomem mais dióxido de carbono e libertam mais oxigénio, pois o carbono é incorporado a sua estrutura física durante o crescimento.\\nÉ importante realçar que a \" fase escura\" (cuja melhor definição é: reações de assimilação de carbono) não ocorre apenas à noite ou na ausência de luz, o nome refere-se ao facto desta fase não necessitar da luz para funcionar. Ela acontece logo após a fase clara numa reação em cadeia até que o substrato se esgote.\\nA equação geral da formação de glicose é resultado da soma das duas equações:'),\n",
       " Document(metadata={}, page_content='As etapas da fotossíntese\\n```\\nEquação simplificada da fase fotoquímica: 12H 2 O + 12NADP + 18ADP + 18P -(luz)→ 18ATP + 12NADPH 2  + 6O 2 Equação simplificada da fase química: 6CO 2  + 12NADPH 2  + 18ATP -(enzimas)→ 12NADP + 18ADP + 18P + 6H 2 O + C 6 H 12 O 6\\n```\\nSomando-as e simplificando, obtém-se a equação geral da fotossíntese: 12H 2 O + 6CO2 → 6O2  +C 6 H 12 O 6  + 6H 2 O'),\n",
       " Document(metadata={}, page_content='Organismos fotossintetizadores\\nAlém das plantas verdes, incluem-se entre os organismos fotossintéticos, as algas (como as diatomáceas, as euglenófitas), as cianofíceas (algas verde-azuladas) e diversas bactérias.'),\n",
       " Document(metadata={}, page_content='Quimeras\\nOs cientistas desenvolveram um sistema de proteína fotossintética usando clorofila e bacterioclorofila para aprimorar uma abordagem mais sustentável dos dispositivos tecnológicos movidos a energia solar. [19] Ao fazer isso, os cientistas demonstraram que os dois sistemas de pigmentos poderiam trabalhar juntos para obter a conversão de energia solar. [20]'),\n",
       " Document(metadata={}, page_content='Fatores que afetam\\n- Concentração de dióxido de carbono: É geralmente o fator limitante da fotossíntese para as plantas terrestres em geral, devido a sua baixa concentração na atmosfera, que é em torno de 0,04%.\\n- Temperatura: Para a maioria das plantas, a temperatura ótima para os processos fotossintéticos está entre 30 e 38 °C . Acima dos 45 °C a velocidade da reação decresce, pois cessa a atividade enzimática.\\n- Água: A água é fundamental como fonte de hidrogênio para a produção da matéria orgânica. Em regiões secas as plantas têm a água como um grande fator limitante.\\n- Morfologia foliar'),\n",
       " Document(metadata={}, page_content='Ponto de compensação fótico\\nÉ chamado \"ponto de compensação fótico\" o instante em que as velocidades de fotossíntese e respiração são exatamente ou simplesmente as mesmas. Neste instante toda a glicose produzida na fotossíntese é \"quebrada\" na respiração, e todo dióxido de carbono(CO 2 ) gasto na fotossíntese é produzido na respiração.\\nBiosfera Global por SeaWiFS - setembro de 1997 a agosto de 1998'),\n",
       " Document(metadata={}, page_content='A importância da fotossíntese\\nA fotossíntese é o principal processo de transformação de energia na biosfera. Ao alimentarmo-nos, parte das substâncias orgânicas, produzidas graças à fotossíntese, entram na nossa constituição celular, enquanto outras (os nutrientes energéticos) fornecem a energia necessária às nossas funções vitais, como o crescimento e a reprodução. Além do mais, ela fornece oxigênio para a respiração dos organismos heterotróficos. É essencial para a manutenção da vida na Terra.'),\n",
       " Document(metadata={}, page_content='Subprodutos remotos da fotossíntese\\nDe acordo com a teoria da geração orgânica do petróleo, indiretamente energia química presente no petróleo e no carvão, que são utilizados pelo ser humano como combustíveis, têm origem na fotossíntese, pois, são produtos orgânicos provenientes de seres vivos (plantas ou seres que se alimentavam de plantas) de outras eras geológicas.'),\n",
       " Document(metadata={}, page_content='Referências\\n- ↑ «photosynthesis». Online Etymology Dictionary . Consultado em 23 de maio de 2013. Cópia arquivada em 7 de março de 2013\\n- [...]'),\n",
       " Document(metadata={}, page_content='Bibliografia\\n- Asimov, Isaac (1968). Photosynthesis . New York, London: Basic Books, Inc. ISBN 0-465-05703-9\\n- [...]'),\n",
       " Document(metadata={}, page_content='Astronomia\\nA astronomia é a ciência mais antiga do mundo. Ela investiga os corpos celestes em sua estrutura, formação e ciclo de vida, além dos fenômenos que acontecem no Universo.\\nAstronomia é a ciência que estuda os corpos celestes e os fenômenos que acontecem no Universo.\\nAstronomia é uma ciência que estuda a composição e formação dos corpos celestes e os fenômenos que acontecem no Universo. É considerada a mais antiga das ciências, tendo se originado, há milhares de anos, com base na observação do comportamento dos astros e estrelas nos céus.'),\n",
       " Document(metadata={}, page_content='Astronomia\\nO surgimento de instrumentos e o aperfeiçoamento tecnológico permitiram grandes  feitos  e  descobertas  no  campo  da  astronomia,  o  que  inclui evidências de como o Universo surgiu, a caminhada sobre a superfície da Lua e a primeira imagem de um buraco negro.\\nOs profissionais formados em astronomia recebem o título de astrônomos, e  podem  trabalhar  com  pesquisa  e  divulgação  científica  e  também  em museus, observatórios e planetários.\\nLeia também: Sistema Solar - conjunto de corpos celestes que orbitam o Sol'),\n",
       " Document(metadata={}, page_content='Tópicos deste artigo\\n- 1 - Resumo sobre a astronomia\\n- 2 - O que é a astronomia?\\n- 3 - O que a astronomia estuda?\\n- 4 - Ramos da astronomia\\n- 5 - História da astronomia\\n- 6 - Faculdade de Astronomia\\n- 7 - Astronomia x astrologia\\n- 8 - Curiosidades sobre astronomia'),\n",
       " Document(metadata={}, page_content='Resumo sobre a astronomia\\n-  A astronomia estuda os corpos celestes e os fenômenos do Universo.\\n-  É a ciência mais antiga do mundo.\\n-  A ciência astronômica se divide em oito ramos complementares de estudo, os quais incluem áreas como a cosmologia e a astrofísica.\\n- Surgiu da curiosidade a respeito dos astros no céu, cujas observações começaram a milhares de anos antes do presente. Civilizações antigas já construíam monumentos em pedra que auxiliavam na determinação da passagem do tempo e das estações do ano e na identificação dos solstícios.\\n- Importantes contribuições à astronomia foram feitas, durante os séculos XVI e XVII, por nomes como Nicolau Copérnico e Galileu Galilei.'),\n",
       " Document(metadata={}, page_content='Resumo sobre a astronomia\\n-  O surgimento de novas tecnologias e o aperfeiçoamento da ciência astronômica proporcionaram grandes feitos nos períodos posteriores.\\n-  A faculdade de astronomia forma os astrônomos, que atuam principalmente na pesquisa e divulgação científica. No Brasil, três instituições oferecem o curso gratuitamente.\\n-  Astronomia e astrologia não são a mesma coisa. A astrologia é considerada uma pseudociência que analisa a influência dos astros na nossa vida e personalidade.'),\n",
       " Document(metadata={}, page_content='O que é a astronomia?\\nA astronomia é uma ciência da natureza que se dedica à compreensão de tudo aquilo que se encontra além da nossa atmosfera terrestre, estudando os  astros  e  estrelas  que  compõem  o Universo bem como os fenômenos que nele acontecem. Surgida a milhares de anos antes da Era Comum, a astronomia é considerada a ciência mais antiga do mundo.'),\n",
       " Document(metadata={}, page_content='O que a astronomia estuda?\\nPor definição, a astronomia estuda os diferentes corpos e objetos celestes que fazem parte do Universo, dentre os quais se destacam:\\n- estrelas;\\n- luas;\\n-  aglomerados de estrelas;\\n- planetas;\\n- meteoritos;\\n- asteroides;\\n- galáxias;\\n-  nebulosas.'),\n",
       " Document(metadata={}, page_content='O que a astronomia estuda?\\nA ciência astronômica investiga a estrutura do Universo e de cada um dos diferentes  corpos  celestes  que  dele  fazem  parte,  a  forma  como  eles  se originam  e  se  desenvolvem,  sua  interação  e  os  fenômenos  por  eles provocados  ou  dos  quais  esses  mesmos  objetos  resultam.  Para  isso, utiliza-se  de  conceitos  e  formulações  de  outras  disciplinas  que  são  tão importantes quanto a astronomia para a compreensão do cosmos, como a Física, a Matemática, a meteorologia, a Química e até mesmo a Biologia.\\nVeja  abaixo  alguns  exemplos  de  temas  abordados  nos  estudos  da astronomia:'),\n",
       " Document(metadata={}, page_content='O que a astronomia estuda?\\n-  origem do Universo;\\n-  surgimento dos planetas;\\n- cálculo de distâncias astronômicas;\\n-  determinação da idade e composição química dos corpos celestes;\\n-  Sistema Solar;\\n-  Via Láctea, outras galáxias e fenômenos a elas associados;\\n-  exoplanetas e outros corpos que se encontram fora do Sistema Solar;\\n-  nascimento, evolução e morte das estrelas;\\n- meio interestelar;\\n-  origem e evolução dos buracos negros.'),\n",
       " Document(metadata={}, page_content='Ramos da astronomia\\nA astronomia trabalha com temas bastante complexos que são abordados por diferentes  ramificações  dessa  ciência.  Dividida  anteriormente  em observacional  (observação  dos  astros  e  coleta  de  dados)  e  teórica (desenvolvimento de modelos e teorias com base nos dados coletados), a astronomia hoje é composta pelos seguintes ramos:'),\n",
       " Document(metadata={}, page_content='Ramos da astronomia\\n- Astrobiologia: estuda a origem, a evolução e o futuro da vida no Universo. Trata-se de um dos campos mais recentes da astronomia.\\n- Astrofísica: é um ramo, tanto da astronomia quanto da Física, que aplica os princípios da Física para a compreensão das propriedades, dinâmicas e interações entre os diferentes objetos e fenômenos do Universo.\\n-  Astrometria: chamada também de astronomia de posição, a astrometria é o ramo que estuda e calcula a posição e o movimento dos astros celestes, além de analisar os exoplanetas. Por meio da astrometria, é possível prever eclipses e chuvas de meteoros.\\n-  Astroquímica: estuda a composição química dos corpos celestes e as reações entre as diferentes partículas que formam o Universo e seus elementos.'),\n",
       " Document(metadata={}, page_content='Ramos da astronomia\\n- Astronomia estelar: estuda a classificação e também o ciclo de vida das estrelas.\\n-  Astronomia planetária: estuda o Sistema Solar e todos os elementos que o formam, como os planetas e as luas, aprofundando-se em temas como a formação e evolução dos planetas e a sua composição geológica.\\n- Astronomia galática: estuda a estrutura, a formação, o desenvolvimento e a morte das galáxias, como a Via Láctea.'),\n",
       " Document(metadata={}, page_content='Ramos da astronomia\\n-  Cosmologia: apesar de usada como sinônimo de astronomia em muitos casos, trata-se, na verdade, de um dos ramos de estudo dessa ciência. Ela se dedica à compreensão da origem do Universo como um todo, bem como de sua evolução e estrutura. Faz parte dela temas como energia escura, matéria escura e teoria das cordas.'),\n",
       " Document(metadata={}, page_content='História da astronomia\\nCírculo de rochas construído pelos egípcios há mais de 7 mil anos. Ele era utilizado para determinar a chegada do solstício de verão e a aproximação das monções.[1]\\nSurgida  da  curiosidade  humana  sobre  a  forma  como  os  astros  se comportam no céu, a astronomia é considerada a ciência mais antiga do mundo. As observações astronômicas datam de milhares de anos antes da Era Comum, com povos egípcios que viviam na região de Assuã, onde fica o  sítio  de  Nabta  Playa.  Lá  foi  construído  um  círculo  de  pedras  utilizado para determinar a chegada do solstício de verão, sendo um dos primeiros registros  físicos  de  como  a  posição  dos  astros  e  a sua interação com o planeta Terra eram importantes no cotidiano das civilizações antigas.'),\n",
       " Document(metadata={}, page_content='História da astronomia\\nEstruturas tão importantes quanto a de Nabta Playa foram construídas no norte  da  Europa  por  volta  do  ano  3000  a.C.,  como  o  monumento  de Stonehenge, em Wiltshire, na Inglaterra. Além do seu propósito religioso e espiritual, os círculos dessa construção eram utilizados na identificação do início  e  do  término  dos  solstícios  de  inverno  e  de  verão  no  Hemisfério Norte.\\nOutros  povos  antigos,  como  babilônios  e  os  assírios,  foram  também responsáveis por grandes contribuições à astronomia, algumas das quais identificadas  em registros em tábuas de argila em escrita cuneiforme. As tábuas que foram preservadas se encontram hoje em exibição em museus, como o Museu Britânico, na Inglaterra.'),\n",
       " Document(metadata={}, page_content='História da astronomia\\nCom o passar do tempo, gregos, chineses, árabes e indianos aperfeiçoaram a astronomia e fizeram a introdução de novas proposições e  elementos (obtidos com base em cálculos matemáticos) a esse campo do conhecimento, imprimindo-lhe o caráter multidisciplinar que hoje exibe. Atribui-se aos gregos a sistematização da astronomia e do princípio de sua teorização,  com  destaque  para  nomes  como  Anaxímenes  de  Mileto, Pitágoras, Aristóteles, Hiparco e Ptolomeu.'),\n",
       " Document(metadata={}, page_content='História da astronomia\\nAs civilizações pré-colombianas nas Américas, como os incas, os maias e os  astecas,  além  de  manterem  uma  relação  espiritual  com  os  astros, guiavam-se por meio deles, e ainda possuíam monumentos com base nos quais observavam a passagem do tempo, as estações do ano (o que era importante  para  saber  o  momento  mais  adequado  para  o  plantio  e  a colheita),  e  buscavam  também  representar  os  corpos  celestes  e  um modelo de outros mundos e do Universo.'),\n",
       " Document(metadata={}, page_content='História da astronomia\\nNo século XVI, na Europa, os escritos de Nicolau Copérnico representaram  um  marco  na  ciência astronômica. O matemático polonês refutava  a  tese  de  Cláudio  Ptolomeu  de  que  o  Sistema  Solar  era geocêntrico, ou seja, tinha a Terra em seu centro. Assim, Copérnico propôs o modelo heliocentrista, que dizia que o Sol era o centro do Sistema Solar, e era em torno dele que os planetas giravam.'),\n",
       " Document(metadata={}, page_content='História da astronomia\\nTambém  no  século  XVI,  o  dinamarquês  Tycho  Brahe  construiu  um observatório astronômico em uma ilha próximo a Copenhague, ainda sem o  auxílio  de  instrumentos  como  telescópios,  conhecido  pela  acurácia  de suas observações, como sobre a posição do planeta Marte. Contemporâneo  a  ele,  John  Kepler  foi  responsável  pelos  modelos  que descreviam as órbitas dos planetas em torno do Sol, dos quais derivam as três leis de Kepler.'),\n",
       " Document(metadata={}, page_content='História da astronomia\\nNo século XVII, o italiano Galileu Galilei fez contribuições muito importantes para a astronomia e para a ciência como um todo. No campo astronômico,  ele  construiu seu  próprio  telescópio,  por  meio  do  qual realizou  uma  série  de  descobertas,  como  a  de que estrelas formavam a Via Láctea, algumas das luas de Júpiter, manchas solares em Vênus e a irregularidade  da  superfície  da  Lua.  Além  disso,  Galileu  comprovou  o modelo heliocêntrico de Copérnico.'),\n",
       " Document(metadata={}, page_content='História da astronomia\\nO intervalo do século XVII ao XX foi marcado por grandes descobertas no campo  da  astronomia  e  da  Física,  com  destaque  para  Isaac  Newton, Edmund  Halley,  Albert  Einstein  e  Edwin  Hubble.  O  aperfeiçoamento técnico e o advento de novos instrumentos, a partir da segunda metade do século  XX,  permitiram  observações  mais  precisas  e  a  descoberta,  por exemplo, da radiação cósmica de fundo em micro-ondas, prova fundamental da expansão do Universo.'),\n",
       " Document(metadata={}, page_content='História da astronomia\\nNo ano de 1969, uma missão da Nasa colocou os primeiros astronautas para  andarem  na  superfície  da  Lua,  feito  realizado por Neil Armstrong e Edwin  Aldrin.  Quase  seis  décadas  mais  tarde,  em  2022,  foi  lançada  a missão Artemis, com  o  objetivo de repetir a caminhada  lunar.  As descobertas  recentes  proporcionadas  pelo  avanço  tecnológico  incluem a primeira  imagem  de  um  buraco  negro,  lançada  pela  Nasa em 2019, e o som  que  essas  estruturas  emitem,  divulgado  em  2022,  demonstrando assim a constante evolução da ciência astronômica.\\nLeia também: Quais são as fases da Lua?'),\n",
       " Document(metadata={}, page_content='Faculdade de Astronomia\\nA faculdade de Astronomia forma os bacharéis nessa área do conhecimento, que recebem o título de astrônomos. O campo de atuação dos  astrônomos  é  principalmente  na  pesquisa  e  divulgação  científica, estando  aptos ainda a trabalhar em observatórios, planetários, museus e empresas de tecnologia.|1|\\nO curso  de Astronomia tem duração média de oito semestres (ou quatro anos), e tem uma grade curricular formada por disciplinas pertencentes a áreas  como  a  Física,  a  Matemática,  a  computação,  além  da  prática observacional. No Brasil, três universidades oferecem o curso de Astronomia gratuitamente, cujo ingresso se dá via vestibular. São elas:'),\n",
       " Document(metadata={}, page_content='Faculdade de Astronomia\\n-  Universidade Federal do Rio de Janeiro (UFRJ);\\n-  Universidade de São Paulo (USP);\\n-  Universidade Federal de Sergipe (UFS).'),\n",
       " Document(metadata={}, page_content='Astronomia x astrologia\\nA astronomia e a astrologia são frequentemente confundidas e interpretadas como se fossem uma única ciência ou área do conhecimento. Não obstante tenham em comum a observação dos astros, elas não são equivalentes.\\nA astrologia, diferentemente da ciência astronômica, é comumente descrita como uma pseudociência e também como uma forma de linguagem ou de arte.  Ela  busca,  ancorada  na  análise  da  posição  e  do  movimento  dos corpos  celestes  nos  céus  (estrelas  e  constelações,  planetas,  a  Lua), determinar como  esses  astros  influenciam  na  personalidade  de  um indivíduo e nos acontecimentos do dia a dia.'),\n",
       " Document(metadata={}, page_content='Curiosidades sobre astronomia\\n- A teoria mais aceita para explicar a origem do Universo é a do Big Bang.\\n-  O Dia Mundial da Astronomia é celebrado no Brasil todos os dias 8 de maio.\\n-  O Dia Internacional da Astronomia não tem data fixa, mas é celebrado duas vezes ao ano: na Lua crescente de primavera e de outono.'),\n",
       " Document(metadata={}, page_content='Escrito por: Paloma Guitarrara\\nhttps://brasilescola.uol.com.br/geografia/astronomia.htm')]"
      ]
     },
     "execution_count": 15,
     "metadata": {},
     "output_type": "execute_result"
    }
   ],
   "source": [
    "chunks = build_chunks(\"./artigos/\")\n",
    "chunks"
   ]
  },
  {
   "cell_type": "code",
   "execution_count": 16,
   "metadata": {
    "id": "LgrjaLix7aFL"
   },
   "outputs": [
    {
     "name": "stdout",
     "output_type": "stream",
     "text": [
      "Deletando o índice existente 'proj-edu'...\n"
     ]
    }
   ],
   "source": [
    "retriever = config_retriever(pc,\"proj-edu\", chunks, embeddings)"
   ]
  },
  {
   "cell_type": "markdown",
   "metadata": {
    "id": "5YyZh9zdk-V7"
   },
   "source": [
    "## Conexão com o repositório vetorial\n",
    "\n"
   ]
  },
  {
   "cell_type": "code",
   "execution_count": 17,
   "metadata": {
    "id": "AJtVRC-N_v-J"
   },
   "outputs": [],
   "source": [
    "vector_store = PineconeVectorStore(\n",
    "   index=pc.Index(\"proj-edu\"),\n",
    "   embedding=embeddings,\n",
    ")"
   ]
  },
  {
   "cell_type": "code",
   "execution_count": null,
   "metadata": {
    "colab": {
     "base_uri": "https://localhost:8080/"
    },
    "executionInfo": {
     "elapsed": 802,
     "status": "ok",
     "timestamp": 1747914945168,
     "user": {
      "displayName": "Jones Granatyr",
      "userId": "10042675233362078631"
     },
     "user_tz": 180
    },
    "id": "Yf2zX0cjAkWN",
    "outputId": "f5ffbdd7-26e7-4a26-82e8-6b8dd98fae2a"
   },
   "outputs": [],
   "source": [
    "results = vector_store.similarity_search_with_score(query = \"biblioteca\", k=3)\n",
    "for doc, score in results:\n",
    "  print(f\"* [SIM={score:3f}] {doc.page_content} [{doc.metadata}]\")"
   ]
  },
  {
   "cell_type": "code",
   "execution_count": null,
   "metadata": {
    "colab": {
     "base_uri": "https://localhost:8080/"
    },
    "executionInfo": {
     "elapsed": 1310,
     "status": "ok",
     "timestamp": 1747914954155,
     "user": {
      "displayName": "Jones Granatyr",
      "userId": "10042675233362078631"
     },
     "user_tz": 180
    },
    "id": "katyFfeLBQ0n",
    "outputId": "dffe2fcb-8f16-4ddd-9519-7a623beefed6"
   },
   "outputs": [],
   "source": [
    "results = vector_store.similarity_search_with_score(query = \"astronomia\", k=1)\n",
    "for doc, score in results:\n",
    "  print(f\"* [SIM={score:3f}] {doc.page_content} [{doc.metadata}]\")"
   ]
  },
  {
   "cell_type": "markdown",
   "metadata": {
    "id": "Q0YnBTTb9Lu6"
   },
   "source": [
    "### Carregando coleção já criada e retriever\n",
    "\n"
   ]
  },
  {
   "cell_type": "code",
   "execution_count": 18,
   "metadata": {
    "id": "oYOZ2Yg1BlLG"
   },
   "outputs": [],
   "source": [
    "def get_retriever(index_name, embeddings,chunks):\n",
    "  vectorstore = PineconeVectorStore.from_documents(\n",
    "      embedding=embeddings,\n",
    "      index_name=index_name,\n",
    "      documents=chunks\n",
    "      \n",
    "  )\n",
    "  return vectorstore.as_retriever(\n",
    "      search_type = 'mmr',\n",
    "      search_kwargs = {'k': 6, 'fetch_k': 10}\n",
    "  )"
   ]
  },
  {
   "cell_type": "code",
   "execution_count": 19,
   "metadata": {
    "id": "zlB63PHlCcK3"
   },
   "outputs": [],
   "source": [
    "retriever = get_retriever(\"proj-edu\", embeddings, chunks)"
   ]
  },
  {
   "cell_type": "markdown",
   "metadata": {},
   "source": [
    "## Definindo Parâmetros de Personalização Através de Form\n",
    "\n"
   ]
  },
  {
   "cell_type": "code",
   "execution_count": 20,
   "metadata": {},
   "outputs": [],
   "source": [
    "def create_form():\n",
    "  level = widgets.Dropdown(\n",
    "      options = ['Iniciante', 'Intermediário', 'Avançado'],\n",
    "      description = 'Nível',\n",
    "      value = 'Intermediário'\n",
    "  )\n",
    "\n",
    "  topic = widgets.Text(\n",
    "      description='Tema:',\n",
    "      placeholder='Matemática, Inglês, Física, Biologia, etc.'\n",
    "  )\n",
    "\n",
    "  quantity = widgets.IntSlider(\n",
    "      value=5,\n",
    "      min=1,\n",
    "      max=10,\n",
    "      step=1,\n",
    "      description='Qtd Exercícios:',\n",
    "  )\n",
    "\n",
    "  interests = widgets.Text(\n",
    "      description='Interesses ou Preferências:',\n",
    "      placeholder='Ex: Filmes, Esportes, Jogos, Música, etc....',\n",
    "  )\n",
    "\n",
    "  generate_btn = widgets.Button(description=\"Gerar exercícios\")\n",
    "  export_btn = widgets.Button(description=\"Exportar (.docx)\", disabled=True)\n",
    "  output = widgets.Output()\n",
    "\n",
    "  form_fields = {\n",
    "      'level': level,\n",
    "      'topic': topic,\n",
    "      'quantity': quantity,\n",
    "      'interests': interests,\n",
    "      'generate_btn': generate_btn,\n",
    "      'export_btn': export_btn,\n",
    "      'output': output\n",
    "  }\n",
    "\n",
    "  return form_fields"
   ]
  },
  {
   "cell_type": "code",
   "execution_count": 21,
   "metadata": {},
   "outputs": [],
   "source": [
    "def display_form(option):\n",
    "  form = widgets.VBox([\n",
    "      option['level'],\n",
    "      option['topic'],\n",
    "      option['quantity'],\n",
    "      option['interests'],\n",
    "      option['generate_btn'],\n",
    "      option['export_btn'],\n",
    "      option['output']\n",
    "  ])\n",
    "  display(form)"
   ]
  },
  {
   "cell_type": "code",
   "execution_count": 22,
   "metadata": {},
   "outputs": [
    {
     "data": {
      "application/vnd.jupyter.widget-view+json": {
       "model_id": "4978331271ad4b999fa872e5c31753ee",
       "version_major": 2,
       "version_minor": 0
      },
      "text/plain": [
       "VBox(children=(Dropdown(description='Nível', index=1, options=('Iniciante', 'Intermediário', 'Avançado'), valu…"
      ]
     },
     "metadata": {},
     "output_type": "display_data"
    }
   ],
   "source": [
    "form = create_form()\n",
    "display_form(form)"
   ]
  },
  {
   "cell_type": "markdown",
   "metadata": {
    "id": "CGsXTTV3FBya"
   },
   "source": [
    "## Geração de exercício COM RAG\n",
    "\n"
   ]
  },
  {
   "cell_type": "markdown",
   "metadata": {
    "id": "eaWYugOZGcgS"
   },
   "source": [
    "### Obtenção do contexto"
   ]
  },
  {
   "cell_type": "code",
   "execution_count": 23,
   "metadata": {
    "id": "RvR7PxAYGw2w"
   },
   "outputs": [],
   "source": [
    "def get_context(retriever, topic):\n",
    "  retrieved_docs = retriever.invoke(topic)\n",
    "  context = \"\\n\\n\".join([doc.page_content for doc in retrieved_docs])\n",
    "  return context"
   ]
  },
  {
   "cell_type": "code",
   "execution_count": 24,
   "metadata": {
    "colab": {
     "base_uri": "https://localhost:8080/"
    },
    "executionInfo": {
     "elapsed": 1930,
     "status": "ok",
     "timestamp": 1747835535129,
     "user": {
      "displayName": "Jones Granatyr",
      "userId": "10042675233362078631"
     },
     "user_tz": 180
    },
    "id": "I_bW_ll3HOw-",
    "outputId": "3d3ca9b3-4f15-4ad3-9762-e0c12d218b51"
   },
   "outputs": [
    {
     "name": "stdout",
     "output_type": "stream",
     "text": [
      "História da astronomia\n",
      "Círculo de rochas construído pelos egípcios há mais de 7 mil anos. Ele era utilizado para determinar a chegada do solstício de verão e a aproximação das monções.[1]\n",
      "Surgida  da  curiosidade  humana  sobre  a  forma  como  os  astros  se comportam no céu, a astronomia é considerada a ciência mais antiga do mundo. As observações astronômicas datam de milhares de anos antes da Era Comum, com povos egípcios que viviam na região de Assuã, onde fica o  sítio  de  Nabta  Playa.  Lá  foi  construído  um  círculo  de  pedras  utilizado para determinar a chegada do solstício de verão, sendo um dos primeiros registros  físicos  de  como  a  posição  dos  astros  e  a sua interação com o planeta Terra eram importantes no cotidiano das civilizações antigas.\n",
      "\n",
      "A descoberta da fotossíntese\n",
      "Em 1778, Jan Ingenhousz, físico-químico neerlandês, verificou que uma vela colocada dentro de um frasco fechado não se apagava, desde que houvesse também no frasco partes verdes de plantas e o frasco estivesse exposto à luz, ou seja, que na presença de luz, as plantas libertam oxigénio. [17]\n",
      "\n",
      "A fotossíntese é um processo usado por plantas e outros organismos para converter energia luminosa em energia química que, por meio da respiração celular, pode ser liberada posteriormente para alimentar as atividades do organismo. Parte dessa energia química é armazenada em moléculas de carboidratos, como açúcares e amidos, que são sintetizados a partir do dióxido de carbono e da água daí o nome fotossíntese , do grego phōs (φῶς), \"luz\", e súnthesis (σύνθεσις), \"colocar junto\". [1][2][3] A maioria das plantas, algas e cianobactérias realizam a fotossíntese; tais organismos são chamados fotoautotróficos. A fotossíntese é amplamente responsável pela produção e manutenção do teor de oxigênio da\n",
      "\n",
      "História da astronomia\n",
      "Também  no  século  XVI,  o  dinamarquês  Tycho  Brahe  construiu  um observatório astronômico em uma ilha próximo a Copenhague, ainda sem o  auxílio  de  instrumentos  como  telescópios,  conhecido  pela  acurácia  de suas observações, como sobre a posição do planeta Marte. Contemporâneo  a  ele,  John  Kepler  foi  responsável  pelos  modelos  que descreviam as órbitas dos planetas em torno do Sol, dos quais derivam as três leis de Kepler.\n",
      "\n",
      "História da astronomia\n",
      "Estruturas tão importantes quanto a de Nabta Playa foram construídas no norte  da  Europa  por  volta  do  ano  3000  a.C.,  como  o  monumento  de Stonehenge, em Wiltshire, na Inglaterra. Além do seu propósito religioso e espiritual, os círculos dessa construção eram utilizados na identificação do início  e  do  término  dos  solstícios  de  inverno  e  de  verão  no  Hemisfério Norte.\n",
      "Outros  povos  antigos,  como  babilônios  e  os  assírios,  foram  também responsáveis por grandes contribuições à astronomia, algumas das quais identificadas  em registros em tábuas de argila em escrita cuneiforme. As tábuas que foram preservadas se encontram hoje em exibição em museus, como o Museu Britânico, na Inglaterra.\n",
      "\n",
      "História da astronomia\n",
      "Círculo de rochas construído pelos egípcios há mais de 7 mil anos. Ele era utilizado para determinar a chegada do solstício de verão e a aproximação das monções.[1]\n",
      "Surgida  da  curiosidade  humana  sobre  a  forma  como  os  astros  se comportam no céu, a astronomia é considerada a ciência mais antiga do mundo. As observações astronômicas datam de milhares de anos antes da Era Comum, com povos egípcios que viviam na região de Assuã, onde fica o  sítio  de  Nabta  Playa.  Lá  foi  construído  um  círculo  de  pedras  utilizado para determinar a chegada do solstício de verão, sendo um dos primeiros registros  físicos  de  como  a  posição  dos  astros  e  a sua interação com o planeta Terra eram importantes no cotidiano das civilizações antigas.\n"
     ]
    }
   ],
   "source": [
    "context = get_context(retriever, \"astrominia\")\n",
    "print(context)"
   ]
  },
  {
   "cell_type": "markdown",
   "metadata": {
    "id": "k_S3TlG2uL3P"
   },
   "source": [
    "### Construção do template para RAG\n",
    "\n"
   ]
  },
  {
   "cell_type": "code",
   "execution_count": 32,
   "metadata": {
    "id": "cSI45MKUHqdX"
   },
   "outputs": [],
   "source": [
    "def build_prompt_rag(form):\n",
    "  quantity = form['quantity'].value\n",
    "  level = form['level'].value\n",
    "  interests = form['interests'].value\n",
    "\n",
    "  prompt = f\"\"\"\n",
    "Gere {quantity} exercícios em português sobre o conteúdo fornecido como contexto abaixo. Nível de dificuldade: {level}.\n",
    "Cada exercício deve ser de múltipla escolha com 4 alternativas, incluir a resposta correta e uma explicação passo a passo.\n",
    "Não invente dados externos nem saia do escopo do material apresentado, utilize exclusivamente o conteúdo fornecido.\n",
    "Para e explicação da resposta, não justifique mencionando que foi obtido com o contexto fornecido abaixo. Você deve justificá-la com base no conhecimento que você tem. gere em portugues\n",
    "{f\"- Apenas caso faça sentido no contexto, adapte de forma natural e sutil os enunciados dos exercícios para refletir a afinidade do aluno com o tema '{interests}'\" if interests else \"\"}\n",
    "\"\"\"\n",
    "  return prompt"
   ]
  },
  {
   "cell_type": "code",
   "execution_count": 33,
   "metadata": {
    "colab": {
     "base_uri": "https://localhost:8080/",
     "height": 105
    },
    "executionInfo": {
     "elapsed": 6,
     "status": "ok",
     "timestamp": 1747914980305,
     "user": {
      "displayName": "Jones Granatyr",
      "userId": "10042675233362078631"
     },
     "user_tz": 180
    },
    "id": "CDmdE89zILNB",
    "outputId": "d01e9eb9-0a9e-4a0d-91aa-d3dbaa5ed8a6"
   },
   "outputs": [
    {
     "data": {
      "text/plain": [
       "\"\\nGere 5 exercícios em português sobre o conteúdo fornecido como contexto abaixo. Nível de dificuldade: Intermediário.\\nCada exercício deve ser de múltipla escolha com 4 alternativas, incluir a resposta correta e uma explicação passo a passo.\\nNão invente dados externos nem saia do escopo do material apresentado, utilize exclusivamente o conteúdo fornecido.\\nPara e explicação da resposta, não justifique mencionando que foi obtido com o contexto fornecido abaixo. Você deve justificá-la com base no conhecimento que você tem. gere em portugues\\n- Apenas caso faça sentido no contexto, adapte de forma natural e sutil os enunciados dos exercícios para refletir a afinidade do aluno com o tema 'Filmes'\\n\""
      ]
     },
     "execution_count": 33,
     "metadata": {},
     "output_type": "execute_result"
    }
   ],
   "source": [
    "prompt_rag = build_prompt_rag(form)\n",
    "prompt_rag"
   ]
  },
  {
   "cell_type": "markdown",
   "metadata": {
    "id": "NhnRttnmimrr"
   },
   "source": [
    "### Função de geração final\n",
    "\n"
   ]
  },
  {
   "cell_type": "code",
   "execution_count": 27,
   "metadata": {
    "id": "zFwo7HUgIVjD"
   },
   "outputs": [],
   "source": [
    "from langchain.prompts import PromptTemplate\n",
    "\n",
    "def llm_generate(llm, prompt_rag, context):\n",
    "  prompt_template_rag = \"\"\"\n",
    "  {input}\n",
    "  ---\n",
    "  Contexto: {context}\n",
    "  \"\"\"\n",
    "  template_rag = PromptTemplate(\n",
    "      input_variables = [\"context\", \"input\"],\n",
    "      template=prompt_template_rag,\n",
    "  )\n",
    "\n",
    "  prompt_llm = prompt_template_rag.format(input=prompt_rag, context=context)\n",
    "  print(prompt_llm)\n",
    "\n",
    "  res = llm.invoke(prompt_llm)\n",
    "  return res"
   ]
  },
  {
   "cell_type": "code",
   "execution_count": 28,
   "metadata": {
    "colab": {
     "base_uri": "https://localhost:8080/",
     "height": 1000
    },
    "executionInfo": {
     "elapsed": 5562,
     "status": "ok",
     "timestamp": 1747836016956,
     "user": {
      "displayName": "Jones Granatyr",
      "userId": "10042675233362078631"
     },
     "user_tz": 180
    },
    "id": "jW3qVszXJIXY",
    "outputId": "4a84bc01-400a-496f-bc78-0e996d6475ec"
   },
   "outputs": [
    {
     "name": "stdout",
     "output_type": "stream",
     "text": [
      "\n",
      "  \n",
      "Gere 3 exercícios em português sobre o conteúdo fornecido como contexto abaixo. Nível de dificuldade: Intermediário.\n",
      "Cada exercício deve ser de múltipla escolha com 4 alternativas, incluir a resposta correta e uma explicação passo a passo.\n",
      "Não invente dados externos nem saia do escopo do material apresentado, utilize exclusivamente o conteúdo fornecido.\n",
      "Para e explicação da resposta, não justifique mencionando que foi obtido com o contexto fornecido abaixo. Você deve justificá-la com base no conhecimento que você tem.\n",
      "- Apenas caso faça sentido no contexto, adapte de forma natural e sutil os enunciados dos exercícios para refletir a afinidade do aluno com o tema 'Jogos'\n",
      "\n",
      "  ---\n",
      "  Contexto: História da astronomia\n",
      "Círculo de rochas construído pelos egípcios há mais de 7 mil anos. Ele era utilizado para determinar a chegada do solstício de verão e a aproximação das monções.[1]\n",
      "Surgida  da  curiosidade  humana  sobre  a  forma  como  os  astros  se comportam no céu, a astronomia é considerada a ciência mais antiga do mundo. As observações astronômicas datam de milhares de anos antes da Era Comum, com povos egípcios que viviam na região de Assuã, onde fica o  sítio  de  Nabta  Playa.  Lá  foi  construído  um  círculo  de  pedras  utilizado para determinar a chegada do solstício de verão, sendo um dos primeiros registros  físicos  de  como  a  posição  dos  astros  e  a sua interação com o planeta Terra eram importantes no cotidiano das civilizações antigas.\n",
      "\n",
      "A descoberta da fotossíntese\n",
      "Em 1778, Jan Ingenhousz, físico-químico neerlandês, verificou que uma vela colocada dentro de um frasco fechado não se apagava, desde que houvesse também no frasco partes verdes de plantas e o frasco estivesse exposto à luz, ou seja, que na presença de luz, as plantas libertam oxigénio. [17]\n",
      "\n",
      "A fotossíntese é um processo usado por plantas e outros organismos para converter energia luminosa em energia química que, por meio da respiração celular, pode ser liberada posteriormente para alimentar as atividades do organismo. Parte dessa energia química é armazenada em moléculas de carboidratos, como açúcares e amidos, que são sintetizados a partir do dióxido de carbono e da água daí o nome fotossíntese , do grego phōs (φῶς), \"luz\", e súnthesis (σύνθεσις), \"colocar junto\". [1][2][3] A maioria das plantas, algas e cianobactérias realizam a fotossíntese; tais organismos são chamados fotoautotróficos. A fotossíntese é amplamente responsável pela produção e manutenção do teor de oxigênio da\n",
      "\n",
      "História da astronomia\n",
      "Também  no  século  XVI,  o  dinamarquês  Tycho  Brahe  construiu  um observatório astronômico em uma ilha próximo a Copenhague, ainda sem o  auxílio  de  instrumentos  como  telescópios,  conhecido  pela  acurácia  de suas observações, como sobre a posição do planeta Marte. Contemporâneo  a  ele,  John  Kepler  foi  responsável  pelos  modelos  que descreviam as órbitas dos planetas em torno do Sol, dos quais derivam as três leis de Kepler.\n",
      "\n",
      "História da astronomia\n",
      "Estruturas tão importantes quanto a de Nabta Playa foram construídas no norte  da  Europa  por  volta  do  ano  3000  a.C.,  como  o  monumento  de Stonehenge, em Wiltshire, na Inglaterra. Além do seu propósito religioso e espiritual, os círculos dessa construção eram utilizados na identificação do início  e  do  término  dos  solstícios  de  inverno  e  de  verão  no  Hemisfério Norte.\n",
      "Outros  povos  antigos,  como  babilônios  e  os  assírios,  foram  também responsáveis por grandes contribuições à astronomia, algumas das quais identificadas  em registros em tábuas de argila em escrita cuneiforme. As tábuas que foram preservadas se encontram hoje em exibição em museus, como o Museu Britânico, na Inglaterra.\n",
      "\n",
      "História da astronomia\n",
      "Círculo de rochas construído pelos egípcios há mais de 7 mil anos. Ele era utilizado para determinar a chegada do solstício de verão e a aproximação das monções.[1]\n",
      "Surgida  da  curiosidade  humana  sobre  a  forma  como  os  astros  se comportam no céu, a astronomia é considerada a ciência mais antiga do mundo. As observações astronômicas datam de milhares de anos antes da Era Comum, com povos egípcios que viviam na região de Assuã, onde fica o  sítio  de  Nabta  Playa.  Lá  foi  construído  um  círculo  de  pedras  utilizado para determinar a chegada do solstício de verão, sendo um dos primeiros registros  físicos  de  como  a  posição  dos  astros  e  a sua interação com o planeta Terra eram importantes no cotidiano das civilizações antigas.\n",
      "  \n"
     ]
    },
    {
     "name": "stderr",
     "output_type": "stream",
     "text": [
      "2025-09-25 09:10:34,354 - INFO - HTTP Request: POST https://api.groq.com/openai/v1/chat/completions \"HTTP/1.1 200 OK\"\n"
     ]
    },
    {
     "data": {
      "text/markdown": [
       "### Exercício 1  \n",
       "**Enunciado:**  \n",
       "Qual era o principal propósito do círculo de rochas construído pelos egípcios há mais de 7 mil anos?  \n",
       "\n",
       "**Alternativas:**  \n",
       "A) Determinar a distância entre estrelas.  \n",
       "B) Prever a chegada do solstício de verão e das monções.  \n",
       "C) Medir a velocidade de planetas.  \n",
       "D) Observar a Lua cheia.  \n",
       "\n",
       "**Resposta correta:** B) Prever a chegada do solstício de verão e das monções.  \n",
       "\n",
       "**Explicação passo a passo:**  \n",
       "O círculo de rochas construído pelos egípcios, conhecido como Nabta Playa, era uma estrutura astronômica primitiva. Seu objetivo principal era acompanhar eventos importantes, como o solstício de verão, que indicava o início de um período de chuvas (monções) fundamental para a agricultura. Isso mostra como a astronomia estava ligada ao cotidiano das sociedades antigas.  \n",
       "\n",
       "---\n",
       "\n",
       "### Exercício 2  \n",
       "**Enunciado:**  \n",
       "Qual contribuição de Tycho Brahe foi fundamental para o desenvolvimento da astronomia?  \n",
       "\n",
       "**Alternativas:**  \n",
       "A) Construir o primeiro telescópio.  \n",
       "B) Desenvolver as leis que descrevem o movimento dos planetas.  \n",
       "C) Realizar observações precisas dos planetas sem o uso de telescópios.  \n",
       "D) Descobrir a fotossíntese.  \n",
       "\n",
       "**Resposta correta:** C) Realizar observações precisas dos planetas sem o uso de telescópios.  \n",
       "\n",
       "**Explicação passo a passo:**  \n",
       "Tycho Brahe foi um astrônomo dinamarquês do século XVI conhecido por suas observações astronômicas extremamente precisas. Ele construiu um observatório e fez medições detalhadas dos movimentos dos planetas, mesmo sem o auxílio de telescópios. Seus dados foram essenciais para que Johannes Kepler desenvolvesse as leis dos movimentos planetários.  \n",
       "\n",
       "---\n",
       "\n",
       "### Exercício 3  \n",
       "**Enunciado:**  \n",
       "Qual era um dos principais usos do monumento de Stonehenge, na Inglaterra?  \n",
       "\n",
       "**Alternativas:**  \n",
       "A) Observar estrelas durante a noite.  \n",
       "B) Identificar o início e o término dos solstícios de inverno e verão.  \n",
       "C) Medir a velocidade do vento.  \n",
       "D) Registrar a posição da Lua.  \n",
       "\n",
       "**Resposta correta:** B) Identificar o início e o término dos solstícios de inverno e verão.  \n",
       "\n",
       "**Explicação passo a passo:**  \n",
       "Stonehenge, construído por volta de 3000 a.C., foi uma estrutura utilizada para fins religiosos e astronômicos. Seus círculos de pedras ajudavam a identificar eventos como os solstícios de inverno e verão no Hemisfério Norte. Essas observações eram fundamentais para planejar atividades agrícolas e rituais."
      ],
      "text/plain": [
       "<IPython.core.display.Markdown object>"
      ]
     },
     "metadata": {},
     "output_type": "display_data"
    }
   ],
   "source": [
    "res = llm_generate(llm, prompt_rag, context)\n",
    "show_res(format_res(res.content))"
   ]
  },
  {
   "cell_type": "markdown",
   "metadata": {
    "id": "bWI1PgTEwMqQ"
   },
   "source": [
    "## Finalização\n",
    "\n"
   ]
  },
  {
   "cell_type": "code",
   "execution_count": 29,
   "metadata": {
    "id": "XoyS1mO7Jo4P"
   },
   "outputs": [],
   "source": [
    "def generate_exercises_rag(b):\n",
    "\n",
    "  form['output'].clear_output()\n",
    "\n",
    "  with form['output']:\n",
    "\n",
    "    prompt_rag = build_prompt_rag(form)\n",
    "    context = get_context(retriever, form['topic'].value)\n",
    "    res = llm_generate(llm, prompt_rag, context)\n",
    "    show_res(format_res(res.content, return_thinking=True))\n",
    "\n",
    "    form['export_btn'].disabled = False\n",
    "    global doc_content\n",
    "    doc_content = res.content"
   ]
  },
  {
   "cell_type": "code",
   "execution_count": 30,
   "metadata": {
    "id": "y6oXCNx1J2rH"
   },
   "outputs": [],
   "source": [
    "form = create_form()\n",
    "form['generate_btn'].on_click(generate_exercises_rag)\n",
    "#form['export_btn'].on_click(export_doc)"
   ]
  },
  {
   "cell_type": "code",
   "execution_count": 31,
   "metadata": {
    "colab": {
     "base_uri": "https://localhost:8080/",
     "height": 1000,
     "referenced_widgets": [
      "8aece22d57534ac685ac2f4eed6704c0",
      "1cb240d4eb3749cc902ac81a04eb81b9",
      "1070785f154349229b603baa61f1410b",
      "c94c5396a54c45a593e6c2c3fc70fd01",
      "f9be4afed320469e85e5d28014d94c99",
      "74a957c48c0d4a2fa769e0e734f2d01b",
      "204caa2a0a1f42188b80329399ac0ca0",
      "65c3faf8c4e24543a37f97c07dc61958",
      "89951c9ef5044d868eb318164cb63eef",
      "428a6931dbc345cba37f8835b8b14f20",
      "0203273f5d0b46d1b34f89922e0dc871",
      "6c7edcb4c3464301bf557cdd6e7703de",
      "e8c5dc48e42f4070aceddd56ee35433f",
      "eea9cdde079345f9a68e011931bda047",
      "eec12f0b6790414ba95891065dc2a9e5",
      "588394be56184d9383232b11d19f0e58",
      "1699d27c31404551bea2333b089d763e",
      "9551a115d3eb4712b5be4074ce0ac29e",
      "f1362c46680546769da1b7c4b6be7dbc",
      "fa5cccc29a7a4efe9f6265acee87f3ac",
      "93e58c5b7c5040be93cf14df5b473df7",
      "d75760b2154f4d4cbbf3eaaf000f8348"
     ]
    },
    "executionInfo": {
     "elapsed": 6,
     "status": "ok",
     "timestamp": 1747836276186,
     "user": {
      "displayName": "Jones Granatyr",
      "userId": "10042675233362078631"
     },
     "user_tz": 180
    },
    "id": "WfjaqYKcKO_e",
    "outputId": "4bf482ec-269a-4863-d44e-0f8532e54a06"
   },
   "outputs": [
    {
     "data": {
      "application/vnd.jupyter.widget-view+json": {
       "model_id": "06a3a33c2cc44c028ef2f16a45843f42",
       "version_major": 2,
       "version_minor": 0
      },
      "text/plain": [
       "VBox(children=(Dropdown(description='Nível', index=1, options=('Iniciante', 'Intermediário', 'Avançado'), valu…"
      ]
     },
     "metadata": {},
     "output_type": "display_data"
    }
   ],
   "source": [
    "display_form(form)"
   ]
  },
  {
   "cell_type": "markdown",
   "metadata": {
    "id": "2mHJCiNd9N0Q"
   },
   "source": [
    "---\n",
    "# Criação de Agentes com LangGraph\n",
    "\n"
   ]
  },
  {
   "cell_type": "code",
   "execution_count": 46,
   "metadata": {},
   "outputs": [],
   "source": [
    "from langgraph.graph import StateGraph, START, END\n",
    "from langgraph.graph.message import add_messages\n",
    "from typing_extensions import TypedDict\n",
    "from typing import Annotated\n",
    "from langchain_core.tools import tool\n",
    "from langchain.tools.retriever import create_retriever_tool\n",
    "from langgraph.prebuilt import ToolNode, tools_condition\n",
    "from langgraph.checkpoint.memory import MemorySaver\n",
    "import numexpr\n",
    "import math"
   ]
  },
  {
   "cell_type": "code",
   "execution_count": 35,
   "metadata": {
    "id": "M4l2G0pVirg2"
   },
   "outputs": [],
   "source": [
    "id_model = \"meta-llama/llama-4-maverick-17b-128e-instruct\"  # @param {type:\"string\"}\n",
    "temperature = 0.7 #@param {type:\"slider\", min:0.1, max:1.5, step:0.1}\n",
    "\n",
    "llm = load_llm(id_model, temperature)"
   ]
  },
  {
   "cell_type": "markdown",
   "metadata": {
    "id": "Szo1_TsjLvxe"
   },
   "source": [
    "## Construindo o State\n",
    "\n"
   ]
  },
  {
   "cell_type": "code",
   "execution_count": 36,
   "metadata": {
    "colab": {
     "base_uri": "https://localhost:8080/"
    },
    "executionInfo": {
     "elapsed": 1848,
     "status": "ok",
     "timestamp": 1755918788065,
     "user": {
      "displayName": "Gabriel Alves",
      "userId": "07503873055563742982"
     },
     "user_tz": 180
    },
    "id": "KEqQD9IYjHls",
    "outputId": "d89a6c3b-219d-4b81-bd53-e1b364a9f607"
   },
   "outputs": [
    {
     "data": {
      "text/plain": [
       "<langgraph.graph.state.StateGraph at 0x104a4d2b0>"
      ]
     },
     "execution_count": 36,
     "metadata": {},
     "output_type": "execute_result"
    }
   ],
   "source": [
    "class State(TypedDict):\n",
    "  messages: Annotated[list, add_messages]\n",
    "\n",
    "graph_builder = StateGraph(State)\n",
    "graph_builder"
   ]
  },
  {
   "cell_type": "markdown",
   "metadata": {
    "id": "Wxf3-y0U3cqR"
   },
   "source": [
    "## Adicionando nós (nodes)\n",
    "\n"
   ]
  },
  {
   "cell_type": "code",
   "execution_count": 37,
   "metadata": {
    "colab": {
     "base_uri": "https://localhost:8080/"
    },
    "executionInfo": {
     "elapsed": 18,
     "status": "ok",
     "timestamp": 1755918788097,
     "user": {
      "displayName": "Gabriel Alves",
      "userId": "07503873055563742982"
     },
     "user_tz": 180
    },
    "id": "Vl7P-9gukUE8",
    "outputId": "1939aa3f-2509-41aa-a3db-f584377277b5"
   },
   "outputs": [
    {
     "data": {
      "text/plain": [
       "<langgraph.graph.state.StateGraph at 0x104a4d2b0>"
      ]
     },
     "execution_count": 37,
     "metadata": {},
     "output_type": "execute_result"
    }
   ],
   "source": [
    "def agent(state: State):\n",
    "  return {\"messages\": [llm.invoke(state[\"messages\"])]}\n",
    "\n",
    "graph_builder.add_node(\"agent\", agent)"
   ]
  },
  {
   "cell_type": "markdown",
   "metadata": {
    "id": "Z3BvzIc2CY6w"
   },
   "source": [
    "## Adicionando Entry point\n",
    "\n"
   ]
  },
  {
   "cell_type": "code",
   "execution_count": 38,
   "metadata": {
    "colab": {
     "base_uri": "https://localhost:8080/"
    },
    "executionInfo": {
     "elapsed": 19,
     "status": "ok",
     "timestamp": 1755918788144,
     "user": {
      "displayName": "Gabriel Alves",
      "userId": "07503873055563742982"
     },
     "user_tz": 180
    },
    "id": "aZJi4BJtlPsU",
    "outputId": "90cf2fd1-3508-4ae8-9236-c7adc65cf705"
   },
   "outputs": [
    {
     "data": {
      "text/plain": [
       "<langgraph.graph.state.StateGraph at 0x104a4d2b0>"
      ]
     },
     "execution_count": 38,
     "metadata": {},
     "output_type": "execute_result"
    }
   ],
   "source": [
    "graph_builder.add_edge(START, \"agent\")\n",
    "graph_builder.add_edge(\"agent\", END)"
   ]
  },
  {
   "cell_type": "markdown",
   "metadata": {
    "id": "OVlOQWtQDFxI"
   },
   "source": [
    "## Compilando e exibindo\n",
    "\n"
   ]
  },
  {
   "cell_type": "code",
   "execution_count": 39,
   "metadata": {
    "executionInfo": {
     "elapsed": 9,
     "status": "ok",
     "timestamp": 1755918788166,
     "user": {
      "displayName": "Gabriel Alves",
      "userId": "07503873055563742982"
     },
     "user_tz": 180
    },
    "id": "Aw1rh7mMlkou"
   },
   "outputs": [],
   "source": [
    "graph = graph_builder.compile()"
   ]
  },
  {
   "cell_type": "code",
   "execution_count": 40,
   "metadata": {
    "colab": {
     "base_uri": "https://localhost:8080/",
     "height": 251
    },
    "executionInfo": {
     "elapsed": 38,
     "status": "ok",
     "timestamp": 1755918788216,
     "user": {
      "displayName": "Gabriel Alves",
      "userId": "07503873055563742982"
     },
     "user_tz": 180
    },
    "id": "aTuidQnFlpw5",
    "outputId": "1db10fd2-c1e5-4c4e-a175-3ef3167931cb"
   },
   "outputs": [
    {
     "data": {
      "image/png": "[encoded data removed]",
      "text/plain": [
       "<IPython.core.display.Image object>"
      ]
     },
     "metadata": {},
     "output_type": "display_data"
    }
   ],
   "source": [
    "from IPython.display import Image, display\n",
    "\n",
    "display(Image(graph.get_graph().draw_mermaid_png()))"
   ]
  },
  {
   "cell_type": "markdown",
   "metadata": {
    "id": "3I-vttOpDeqe"
   },
   "source": [
    "## Rodando o chatbot\n",
    "\n"
   ]
  },
  {
   "cell_type": "code",
   "execution_count": 43,
   "metadata": {
    "colab": {
     "base_uri": "https://localhost:8080/"
    },
    "executionInfo": {
     "elapsed": 69564,
     "status": "ok",
     "timestamp": 1747844130599,
     "user": {
      "displayName": "Jones Granatyr",
      "userId": "10042675233362078631"
     },
     "user_tz": 180
    },
    "id": "M-K5p5Ksm9sW",
    "outputId": "9e762920-b695-4906-9aad-fe3ff436d364"
   },
   "outputs": [
    {
     "name": "stdout",
     "output_type": "stream",
     "text": [
      "\n",
      "===========\n"
     ]
    },
    {
     "name": "stdin",
     "output_type": "stream",
     "text": [
      "Usuário:  sair\n"
     ]
    },
    {
     "name": "stdout",
     "output_type": "stream",
     "text": [
      "Até mais!\n"
     ]
    }
   ],
   "source": [
    "while True:\n",
    "  print(\"\\n===========\")\n",
    "  user_input = input(\"Usuário: \")\n",
    "  if user_input.lower() in [\"q\", \"sair\"]:\n",
    "    print(\"Até mais!\")\n",
    "    break\n",
    "  for event in graph.stream({\"messages\": [(\"user\", user_input)]}):\n",
    "    for value in event.values():\n",
    "      print(\"\\n=========\")\n",
    "      print(\"Tutor: \", value[\"messages\"][-1].content)\n",
    "      "
   ]
  },
  {
   "cell_type": "markdown",
   "metadata": {
    "id": "Mmzt9qbeGX_z"
   },
   "source": [
    "## Integração com Tools (ferramentas)\n",
    "\n"
   ]
  },
  {
   "cell_type": "markdown",
   "metadata": {
    "id": "6vIN-PgEGyPs"
   },
   "source": [
    "### Criando uma tool de cálculo matemático\n",
    "\n"
   ]
  },
  {
   "cell_type": "code",
   "execution_count": 44,
   "metadata": {
    "executionInfo": {
     "elapsed": 185,
     "status": "ok",
     "timestamp": 1755918788404,
     "user": {
      "displayName": "Gabriel Alves",
      "userId": "07503873055563742982"
     },
     "user_tz": 180
    },
    "id": "BdOd4tRgrzjY"
   },
   "outputs": [],
   "source": [
    "# \"37593 * 67\"\n",
    "\n",
    "\n",
    "@tool\n",
    "def calculator_tool(expression: str) -> str:\n",
    "  \"\"\"Use quando a mensagem pedir explicitamente pela resposta de um cálculo \"\"\"\n",
    "  local_dict = {\"pi\": math.pi, \"e\": math.e}\n",
    "  return str(\n",
    "      numexpr.evaluate(\n",
    "          expression.strip(),\n",
    "          global_dict={},\n",
    "          local_dict=local_dict,\n",
    "      )\n",
    "  )"
   ]
  },
  {
   "cell_type": "code",
   "execution_count": 45,
   "metadata": {
    "colab": {
     "base_uri": "https://localhost:8080/"
    },
    "executionInfo": {
     "elapsed": 30,
     "status": "ok",
     "timestamp": 1755918788452,
     "user": {
      "displayName": "Gabriel Alves",
      "userId": "07503873055563742982"
     },
     "user_tz": 180
    },
    "id": "sggiB6UOtHPH",
    "outputId": "6fcac043-5053-4902-8d19-510318e702c2"
   },
   "outputs": [
    {
     "data": {
      "text/plain": [
       "StructuredTool(name='calculator_tool', description='Use quando a mensagem pedir explicitamente pela resposta de um cálculo', args_schema=<class 'langchain_core.utils.pydantic.calculator_tool'>, func=<function calculator_tool at 0x3a629d9e0>)"
      ]
     },
     "execution_count": 45,
     "metadata": {},
     "output_type": "execute_result"
    }
   ],
   "source": [
    "calculator_tool"
   ]
  },
  {
   "cell_type": "code",
   "execution_count": 47,
   "metadata": {
    "executionInfo": {
     "elapsed": 131,
     "status": "ok",
     "timestamp": 1755918788568,
     "user": {
      "displayName": "Gabriel Alves",
      "userId": "07503873055563742982"
     },
     "user_tz": 180
    },
    "id": "Di1ikMS7tSQi"
   },
   "outputs": [],
   "source": [
    "tools = [calculator_tool]\n",
    "tools_node = ToolNode(tools=tools)"
   ]
  },
  {
   "cell_type": "code",
   "execution_count": 48,
   "metadata": {
    "executionInfo": {
     "elapsed": 41,
     "status": "ok",
     "timestamp": 1755918902133,
     "user": {
      "displayName": "Gabriel Alves",
      "userId": "07503873055563742982"
     },
     "user_tz": 180
    },
    "id": "R--vMO8At26C"
   },
   "outputs": [],
   "source": [
    "llm_with_tools = llm.bind_tools(tools)"
   ]
  },
  {
   "cell_type": "code",
   "execution_count": 49,
   "metadata": {
    "id": "SaS2Gq88uTJM"
   },
   "outputs": [],
   "source": [
    "def agent(state: State):\n",
    "  messages = state[\"messages\"]\n",
    "  response = llm_with_tools.invoke(messages)\n",
    "  tool_calls = response.additional_kwargs.get(\"tools_calls\")\n",
    "  if tool_calls is not None:\n",
    "    print(tool_calls)\n",
    "  return {\"messages\": [response]}"
   ]
  },
  {
   "cell_type": "code",
   "execution_count": 51,
   "metadata": {
    "colab": {
     "base_uri": "https://localhost:8080/"
    },
    "executionInfo": {
     "elapsed": 476,
     "status": "ok",
     "timestamp": 1747916040140,
     "user": {
      "displayName": "Jones Granatyr",
      "userId": "10042675233362078631"
     },
     "user_tz": 180
    },
    "id": "h1jFKk9gu0Uz",
    "outputId": "2c8b84b5-13d7-4c0e-ca08-fd12cbc73afd"
   },
   "outputs": [
    {
     "name": "stderr",
     "output_type": "stream",
     "text": [
      "2025-09-25 09:19:50,705 - INFO - HTTP Request: POST https://api.groq.com/openai/v1/chat/completions \"HTTP/1.1 200 OK\"\n"
     ]
    },
    {
     "name": "stdout",
     "output_type": "stream",
     "text": [
      "content='' additional_kwargs={'tool_calls': [{'id': 'f4wyzm2mm', 'function': {'arguments': '{\"expression\":\"969611 / 23\"}', 'name': 'calculator_tool'}, 'type': 'function'}]} response_metadata={'token_usage': {'completion_tokens': 27, 'prompt_tokens': 682, 'total_tokens': 709, 'completion_time': 0.050993251, 'prompt_time': 0.021285502, 'queue_time': 0.279511658, 'total_time': 0.072278753}, 'model_name': 'meta-llama/llama-4-maverick-17b-128e-instruct', 'system_fingerprint': 'fp_c527aa4474', 'service_tier': 'on_demand', 'finish_reason': 'tool_calls', 'logprobs': None} id='run--db3e972d-c7cb-4f7f-9c33-68865d5e166a-0' tool_calls=[{'name': 'calculator_tool', 'args': {'expression': '969611 / 23'}, 'id': 'f4wyzm2mm', 'type': 'tool_call'}] usage_metadata={'input_tokens': 682, 'output_tokens': 27, 'total_tokens': 709}\n"
     ]
    }
   ],
   "source": [
    "response = llm_with_tools.invoke(\"quanto é 969611 dividido por 23?\")\n",
    "print(response)"
   ]
  },
  {
   "cell_type": "code",
   "execution_count": 52,
   "metadata": {
    "colab": {
     "base_uri": "https://localhost:8080/"
    },
    "executionInfo": {
     "elapsed": 14,
     "status": "ok",
     "timestamp": 1747916042938,
     "user": {
      "displayName": "Jones Granatyr",
      "userId": "10042675233362078631"
     },
     "user_tz": 180
    },
    "id": "OS9jWHWgvMm_",
    "outputId": "e5696fca-ab3d-4d94-deda-56906cc80a6c"
   },
   "outputs": [
    {
     "data": {
      "text/plain": [
       "<langgraph.graph.state.StateGraph at 0x3937fed50>"
      ]
     },
     "execution_count": 52,
     "metadata": {},
     "output_type": "execute_result"
    }
   ],
   "source": [
    "builder = StateGraph(State)\n",
    "\n",
    "builder.add_node(\"agent\", agent)\n",
    "builder.add_node(\"tools\", tools_node)\n",
    "\n",
    "builder.add_edge(START, \"agent\")\n",
    "builder.add_conditional_edges(\"agent\", tools_condition, [\"tools\", END])\n",
    "builder.add_edge(\"tools\", \"agent\")"
   ]
  },
  {
   "cell_type": "markdown",
   "metadata": {
    "id": "VXPbTUyFK0As"
   },
   "source": [
    "## Adicionando memória\n",
    "\n"
   ]
  },
  {
   "cell_type": "code",
   "execution_count": 53,
   "metadata": {
    "id": "yoenZFnY3ajW"
   },
   "outputs": [],
   "source": [
    "memory = MemorySaver()"
   ]
  },
  {
   "cell_type": "code",
   "execution_count": 54,
   "metadata": {
    "id": "afAezO4k3hfj"
   },
   "outputs": [],
   "source": [
    "graph = builder.compile(checkpointer=memory)"
   ]
  },
  {
   "cell_type": "code",
   "execution_count": 55,
   "metadata": {
    "colab": {
     "base_uri": "https://localhost:8080/",
     "height": 266
    },
    "executionInfo": {
     "elapsed": 104,
     "status": "ok",
     "timestamp": 1747916048553,
     "user": {
      "displayName": "Jones Granatyr",
      "userId": "10042675233362078631"
     },
     "user_tz": 180
    },
    "id": "WMoSIIPW3tUF",
    "outputId": "81fd6280-e0d9-4c10-8bf9-623e0c6146cb"
   },
   "outputs": [
    {
     "data": {
      "image/png": "[encoded data removed]",
      "text/plain": [
       "<IPython.core.display.Image object>"
      ]
     },
     "metadata": {},
     "output_type": "display_data"
    }
   ],
   "source": [
    "display(Image(graph.get_graph().draw_mermaid_png()))"
   ]
  },
  {
   "cell_type": "code",
   "execution_count": 56,
   "metadata": {
    "id": "LSEe2Awu35qO"
   },
   "outputs": [],
   "source": [
    "def stream_graph_updates(message):\n",
    "  for event in graph.stream(\n",
    "      {\"messages\": message},\n",
    "      {\"configurable\": {\"thread_id\": \"1\"}},\n",
    "  ):\n",
    "    for value in event.values():\n",
    "      last_message = value[\"messages\"][-1].content\n",
    "      if len(last_message) > 0:\n",
    "        print(\"\\n=======\\n\")\n",
    "        print(\"Tutor:\", last_message)"
   ]
  },
  {
   "cell_type": "code",
   "execution_count": 57,
   "metadata": {
    "colab": {
     "base_uri": "https://localhost:8080/"
    },
    "executionInfo": {
     "elapsed": 90938,
     "status": "ok",
     "timestamp": 1747916145846,
     "user": {
      "displayName": "Jones Granatyr",
      "userId": "10042675233362078631"
     },
     "user_tz": 180
    },
    "id": "mOWVswVN40K3",
    "outputId": "212e8192-d846-4cea-a3b9-724bc23baf88"
   },
   "outputs": [
    {
     "name": "stderr",
     "output_type": "stream",
     "text": [
      "2025-09-25 09:21:21,137 - INFO - HTTP Request: POST https://api.groq.com/openai/v1/chat/completions \"HTTP/1.1 200 OK\"\n"
     ]
    },
    {
     "name": "stdout",
     "output_type": "stream",
     "text": [
      "\n",
      "=======\n",
      "\n",
      "Tutor:  Se você precisar de ajuda com um cálculo, basta me dizer e eu posso usar a ferramenta \"calculator_tool\" para você. \n",
      "\n",
      "Para usar a ferramenta \"calculator_tool\", você precisa fornecer uma expressão matemática válida. Por exemplo, se você quiser calcular 2 + 2, você deve fornecer a expressão \"2 + 2\".\n",
      "\n",
      "Se você tiver uma expressão específica que gostaria de calcular, por favor, compartilhe. Estou aqui para ajudar!\n",
      "Olá, sou seu tutor digital! Como posso ajudar?\n",
      "\n",
      "==========\n",
      "\n"
     ]
    },
    {
     "name": "stdin",
     "output_type": "stream",
     "text": [
      "Usuário:  q\n"
     ]
    },
    {
     "name": "stdout",
     "output_type": "stream",
     "text": [
      "Até mais!\n"
     ]
    }
   ],
   "source": [
    "start_msg = \"Olá, sou seu tutor digital! Como posso ajudar?\"\n",
    "stream_graph_updates([(\"assistant\", start_msg)])\n",
    "print(start_msg)\n",
    "\n",
    "while True:\n",
    "    try:\n",
    "        print(\"\\n==========\\n\")\n",
    "        user_input = input(\"Usuário: \")\n",
    "        if user_input.lower() in [\"q\", \"sair\"]:\n",
    "            print(\"Até mais!\")\n",
    "            break\n",
    "\n",
    "        stream_graph_updates([(\"user\", user_input)])\n",
    "    except Exception as e:\n",
    "        print(f\"Error occurred: {str(e)}\")\n",
    "        break"
   ]
  },
  {
   "cell_type": "markdown",
   "metadata": {
    "id": "kgl3CRN8ucLZ"
   },
   "source": [
    "## Criando tool para pesquisa\n",
    "\n"
   ]
  },
  {
   "cell_type": "code",
   "execution_count": null,
   "metadata": {
    "colab": {
     "base_uri": "https://localhost:8080/"
    },
    "executionInfo": {
     "elapsed": 2937,
     "status": "ok",
     "timestamp": 1747916854260,
     "user": {
      "displayName": "Jones Granatyr",
      "userId": "10042675233362078631"
     },
     "user_tz": 180
    },
    "id": "vhMmc0w49j5_",
    "outputId": "68f3d575-8a6b-44f8-edb4-ae60778463ed"
   },
   "outputs": [],
   "source": [
    "#os.environ[\"TAVILY_API_KEY\"] = getpass.getpass()"
   ]
  },
  {
   "cell_type": "code",
   "execution_count": 59,
   "metadata": {
    "id": "wwWJM3QX9sB5"
   },
   "outputs": [],
   "source": [
    "from langchain_tavily import TavilySearch\n",
    "\n",
    "@tool\n",
    "def search_tool(query: str=\"\") -> str:\n",
    "  \"\"\"Busca informações na internet com base na consulta fornecida, use quando pedir por informações recentes ou por pesquisa\"\"\"\n",
    "  search_tavily = TavilySearch(max_results = 3)\n",
    "  search_res = search_tavily.invoke(query)\n",
    "  return search_res"
   ]
  },
  {
   "cell_type": "code",
   "execution_count": 63,
   "metadata": {
    "colab": {
     "base_uri": "https://localhost:8080/"
    },
    "executionInfo": {
     "elapsed": 2635,
     "status": "ok",
     "timestamp": 1747917006913,
     "user": {
      "displayName": "Jones Granatyr",
      "userId": "10042675233362078631"
     },
     "user_tz": 180
    },
    "id": "WwMA2OBl-GML",
    "outputId": "d384ae10-7a4e-4b4f-ca30-ade5fca70767"
   },
   "outputs": [
    {
     "data": {
      "text/plain": [
       "{'query': 'notícias recentes sobre o telescópio james webb',\n",
       " 'follow_up_questions': None,\n",
       " 'answer': None,\n",
       " 'images': [],\n",
       " 'results': [{'url': 'https://www.cnnbrasil.com.br/tudo-sobre/telescopio-webb/',\n",
       "   'title': 'Tudo sobre Telescópio Webb - CNN Brasil',\n",
       "   'content': 'Logo # Tudo sobre Telescópio Webb Telescópio James Webb captura imagem da estrela mais distante já vista Telescópio Webb faz uma surpreendente descoberta galáctica no universo distante ## Telescópio Webb faz uma surpreendente descoberta galáctica no universo distante \"Carro do senhorzinho é lixo\", disse Bia Miranda sobre acidente com Porsche ### \"Carro do senhorzinho é lixo\", disse Bia Miranda sobre acidente com Porsche Seleção Brasileira: veja 19 nomes confirmados na pré-lista de Ancelotti ### Seleção Brasileira: veja 19 nomes confirmados na pré-lista de Ancelotti Família de Arlindo Cruz impõe regras sobre direitos após morte do cantor ### Família de Arlindo Cruz impõe regras sobre direitos após morte do cantor Logo CNN Todos os direitos reservados.',\n",
       "   'score': 0.98545,\n",
       "   'raw_content': None},\n",
       "  {'url': 'https://sicnoticias.pt/ciencia/2025-09-24-telescopio-espacial-revela-estrelas-coloridas-com-detalhes-nunca-antes-vistos-305bcd91',\n",
       "   'title': 'Telescópio espacial revela estrelas coloridas com detalhes nunca ...',\n",
       "   'content': 'O telescópio espacial James Webb revelou um conjunto de estrelas coloridas e poeira brilhante com detalhes nunca antes vistos na maior nuvem',\n",
       "   'score': 0.98299,\n",
       "   'raw_content': None},\n",
       "  {'url': 'https://science.nasa.gov/mission/webb/latestnews/',\n",
       "   'title': 'Latest News - NASA Science',\n",
       "   'content': \"NASA's James Webb Space Telescope observed interstellar comet 3I/ATLAS Aug. 6, with its Near-Infrared Spectrograph instrument. The research team\",\n",
       "   'score': 0.97665,\n",
       "   'raw_content': None}],\n",
       " 'response_time': 1.35,\n",
       " 'request_id': 'b0e6d7e0-0bf6-436e-bc80-cb4253a913d9'}"
      ]
     },
     "execution_count": 63,
     "metadata": {},
     "output_type": "execute_result"
    }
   ],
   "source": [
    "search_res = search_tool.invoke(\"notícias recentes sobre o telescópio james webb\")\n",
    "search_res"
   ]
  },
  {
   "cell_type": "markdown",
   "metadata": {
    "id": "XfcAihC_zi1m"
   },
   "source": [
    "## Criando tool para recuperar informações (RAG)\n",
    "\n"
   ]
  },
  {
   "cell_type": "code",
   "execution_count": 66,
   "metadata": {
    "id": "EPknDhhO-apF"
   },
   "outputs": [],
   "source": [
    "retriever_tool = create_retriever_tool(\n",
    "    retriever,\n",
    "    \"retriever_docs\",\n",
    "    \"Retorna informações somente quando usuário pedir por informações do banco de dados\"\n",
    ")"
   ]
  },
  {
   "cell_type": "code",
   "execution_count": 68,
   "metadata": {
    "colab": {
     "base_uri": "https://localhost:8080/"
    },
    "executionInfo": {
     "elapsed": 532,
     "status": "ok",
     "timestamp": 1747917268184,
     "user": {
      "displayName": "Jones Granatyr",
      "userId": "10042675233362078631"
     },
     "user_tz": 180
    },
    "id": "KWsp5lYt-92P",
    "outputId": "0f3fc019-7595-4194-8877-a12e9ccd58bc"
   },
   "outputs": [
    {
     "name": "stderr",
     "output_type": "stream",
     "text": [
      "2025-09-25 09:32:07,682 - INFO - HTTP Request: POST https://api.groq.com/openai/v1/chat/completions \"HTTP/1.1 200 OK\"\n"
     ]
    },
    {
     "data": {
      "text/plain": [
       "[{'name': 'retriever_docs',\n",
       "  'args': {'query': 'astronomia'},\n",
       "  'id': '89d37y0gy',\n",
       "  'type': 'tool_call'}]"
      ]
     },
     "execution_count": 68,
     "metadata": {},
     "output_type": "execute_result"
    }
   ],
   "source": [
    "tools = [calculator_tool, retriever_tool, search_tool]\n",
    "llm_with_tools = llm.bind_tools(tools)\n",
    "\n",
    "response = llm_with_tools.invoke(\"retorne informações do banco de dados sobre astronomia\")\n",
    "response.tool_calls"
   ]
  },
  {
   "cell_type": "markdown",
   "metadata": {
    "id": "gjmK9X_2WjKD"
   },
   "source": [
    "## Organizando código final em funções\n",
    "\n"
   ]
  },
  {
   "cell_type": "code",
   "execution_count": 69,
   "metadata": {
    "id": "zsTkwSOp_pwT"
   },
   "outputs": [],
   "source": [
    "def build_tools(tools):\n",
    "  return tools, ToolNode(tools)"
   ]
  },
  {
   "cell_type": "code",
   "execution_count": 70,
   "metadata": {
    "id": "3hT4IAQD_z6t"
   },
   "outputs": [],
   "source": [
    "def config_graph(agent, tools_node, memory):\n",
    "    \"\"\"Cria e configura o grafo do LangGraph com os nós e arestas\"\"\"\n",
    "    builder = StateGraph(State)\n",
    "    builder.add_node(\"agent\", agent)\n",
    "    builder.add_node(\"tools\", tools_node)\n",
    "\n",
    "    builder.add_edge(START, \"agent\")\n",
    "    builder.add_conditional_edges(\"agent\", tools_condition, [\"tools\", END])\n",
    "    builder.add_edge(\"tools\", \"agent\")\n",
    "\n",
    "    return builder.compile(checkpointer=memory)"
   ]
  },
  {
   "cell_type": "code",
   "execution_count": 71,
   "metadata": {
    "id": "KhcRUkZf_6wC"
   },
   "outputs": [],
   "source": [
    "def run_agent(graph):\n",
    "    \"\"\"Loop principal de interação com o agente.\"\"\"\n",
    "    # Mensagem inicial (como se a IA estivesse começando)\n",
    "    start_msg = \"Olá, sou seu tutor digital! Como posso ajudar?\"\n",
    "    stream_graph_updates([(\"assistant\", start_msg)])\n",
    "    print(start_msg)\n",
    "\n",
    "    while True:\n",
    "        try:\n",
    "            print(\"\\n==========\\n\")\n",
    "            user_input = input(\"Usuário: \")\n",
    "            if user_input.lower() in [\"q\", \"sair\"]:\n",
    "                print(\"Até mais!\")\n",
    "                break\n",
    "\n",
    "            stream_graph_updates([(\"user\", user_input)])\n",
    "        except Exception as e:\n",
    "            print(f\"Error occurred: {str(e)}\")\n",
    "            break"
   ]
  },
  {
   "cell_type": "code",
   "execution_count": 72,
   "metadata": {
    "id": "-R8xzHyT__58"
   },
   "outputs": [],
   "source": [
    "tools, tools_node = build_tools([calculator_tool, retriever_tool, search_tool])\n",
    "memory = MemorySaver()\n",
    "llm_with_tools = llm.bind_tools(tools)"
   ]
  },
  {
   "cell_type": "code",
   "execution_count": 73,
   "metadata": {
    "colab": {
     "base_uri": "https://localhost:8080/"
    },
    "executionInfo": {
     "elapsed": 115079,
     "status": "ok",
     "timestamp": 1747917703376,
     "user": {
      "displayName": "Jones Granatyr",
      "userId": "10042675233362078631"
     },
     "user_tz": 180
    },
    "id": "KEOjsZi7AVTk",
    "outputId": "430f33d0-3205-4327-9ca2-e195518b5821"
   },
   "outputs": [
    {
     "name": "stderr",
     "output_type": "stream",
     "text": [
      "2025-09-25 09:32:21,164 - INFO - HTTP Request: POST https://api.groq.com/openai/v1/chat/completions \"HTTP/1.1 200 OK\"\n"
     ]
    },
    {
     "name": "stdout",
     "output_type": "stream",
     "text": [
      "Olá, sou seu tutor digital! Como posso ajudar?\n",
      "\n",
      "==========\n",
      "\n"
     ]
    },
    {
     "name": "stdin",
     "output_type": "stream",
     "text": [
      "Usuário:  fala sobre o Palmeiras\n"
     ]
    },
    {
     "name": "stderr",
     "output_type": "stream",
     "text": [
      "2025-09-25 09:32:42,394 - INFO - HTTP Request: POST https://api.groq.com/openai/v1/chat/completions \"HTTP/1.1 200 OK\"\n"
     ]
    },
    {
     "name": "stdout",
     "output_type": "stream",
     "text": [
      "\n",
      "=======\n",
      "\n",
      "Tutor: search_tool({\"query\": \"Palmeiras\"})\n",
      "\n",
      "==========\n",
      "\n"
     ]
    },
    {
     "name": "stdin",
     "output_type": "stream",
     "text": [
      "Usuário:  retorne informações sobre o flamengo\n"
     ]
    },
    {
     "name": "stderr",
     "output_type": "stream",
     "text": [
      "2025-09-25 09:34:05,824 - INFO - HTTP Request: POST https://api.groq.com/openai/v1/chat/completions \"HTTP/1.1 200 OK\"\n"
     ]
    },
    {
     "name": "stdout",
     "output_type": "stream",
     "text": [
      "\n",
      "=======\n",
      "\n",
      "Tutor: search_tool({\"query\": \"Flamengo\"})\n",
      "\n",
      "==========\n",
      "\n"
     ]
    },
    {
     "name": "stdin",
     "output_type": "stream",
     "text": [
      "Usuário:  2+2\n"
     ]
    },
    {
     "name": "stderr",
     "output_type": "stream",
     "text": [
      "2025-09-25 09:34:53,100 - INFO - HTTP Request: POST https://api.groq.com/openai/v1/chat/completions \"HTTP/1.1 200 OK\"\n"
     ]
    },
    {
     "name": "stdout",
     "output_type": "stream",
     "text": [
      "\n",
      "=======\n",
      "\n",
      "Tutor: 4\n"
     ]
    },
    {
     "name": "stderr",
     "output_type": "stream",
     "text": [
      "2025-09-25 09:34:53,532 - INFO - HTTP Request: POST https://api.groq.com/openai/v1/chat/completions \"HTTP/1.1 200 OK\"\n"
     ]
    },
    {
     "name": "stdout",
     "output_type": "stream",
     "text": [
      "\n",
      "=======\n",
      "\n",
      "Tutor: A resposta para 2+2 é 4.\n",
      "\n",
      "==========\n",
      "\n"
     ]
    },
    {
     "ename": "KeyboardInterrupt",
     "evalue": "Interrupted by user",
     "output_type": "error",
     "traceback": [
      "\u001b[31m---------------------------------------------------------------------------\u001b[39m",
      "\u001b[31mKeyboardInterrupt\u001b[39m                         Traceback (most recent call last)",
      "\u001b[36mCell\u001b[39m\u001b[36m \u001b[39m\u001b[32mIn[73]\u001b[39m\u001b[32m, line 2\u001b[39m\n\u001b[32m      1\u001b[39m graph = config_graph(agent, tools_node, memory)\n\u001b[32m----> \u001b[39m\u001b[32m2\u001b[39m \u001b[43mrun_agent\u001b[49m\u001b[43m(\u001b[49m\u001b[43mgraph\u001b[49m\u001b[43m)\u001b[49m\n",
      "\u001b[36mCell\u001b[39m\u001b[36m \u001b[39m\u001b[32mIn[71]\u001b[39m\u001b[32m, line 11\u001b[39m, in \u001b[36mrun_agent\u001b[39m\u001b[34m(graph)\u001b[39m\n\u001b[32m      9\u001b[39m \u001b[38;5;28;01mtry\u001b[39;00m:\n\u001b[32m     10\u001b[39m     \u001b[38;5;28mprint\u001b[39m(\u001b[33m\"\u001b[39m\u001b[38;5;130;01m\\n\u001b[39;00m\u001b[33m==========\u001b[39m\u001b[38;5;130;01m\\n\u001b[39;00m\u001b[33m\"\u001b[39m)\n\u001b[32m---> \u001b[39m\u001b[32m11\u001b[39m     user_input = \u001b[38;5;28;43minput\u001b[39;49m\u001b[43m(\u001b[49m\u001b[33;43m\"\u001b[39;49m\u001b[33;43mUsuário: \u001b[39;49m\u001b[33;43m\"\u001b[39;49m\u001b[43m)\u001b[49m\n\u001b[32m     12\u001b[39m     \u001b[38;5;28;01mif\u001b[39;00m user_input.lower() \u001b[38;5;129;01min\u001b[39;00m [\u001b[33m\"\u001b[39m\u001b[33mq\u001b[39m\u001b[33m\"\u001b[39m, \u001b[33m\"\u001b[39m\u001b[33msair\u001b[39m\u001b[33m\"\u001b[39m]:\n\u001b[32m     13\u001b[39m         \u001b[38;5;28mprint\u001b[39m(\u001b[33m\"\u001b[39m\u001b[33mAté mais!\u001b[39m\u001b[33m\"\u001b[39m)\n",
      "\u001b[36mFile \u001b[39m\u001b[32m/opt/anaconda3/envs/langgraph/lib/python3.13/site-packages/ipykernel/kernelbase.py:1275\u001b[39m, in \u001b[36mKernel.raw_input\u001b[39m\u001b[34m(self, prompt)\u001b[39m\n\u001b[32m   1273\u001b[39m     msg = \u001b[33m\"\u001b[39m\u001b[33mraw_input was called, but this frontend does not support input requests.\u001b[39m\u001b[33m\"\u001b[39m\n\u001b[32m   1274\u001b[39m     \u001b[38;5;28;01mraise\u001b[39;00m StdinNotImplementedError(msg)\n\u001b[32m-> \u001b[39m\u001b[32m1275\u001b[39m \u001b[38;5;28;01mreturn\u001b[39;00m \u001b[38;5;28;43mself\u001b[39;49m\u001b[43m.\u001b[49m\u001b[43m_input_request\u001b[49m\u001b[43m(\u001b[49m\n\u001b[32m   1276\u001b[39m \u001b[43m    \u001b[49m\u001b[38;5;28;43mstr\u001b[39;49m\u001b[43m(\u001b[49m\u001b[43mprompt\u001b[49m\u001b[43m)\u001b[49m\u001b[43m,\u001b[49m\n\u001b[32m   1277\u001b[39m \u001b[43m    \u001b[49m\u001b[38;5;28;43mself\u001b[39;49m\u001b[43m.\u001b[49m\u001b[43m_parent_ident\u001b[49m\u001b[43m[\u001b[49m\u001b[33;43m\"\u001b[39;49m\u001b[33;43mshell\u001b[39;49m\u001b[33;43m\"\u001b[39;49m\u001b[43m]\u001b[49m\u001b[43m,\u001b[49m\n\u001b[32m   1278\u001b[39m \u001b[43m    \u001b[49m\u001b[38;5;28;43mself\u001b[39;49m\u001b[43m.\u001b[49m\u001b[43mget_parent\u001b[49m\u001b[43m(\u001b[49m\u001b[33;43m\"\u001b[39;49m\u001b[33;43mshell\u001b[39;49m\u001b[33;43m\"\u001b[39;49m\u001b[43m)\u001b[49m\u001b[43m,\u001b[49m\n\u001b[32m   1279\u001b[39m \u001b[43m    \u001b[49m\u001b[43mpassword\u001b[49m\u001b[43m=\u001b[49m\u001b[38;5;28;43;01mFalse\u001b[39;49;00m\u001b[43m,\u001b[49m\n\u001b[32m   1280\u001b[39m \u001b[43m\u001b[49m\u001b[43m)\u001b[49m\n",
      "\u001b[36mFile \u001b[39m\u001b[32m/opt/anaconda3/envs/langgraph/lib/python3.13/site-packages/ipykernel/kernelbase.py:1320\u001b[39m, in \u001b[36mKernel._input_request\u001b[39m\u001b[34m(self, prompt, ident, parent, password)\u001b[39m\n\u001b[32m   1317\u001b[39m \u001b[38;5;28;01mexcept\u001b[39;00m \u001b[38;5;167;01mKeyboardInterrupt\u001b[39;00m:\n\u001b[32m   1318\u001b[39m     \u001b[38;5;66;03m# re-raise KeyboardInterrupt, to truncate traceback\u001b[39;00m\n\u001b[32m   1319\u001b[39m     msg = \u001b[33m\"\u001b[39m\u001b[33mInterrupted by user\u001b[39m\u001b[33m\"\u001b[39m\n\u001b[32m-> \u001b[39m\u001b[32m1320\u001b[39m     \u001b[38;5;28;01mraise\u001b[39;00m \u001b[38;5;167;01mKeyboardInterrupt\u001b[39;00m(msg) \u001b[38;5;28;01mfrom\u001b[39;00m\u001b[38;5;250m \u001b[39m\u001b[38;5;28;01mNone\u001b[39;00m\n\u001b[32m   1321\u001b[39m \u001b[38;5;28;01mexcept\u001b[39;00m \u001b[38;5;167;01mException\u001b[39;00m:\n\u001b[32m   1322\u001b[39m     \u001b[38;5;28mself\u001b[39m.log.warning(\u001b[33m\"\u001b[39m\u001b[33mInvalid Message:\u001b[39m\u001b[33m\"\u001b[39m, exc_info=\u001b[38;5;28;01mTrue\u001b[39;00m)\n",
      "\u001b[31mKeyboardInterrupt\u001b[39m: Interrupted by user"
     ]
    }
   ],
   "source": [
    "graph = config_graph(agent, tools_node, memory)\n",
    "run_agent(graph)"
   ]
  },
  {
   "cell_type": "code",
   "execution_count": null,
   "metadata": {},
   "outputs": [],
   "source": []
  }
 ],
 "metadata": {
  "colab": {
   "provenance": [
    {
     "file_id": "1Bsgr9jhTf7yQpnOJN9oku_Ow-q80zepz",
     "timestamp": 1747161059463
    }
   ],
   "toc_visible": true
  },
  "kernelspec": {
   "display_name": "Python 3 (ipykernel)",
   "language": "python",
   "name": "python3"
  },
  "language_info": {
   "codemirror_mode": {
    "name": "ipython",
    "version": 3
   },
   "file_extension": ".py",
   "mimetype": "text/x-python",
   "name": "python",
   "nbconvert_exporter": "python",
   "pygments_lexer": "ipython3",
   "version": "3.13.7"
  },
  "widgets": {
   "application/vnd.jupyter.widget-state+json": {
    "0131bd2024ec4af08add6a72444d5262": {
     "model_module": "@jupyter-widgets/controls",
     "model_module_version": "1.5.0",
     "model_name": "DescriptionStyleModel",
     "state": {
      "_model_module": "@jupyter-widgets/controls",
      "_model_module_version": "1.5.0",
      "_model_name": "DescriptionStyleModel",
      "_view_count": null,
      "_view_module": "@jupyter-widgets/base",
      "_view_module_version": "1.2.0",
      "_view_name": "StyleView",
      "description_width": ""
     }
    },
    "01f3964d2ce74e45bdc86425e7263f3e": {
     "model_module": "@jupyter-widgets/controls",
     "model_module_version": "1.5.0",
     "model_name": "ButtonModel",
     "state": {
      "_dom_classes": [],
      "_model_module": "@jupyter-widgets/controls",
      "_model_module_version": "1.5.0",
      "_model_name": "ButtonModel",
      "_view_count": null,
      "_view_module": "@jupyter-widgets/controls",
      "_view_module_version": "1.5.0",
      "_view_name": "ButtonView",
      "button_style": "",
      "description": "Gerar exercícios",
      "disabled": false,
      "icon": "",
      "layout": "IPY_MODEL_e9643eaee44d4faa9a2b8bd109d9a528",
      "style": "IPY_MODEL_bef8aa824ef1434aa6999a41e0918d41",
      "tooltip": ""
     }
    },
    "0203273f5d0b46d1b34f89922e0dc871": {
     "model_module": "@jupyter-widgets/controls",
     "model_module_version": "1.5.0",
     "model_name": "DescriptionStyleModel",
     "state": {
      "_model_module": "@jupyter-widgets/controls",
      "_model_module_version": "1.5.0",
      "_model_name": "DescriptionStyleModel",
      "_view_count": null,
      "_view_module": "@jupyter-widgets/base",
      "_view_module_version": "1.2.0",
      "_view_name": "StyleView",
      "description_width": ""
     }
    },
    "0242576f46ef42449815a421e5896164": {
     "model_module": "@jupyter-widgets/base",
     "model_module_version": "1.2.0",
     "model_name": "LayoutModel",
     "state": {
      "_model_module": "@jupyter-widgets/base",
      "_model_module_version": "1.2.0",
      "_model_name": "LayoutModel",
      "_view_count": null,
      "_view_module": "@jupyter-widgets/base",
      "_view_module_version": "1.2.0",
      "_view_name": "LayoutView",
      "align_content": null,
      "align_items": null,
      "align_self": null,
      "border": null,
      "bottom": null,
      "display": null,
      "flex": null,
      "flex_flow": null,
      "grid_area": null,
      "grid_auto_columns": null,
      "grid_auto_flow": null,
      "grid_auto_rows": null,
      "grid_column": null,
      "grid_gap": null,
      "grid_row": null,
      "grid_template_areas": null,
      "grid_template_columns": null,
      "grid_template_rows": null,
      "height": null,
      "justify_content": null,
      "justify_items": null,
      "left": null,
      "margin": null,
      "max_height": null,
      "max_width": null,
      "min_height": null,
      "min_width": null,
      "object_fit": null,
      "object_position": null,
      "order": null,
      "overflow": null,
      "overflow_x": null,
      "overflow_y": null,
      "padding": null,
      "right": null,
      "top": null,
      "visibility": null,
      "width": null
     }
    },
    "026739cb11b44fdf98c8889706fedebe": {
     "model_module": "@jupyter-widgets/base",
     "model_module_version": "1.2.0",
     "model_name": "LayoutModel",
     "state": {
      "_model_module": "@jupyter-widgets/base",
      "_model_module_version": "1.2.0",
      "_model_name": "LayoutModel",
      "_view_count": null,
      "_view_module": "@jupyter-widgets/base",
      "_view_module_version": "1.2.0",
      "_view_name": "LayoutView",
      "align_content": null,
      "align_items": null,
      "align_self": null,
      "border": null,
      "bottom": null,
      "display": null,
      "flex": null,
      "flex_flow": null,
      "grid_area": null,
      "grid_auto_columns": null,
      "grid_auto_flow": null,
      "grid_auto_rows": null,
      "grid_column": null,
      "grid_gap": null,
      "grid_row": null,
      "grid_template_areas": null,
      "grid_template_columns": null,
      "grid_template_rows": null,
      "height": null,
      "justify_content": null,
      "justify_items": null,
      "left": null,
      "margin": null,
      "max_height": null,
      "max_width": null,
      "min_height": null,
      "min_width": null,
      "object_fit": null,
      "object_position": null,
      "order": null,
      "overflow": null,
      "overflow_x": null,
      "overflow_y": null,
      "padding": null,
      "right": null,
      "top": null,
      "visibility": null,
      "width": null
     }
    },
    "0270ee90dcf74974afb3a2397dc56abf": {
     "model_module": "@jupyter-widgets/base",
     "model_module_version": "1.2.0",
     "model_name": "LayoutModel",
     "state": {
      "_model_module": "@jupyter-widgets/base",
      "_model_module_version": "1.2.0",
      "_model_name": "LayoutModel",
      "_view_count": null,
      "_view_module": "@jupyter-widgets/base",
      "_view_module_version": "1.2.0",
      "_view_name": "LayoutView",
      "align_content": null,
      "align_items": null,
      "align_self": null,
      "border": null,
      "bottom": null,
      "display": null,
      "flex": null,
      "flex_flow": null,
      "grid_area": null,
      "grid_auto_columns": null,
      "grid_auto_flow": null,
      "grid_auto_rows": null,
      "grid_column": null,
      "grid_gap": null,
      "grid_row": null,
      "grid_template_areas": null,
      "grid_template_columns": null,
      "grid_template_rows": null,
      "height": null,
      "justify_content": null,
      "justify_items": null,
      "left": null,
      "margin": null,
      "max_height": null,
      "max_width": null,
      "min_height": null,
      "min_width": null,
      "object_fit": null,
      "object_position": null,
      "order": null,
      "overflow": null,
      "overflow_x": null,
      "overflow_y": null,
      "padding": null,
      "right": null,
      "top": null,
      "visibility": null,
      "width": null
     }
    },
    "039f3a4c7b4a40b9a8f5b8dea807e0cc": {
     "model_module": "@jupyter-widgets/controls",
     "model_module_version": "1.5.0",
     "model_name": "TextModel",
     "state": {
      "_dom_classes": [],
      "_model_module": "@jupyter-widgets/controls",
      "_model_module_version": "1.5.0",
      "_model_name": "TextModel",
      "_view_count": null,
      "_view_module": "@jupyter-widgets/controls",
      "_view_module_version": "1.5.0",
      "_view_name": "TextView",
      "continuous_update": true,
      "description": "Interesses ou Preferências:",
      "description_tooltip": null,
      "disabled": false,
      "layout": "IPY_MODEL_743747f8af204518a7b973460fa5fc78",
      "placeholder": "Ex: Filmes, Esportes, Jogos, Música, etc....",
      "style": "IPY_MODEL_0131bd2024ec4af08add6a72444d5262",
      "value": "esportes"
     }
    },
    "047dabc155564197b30c3e24b6b6187c": {
     "model_module": "@jupyter-widgets/base",
     "model_module_version": "1.2.0",
     "model_name": "LayoutModel",
     "state": {
      "_model_module": "@jupyter-widgets/base",
      "_model_module_version": "1.2.0",
      "_model_name": "LayoutModel",
      "_view_count": null,
      "_view_module": "@jupyter-widgets/base",
      "_view_module_version": "1.2.0",
      "_view_name": "LayoutView",
      "align_content": null,
      "align_items": null,
      "align_self": null,
      "border": null,
      "bottom": null,
      "display": null,
      "flex": null,
      "flex_flow": null,
      "grid_area": null,
      "grid_auto_columns": null,
      "grid_auto_flow": null,
      "grid_auto_rows": null,
      "grid_column": null,
      "grid_gap": null,
      "grid_row": null,
      "grid_template_areas": null,
      "grid_template_columns": null,
      "grid_template_rows": null,
      "height": null,
      "justify_content": null,
      "justify_items": null,
      "left": null,
      "margin": null,
      "max_height": null,
      "max_width": null,
      "min_height": null,
      "min_width": null,
      "object_fit": null,
      "object_position": null,
      "order": null,
      "overflow": null,
      "overflow_x": null,
      "overflow_y": null,
      "padding": null,
      "right": null,
      "top": null,
      "visibility": null,
      "width": null
     }
    },
    "071e1560fe754b52957d5adaaadf0c4b": {
     "model_module": "@jupyter-widgets/base",
     "model_module_version": "1.2.0",
     "model_name": "LayoutModel",
     "state": {
      "_model_module": "@jupyter-widgets/base",
      "_model_module_version": "1.2.0",
      "_model_name": "LayoutModel",
      "_view_count": null,
      "_view_module": "@jupyter-widgets/base",
      "_view_module_version": "1.2.0",
      "_view_name": "LayoutView",
      "align_content": null,
      "align_items": null,
      "align_self": null,
      "border": null,
      "bottom": null,
      "display": null,
      "flex": null,
      "flex_flow": null,
      "grid_area": null,
      "grid_auto_columns": null,
      "grid_auto_flow": null,
      "grid_auto_rows": null,
      "grid_column": null,
      "grid_gap": null,
      "grid_row": null,
      "grid_template_areas": null,
      "grid_template_columns": null,
      "grid_template_rows": null,
      "height": null,
      "justify_content": null,
      "justify_items": null,
      "left": null,
      "margin": null,
      "max_height": null,
      "max_width": null,
      "min_height": null,
      "min_width": null,
      "object_fit": null,
      "object_position": null,
      "order": null,
      "overflow": null,
      "overflow_x": null,
      "overflow_y": null,
      "padding": null,
      "right": null,
      "top": null,
      "visibility": null,
      "width": null
     }
    },
    "07e13ab3b1ad492587e37f365ed0c1e7": {
     "model_module": "@jupyter-widgets/controls",
     "model_module_version": "1.5.0",
     "model_name": "ButtonStyleModel",
     "state": {
      "_model_module": "@jupyter-widgets/controls",
      "_model_module_version": "1.5.0",
      "_model_name": "ButtonStyleModel",
      "_view_count": null,
      "_view_module": "@jupyter-widgets/base",
      "_view_module_version": "1.2.0",
      "_view_name": "StyleView",
      "button_color": null,
      "font_weight": ""
     }
    },
    "0863465c595f4c1c930b82bc387bc3a1": {
     "model_module": "@jupyter-widgets/base",
     "model_module_version": "1.2.0",
     "model_name": "LayoutModel",
     "state": {
      "_model_module": "@jupyter-widgets/base",
      "_model_module_version": "1.2.0",
      "_model_name": "LayoutModel",
      "_view_count": null,
      "_view_module": "@jupyter-widgets/base",
      "_view_module_version": "1.2.0",
      "_view_name": "LayoutView",
      "align_content": null,
      "align_items": null,
      "align_self": null,
      "border": null,
      "bottom": null,
      "display": null,
      "flex": null,
      "flex_flow": null,
      "grid_area": null,
      "grid_auto_columns": null,
      "grid_auto_flow": null,
      "grid_auto_rows": null,
      "grid_column": null,
      "grid_gap": null,
      "grid_row": null,
      "grid_template_areas": null,
      "grid_template_columns": null,
      "grid_template_rows": null,
      "height": null,
      "justify_content": null,
      "justify_items": null,
      "left": null,
      "margin": null,
      "max_height": null,
      "max_width": null,
      "min_height": null,
      "min_width": null,
      "object_fit": null,
      "object_position": null,
      "order": null,
      "overflow": null,
      "overflow_x": null,
      "overflow_y": null,
      "padding": null,
      "right": null,
      "top": null,
      "visibility": null,
      "width": null
     }
    },
    "08c9d93949984e488670e504e4cda27e": {
     "model_module": "@jupyter-widgets/controls",
     "model_module_version": "1.5.0",
     "model_name": "HTMLModel",
     "state": {
      "_dom_classes": [],
      "_model_module": "@jupyter-widgets/controls",
      "_model_module_version": "1.5.0",
      "_model_name": "HTMLModel",
      "_view_count": null,
      "_view_module": "@jupyter-widgets/controls",
      "_view_module_version": "1.5.0",
      "_view_name": "HTMLView",
      "description": "",
      "description_tooltip": null,
      "layout": "IPY_MODEL_d2ad55c9acdc4427a160d554a9bd9e63",
      "placeholder": "​",
      "style": "IPY_MODEL_89885bd479ad4290bbad6287fce9ca40",
      "value": " 5.07M/5.07M [00:00&lt;00:00, 54.5MB/s]"
     }
    },
    "08f088d508c2470581d3150172029664": {
     "model_module": "@jupyter-widgets/controls",
     "model_module_version": "1.5.0",
     "model_name": "DescriptionStyleModel",
     "state": {
      "_model_module": "@jupyter-widgets/controls",
      "_model_module_version": "1.5.0",
      "_model_name": "DescriptionStyleModel",
      "_view_count": null,
      "_view_module": "@jupyter-widgets/base",
      "_view_module_version": "1.2.0",
      "_view_name": "StyleView",
      "description_width": ""
     }
    },
    "095626396e80404d82b2857a8c8da83e": {
     "model_module": "@jupyter-widgets/controls",
     "model_module_version": "1.5.0",
     "model_name": "ProgressStyleModel",
     "state": {
      "_model_module": "@jupyter-widgets/controls",
      "_model_module_version": "1.5.0",
      "_model_name": "ProgressStyleModel",
      "_view_count": null,
      "_view_module": "@jupyter-widgets/base",
      "_view_module_version": "1.2.0",
      "_view_name": "StyleView",
      "bar_color": null,
      "description_width": ""
     }
    },
    "0aa57ff60c51464f97d386935964e291": {
     "model_module": "@jupyter-widgets/controls",
     "model_module_version": "1.5.0",
     "model_name": "SliderStyleModel",
     "state": {
      "_model_module": "@jupyter-widgets/controls",
      "_model_module_version": "1.5.0",
      "_model_name": "SliderStyleModel",
      "_view_count": null,
      "_view_module": "@jupyter-widgets/base",
      "_view_module_version": "1.2.0",
      "_view_name": "StyleView",
      "description_width": "",
      "handle_color": null
     }
    },
    "0c51288b65b1454d8dcb649d0eb4175b": {
     "model_module": "@jupyter-widgets/controls",
     "model_module_version": "1.5.0",
     "model_name": "IntSliderModel",
     "state": {
      "_dom_classes": [],
      "_model_module": "@jupyter-widgets/controls",
      "_model_module_version": "1.5.0",
      "_model_name": "IntSliderModel",
      "_view_count": null,
      "_view_module": "@jupyter-widgets/controls",
      "_view_module_version": "1.5.0",
      "_view_name": "IntSliderView",
      "continuous_update": true,
      "description": "Qtd Exercícios:",
      "description_tooltip": null,
      "disabled": false,
      "layout": "IPY_MODEL_1627f1cf3d354fcc8f1fee2bc517244d",
      "max": 10,
      "min": 1,
      "orientation": "horizontal",
      "readout": true,
      "readout_format": "d",
      "step": 1,
      "style": "IPY_MODEL_e82bd28d08de4a55b85f1a832a653aec",
      "value": 5
     }
    },
    "0c61a1f0c37d44f1b5629f3e8df14cac": {
     "model_module": "@jupyter-widgets/base",
     "model_module_version": "1.2.0",
     "model_name": "LayoutModel",
     "state": {
      "_model_module": "@jupyter-widgets/base",
      "_model_module_version": "1.2.0",
      "_model_name": "LayoutModel",
      "_view_count": null,
      "_view_module": "@jupyter-widgets/base",
      "_view_module_version": "1.2.0",
      "_view_name": "LayoutView",
      "align_content": null,
      "align_items": null,
      "align_self": null,
      "border": null,
      "bottom": null,
      "display": null,
      "flex": null,
      "flex_flow": null,
      "grid_area": null,
      "grid_auto_columns": null,
      "grid_auto_flow": null,
      "grid_auto_rows": null,
      "grid_column": null,
      "grid_gap": null,
      "grid_row": null,
      "grid_template_areas": null,
      "grid_template_columns": null,
      "grid_template_rows": null,
      "height": null,
      "justify_content": null,
      "justify_items": null,
      "left": null,
      "margin": null,
      "max_height": null,
      "max_width": null,
      "min_height": null,
      "min_width": null,
      "object_fit": null,
      "object_position": null,
      "order": null,
      "overflow": null,
      "overflow_x": null,
      "overflow_y": null,
      "padding": null,
      "right": null,
      "top": null,
      "visibility": null,
      "width": null
     }
    },
    "0cec4f4fecae4b069ec3aa6b3016566a": {
     "model_module": "@jupyter-widgets/controls",
     "model_module_version": "1.5.0",
     "model_name": "HTMLModel",
     "state": {
      "_dom_classes": [],
      "_model_module": "@jupyter-widgets/controls",
      "_model_module_version": "1.5.0",
      "_model_name": "HTMLModel",
      "_view_count": null,
      "_view_module": "@jupyter-widgets/controls",
      "_view_module_version": "1.5.0",
      "_view_name": "HTMLView",
      "description": "",
      "description_tooltip": null,
      "layout": "IPY_MODEL_284d2e4840f441d4ae03cfeb49402072",
      "placeholder": "​",
      "style": "IPY_MODEL_2b9936b3fff24b508c8e4927a5c75e59",
      "value": " 2.27G/2.27G [00:11&lt;00:00, 157MB/s]"
     }
    },
    "0d38012e46c749d0bda39d32f72b9e50": {
     "model_module": "@jupyter-widgets/controls",
     "model_module_version": "1.5.0",
     "model_name": "DescriptionStyleModel",
     "state": {
      "_model_module": "@jupyter-widgets/controls",
      "_model_module_version": "1.5.0",
      "_model_name": "DescriptionStyleModel",
      "_view_count": null,
      "_view_module": "@jupyter-widgets/base",
      "_view_module_version": "1.2.0",
      "_view_name": "StyleView",
      "description_width": ""
     }
    },
    "0d80fdefc52e42819c49221c6c103236": {
     "model_module": "@jupyter-widgets/controls",
     "model_module_version": "1.5.0",
     "model_name": "HBoxModel",
     "state": {
      "_dom_classes": [],
      "_model_module": "@jupyter-widgets/controls",
      "_model_module_version": "1.5.0",
      "_model_name": "HBoxModel",
      "_view_count": null,
      "_view_module": "@jupyter-widgets/controls",
      "_view_module_version": "1.5.0",
      "_view_name": "HBoxView",
      "box_style": "",
      "children": [
       "IPY_MODEL_da1774b4b339413aa64bac9f51600cc3",
       "IPY_MODEL_5a5522db852f4028aff3fb9a77683d1d",
       "IPY_MODEL_cac2964ea9684a8ca6d7742bd3a018dd"
      ],
      "layout": "IPY_MODEL_348b6787e1f84f239fb460722931c7fa"
     }
    },
    "0d9b9f90fa914d0d8541f9b6cf89e48b": {
     "model_module": "@jupyter-widgets/controls",
     "model_module_version": "1.5.0",
     "model_name": "HTMLModel",
     "state": {
      "_dom_classes": [],
      "_model_module": "@jupyter-widgets/controls",
      "_model_module_version": "1.5.0",
      "_model_name": "HTMLModel",
      "_view_count": null,
      "_view_module": "@jupyter-widgets/controls",
      "_view_module_version": "1.5.0",
      "_view_name": "HTMLView",
      "description": "",
      "description_tooltip": null,
      "layout": "IPY_MODEL_e7f424b47628446d89144292f7f5dfaa",
      "placeholder": "​",
      "style": "IPY_MODEL_706d1f5ea7af4456a8f5f1f3cb1c1bb3",
      "value": "tokenizer_config.json: 100%"
     }
    },
    "0ea914b37a0c40b99e364eebc10ffe20": {
     "model_module": "@jupyter-widgets/controls",
     "model_module_version": "1.5.0",
     "model_name": "DescriptionStyleModel",
     "state": {
      "_model_module": "@jupyter-widgets/controls",
      "_model_module_version": "1.5.0",
      "_model_name": "DescriptionStyleModel",
      "_view_count": null,
      "_view_module": "@jupyter-widgets/base",
      "_view_module_version": "1.2.0",
      "_view_name": "StyleView",
      "description_width": ""
     }
    },
    "1070785f154349229b603baa61f1410b": {
     "model_module": "@jupyter-widgets/controls",
     "model_module_version": "1.5.0",
     "model_name": "TextModel",
     "state": {
      "_dom_classes": [],
      "_model_module": "@jupyter-widgets/controls",
      "_model_module_version": "1.5.0",
      "_model_name": "TextModel",
      "_view_count": null,
      "_view_module": "@jupyter-widgets/controls",
      "_view_module_version": "1.5.0",
      "_view_name": "TextView",
      "continuous_update": true,
      "description": "Tema:",
      "description_tooltip": null,
      "disabled": false,
      "layout": "IPY_MODEL_6c7edcb4c3464301bf557cdd6e7703de",
      "placeholder": "Matemática, Inglês, Física, Biologia, etc.",
      "style": "IPY_MODEL_e8c5dc48e42f4070aceddd56ee35433f",
      "value": "história da astronomia"
     }
    },
    "114917e2a4444eb694d734ccad35d34c": {
     "model_module": "@jupyter-widgets/controls",
     "model_module_version": "1.5.0",
     "model_name": "FloatProgressModel",
     "state": {
      "_dom_classes": [],
      "_model_module": "@jupyter-widgets/controls",
      "_model_module_version": "1.5.0",
      "_model_name": "FloatProgressModel",
      "_view_count": null,
      "_view_module": "@jupyter-widgets/controls",
      "_view_module_version": "1.5.0",
      "_view_name": "ProgressView",
      "bar_style": "success",
      "description": "",
      "description_tooltip": null,
      "layout": "IPY_MODEL_071e1560fe754b52957d5adaaadf0c4b",
      "max": 2271064456,
      "min": 0,
      "orientation": "horizontal",
      "style": "IPY_MODEL_5c24f3a3b600454193bf383d6c30aa5d",
      "value": 2271064456
     }
    },
    "12d457ceffcb43d9a7053df5c650bc26": {
     "model_module": "@jupyter-widgets/controls",
     "model_module_version": "1.5.0",
     "model_name": "DescriptionStyleModel",
     "state": {
      "_model_module": "@jupyter-widgets/controls",
      "_model_module_version": "1.5.0",
      "_model_name": "DescriptionStyleModel",
      "_view_count": null,
      "_view_module": "@jupyter-widgets/base",
      "_view_module_version": "1.2.0",
      "_view_name": "StyleView",
      "description_width": ""
     }
    },
    "14e5bae57b824542848cd1632c1136fe": {
     "model_module": "@jupyter-widgets/controls",
     "model_module_version": "1.5.0",
     "model_name": "ButtonStyleModel",
     "state": {
      "_model_module": "@jupyter-widgets/controls",
      "_model_module_version": "1.5.0",
      "_model_name": "ButtonStyleModel",
      "_view_count": null,
      "_view_module": "@jupyter-widgets/base",
      "_view_module_version": "1.2.0",
      "_view_name": "StyleView",
      "button_color": null,
      "font_weight": ""
     }
    },
    "1627f1cf3d354fcc8f1fee2bc517244d": {
     "model_module": "@jupyter-widgets/base",
     "model_module_version": "1.2.0",
     "model_name": "LayoutModel",
     "state": {
      "_model_module": "@jupyter-widgets/base",
      "_model_module_version": "1.2.0",
      "_model_name": "LayoutModel",
      "_view_count": null,
      "_view_module": "@jupyter-widgets/base",
      "_view_module_version": "1.2.0",
      "_view_name": "LayoutView",
      "align_content": null,
      "align_items": null,
      "align_self": null,
      "border": null,
      "bottom": null,
      "display": null,
      "flex": null,
      "flex_flow": null,
      "grid_area": null,
      "grid_auto_columns": null,
      "grid_auto_flow": null,
      "grid_auto_rows": null,
      "grid_column": null,
      "grid_gap": null,
      "grid_row": null,
      "grid_template_areas": null,
      "grid_template_columns": null,
      "grid_template_rows": null,
      "height": null,
      "justify_content": null,
      "justify_items": null,
      "left": null,
      "margin": null,
      "max_height": null,
      "max_width": null,
      "min_height": null,
      "min_width": null,
      "object_fit": null,
      "object_position": null,
      "order": null,
      "overflow": null,
      "overflow_x": null,
      "overflow_y": null,
      "padding": null,
      "right": null,
      "top": null,
      "visibility": null,
      "width": null
     }
    },
    "1699d27c31404551bea2333b089d763e": {
     "model_module": "@jupyter-widgets/controls",
     "model_module_version": "1.5.0",
     "model_name": "DescriptionStyleModel",
     "state": {
      "_model_module": "@jupyter-widgets/controls",
      "_model_module_version": "1.5.0",
      "_model_name": "DescriptionStyleModel",
      "_view_count": null,
      "_view_module": "@jupyter-widgets/base",
      "_view_module_version": "1.2.0",
      "_view_name": "StyleView",
      "description_width": ""
     }
    },
    "175e79ba6a2c4abc94c058b0b0e21d1c": {
     "model_module": "@jupyter-widgets/base",
     "model_module_version": "1.2.0",
     "model_name": "LayoutModel",
     "state": {
      "_model_module": "@jupyter-widgets/base",
      "_model_module_version": "1.2.0",
      "_model_name": "LayoutModel",
      "_view_count": null,
      "_view_module": "@jupyter-widgets/base",
      "_view_module_version": "1.2.0",
      "_view_name": "LayoutView",
      "align_content": null,
      "align_items": null,
      "align_self": null,
      "border": null,
      "bottom": null,
      "display": null,
      "flex": null,
      "flex_flow": null,
      "grid_area": null,
      "grid_auto_columns": null,
      "grid_auto_flow": null,
      "grid_auto_rows": null,
      "grid_column": null,
      "grid_gap": null,
      "grid_row": null,
      "grid_template_areas": null,
      "grid_template_columns": null,
      "grid_template_rows": null,
      "height": null,
      "justify_content": null,
      "justify_items": null,
      "left": null,
      "margin": null,
      "max_height": null,
      "max_width": null,
      "min_height": null,
      "min_width": null,
      "object_fit": null,
      "object_position": null,
      "order": null,
      "overflow": null,
      "overflow_x": null,
      "overflow_y": null,
      "padding": null,
      "right": null,
      "top": null,
      "visibility": null,
      "width": null
     }
    },
    "17b396b18f78429e822baceb48e1539d": {
     "model_module": "@jupyter-widgets/controls",
     "model_module_version": "1.5.0",
     "model_name": "DescriptionStyleModel",
     "state": {
      "_model_module": "@jupyter-widgets/controls",
      "_model_module_version": "1.5.0",
      "_model_name": "DescriptionStyleModel",
      "_view_count": null,
      "_view_module": "@jupyter-widgets/base",
      "_view_module_version": "1.2.0",
      "_view_name": "StyleView",
      "description_width": ""
     }
    },
    "18c545fe3281489cbb3e158379a58ff4": {
     "model_module": "@jupyter-widgets/base",
     "model_module_version": "1.2.0",
     "model_name": "LayoutModel",
     "state": {
      "_model_module": "@jupyter-widgets/base",
      "_model_module_version": "1.2.0",
      "_model_name": "LayoutModel",
      "_view_count": null,
      "_view_module": "@jupyter-widgets/base",
      "_view_module_version": "1.2.0",
      "_view_name": "LayoutView",
      "align_content": null,
      "align_items": null,
      "align_self": null,
      "border": null,
      "bottom": null,
      "display": null,
      "flex": null,
      "flex_flow": null,
      "grid_area": null,
      "grid_auto_columns": null,
      "grid_auto_flow": null,
      "grid_auto_rows": null,
      "grid_column": null,
      "grid_gap": null,
      "grid_row": null,
      "grid_template_areas": null,
      "grid_template_columns": null,
      "grid_template_rows": null,
      "height": null,
      "justify_content": null,
      "justify_items": null,
      "left": null,
      "margin": null,
      "max_height": null,
      "max_width": null,
      "min_height": null,
      "min_width": null,
      "object_fit": null,
      "object_position": null,
      "order": null,
      "overflow": null,
      "overflow_x": null,
      "overflow_y": null,
      "padding": null,
      "right": null,
      "top": null,
      "visibility": null,
      "width": null
     }
    },
    "18dab0e860994be594a7cb5d2b4a722b": {
     "model_module": "@jupyter-widgets/base",
     "model_module_version": "1.2.0",
     "model_name": "LayoutModel",
     "state": {
      "_model_module": "@jupyter-widgets/base",
      "_model_module_version": "1.2.0",
      "_model_name": "LayoutModel",
      "_view_count": null,
      "_view_module": "@jupyter-widgets/base",
      "_view_module_version": "1.2.0",
      "_view_name": "LayoutView",
      "align_content": null,
      "align_items": null,
      "align_self": null,
      "border": null,
      "bottom": null,
      "display": null,
      "flex": null,
      "flex_flow": null,
      "grid_area": null,
      "grid_auto_columns": null,
      "grid_auto_flow": null,
      "grid_auto_rows": null,
      "grid_column": null,
      "grid_gap": null,
      "grid_row": null,
      "grid_template_areas": null,
      "grid_template_columns": null,
      "grid_template_rows": null,
      "height": null,
      "justify_content": null,
      "justify_items": null,
      "left": null,
      "margin": null,
      "max_height": null,
      "max_width": null,
      "min_height": null,
      "min_width": null,
      "object_fit": null,
      "object_position": null,
      "order": null,
      "overflow": null,
      "overflow_x": null,
      "overflow_y": null,
      "padding": null,
      "right": null,
      "top": null,
      "visibility": null,
      "width": null
     }
    },
    "190022a18a0c481389f535778344a2b3": {
     "model_module": "@jupyter-widgets/base",
     "model_module_version": "1.2.0",
     "model_name": "LayoutModel",
     "state": {
      "_model_module": "@jupyter-widgets/base",
      "_model_module_version": "1.2.0",
      "_model_name": "LayoutModel",
      "_view_count": null,
      "_view_module": "@jupyter-widgets/base",
      "_view_module_version": "1.2.0",
      "_view_name": "LayoutView",
      "align_content": null,
      "align_items": null,
      "align_self": null,
      "border": null,
      "bottom": null,
      "display": null,
      "flex": null,
      "flex_flow": null,
      "grid_area": null,
      "grid_auto_columns": null,
      "grid_auto_flow": null,
      "grid_auto_rows": null,
      "grid_column": null,
      "grid_gap": null,
      "grid_row": null,
      "grid_template_areas": null,
      "grid_template_columns": null,
      "grid_template_rows": null,
      "height": null,
      "justify_content": null,
      "justify_items": null,
      "left": null,
      "margin": null,
      "max_height": null,
      "max_width": null,
      "min_height": null,
      "min_width": null,
      "object_fit": null,
      "object_position": null,
      "order": null,
      "overflow": null,
      "overflow_x": null,
      "overflow_y": null,
      "padding": null,
      "right": null,
      "top": null,
      "visibility": null,
      "width": null
     }
    },
    "1b38fef8c1d04690b7942213e4c274d6": {
     "model_module": "@jupyter-widgets/controls",
     "model_module_version": "1.5.0",
     "model_name": "ButtonModel",
     "state": {
      "_dom_classes": [],
      "_model_module": "@jupyter-widgets/controls",
      "_model_module_version": "1.5.0",
      "_model_name": "ButtonModel",
      "_view_count": null,
      "_view_module": "@jupyter-widgets/controls",
      "_view_module_version": "1.5.0",
      "_view_name": "ButtonView",
      "button_style": "",
      "description": "Exportar (.docx)",
      "disabled": false,
      "icon": "",
      "layout": "IPY_MODEL_190022a18a0c481389f535778344a2b3",
      "style": "IPY_MODEL_07e13ab3b1ad492587e37f365ed0c1e7",
      "tooltip": ""
     }
    },
    "1b954125bf4949b6952ccfe62d7c1614": {
     "model_module": "@jupyter-widgets/controls",
     "model_module_version": "1.5.0",
     "model_name": "ButtonModel",
     "state": {
      "_dom_classes": [],
      "_model_module": "@jupyter-widgets/controls",
      "_model_module_version": "1.5.0",
      "_model_name": "ButtonModel",
      "_view_count": null,
      "_view_module": "@jupyter-widgets/controls",
      "_view_module_version": "1.5.0",
      "_view_name": "ButtonView",
      "button_style": "",
      "description": "Gerar exercícios",
      "disabled": false,
      "icon": "",
      "layout": "IPY_MODEL_0242576f46ef42449815a421e5896164",
      "style": "IPY_MODEL_8a57ffab4547448980ed910ba1257af8",
      "tooltip": ""
     }
    },
    "1ca3e913716a4aa9a7982f3084ca3308": {
     "model_module": "@jupyter-widgets/base",
     "model_module_version": "1.2.0",
     "model_name": "LayoutModel",
     "state": {
      "_model_module": "@jupyter-widgets/base",
      "_model_module_version": "1.2.0",
      "_model_name": "LayoutModel",
      "_view_count": null,
      "_view_module": "@jupyter-widgets/base",
      "_view_module_version": "1.2.0",
      "_view_name": "LayoutView",
      "align_content": null,
      "align_items": null,
      "align_self": null,
      "border": null,
      "bottom": null,
      "display": null,
      "flex": null,
      "flex_flow": null,
      "grid_area": null,
      "grid_auto_columns": null,
      "grid_auto_flow": null,
      "grid_auto_rows": null,
      "grid_column": null,
      "grid_gap": null,
      "grid_row": null,
      "grid_template_areas": null,
      "grid_template_columns": null,
      "grid_template_rows": null,
      "height": null,
      "justify_content": null,
      "justify_items": null,
      "left": null,
      "margin": null,
      "max_height": null,
      "max_width": null,
      "min_height": null,
      "min_width": null,
      "object_fit": null,
      "object_position": null,
      "order": null,
      "overflow": null,
      "overflow_x": null,
      "overflow_y": null,
      "padding": null,
      "right": null,
      "top": null,
      "visibility": null,
      "width": null
     }
    },
    "1cb240d4eb3749cc902ac81a04eb81b9": {
     "model_module": "@jupyter-widgets/controls",
     "model_module_version": "1.5.0",
     "model_name": "DropdownModel",
     "state": {
      "_dom_classes": [],
      "_model_module": "@jupyter-widgets/controls",
      "_model_module_version": "1.5.0",
      "_model_name": "DropdownModel",
      "_options_labels": [
       "Iniciante",
       "Intermediário",
       "Avançado"
      ],
      "_view_count": null,
      "_view_module": "@jupyter-widgets/controls",
      "_view_module_version": "1.5.0",
      "_view_name": "DropdownView",
      "description": "Nível",
      "description_tooltip": null,
      "disabled": false,
      "index": 1,
      "layout": "IPY_MODEL_428a6931dbc345cba37f8835b8b14f20",
      "style": "IPY_MODEL_0203273f5d0b46d1b34f89922e0dc871"
     }
    },
    "1e54aeeee8524b17a3b532b4a00b92f0": {
     "model_module": "@jupyter-widgets/controls",
     "model_module_version": "1.5.0",
     "model_name": "ButtonModel",
     "state": {
      "_dom_classes": [],
      "_model_module": "@jupyter-widgets/controls",
      "_model_module_version": "1.5.0",
      "_model_name": "ButtonModel",
      "_view_count": null,
      "_view_module": "@jupyter-widgets/controls",
      "_view_module_version": "1.5.0",
      "_view_name": "ButtonView",
      "button_style": "",
      "description": "Exportar (.docx)",
      "disabled": true,
      "icon": "",
      "layout": "IPY_MODEL_6a64b02131b8422db61a2cc5b5a7923e",
      "style": "IPY_MODEL_610b45a854da42ea8f731eb75f9e0944",
      "tooltip": ""
     }
    },
    "201b7eba15fa4dd48c13c7740b116849": {
     "model_module": "@jupyter-widgets/base",
     "model_module_version": "1.2.0",
     "model_name": "LayoutModel",
     "state": {
      "_model_module": "@jupyter-widgets/base",
      "_model_module_version": "1.2.0",
      "_model_name": "LayoutModel",
      "_view_count": null,
      "_view_module": "@jupyter-widgets/base",
      "_view_module_version": "1.2.0",
      "_view_name": "LayoutView",
      "align_content": null,
      "align_items": null,
      "align_self": null,
      "border": null,
      "bottom": null,
      "display": null,
      "flex": null,
      "flex_flow": null,
      "grid_area": null,
      "grid_auto_columns": null,
      "grid_auto_flow": null,
      "grid_auto_rows": null,
      "grid_column": null,
      "grid_gap": null,
      "grid_row": null,
      "grid_template_areas": null,
      "grid_template_columns": null,
      "grid_template_rows": null,
      "height": null,
      "justify_content": null,
      "justify_items": null,
      "left": null,
      "margin": null,
      "max_height": null,
      "max_width": null,
      "min_height": null,
      "min_width": null,
      "object_fit": null,
      "object_position": null,
      "order": null,
      "overflow": null,
      "overflow_x": null,
      "overflow_y": null,
      "padding": null,
      "right": null,
      "top": null,
      "visibility": null,
      "width": null
     }
    },
    "204caa2a0a1f42188b80329399ac0ca0": {
     "model_module": "@jupyter-widgets/controls",
     "model_module_version": "1.5.0",
     "model_name": "ButtonModel",
     "state": {
      "_dom_classes": [],
      "_model_module": "@jupyter-widgets/controls",
      "_model_module_version": "1.5.0",
      "_model_name": "ButtonModel",
      "_view_count": null,
      "_view_module": "@jupyter-widgets/controls",
      "_view_module_version": "1.5.0",
      "_view_name": "ButtonView",
      "button_style": "",
      "description": "Exportar (.docx)",
      "disabled": false,
      "icon": "",
      "layout": "IPY_MODEL_fa5cccc29a7a4efe9f6265acee87f3ac",
      "style": "IPY_MODEL_93e58c5b7c5040be93cf14df5b473df7",
      "tooltip": ""
     }
    },
    "241f639b72844acd98b4f44f6da00261": {
     "model_module": "@jupyter-widgets/controls",
     "model_module_version": "1.5.0",
     "model_name": "DescriptionStyleModel",
     "state": {
      "_model_module": "@jupyter-widgets/controls",
      "_model_module_version": "1.5.0",
      "_model_name": "DescriptionStyleModel",
      "_view_count": null,
      "_view_module": "@jupyter-widgets/base",
      "_view_module_version": "1.2.0",
      "_view_name": "StyleView",
      "description_width": ""
     }
    },
    "25455854a2d14d1881438aae63882c78": {
     "model_module": "@jupyter-widgets/controls",
     "model_module_version": "1.5.0",
     "model_name": "DescriptionStyleModel",
     "state": {
      "_model_module": "@jupyter-widgets/controls",
      "_model_module_version": "1.5.0",
      "_model_name": "DescriptionStyleModel",
      "_view_count": null,
      "_view_module": "@jupyter-widgets/base",
      "_view_module_version": "1.2.0",
      "_view_name": "StyleView",
      "description_width": ""
     }
    },
    "25aa712823364109a6dbd8213ee7df4d": {
     "model_module": "@jupyter-widgets/controls",
     "model_module_version": "1.5.0",
     "model_name": "IntSliderModel",
     "state": {
      "_dom_classes": [],
      "_model_module": "@jupyter-widgets/controls",
      "_model_module_version": "1.5.0",
      "_model_name": "IntSliderModel",
      "_view_count": null,
      "_view_module": "@jupyter-widgets/controls",
      "_view_module_version": "1.5.0",
      "_view_name": "IntSliderView",
      "continuous_update": true,
      "description": "Qtd Exercícios:",
      "description_tooltip": null,
      "disabled": false,
      "layout": "IPY_MODEL_424e1da979eb479789db0971ae3348f9",
      "max": 10,
      "min": 1,
      "orientation": "horizontal",
      "readout": true,
      "readout_format": "d",
      "step": 1,
      "style": "IPY_MODEL_760c14f560074ec49e490a557c670ecb",
      "value": 5
     }
    },
    "26623507c83c4eb9b0e95c1b917f2e7f": {
     "model_module": "@jupyter-widgets/controls",
     "model_module_version": "1.5.0",
     "model_name": "HTMLModel",
     "state": {
      "_dom_classes": [],
      "_model_module": "@jupyter-widgets/controls",
      "_model_module_version": "1.5.0",
      "_model_name": "HTMLModel",
      "_view_count": null,
      "_view_module": "@jupyter-widgets/controls",
      "_view_module_version": "1.5.0",
      "_view_name": "HTMLView",
      "description": "",
      "description_tooltip": null,
      "layout": "IPY_MODEL_365fcf5a9ba4454785b42d37a8502501",
      "placeholder": "​",
      "style": "IPY_MODEL_0ea914b37a0c40b99e364eebc10ffe20",
      "value": "special_tokens_map.json: 100%"
     }
    },
    "27a93b1175da4452a9cda652cb610c95": {
     "model_module": "@jupyter-widgets/controls",
     "model_module_version": "1.5.0",
     "model_name": "FloatProgressModel",
     "state": {
      "_dom_classes": [],
      "_model_module": "@jupyter-widgets/controls",
      "_model_module_version": "1.5.0",
      "_model_name": "FloatProgressModel",
      "_view_count": null,
      "_view_module": "@jupyter-widgets/controls",
      "_view_module_version": "1.5.0",
      "_view_name": "ProgressView",
      "bar_style": "success",
      "description": "",
      "description_tooltip": null,
      "layout": "IPY_MODEL_0270ee90dcf74974afb3a2397dc56abf",
      "max": 17098108,
      "min": 0,
      "orientation": "horizontal",
      "style": "IPY_MODEL_b574110a52754811aac379be9f34070c",
      "value": 17098108
     }
    },
    "284d2e4840f441d4ae03cfeb49402072": {
     "model_module": "@jupyter-widgets/base",
     "model_module_version": "1.2.0",
     "model_name": "LayoutModel",
     "state": {
      "_model_module": "@jupyter-widgets/base",
      "_model_module_version": "1.2.0",
      "_model_name": "LayoutModel",
      "_view_count": null,
      "_view_module": "@jupyter-widgets/base",
      "_view_module_version": "1.2.0",
      "_view_name": "LayoutView",
      "align_content": null,
      "align_items": null,
      "align_self": null,
      "border": null,
      "bottom": null,
      "display": null,
      "flex": null,
      "flex_flow": null,
      "grid_area": null,
      "grid_auto_columns": null,
      "grid_auto_flow": null,
      "grid_auto_rows": null,
      "grid_column": null,
      "grid_gap": null,
      "grid_row": null,
      "grid_template_areas": null,
      "grid_template_columns": null,
      "grid_template_rows": null,
      "height": null,
      "justify_content": null,
      "justify_items": null,
      "left": null,
      "margin": null,
      "max_height": null,
      "max_width": null,
      "min_height": null,
      "min_width": null,
      "object_fit": null,
      "object_position": null,
      "order": null,
      "overflow": null,
      "overflow_x": null,
      "overflow_y": null,
      "padding": null,
      "right": null,
      "top": null,
      "visibility": null,
      "width": null
     }
    },
    "2b02f95b73fc4418938f7981d6fb1e04": {
     "model_module": "@jupyter-widgets/controls",
     "model_module_version": "1.5.0",
     "model_name": "VBoxModel",
     "state": {
      "_dom_classes": [],
      "_model_module": "@jupyter-widgets/controls",
      "_model_module_version": "1.5.0",
      "_model_name": "VBoxModel",
      "_view_count": null,
      "_view_module": "@jupyter-widgets/controls",
      "_view_module_version": "1.5.0",
      "_view_name": "VBoxView",
      "box_style": "",
      "children": [
       "IPY_MODEL_94f9b0c28c8b4ba199f80e3441116e1d",
       "IPY_MODEL_dfd18b67c09a46cdaf4c0d34cc5e6a9c",
       "IPY_MODEL_0c51288b65b1454d8dcb649d0eb4175b",
       "IPY_MODEL_df3b2eb28d6040e69751c76f0a97588f",
       "IPY_MODEL_1b954125bf4949b6952ccfe62d7c1614",
       "IPY_MODEL_1e54aeeee8524b17a3b532b4a00b92f0",
       "IPY_MODEL_81b3af05ac9a4c478aa9dbdbe7f95229"
      ],
      "layout": "IPY_MODEL_18dab0e860994be594a7cb5d2b4a722b"
     }
    },
    "2b9936b3fff24b508c8e4927a5c75e59": {
     "model_module": "@jupyter-widgets/controls",
     "model_module_version": "1.5.0",
     "model_name": "DescriptionStyleModel",
     "state": {
      "_model_module": "@jupyter-widgets/controls",
      "_model_module_version": "1.5.0",
      "_model_name": "DescriptionStyleModel",
      "_view_count": null,
      "_view_module": "@jupyter-widgets/base",
      "_view_module_version": "1.2.0",
      "_view_name": "StyleView",
      "description_width": ""
     }
    },
    "312dc35a282d426a94dc49e03d136f7b": {
     "model_module": "@jupyter-widgets/base",
     "model_module_version": "1.2.0",
     "model_name": "LayoutModel",
     "state": {
      "_model_module": "@jupyter-widgets/base",
      "_model_module_version": "1.2.0",
      "_model_name": "LayoutModel",
      "_view_count": null,
      "_view_module": "@jupyter-widgets/base",
      "_view_module_version": "1.2.0",
      "_view_name": "LayoutView",
      "align_content": null,
      "align_items": null,
      "align_self": null,
      "border": null,
      "bottom": null,
      "display": null,
      "flex": null,
      "flex_flow": null,
      "grid_area": null,
      "grid_auto_columns": null,
      "grid_auto_flow": null,
      "grid_auto_rows": null,
      "grid_column": null,
      "grid_gap": null,
      "grid_row": null,
      "grid_template_areas": null,
      "grid_template_columns": null,
      "grid_template_rows": null,
      "height": null,
      "justify_content": null,
      "justify_items": null,
      "left": null,
      "margin": null,
      "max_height": null,
      "max_width": null,
      "min_height": null,
      "min_width": null,
      "object_fit": null,
      "object_position": null,
      "order": null,
      "overflow": null,
      "overflow_x": null,
      "overflow_y": null,
      "padding": null,
      "right": null,
      "top": null,
      "visibility": null,
      "width": null
     }
    },
    "3192c0e22cfb46cabdb6938b48fa1924": {
     "model_module": "@jupyter-widgets/controls",
     "model_module_version": "1.5.0",
     "model_name": "DescriptionStyleModel",
     "state": {
      "_model_module": "@jupyter-widgets/controls",
      "_model_module_version": "1.5.0",
      "_model_name": "DescriptionStyleModel",
      "_view_count": null,
      "_view_module": "@jupyter-widgets/base",
      "_view_module_version": "1.2.0",
      "_view_name": "StyleView",
      "description_width": ""
     }
    },
    "31afc11054034ebe94b9ae19a3f54745": {
     "model_module": "@jupyter-widgets/base",
     "model_module_version": "1.2.0",
     "model_name": "LayoutModel",
     "state": {
      "_model_module": "@jupyter-widgets/base",
      "_model_module_version": "1.2.0",
      "_model_name": "LayoutModel",
      "_view_count": null,
      "_view_module": "@jupyter-widgets/base",
      "_view_module_version": "1.2.0",
      "_view_name": "LayoutView",
      "align_content": null,
      "align_items": null,
      "align_self": null,
      "border": null,
      "bottom": null,
      "display": null,
      "flex": null,
      "flex_flow": null,
      "grid_area": null,
      "grid_auto_columns": null,
      "grid_auto_flow": null,
      "grid_auto_rows": null,
      "grid_column": null,
      "grid_gap": null,
      "grid_row": null,
      "grid_template_areas": null,
      "grid_template_columns": null,
      "grid_template_rows": null,
      "height": null,
      "justify_content": null,
      "justify_items": null,
      "left": null,
      "margin": null,
      "max_height": null,
      "max_width": null,
      "min_height": null,
      "min_width": null,
      "object_fit": null,
      "object_position": null,
      "order": null,
      "overflow": null,
      "overflow_x": null,
      "overflow_y": null,
      "padding": null,
      "right": null,
      "top": null,
      "visibility": null,
      "width": null
     }
    },
    "33468fce78f946e1933410a3fb4a7bb2": {
     "model_module": "@jupyter-widgets/controls",
     "model_module_version": "1.5.0",
     "model_name": "DescriptionStyleModel",
     "state": {
      "_model_module": "@jupyter-widgets/controls",
      "_model_module_version": "1.5.0",
      "_model_name": "DescriptionStyleModel",
      "_view_count": null,
      "_view_module": "@jupyter-widgets/base",
      "_view_module_version": "1.2.0",
      "_view_name": "StyleView",
      "description_width": ""
     }
    },
    "337fb958998549159cad65ece69cd563": {
     "model_module": "@jupyter-widgets/base",
     "model_module_version": "1.2.0",
     "model_name": "LayoutModel",
     "state": {
      "_model_module": "@jupyter-widgets/base",
      "_model_module_version": "1.2.0",
      "_model_name": "LayoutModel",
      "_view_count": null,
      "_view_module": "@jupyter-widgets/base",
      "_view_module_version": "1.2.0",
      "_view_name": "LayoutView",
      "align_content": null,
      "align_items": null,
      "align_self": null,
      "border": null,
      "bottom": null,
      "display": null,
      "flex": null,
      "flex_flow": null,
      "grid_area": null,
      "grid_auto_columns": null,
      "grid_auto_flow": null,
      "grid_auto_rows": null,
      "grid_column": null,
      "grid_gap": null,
      "grid_row": null,
      "grid_template_areas": null,
      "grid_template_columns": null,
      "grid_template_rows": null,
      "height": null,
      "justify_content": null,
      "justify_items": null,
      "left": null,
      "margin": null,
      "max_height": null,
      "max_width": null,
      "min_height": null,
      "min_width": null,
      "object_fit": null,
      "object_position": null,
      "order": null,
      "overflow": null,
      "overflow_x": null,
      "overflow_y": null,
      "padding": null,
      "right": null,
      "top": null,
      "visibility": null,
      "width": null
     }
    },
    "348b6787e1f84f239fb460722931c7fa": {
     "model_module": "@jupyter-widgets/base",
     "model_module_version": "1.2.0",
     "model_name": "LayoutModel",
     "state": {
      "_model_module": "@jupyter-widgets/base",
      "_model_module_version": "1.2.0",
      "_model_name": "LayoutModel",
      "_view_count": null,
      "_view_module": "@jupyter-widgets/base",
      "_view_module_version": "1.2.0",
      "_view_name": "LayoutView",
      "align_content": null,
      "align_items": null,
      "align_self": null,
      "border": null,
      "bottom": null,
      "display": null,
      "flex": null,
      "flex_flow": null,
      "grid_area": null,
      "grid_auto_columns": null,
      "grid_auto_flow": null,
      "grid_auto_rows": null,
      "grid_column": null,
      "grid_gap": null,
      "grid_row": null,
      "grid_template_areas": null,
      "grid_template_columns": null,
      "grid_template_rows": null,
      "height": null,
      "justify_content": null,
      "justify_items": null,
      "left": null,
      "margin": null,
      "max_height": null,
      "max_width": null,
      "min_height": null,
      "min_width": null,
      "object_fit": null,
      "object_position": null,
      "order": null,
      "overflow": null,
      "overflow_x": null,
      "overflow_y": null,
      "padding": null,
      "right": null,
      "top": null,
      "visibility": null,
      "width": null
     }
    },
    "3566e4d9733f41c797c43e62e614d1b4": {
     "model_module": "@jupyter-widgets/base",
     "model_module_version": "1.2.0",
     "model_name": "LayoutModel",
     "state": {
      "_model_module": "@jupyter-widgets/base",
      "_model_module_version": "1.2.0",
      "_model_name": "LayoutModel",
      "_view_count": null,
      "_view_module": "@jupyter-widgets/base",
      "_view_module_version": "1.2.0",
      "_view_name": "LayoutView",
      "align_content": null,
      "align_items": null,
      "align_self": null,
      "border": null,
      "bottom": null,
      "display": null,
      "flex": null,
      "flex_flow": null,
      "grid_area": null,
      "grid_auto_columns": null,
      "grid_auto_flow": null,
      "grid_auto_rows": null,
      "grid_column": null,
      "grid_gap": null,
      "grid_row": null,
      "grid_template_areas": null,
      "grid_template_columns": null,
      "grid_template_rows": null,
      "height": null,
      "justify_content": null,
      "justify_items": null,
      "left": null,
      "margin": null,
      "max_height": null,
      "max_width": null,
      "min_height": null,
      "min_width": null,
      "object_fit": null,
      "object_position": null,
      "order": null,
      "overflow": null,
      "overflow_x": null,
      "overflow_y": null,
      "padding": null,
      "right": null,
      "top": null,
      "visibility": null,
      "width": null
     }
    },
    "365fcf5a9ba4454785b42d37a8502501": {
     "model_module": "@jupyter-widgets/base",
     "model_module_version": "1.2.0",
     "model_name": "LayoutModel",
     "state": {
      "_model_module": "@jupyter-widgets/base",
      "_model_module_version": "1.2.0",
      "_model_name": "LayoutModel",
      "_view_count": null,
      "_view_module": "@jupyter-widgets/base",
      "_view_module_version": "1.2.0",
      "_view_name": "LayoutView",
      "align_content": null,
      "align_items": null,
      "align_self": null,
      "border": null,
      "bottom": null,
      "display": null,
      "flex": null,
      "flex_flow": null,
      "grid_area": null,
      "grid_auto_columns": null,
      "grid_auto_flow": null,
      "grid_auto_rows": null,
      "grid_column": null,
      "grid_gap": null,
      "grid_row": null,
      "grid_template_areas": null,
      "grid_template_columns": null,
      "grid_template_rows": null,
      "height": null,
      "justify_content": null,
      "justify_items": null,
      "left": null,
      "margin": null,
      "max_height": null,
      "max_width": null,
      "min_height": null,
      "min_width": null,
      "object_fit": null,
      "object_position": null,
      "order": null,
      "overflow": null,
      "overflow_x": null,
      "overflow_y": null,
      "padding": null,
      "right": null,
      "top": null,
      "visibility": null,
      "width": null
     }
    },
    "36a43666a59d4069b4d6f5149fbced32": {
     "model_module": "@jupyter-widgets/base",
     "model_module_version": "1.2.0",
     "model_name": "LayoutModel",
     "state": {
      "_model_module": "@jupyter-widgets/base",
      "_model_module_version": "1.2.0",
      "_model_name": "LayoutModel",
      "_view_count": null,
      "_view_module": "@jupyter-widgets/base",
      "_view_module_version": "1.2.0",
      "_view_name": "LayoutView",
      "align_content": null,
      "align_items": null,
      "align_self": null,
      "border": null,
      "bottom": null,
      "display": null,
      "flex": null,
      "flex_flow": null,
      "grid_area": null,
      "grid_auto_columns": null,
      "grid_auto_flow": null,
      "grid_auto_rows": null,
      "grid_column": null,
      "grid_gap": null,
      "grid_row": null,
      "grid_template_areas": null,
      "grid_template_columns": null,
      "grid_template_rows": null,
      "height": null,
      "justify_content": null,
      "justify_items": null,
      "left": null,
      "margin": null,
      "max_height": null,
      "max_width": null,
      "min_height": null,
      "min_width": null,
      "object_fit": null,
      "object_position": null,
      "order": null,
      "overflow": null,
      "overflow_x": null,
      "overflow_y": null,
      "padding": null,
      "right": null,
      "top": null,
      "visibility": null,
      "width": null
     }
    },
    "3838ec34b9dd4f9492b88d38fc8d6884": {
     "model_module": "@jupyter-widgets/controls",
     "model_module_version": "1.5.0",
     "model_name": "ButtonStyleModel",
     "state": {
      "_model_module": "@jupyter-widgets/controls",
      "_model_module_version": "1.5.0",
      "_model_name": "ButtonStyleModel",
      "_view_count": null,
      "_view_module": "@jupyter-widgets/base",
      "_view_module_version": "1.2.0",
      "_view_name": "StyleView",
      "button_color": null,
      "font_weight": ""
     }
    },
    "393ac51171fa44b9a1ea3523df135040": {
     "model_module": "@jupyter-widgets/base",
     "model_module_version": "1.2.0",
     "model_name": "LayoutModel",
     "state": {
      "_model_module": "@jupyter-widgets/base",
      "_model_module_version": "1.2.0",
      "_model_name": "LayoutModel",
      "_view_count": null,
      "_view_module": "@jupyter-widgets/base",
      "_view_module_version": "1.2.0",
      "_view_name": "LayoutView",
      "align_content": null,
      "align_items": null,
      "align_self": null,
      "border": null,
      "bottom": null,
      "display": null,
      "flex": null,
      "flex_flow": null,
      "grid_area": null,
      "grid_auto_columns": null,
      "grid_auto_flow": null,
      "grid_auto_rows": null,
      "grid_column": null,
      "grid_gap": null,
      "grid_row": null,
      "grid_template_areas": null,
      "grid_template_columns": null,
      "grid_template_rows": null,
      "height": null,
      "justify_content": null,
      "justify_items": null,
      "left": null,
      "margin": null,
      "max_height": null,
      "max_width": null,
      "min_height": null,
      "min_width": null,
      "object_fit": null,
      "object_position": null,
      "order": null,
      "overflow": null,
      "overflow_x": null,
      "overflow_y": null,
      "padding": null,
      "right": null,
      "top": null,
      "visibility": null,
      "width": null
     }
    },
    "399f5dd68fa94a9497744bafd10affda": {
     "model_module": "@jupyter-widgets/controls",
     "model_module_version": "1.5.0",
     "model_name": "FloatProgressModel",
     "state": {
      "_dom_classes": [],
      "_model_module": "@jupyter-widgets/controls",
      "_model_module_version": "1.5.0",
      "_model_name": "FloatProgressModel",
      "_view_count": null,
      "_view_module": "@jupyter-widgets/controls",
      "_view_module_version": "1.5.0",
      "_view_name": "ProgressView",
      "bar_style": "success",
      "description": "",
      "description_tooltip": null,
      "layout": "IPY_MODEL_f81e9301d3d545e796514819cbc648d0",
      "max": 5069051,
      "min": 0,
      "orientation": "horizontal",
      "style": "IPY_MODEL_bc60e1e4aab444af94f227f95009467d",
      "value": 5069051
     }
    },
    "3eb88d81d6ee4d889a42cb944f79274b": {
     "model_module": "@jupyter-widgets/controls",
     "model_module_version": "1.5.0",
     "model_name": "ProgressStyleModel",
     "state": {
      "_model_module": "@jupyter-widgets/controls",
      "_model_module_version": "1.5.0",
      "_model_name": "ProgressStyleModel",
      "_view_count": null,
      "_view_module": "@jupyter-widgets/base",
      "_view_module_version": "1.2.0",
      "_view_name": "StyleView",
      "bar_color": null,
      "description_width": ""
     }
    },
    "3f2925c657a04555a4a56fd74a872266": {
     "model_module": "@jupyter-widgets/controls",
     "model_module_version": "1.5.0",
     "model_name": "HTMLModel",
     "state": {
      "_dom_classes": [],
      "_model_module": "@jupyter-widgets/controls",
      "_model_module_version": "1.5.0",
      "_model_name": "HTMLModel",
      "_view_count": null,
      "_view_module": "@jupyter-widgets/controls",
      "_view_module_version": "1.5.0",
      "_view_name": "HTMLView",
      "description": "",
      "description_tooltip": null,
      "layout": "IPY_MODEL_fadad9ff7c7b4fbbbcd494b30a60cd34",
      "placeholder": "​",
      "style": "IPY_MODEL_4be15df04c3d42988436658159bfb02b",
      "value": "config_sentence_transformers.json: 100%"
     }
    },
    "424e1da979eb479789db0971ae3348f9": {
     "model_module": "@jupyter-widgets/base",
     "model_module_version": "1.2.0",
     "model_name": "LayoutModel",
     "state": {
      "_model_module": "@jupyter-widgets/base",
      "_model_module_version": "1.2.0",
      "_model_name": "LayoutModel",
      "_view_count": null,
      "_view_module": "@jupyter-widgets/base",
      "_view_module_version": "1.2.0",
      "_view_name": "LayoutView",
      "align_content": null,
      "align_items": null,
      "align_self": null,
      "border": null,
      "bottom": null,
      "display": null,
      "flex": null,
      "flex_flow": null,
      "grid_area": null,
      "grid_auto_columns": null,
      "grid_auto_flow": null,
      "grid_auto_rows": null,
      "grid_column": null,
      "grid_gap": null,
      "grid_row": null,
      "grid_template_areas": null,
      "grid_template_columns": null,
      "grid_template_rows": null,
      "height": null,
      "justify_content": null,
      "justify_items": null,
      "left": null,
      "margin": null,
      "max_height": null,
      "max_width": null,
      "min_height": null,
      "min_width": null,
      "object_fit": null,
      "object_position": null,
      "order": null,
      "overflow": null,
      "overflow_x": null,
      "overflow_y": null,
      "padding": null,
      "right": null,
      "top": null,
      "visibility": null,
      "width": null
     }
    },
    "428a6931dbc345cba37f8835b8b14f20": {
     "model_module": "@jupyter-widgets/base",
     "model_module_version": "1.2.0",
     "model_name": "LayoutModel",
     "state": {
      "_model_module": "@jupyter-widgets/base",
      "_model_module_version": "1.2.0",
      "_model_name": "LayoutModel",
      "_view_count": null,
      "_view_module": "@jupyter-widgets/base",
      "_view_module_version": "1.2.0",
      "_view_name": "LayoutView",
      "align_content": null,
      "align_items": null,
      "align_self": null,
      "border": null,
      "bottom": null,
      "display": null,
      "flex": null,
      "flex_flow": null,
      "grid_area": null,
      "grid_auto_columns": null,
      "grid_auto_flow": null,
      "grid_auto_rows": null,
      "grid_column": null,
      "grid_gap": null,
      "grid_row": null,
      "grid_template_areas": null,
      "grid_template_columns": null,
      "grid_template_rows": null,
      "height": null,
      "justify_content": null,
      "justify_items": null,
      "left": null,
      "margin": null,
      "max_height": null,
      "max_width": null,
      "min_height": null,
      "min_width": null,
      "object_fit": null,
      "object_position": null,
      "order": null,
      "overflow": null,
      "overflow_x": null,
      "overflow_y": null,
      "padding": null,
      "right": null,
      "top": null,
      "visibility": null,
      "width": null
     }
    },
    "44c4e4d6317c466191f4d42871215f87": {
     "model_module": "@jupyter-widgets/controls",
     "model_module_version": "1.5.0",
     "model_name": "HTMLModel",
     "state": {
      "_dom_classes": [],
      "_model_module": "@jupyter-widgets/controls",
      "_model_module_version": "1.5.0",
      "_model_name": "HTMLModel",
      "_view_count": null,
      "_view_module": "@jupyter-widgets/controls",
      "_view_module_version": "1.5.0",
      "_view_name": "HTMLView",
      "description": "",
      "description_tooltip": null,
      "layout": "IPY_MODEL_dd7dd36f53784043990e606ee7280d39",
      "placeholder": "​",
      "style": "IPY_MODEL_5663a3935e154c00b87e3e4609e32672",
      "value": "config.json: 100%"
     }
    },
    "454557178e364ab1ab08a95060dd07c9": {
     "model_module": "@jupyter-widgets/base",
     "model_module_version": "1.2.0",
     "model_name": "LayoutModel",
     "state": {
      "_model_module": "@jupyter-widgets/base",
      "_model_module_version": "1.2.0",
      "_model_name": "LayoutModel",
      "_view_count": null,
      "_view_module": "@jupyter-widgets/base",
      "_view_module_version": "1.2.0",
      "_view_name": "LayoutView",
      "align_content": null,
      "align_items": null,
      "align_self": null,
      "border": null,
      "bottom": null,
      "display": null,
      "flex": null,
      "flex_flow": null,
      "grid_area": null,
      "grid_auto_columns": null,
      "grid_auto_flow": null,
      "grid_auto_rows": null,
      "grid_column": null,
      "grid_gap": null,
      "grid_row": null,
      "grid_template_areas": null,
      "grid_template_columns": null,
      "grid_template_rows": null,
      "height": null,
      "justify_content": null,
      "justify_items": null,
      "left": null,
      "margin": null,
      "max_height": null,
      "max_width": null,
      "min_height": null,
      "min_width": null,
      "object_fit": null,
      "object_position": null,
      "order": null,
      "overflow": null,
      "overflow_x": null,
      "overflow_y": null,
      "padding": null,
      "right": null,
      "top": null,
      "visibility": null,
      "width": null
     }
    },
    "45565c8fbb4c49f5af960a88f0057f03": {
     "model_module": "@jupyter-widgets/controls",
     "model_module_version": "1.5.0",
     "model_name": "ButtonStyleModel",
     "state": {
      "_model_module": "@jupyter-widgets/controls",
      "_model_module_version": "1.5.0",
      "_model_name": "ButtonStyleModel",
      "_view_count": null,
      "_view_module": "@jupyter-widgets/base",
      "_view_module_version": "1.2.0",
      "_view_name": "StyleView",
      "button_color": null,
      "font_weight": ""
     }
    },
    "46309ced99eb422893b9ade43daf0ee0": {
     "model_module": "@jupyter-widgets/base",
     "model_module_version": "1.2.0",
     "model_name": "LayoutModel",
     "state": {
      "_model_module": "@jupyter-widgets/base",
      "_model_module_version": "1.2.0",
      "_model_name": "LayoutModel",
      "_view_count": null,
      "_view_module": "@jupyter-widgets/base",
      "_view_module_version": "1.2.0",
      "_view_name": "LayoutView",
      "align_content": null,
      "align_items": null,
      "align_self": null,
      "border": null,
      "bottom": null,
      "display": null,
      "flex": null,
      "flex_flow": null,
      "grid_area": null,
      "grid_auto_columns": null,
      "grid_auto_flow": null,
      "grid_auto_rows": null,
      "grid_column": null,
      "grid_gap": null,
      "grid_row": null,
      "grid_template_areas": null,
      "grid_template_columns": null,
      "grid_template_rows": null,
      "height": null,
      "justify_content": null,
      "justify_items": null,
      "left": null,
      "margin": null,
      "max_height": null,
      "max_width": null,
      "min_height": null,
      "min_width": null,
      "object_fit": null,
      "object_position": null,
      "order": null,
      "overflow": null,
      "overflow_x": null,
      "overflow_y": null,
      "padding": null,
      "right": null,
      "top": null,
      "visibility": null,
      "width": null
     }
    },
    "4707dd90085a4603a641c759922931b0": {
     "model_module": "@jupyter-widgets/controls",
     "model_module_version": "1.5.0",
     "model_name": "DescriptionStyleModel",
     "state": {
      "_model_module": "@jupyter-widgets/controls",
      "_model_module_version": "1.5.0",
      "_model_name": "DescriptionStyleModel",
      "_view_count": null,
      "_view_module": "@jupyter-widgets/base",
      "_view_module_version": "1.2.0",
      "_view_name": "StyleView",
      "description_width": ""
     }
    },
    "4a7317e797bd44d2ad0cdb05e185e325": {
     "model_module": "@jupyter-widgets/base",
     "model_module_version": "1.2.0",
     "model_name": "LayoutModel",
     "state": {
      "_model_module": "@jupyter-widgets/base",
      "_model_module_version": "1.2.0",
      "_model_name": "LayoutModel",
      "_view_count": null,
      "_view_module": "@jupyter-widgets/base",
      "_view_module_version": "1.2.0",
      "_view_name": "LayoutView",
      "align_content": null,
      "align_items": null,
      "align_self": null,
      "border": null,
      "bottom": null,
      "display": null,
      "flex": null,
      "flex_flow": null,
      "grid_area": null,
      "grid_auto_columns": null,
      "grid_auto_flow": null,
      "grid_auto_rows": null,
      "grid_column": null,
      "grid_gap": null,
      "grid_row": null,
      "grid_template_areas": null,
      "grid_template_columns": null,
      "grid_template_rows": null,
      "height": null,
      "justify_content": null,
      "justify_items": null,
      "left": null,
      "margin": null,
      "max_height": null,
      "max_width": null,
      "min_height": null,
      "min_width": null,
      "object_fit": null,
      "object_position": null,
      "order": null,
      "overflow": null,
      "overflow_x": null,
      "overflow_y": null,
      "padding": null,
      "right": null,
      "top": null,
      "visibility": null,
      "width": null
     }
    },
    "4be15df04c3d42988436658159bfb02b": {
     "model_module": "@jupyter-widgets/controls",
     "model_module_version": "1.5.0",
     "model_name": "DescriptionStyleModel",
     "state": {
      "_model_module": "@jupyter-widgets/controls",
      "_model_module_version": "1.5.0",
      "_model_name": "DescriptionStyleModel",
      "_view_count": null,
      "_view_module": "@jupyter-widgets/base",
      "_view_module_version": "1.2.0",
      "_view_name": "StyleView",
      "description_width": ""
     }
    },
    "4c49bd4a193c441a9ba2d2f0cf761cb4": {
     "model_module": "@jupyter-widgets/base",
     "model_module_version": "1.2.0",
     "model_name": "LayoutModel",
     "state": {
      "_model_module": "@jupyter-widgets/base",
      "_model_module_version": "1.2.0",
      "_model_name": "LayoutModel",
      "_view_count": null,
      "_view_module": "@jupyter-widgets/base",
      "_view_module_version": "1.2.0",
      "_view_name": "LayoutView",
      "align_content": null,
      "align_items": null,
      "align_self": null,
      "border": null,
      "bottom": null,
      "display": null,
      "flex": null,
      "flex_flow": null,
      "grid_area": null,
      "grid_auto_columns": null,
      "grid_auto_flow": null,
      "grid_auto_rows": null,
      "grid_column": null,
      "grid_gap": null,
      "grid_row": null,
      "grid_template_areas": null,
      "grid_template_columns": null,
      "grid_template_rows": null,
      "height": null,
      "justify_content": null,
      "justify_items": null,
      "left": null,
      "margin": null,
      "max_height": null,
      "max_width": null,
      "min_height": null,
      "min_width": null,
      "object_fit": null,
      "object_position": null,
      "order": null,
      "overflow": null,
      "overflow_x": null,
      "overflow_y": null,
      "padding": null,
      "right": null,
      "top": null,
      "visibility": null,
      "width": null
     }
    },
    "4ca6e21b2a63453da4ecee2c242d728c": {
     "model_module": "@jupyter-widgets/base",
     "model_module_version": "1.2.0",
     "model_name": "LayoutModel",
     "state": {
      "_model_module": "@jupyter-widgets/base",
      "_model_module_version": "1.2.0",
      "_model_name": "LayoutModel",
      "_view_count": null,
      "_view_module": "@jupyter-widgets/base",
      "_view_module_version": "1.2.0",
      "_view_name": "LayoutView",
      "align_content": null,
      "align_items": null,
      "align_self": null,
      "border": null,
      "bottom": null,
      "display": null,
      "flex": null,
      "flex_flow": null,
      "grid_area": null,
      "grid_auto_columns": null,
      "grid_auto_flow": null,
      "grid_auto_rows": null,
      "grid_column": null,
      "grid_gap": null,
      "grid_row": null,
      "grid_template_areas": null,
      "grid_template_columns": null,
      "grid_template_rows": null,
      "height": null,
      "justify_content": null,
      "justify_items": null,
      "left": null,
      "margin": null,
      "max_height": null,
      "max_width": null,
      "min_height": null,
      "min_width": null,
      "object_fit": null,
      "object_position": null,
      "order": null,
      "overflow": null,
      "overflow_x": null,
      "overflow_y": null,
      "padding": null,
      "right": null,
      "top": null,
      "visibility": null,
      "width": null
     }
    },
    "4d5d50edd98c4f588a8f65c02c46a0d4": {
     "model_module": "@jupyter-widgets/controls",
     "model_module_version": "1.5.0",
     "model_name": "TextModel",
     "state": {
      "_dom_classes": [],
      "_model_module": "@jupyter-widgets/controls",
      "_model_module_version": "1.5.0",
      "_model_name": "TextModel",
      "_view_count": null,
      "_view_module": "@jupyter-widgets/controls",
      "_view_module_version": "1.5.0",
      "_view_name": "TextView",
      "continuous_update": true,
      "description": "Interesses ou Preferências:",
      "description_tooltip": null,
      "disabled": false,
      "layout": "IPY_MODEL_312dc35a282d426a94dc49e03d136f7b",
      "placeholder": "Ex: Filmes, Esportes, Jogos, Música, etc....",
      "style": "IPY_MODEL_241f639b72844acd98b4f44f6da00261",
      "value": "filmes"
     }
    },
    "4e8e214975f94fc9b1a834c469ab9b33": {
     "model_module": "@jupyter-widgets/controls",
     "model_module_version": "1.5.0",
     "model_name": "ProgressStyleModel",
     "state": {
      "_model_module": "@jupyter-widgets/controls",
      "_model_module_version": "1.5.0",
      "_model_name": "ProgressStyleModel",
      "_view_count": null,
      "_view_module": "@jupyter-widgets/base",
      "_view_module_version": "1.2.0",
      "_view_name": "StyleView",
      "bar_color": null,
      "description_width": ""
     }
    },
    "4f10872861304142a2979a3545e91516": {
     "model_module": "@jupyter-widgets/base",
     "model_module_version": "1.2.0",
     "model_name": "LayoutModel",
     "state": {
      "_model_module": "@jupyter-widgets/base",
      "_model_module_version": "1.2.0",
      "_model_name": "LayoutModel",
      "_view_count": null,
      "_view_module": "@jupyter-widgets/base",
      "_view_module_version": "1.2.0",
      "_view_name": "LayoutView",
      "align_content": null,
      "align_items": null,
      "align_self": null,
      "border": null,
      "bottom": null,
      "display": null,
      "flex": null,
      "flex_flow": null,
      "grid_area": null,
      "grid_auto_columns": null,
      "grid_auto_flow": null,
      "grid_auto_rows": null,
      "grid_column": null,
      "grid_gap": null,
      "grid_row": null,
      "grid_template_areas": null,
      "grid_template_columns": null,
      "grid_template_rows": null,
      "height": null,
      "justify_content": null,
      "justify_items": null,
      "left": null,
      "margin": null,
      "max_height": null,
      "max_width": null,
      "min_height": null,
      "min_width": null,
      "object_fit": null,
      "object_position": null,
      "order": null,
      "overflow": null,
      "overflow_x": null,
      "overflow_y": null,
      "padding": null,
      "right": null,
      "top": null,
      "visibility": null,
      "width": null
     }
    },
    "4f80cb22b83a4eac938c12e7d8f8fd67": {
     "model_module": "@jupyter-widgets/base",
     "model_module_version": "1.2.0",
     "model_name": "LayoutModel",
     "state": {
      "_model_module": "@jupyter-widgets/base",
      "_model_module_version": "1.2.0",
      "_model_name": "LayoutModel",
      "_view_count": null,
      "_view_module": "@jupyter-widgets/base",
      "_view_module_version": "1.2.0",
      "_view_name": "LayoutView",
      "align_content": null,
      "align_items": null,
      "align_self": null,
      "border": null,
      "bottom": null,
      "display": null,
      "flex": null,
      "flex_flow": null,
      "grid_area": null,
      "grid_auto_columns": null,
      "grid_auto_flow": null,
      "grid_auto_rows": null,
      "grid_column": null,
      "grid_gap": null,
      "grid_row": null,
      "grid_template_areas": null,
      "grid_template_columns": null,
      "grid_template_rows": null,
      "height": null,
      "justify_content": null,
      "justify_items": null,
      "left": null,
      "margin": null,
      "max_height": null,
      "max_width": null,
      "min_height": null,
      "min_width": null,
      "object_fit": null,
      "object_position": null,
      "order": null,
      "overflow": null,
      "overflow_x": null,
      "overflow_y": null,
      "padding": null,
      "right": null,
      "top": null,
      "visibility": null,
      "width": null
     }
    },
    "510ab2a2ec5b48b0a7c07826d3c2a1ee": {
     "model_module": "@jupyter-widgets/base",
     "model_module_version": "1.2.0",
     "model_name": "LayoutModel",
     "state": {
      "_model_module": "@jupyter-widgets/base",
      "_model_module_version": "1.2.0",
      "_model_name": "LayoutModel",
      "_view_count": null,
      "_view_module": "@jupyter-widgets/base",
      "_view_module_version": "1.2.0",
      "_view_name": "LayoutView",
      "align_content": null,
      "align_items": null,
      "align_self": null,
      "border": null,
      "bottom": null,
      "display": null,
      "flex": null,
      "flex_flow": null,
      "grid_area": null,
      "grid_auto_columns": null,
      "grid_auto_flow": null,
      "grid_auto_rows": null,
      "grid_column": null,
      "grid_gap": null,
      "grid_row": null,
      "grid_template_areas": null,
      "grid_template_columns": null,
      "grid_template_rows": null,
      "height": null,
      "justify_content": null,
      "justify_items": null,
      "left": null,
      "margin": null,
      "max_height": null,
      "max_width": null,
      "min_height": null,
      "min_width": null,
      "object_fit": null,
      "object_position": null,
      "order": null,
      "overflow": null,
      "overflow_x": null,
      "overflow_y": null,
      "padding": null,
      "right": null,
      "top": null,
      "visibility": null,
      "width": null
     }
    },
    "524fc463c1b242c28b9f2c068a7485dc": {
     "model_module": "@jupyter-widgets/base",
     "model_module_version": "1.2.0",
     "model_name": "LayoutModel",
     "state": {
      "_model_module": "@jupyter-widgets/base",
      "_model_module_version": "1.2.0",
      "_model_name": "LayoutModel",
      "_view_count": null,
      "_view_module": "@jupyter-widgets/base",
      "_view_module_version": "1.2.0",
      "_view_name": "LayoutView",
      "align_content": null,
      "align_items": null,
      "align_self": null,
      "border": null,
      "bottom": null,
      "display": null,
      "flex": null,
      "flex_flow": null,
      "grid_area": null,
      "grid_auto_columns": null,
      "grid_auto_flow": null,
      "grid_auto_rows": null,
      "grid_column": null,
      "grid_gap": null,
      "grid_row": null,
      "grid_template_areas": null,
      "grid_template_columns": null,
      "grid_template_rows": null,
      "height": null,
      "justify_content": null,
      "justify_items": null,
      "left": null,
      "margin": null,
      "max_height": null,
      "max_width": null,
      "min_height": null,
      "min_width": null,
      "object_fit": null,
      "object_position": null,
      "order": null,
      "overflow": null,
      "overflow_x": null,
      "overflow_y": null,
      "padding": null,
      "right": null,
      "top": null,
      "visibility": null,
      "width": null
     }
    },
    "539847dfdae942089145905fe8009716": {
     "model_module": "@jupyter-widgets/controls",
     "model_module_version": "1.5.0",
     "model_name": "DescriptionStyleModel",
     "state": {
      "_model_module": "@jupyter-widgets/controls",
      "_model_module_version": "1.5.0",
      "_model_name": "DescriptionStyleModel",
      "_view_count": null,
      "_view_module": "@jupyter-widgets/base",
      "_view_module_version": "1.2.0",
      "_view_name": "StyleView",
      "description_width": ""
     }
    },
    "5663a3935e154c00b87e3e4609e32672": {
     "model_module": "@jupyter-widgets/controls",
     "model_module_version": "1.5.0",
     "model_name": "DescriptionStyleModel",
     "state": {
      "_model_module": "@jupyter-widgets/controls",
      "_model_module_version": "1.5.0",
      "_model_name": "DescriptionStyleModel",
      "_view_count": null,
      "_view_module": "@jupyter-widgets/base",
      "_view_module_version": "1.2.0",
      "_view_name": "StyleView",
      "description_width": ""
     }
    },
    "570be816090240e9bd98ee651fe036c1": {
     "model_module": "@jupyter-widgets/controls",
     "model_module_version": "1.5.0",
     "model_name": "HTMLModel",
     "state": {
      "_dom_classes": [],
      "_model_module": "@jupyter-widgets/controls",
      "_model_module_version": "1.5.0",
      "_model_name": "HTMLModel",
      "_view_count": null,
      "_view_module": "@jupyter-widgets/controls",
      "_view_module_version": "1.5.0",
      "_view_name": "HTMLView",
      "description": "",
      "description_tooltip": null,
      "layout": "IPY_MODEL_ab1832fa02cb4fa18e731befd05af31a",
      "placeholder": "​",
      "style": "IPY_MODEL_ffd49f620f364bfa8086c3489a9a26e6",
      "value": "pytorch_model.bin: 100%"
     }
    },
    "588394be56184d9383232b11d19f0e58": {
     "model_module": "@jupyter-widgets/base",
     "model_module_version": "1.2.0",
     "model_name": "LayoutModel",
     "state": {
      "_model_module": "@jupyter-widgets/base",
      "_model_module_version": "1.2.0",
      "_model_name": "LayoutModel",
      "_view_count": null,
      "_view_module": "@jupyter-widgets/base",
      "_view_module_version": "1.2.0",
      "_view_name": "LayoutView",
      "align_content": null,
      "align_items": null,
      "align_self": null,
      "border": null,
      "bottom": null,
      "display": null,
      "flex": null,
      "flex_flow": null,
      "grid_area": null,
      "grid_auto_columns": null,
      "grid_auto_flow": null,
      "grid_auto_rows": null,
      "grid_column": null,
      "grid_gap": null,
      "grid_row": null,
      "grid_template_areas": null,
      "grid_template_columns": null,
      "grid_template_rows": null,
      "height": null,
      "justify_content": null,
      "justify_items": null,
      "left": null,
      "margin": null,
      "max_height": null,
      "max_width": null,
      "min_height": null,
      "min_width": null,
      "object_fit": null,
      "object_position": null,
      "order": null,
      "overflow": null,
      "overflow_x": null,
      "overflow_y": null,
      "padding": null,
      "right": null,
      "top": null,
      "visibility": null,
      "width": null
     }
    },
    "5a5522db852f4028aff3fb9a77683d1d": {
     "model_module": "@jupyter-widgets/controls",
     "model_module_version": "1.5.0",
     "model_name": "FloatProgressModel",
     "state": {
      "_dom_classes": [],
      "_model_module": "@jupyter-widgets/controls",
      "_model_module_version": "1.5.0",
      "_model_name": "FloatProgressModel",
      "_view_count": null,
      "_view_module": "@jupyter-widgets/controls",
      "_view_module_version": "1.5.0",
      "_view_name": "ProgressView",
      "bar_style": "success",
      "description": "",
      "description_tooltip": null,
      "layout": "IPY_MODEL_8c1da5635f06477f95fe1f9e3f3d5c4e",
      "max": 15822,
      "min": 0,
      "orientation": "horizontal",
      "style": "IPY_MODEL_3eb88d81d6ee4d889a42cb944f79274b",
      "value": 15822
     }
    },
    "5b13fd5d27664814a221930a243478e8": {
     "model_module": "@jupyter-widgets/base",
     "model_module_version": "1.2.0",
     "model_name": "LayoutModel",
     "state": {
      "_model_module": "@jupyter-widgets/base",
      "_model_module_version": "1.2.0",
      "_model_name": "LayoutModel",
      "_view_count": null,
      "_view_module": "@jupyter-widgets/base",
      "_view_module_version": "1.2.0",
      "_view_name": "LayoutView",
      "align_content": null,
      "align_items": null,
      "align_self": null,
      "border": null,
      "bottom": null,
      "display": null,
      "flex": null,
      "flex_flow": null,
      "grid_area": null,
      "grid_auto_columns": null,
      "grid_auto_flow": null,
      "grid_auto_rows": null,
      "grid_column": null,
      "grid_gap": null,
      "grid_row": null,
      "grid_template_areas": null,
      "grid_template_columns": null,
      "grid_template_rows": null,
      "height": null,
      "justify_content": null,
      "justify_items": null,
      "left": null,
      "margin": null,
      "max_height": null,
      "max_width": null,
      "min_height": null,
      "min_width": null,
      "object_fit": null,
      "object_position": null,
      "order": null,
      "overflow": null,
      "overflow_x": null,
      "overflow_y": null,
      "padding": null,
      "right": null,
      "top": null,
      "visibility": null,
      "width": null
     }
    },
    "5b75e000879c462985436345809131d5": {
     "model_module": "@jupyter-widgets/base",
     "model_module_version": "1.2.0",
     "model_name": "LayoutModel",
     "state": {
      "_model_module": "@jupyter-widgets/base",
      "_model_module_version": "1.2.0",
      "_model_name": "LayoutModel",
      "_view_count": null,
      "_view_module": "@jupyter-widgets/base",
      "_view_module_version": "1.2.0",
      "_view_name": "LayoutView",
      "align_content": null,
      "align_items": null,
      "align_self": null,
      "border": null,
      "bottom": null,
      "display": null,
      "flex": null,
      "flex_flow": null,
      "grid_area": null,
      "grid_auto_columns": null,
      "grid_auto_flow": null,
      "grid_auto_rows": null,
      "grid_column": null,
      "grid_gap": null,
      "grid_row": null,
      "grid_template_areas": null,
      "grid_template_columns": null,
      "grid_template_rows": null,
      "height": null,
      "justify_content": null,
      "justify_items": null,
      "left": null,
      "margin": null,
      "max_height": null,
      "max_width": null,
      "min_height": null,
      "min_width": null,
      "object_fit": null,
      "object_position": null,
      "order": null,
      "overflow": null,
      "overflow_x": null,
      "overflow_y": null,
      "padding": null,
      "right": null,
      "top": null,
      "visibility": null,
      "width": null
     }
    },
    "5c24f3a3b600454193bf383d6c30aa5d": {
     "model_module": "@jupyter-widgets/controls",
     "model_module_version": "1.5.0",
     "model_name": "ProgressStyleModel",
     "state": {
      "_model_module": "@jupyter-widgets/controls",
      "_model_module_version": "1.5.0",
      "_model_name": "ProgressStyleModel",
      "_view_count": null,
      "_view_module": "@jupyter-widgets/base",
      "_view_module_version": "1.2.0",
      "_view_name": "StyleView",
      "bar_color": null,
      "description_width": ""
     }
    },
    "5e2d9710374a43da913e94c395bc0dd0": {
     "model_module": "@jupyter-widgets/controls",
     "model_module_version": "1.5.0",
     "model_name": "TextModel",
     "state": {
      "_dom_classes": [],
      "_model_module": "@jupyter-widgets/controls",
      "_model_module_version": "1.5.0",
      "_model_name": "TextModel",
      "_view_count": null,
      "_view_module": "@jupyter-widgets/controls",
      "_view_module_version": "1.5.0",
      "_view_name": "TextView",
      "continuous_update": true,
      "description": "Tema:",
      "description_tooltip": null,
      "disabled": false,
      "layout": "IPY_MODEL_0c61a1f0c37d44f1b5629f3e8df14cac",
      "placeholder": "Matemática, Inglês, Física, Biologia, etc.",
      "style": "IPY_MODEL_17b396b18f78429e822baceb48e1539d",
      "value": "física"
     }
    },
    "5fd1f88512bb419c813253af894326da": {
     "model_module": "@jupyter-widgets/controls",
     "model_module_version": "1.5.0",
     "model_name": "HTMLModel",
     "state": {
      "_dom_classes": [],
      "_model_module": "@jupyter-widgets/controls",
      "_model_module_version": "1.5.0",
      "_model_name": "HTMLModel",
      "_view_count": null,
      "_view_module": "@jupyter-widgets/controls",
      "_view_module_version": "1.5.0",
      "_view_name": "HTMLView",
      "description": "",
      "description_tooltip": null,
      "layout": "IPY_MODEL_d4017e2b642240e3ab9c7eba4590e4eb",
      "placeholder": "​",
      "style": "IPY_MODEL_c85301fbae7146359821dd11f1807550",
      "value": " 2.27G/2.27G [00:18&lt;00:00, 234MB/s]"
     }
    },
    "610b45a854da42ea8f731eb75f9e0944": {
     "model_module": "@jupyter-widgets/controls",
     "model_module_version": "1.5.0",
     "model_name": "ButtonStyleModel",
     "state": {
      "_model_module": "@jupyter-widgets/controls",
      "_model_module_version": "1.5.0",
      "_model_name": "ButtonStyleModel",
      "_view_count": null,
      "_view_module": "@jupyter-widgets/base",
      "_view_module_version": "1.2.0",
      "_view_name": "StyleView",
      "button_color": null,
      "font_weight": ""
     }
    },
    "6425c127082a4befb9fe6b8f3c4a6351": {
     "model_module": "@jupyter-widgets/controls",
     "model_module_version": "1.5.0",
     "model_name": "ButtonModel",
     "state": {
      "_dom_classes": [],
      "_model_module": "@jupyter-widgets/controls",
      "_model_module_version": "1.5.0",
      "_model_name": "ButtonModel",
      "_view_count": null,
      "_view_module": "@jupyter-widgets/controls",
      "_view_module_version": "1.5.0",
      "_view_name": "ButtonView",
      "button_style": "",
      "description": "Gerar exercícios",
      "disabled": false,
      "icon": "",
      "layout": "IPY_MODEL_be38b2eb55ba47e8a2ddc99724ea929c",
      "style": "IPY_MODEL_14e5bae57b824542848cd1632c1136fe",
      "tooltip": ""
     }
    },
    "65c3faf8c4e24543a37f97c07dc61958": {
     "model_module": "@jupyter-widgets/output",
     "model_module_version": "1.0.0",
     "model_name": "OutputModel",
     "state": {
      "_dom_classes": [],
      "_model_module": "@jupyter-widgets/output",
      "_model_module_version": "1.0.0",
      "_model_name": "OutputModel",
      "_view_count": null,
      "_view_module": "@jupyter-widgets/output",
      "_view_module_version": "1.0.0",
      "_view_name": "OutputView",
      "layout": "IPY_MODEL_d75760b2154f4d4cbbf3eaaf000f8348",
      "msg_id": "",
      "outputs": [
       {
        "name": "stdout",
        "output_type": "stream",
        "text": [
         "\n",
         "  \n",
         "Gere 2 exercícios em português sobre o conteúdo fornecido como contexto abaixo. Nível de dificuldade: Intermediário.\n",
         "Cada exercício deve ser de múltipla escolha com 4 alternativas, incluir a resposta correta e uma explicação passo a passo.\n",
         "Não invente dados externos nem saia do escopo do material apresentado, utilize exclusivamente o conteúdo fornecido.\n",
         "Para e explicação da resposta, não justifique mencionando que foi obtido com o contexto fornecido abaixo. Você deve justificá-la com base no conhecimento que você tem.\n",
         "\n",
         "\n",
         "  ---\n",
         "  Contexto: História da astronomia\n",
         "Círculo de rochas construído pelos egípcios há mais de 7 mil anos. Ele era utilizado para determinar a chegada do solstício de verão e a aproximação das monções.[1]\n",
         "Surgida  da  curiosidade  humana  sobre  a  forma  como  os  astros  se comportam no céu, a astronomia é considerada a ciência mais antiga do mundo. As observações astronômicas datam de milhares de anos antes da Era Comum, com povos egípcios que viviam na região de Assuã, onde fica o  sítio  de  Nabta  Playa.  Lá  foi  construído  um  círculo  de  pedras  utilizado para determinar a chegada do solstício de verão, sendo um dos primeiros registros  físicos  de  como  a  posição  dos  astros  e  a sua interação com o planeta Terra eram importantes no cotidiano das civilizações antigas.\n",
         "\n",
         "História da astronomia\n",
         "Também  no  século  XVI,  o  dinamarquês  Tycho  Brahe  construiu  um observatório astronômico em uma ilha próximo a Copenhague, ainda sem o  auxílio  de  instrumentos  como  telescópios,  conhecido  pela  acurácia  de suas observações, como sobre a posição do planeta Marte. Contemporâneo  a  ele,  John  Kepler  foi  responsável  pelos  modelos  que descreviam as órbitas dos planetas em torno do Sol, dos quais derivam as três leis de Kepler.\n",
         "No século XVII, o italiano Galileu Galilei fez contribuições muito importantes para a astronomia e para a ciência como um todo. No campo astronômico,  ele  construiu seu  próprio  telescópio,  por  meio  do  qual realizou  uma  série  de  descobertas,  como  a  de que estrelas formavam a Via Láctea, algumas das luas de Júpiter, manchas solares em Vênus e a irregularidade  da  superfície  da  Lua.  Além  disso,  Galileu  comprovou  o modelo heliocêntrico de Copérnico.\n",
         "\n",
         "O intervalo do século XVII ao XX foi marcado por grandes descobertas no campo  da  astronomia  e  da  Física,  com  destaque  para  Isaac  Newton, Edmund  Halley,  Albert  Einstein  e  Edwin  Hubble.  O  aperfeiçoamento técnico e o advento de novos instrumentos, a partir da segunda metade do século  XX,  permitiram  observações  mais  precisas  e  a  descoberta,  por exemplo, da radiação cósmica de fundo em micro-ondas, prova fundamental da expansão do Universo.\n",
         "\n",
         "História da astronomia\n",
         "No ano de 1969, uma missão da Nasa colocou os primeiros astronautas para  andarem  na  superfície  da  Lua,  feito  realizado por Neil Armstrong e Edwin  Aldrin.  Quase  seis  décadas  mais  tarde,  em  2022,  foi  lançada  a missão Artemis, com  o  objetivo de repetir a caminhada  lunar.  As descobertas  recentes  proporcionadas  pelo  avanço  tecnológico  incluem a primeira  imagem  de  um  buraco  negro,  lançada  pela  Nasa em 2019, e o som  que  essas  estruturas  emitem,  divulgado  em  2022,  demonstrando assim a constante evolução da ciência astronômica.\n",
         "Leia também: Quais são as fases da Lua?\n",
         "\n",
         "História da astronomia\n",
         "Com o passar do tempo, gregos, chineses, árabes e indianos aperfeiçoaram a astronomia e fizeram a introdução de novas proposições e  elementos (obtidos com base em cálculos matemáticos) a esse campo do conhecimento, imprimindo-lhe o caráter multidisciplinar que hoje exibe. Atribui-se aos gregos a sistematização da astronomia e do princípio de sua teorização, com  destaque  para  nomes  como  Anaxímenes  de  Mileto, Pitágoras, Aristóteles, Hiparco e Ptolomeu.\n",
         "As civilizações pré-colombianas nas Américas, como os incas, os maias e os  astecas,  além  de  manterem  uma  relação  espiritual  com  os  astros, guiavam-se por meio deles, e ainda possuíam monumentos com base nos quais observavam a passagem do tempo, as estações do ano (o que era importante  para  saber  o  momento  mais  adequado  para  o  plantio  e  a colheita),  e  buscavam  também  representar  os  corpos  celestes  e  um modelo de outros mundos e do Universo.\n",
         "\n",
         "Curiosidades sobre astronomia\n",
         "● A teoria mais aceita para explicar a origem do Universo é a do Big Bang.\n",
         "● O Dia Mundial da Astronomia é celebrado no Brasil todos os dias 8 de maio.\n",
         "● O Dia Internacional da Astronomia não tem data fixa, mas é celebrado duas vezes ao ano: na Lua crescente de primavera e de outono.\n",
         "  \n"
        ]
       },
       {
        "data": {
         "text/markdown": "[pensando...] \nOkay, I need to create two intermediate-level multiple-choice exercises based on the provided context about the history of astronomy. Each should have four options, the correct answer, and a step-by-step explanation. I must stick strictly to the context without adding external information.\n\nFirst, I'll read through the context to identify key points. The Nabta Playa circle in Egypt, Tycho Brahe's observations, John Kepler's laws, Galileo's contributions, the 1969 moon landing, and the Artemis mission in 2022 are all important.\n\nFor the first exercise, I can focus on the purpose of the Nabta Playa circle. The context mentions it was used to determine the summer solstice and the approach of the monsoons. So the question would ask about its use, with options including the solstice, monsoons, and other possible but incorrect uses like planetary alignment or lunar phases.\n\nThe second exercise can be about the Artemis mission. The context states it was launched in 2022 to repeat the lunar walk. Options might include other years or purposes, but 2022 is the correct one.\n\nI need to ensure each question has one correct answer and three plausible distractors. For explanations, I'll explain why each option is correct or incorrect based on the context, without referencing external knowledge.\n\nLet me draft the first question on Nabta Playa. The correct answer is B, summer solstice. The other options can be about planetary alignment, lunar phases, and predicting eclipses, which are not mentioned in the context.\n\nFor the second question, the correct answer is D, 2022. Other options could be 1969, 2019, and 2025, which are related to other events but not the Artemis mission.\n\nI must make sure the explanations are clear and based only on the provided context, without adding outside information. Each step should logically lead to the correct answer.\n\nI think that's a solid approach. Now, I'll structure the exercises accordingly, ensuring they meet all the specified requirements.\n\n---\n\n\n### Exercício 1: **Uso do Círculo de Rochas de Nabta Playa**\n\n**Pergunta:** Qual era o principal propósito do círculo de rochas construído pelos egípcios em Nabta Playa?\n\n**Alternativas:**\nA) Determinar a posição exata do Sol durante o equinócio  \nB) Prever a chegada do solstício de verão  \nC) Observar a alinhamento de planetas específicos  \nD) Medir a fase atual da Lua  \n\n**Resposta correta:** B) Prever a chegada do solstício de verão  \n\n**Explicação passo a passo:**\n1. **Identificação do Contexto:** O círculo de rochas em Nabta Playa foi construído há mais de 7.000 anos.\n2. **Propósito Principal:** De acordo com o contexto, ele era usado para determinar a chegada do solstício de verão.\n3. **Análise das Alternativas:** \n   - A) Equinócio não é mencionado no contexto.\n   - B) Solstício de verão é explicitamente citado.\n   - C) Alinhamento planetário não está associado a Nabta Playa.\n   - D) Fase da Lua não é o foco do círculo.\n4. **Conclusão:** A alternativa B é correta, pois o solstício de verão era crucial para as monções.\n\n### Exercício 2: **Missão Artemis**\n\n**Pergunta:** Em que ano foi lançada a missão Artemis com o objetivo de retornar astronautas à Lua?\n\n**Alternativas:**\nA) 1969  \nB) 2019  \nC) 2022  \nD) 2025  \n\n**Resposta correta:** C) 2022  \n\n**Explicação passo a passo:**\n1. **Contextualização Histórica:** A primeira missão à Lua foi em 1969.\n2. **Missão Artemis:** Lançada em 2022, visando retornar astronautas à Lua.\n3. **Análise das Alternativas:**\n   - A) 1969 refere-se à missão Apollo 11.\n   - B) 2019 é conhecido por imagens de buracos negros.\n   - C) 2022 é o ano correto da missão Artemis.\n   - D) 2025 é uma data futura, não mencionada no contexto.\n4. **Conclusão:** A alternativa C é correta, correspondendo ao lançamento em 2022.",
         "text/plain": "<IPython.core.display.Markdown object>"
        },
        "metadata": {},
        "output_type": "display_data"
       }
      ]
     }
    },
    "6755f0e8c9db443b8cc7920d3ac22ea9": {
     "model_module": "@jupyter-widgets/base",
     "model_module_version": "1.2.0",
     "model_name": "LayoutModel",
     "state": {
      "_model_module": "@jupyter-widgets/base",
      "_model_module_version": "1.2.0",
      "_model_name": "LayoutModel",
      "_view_count": null,
      "_view_module": "@jupyter-widgets/base",
      "_view_module_version": "1.2.0",
      "_view_name": "LayoutView",
      "align_content": null,
      "align_items": null,
      "align_self": null,
      "border": null,
      "bottom": null,
      "display": null,
      "flex": null,
      "flex_flow": null,
      "grid_area": null,
      "grid_auto_columns": null,
      "grid_auto_flow": null,
      "grid_auto_rows": null,
      "grid_column": null,
      "grid_gap": null,
      "grid_row": null,
      "grid_template_areas": null,
      "grid_template_columns": null,
      "grid_template_rows": null,
      "height": null,
      "justify_content": null,
      "justify_items": null,
      "left": null,
      "margin": null,
      "max_height": null,
      "max_width": null,
      "min_height": null,
      "min_width": null,
      "object_fit": null,
      "object_position": null,
      "order": null,
      "overflow": null,
      "overflow_x": null,
      "overflow_y": null,
      "padding": null,
      "right": null,
      "top": null,
      "visibility": null,
      "width": null
     }
    },
    "6853dd0ce5f54a459d14d01f2dd45065": {
     "model_module": "@jupyter-widgets/controls",
     "model_module_version": "1.5.0",
     "model_name": "ProgressStyleModel",
     "state": {
      "_model_module": "@jupyter-widgets/controls",
      "_model_module_version": "1.5.0",
      "_model_name": "ProgressStyleModel",
      "_view_count": null,
      "_view_module": "@jupyter-widgets/base",
      "_view_module_version": "1.2.0",
      "_view_name": "StyleView",
      "bar_color": null,
      "description_width": ""
     }
    },
    "696647d080584abca58865408031baa9": {
     "model_module": "@jupyter-widgets/base",
     "model_module_version": "1.2.0",
     "model_name": "LayoutModel",
     "state": {
      "_model_module": "@jupyter-widgets/base",
      "_model_module_version": "1.2.0",
      "_model_name": "LayoutModel",
      "_view_count": null,
      "_view_module": "@jupyter-widgets/base",
      "_view_module_version": "1.2.0",
      "_view_name": "LayoutView",
      "align_content": null,
      "align_items": null,
      "align_self": null,
      "border": null,
      "bottom": null,
      "display": null,
      "flex": null,
      "flex_flow": null,
      "grid_area": null,
      "grid_auto_columns": null,
      "grid_auto_flow": null,
      "grid_auto_rows": null,
      "grid_column": null,
      "grid_gap": null,
      "grid_row": null,
      "grid_template_areas": null,
      "grid_template_columns": null,
      "grid_template_rows": null,
      "height": null,
      "justify_content": null,
      "justify_items": null,
      "left": null,
      "margin": null,
      "max_height": null,
      "max_width": null,
      "min_height": null,
      "min_width": null,
      "object_fit": null,
      "object_position": null,
      "order": null,
      "overflow": null,
      "overflow_x": null,
      "overflow_y": null,
      "padding": null,
      "right": null,
      "top": null,
      "visibility": null,
      "width": null
     }
    },
    "6a64b02131b8422db61a2cc5b5a7923e": {
     "model_module": "@jupyter-widgets/base",
     "model_module_version": "1.2.0",
     "model_name": "LayoutModel",
     "state": {
      "_model_module": "@jupyter-widgets/base",
      "_model_module_version": "1.2.0",
      "_model_name": "LayoutModel",
      "_view_count": null,
      "_view_module": "@jupyter-widgets/base",
      "_view_module_version": "1.2.0",
      "_view_name": "LayoutView",
      "align_content": null,
      "align_items": null,
      "align_self": null,
      "border": null,
      "bottom": null,
      "display": null,
      "flex": null,
      "flex_flow": null,
      "grid_area": null,
      "grid_auto_columns": null,
      "grid_auto_flow": null,
      "grid_auto_rows": null,
      "grid_column": null,
      "grid_gap": null,
      "grid_row": null,
      "grid_template_areas": null,
      "grid_template_columns": null,
      "grid_template_rows": null,
      "height": null,
      "justify_content": null,
      "justify_items": null,
      "left": null,
      "margin": null,
      "max_height": null,
      "max_width": null,
      "min_height": null,
      "min_width": null,
      "object_fit": null,
      "object_position": null,
      "order": null,
      "overflow": null,
      "overflow_x": null,
      "overflow_y": null,
      "padding": null,
      "right": null,
      "top": null,
      "visibility": null,
      "width": null
     }
    },
    "6b2b511e3d554451a8af9f1fa0e71501": {
     "model_module": "@jupyter-widgets/controls",
     "model_module_version": "1.5.0",
     "model_name": "FloatProgressModel",
     "state": {
      "_dom_classes": [],
      "_model_module": "@jupyter-widgets/controls",
      "_model_module_version": "1.5.0",
      "_model_name": "FloatProgressModel",
      "_view_count": null,
      "_view_module": "@jupyter-widgets/controls",
      "_view_module_version": "1.5.0",
      "_view_name": "ProgressView",
      "bar_style": "success",
      "description": "",
      "description_tooltip": null,
      "layout": "IPY_MODEL_981337f74b884dbeb1e6e171795f5e2a",
      "max": 54,
      "min": 0,
      "orientation": "horizontal",
      "style": "IPY_MODEL_bb93c280cf2a4f4e8cd7af9e338c02dd",
      "value": 54
     }
    },
    "6bd0d147c20f490db2db92d594416804": {
     "model_module": "@jupyter-widgets/controls",
     "model_module_version": "1.5.0",
     "model_name": "HBoxModel",
     "state": {
      "_dom_classes": [],
      "_model_module": "@jupyter-widgets/controls",
      "_model_module_version": "1.5.0",
      "_model_name": "HBoxModel",
      "_view_count": null,
      "_view_module": "@jupyter-widgets/controls",
      "_view_module_version": "1.5.0",
      "_view_name": "HBoxView",
      "box_style": "",
      "children": [
       "IPY_MODEL_570be816090240e9bd98ee651fe036c1",
       "IPY_MODEL_72ba3fc1de8a4282b69cd22ffead5ccf",
       "IPY_MODEL_0cec4f4fecae4b069ec3aa6b3016566a"
      ],
      "layout": "IPY_MODEL_6755f0e8c9db443b8cc7920d3ac22ea9"
     }
    },
    "6c0935fe91894249bf1c4ed3b2e06ca3": {
     "model_module": "@jupyter-widgets/controls",
     "model_module_version": "1.5.0",
     "model_name": "HBoxModel",
     "state": {
      "_dom_classes": [],
      "_model_module": "@jupyter-widgets/controls",
      "_model_module_version": "1.5.0",
      "_model_name": "HBoxModel",
      "_view_count": null,
      "_view_module": "@jupyter-widgets/controls",
      "_view_module_version": "1.5.0",
      "_view_name": "HBoxView",
      "box_style": "",
      "children": [
       "IPY_MODEL_44c4e4d6317c466191f4d42871215f87",
       "IPY_MODEL_b8db757951794b02bc0162a6e94c9ff0",
       "IPY_MODEL_e8cad83215fd4366bb669a0a37fe163d"
      ],
      "layout": "IPY_MODEL_175e79ba6a2c4abc94c058b0b0e21d1c"
     }
    },
    "6c688a1614d54306a48b4e949dd8f97c": {
     "model_module": "@jupyter-widgets/controls",
     "model_module_version": "1.5.0",
     "model_name": "HTMLModel",
     "state": {
      "_dom_classes": [],
      "_model_module": "@jupyter-widgets/controls",
      "_model_module_version": "1.5.0",
      "_model_name": "HTMLModel",
      "_view_count": null,
      "_view_module": "@jupyter-widgets/controls",
      "_view_module_version": "1.5.0",
      "_view_name": "HTMLView",
      "description": "",
      "description_tooltip": null,
      "layout": "IPY_MODEL_18c545fe3281489cbb3e158379a58ff4",
      "placeholder": "​",
      "style": "IPY_MODEL_84f284b396ea4dc1b3197fa136a56135",
      "value": " 349/349 [00:00&lt;00:00, 17.6kB/s]"
     }
    },
    "6c7edcb4c3464301bf557cdd6e7703de": {
     "model_module": "@jupyter-widgets/base",
     "model_module_version": "1.2.0",
     "model_name": "LayoutModel",
     "state": {
      "_model_module": "@jupyter-widgets/base",
      "_model_module_version": "1.2.0",
      "_model_name": "LayoutModel",
      "_view_count": null,
      "_view_module": "@jupyter-widgets/base",
      "_view_module_version": "1.2.0",
      "_view_name": "LayoutView",
      "align_content": null,
      "align_items": null,
      "align_self": null,
      "border": null,
      "bottom": null,
      "display": null,
      "flex": null,
      "flex_flow": null,
      "grid_area": null,
      "grid_auto_columns": null,
      "grid_auto_flow": null,
      "grid_auto_rows": null,
      "grid_column": null,
      "grid_gap": null,
      "grid_row": null,
      "grid_template_areas": null,
      "grid_template_columns": null,
      "grid_template_rows": null,
      "height": null,
      "justify_content": null,
      "justify_items": null,
      "left": null,
      "margin": null,
      "max_height": null,
      "max_width": null,
      "min_height": null,
      "min_width": null,
      "object_fit": null,
      "object_position": null,
      "order": null,
      "overflow": null,
      "overflow_x": null,
      "overflow_y": null,
      "padding": null,
      "right": null,
      "top": null,
      "visibility": null,
      "width": null
     }
    },
    "6cda5d663a734543b3646bd270bd9d8f": {
     "model_module": "@jupyter-widgets/controls",
     "model_module_version": "1.5.0",
     "model_name": "ProgressStyleModel",
     "state": {
      "_model_module": "@jupyter-widgets/controls",
      "_model_module_version": "1.5.0",
      "_model_name": "ProgressStyleModel",
      "_view_count": null,
      "_view_module": "@jupyter-widgets/base",
      "_view_module_version": "1.2.0",
      "_view_name": "StyleView",
      "bar_color": null,
      "description_width": ""
     }
    },
    "6fe6a9c3507a4e47ae0032b0aaa2faca": {
     "model_module": "@jupyter-widgets/controls",
     "model_module_version": "1.5.0",
     "model_name": "ProgressStyleModel",
     "state": {
      "_model_module": "@jupyter-widgets/controls",
      "_model_module_version": "1.5.0",
      "_model_name": "ProgressStyleModel",
      "_view_count": null,
      "_view_module": "@jupyter-widgets/base",
      "_view_module_version": "1.2.0",
      "_view_name": "StyleView",
      "bar_color": null,
      "description_width": ""
     }
    },
    "706d1f5ea7af4456a8f5f1f3cb1c1bb3": {
     "model_module": "@jupyter-widgets/controls",
     "model_module_version": "1.5.0",
     "model_name": "DescriptionStyleModel",
     "state": {
      "_model_module": "@jupyter-widgets/controls",
      "_model_module_version": "1.5.0",
      "_model_name": "DescriptionStyleModel",
      "_view_count": null,
      "_view_module": "@jupyter-widgets/base",
      "_view_module_version": "1.2.0",
      "_view_name": "StyleView",
      "description_width": ""
     }
    },
    "7247f72dea5a4e9ea0858b1a28c3c24c": {
     "model_module": "@jupyter-widgets/controls",
     "model_module_version": "1.5.0",
     "model_name": "VBoxModel",
     "state": {
      "_dom_classes": [],
      "_model_module": "@jupyter-widgets/controls",
      "_model_module_version": "1.5.0",
      "_model_name": "VBoxModel",
      "_view_count": null,
      "_view_module": "@jupyter-widgets/controls",
      "_view_module_version": "1.5.0",
      "_view_name": "VBoxView",
      "box_style": "",
      "children": [
       "IPY_MODEL_94f9b0c28c8b4ba199f80e3441116e1d",
       "IPY_MODEL_dfd18b67c09a46cdaf4c0d34cc5e6a9c",
       "IPY_MODEL_0c51288b65b1454d8dcb649d0eb4175b",
       "IPY_MODEL_df3b2eb28d6040e69751c76f0a97588f",
       "IPY_MODEL_1b954125bf4949b6952ccfe62d7c1614",
       "IPY_MODEL_1e54aeeee8524b17a3b532b4a00b92f0",
       "IPY_MODEL_81b3af05ac9a4c478aa9dbdbe7f95229"
      ],
      "layout": "IPY_MODEL_510ab2a2ec5b48b0a7c07826d3c2a1ee"
     }
    },
    "72ba3fc1de8a4282b69cd22ffead5ccf": {
     "model_module": "@jupyter-widgets/controls",
     "model_module_version": "1.5.0",
     "model_name": "FloatProgressModel",
     "state": {
      "_dom_classes": [],
      "_model_module": "@jupyter-widgets/controls",
      "_model_module_version": "1.5.0",
      "_model_name": "FloatProgressModel",
      "_view_count": null,
      "_view_module": "@jupyter-widgets/controls",
      "_view_module_version": "1.5.0",
      "_view_name": "ProgressView",
      "bar_style": "success",
      "description": "",
      "description_tooltip": null,
      "layout": "IPY_MODEL_735bb6c39adf4276a96488811d88bed5",
      "max": 2271145830,
      "min": 0,
      "orientation": "horizontal",
      "style": "IPY_MODEL_4e8e214975f94fc9b1a834c469ab9b33",
      "value": 2271145830
     }
    },
    "72c96b2505b745498800dacbd57088c6": {
     "model_module": "@jupyter-widgets/controls",
     "model_module_version": "1.5.0",
     "model_name": "ButtonStyleModel",
     "state": {
      "_model_module": "@jupyter-widgets/controls",
      "_model_module_version": "1.5.0",
      "_model_name": "ButtonStyleModel",
      "_view_count": null,
      "_view_module": "@jupyter-widgets/base",
      "_view_module_version": "1.2.0",
      "_view_name": "StyleView",
      "button_color": null,
      "font_weight": ""
     }
    },
    "735bb6c39adf4276a96488811d88bed5": {
     "model_module": "@jupyter-widgets/base",
     "model_module_version": "1.2.0",
     "model_name": "LayoutModel",
     "state": {
      "_model_module": "@jupyter-widgets/base",
      "_model_module_version": "1.2.0",
      "_model_name": "LayoutModel",
      "_view_count": null,
      "_view_module": "@jupyter-widgets/base",
      "_view_module_version": "1.2.0",
      "_view_name": "LayoutView",
      "align_content": null,
      "align_items": null,
      "align_self": null,
      "border": null,
      "bottom": null,
      "display": null,
      "flex": null,
      "flex_flow": null,
      "grid_area": null,
      "grid_auto_columns": null,
      "grid_auto_flow": null,
      "grid_auto_rows": null,
      "grid_column": null,
      "grid_gap": null,
      "grid_row": null,
      "grid_template_areas": null,
      "grid_template_columns": null,
      "grid_template_rows": null,
      "height": null,
      "justify_content": null,
      "justify_items": null,
      "left": null,
      "margin": null,
      "max_height": null,
      "max_width": null,
      "min_height": null,
      "min_width": null,
      "object_fit": null,
      "object_position": null,
      "order": null,
      "overflow": null,
      "overflow_x": null,
      "overflow_y": null,
      "padding": null,
      "right": null,
      "top": null,
      "visibility": null,
      "width": null
     }
    },
    "743747f8af204518a7b973460fa5fc78": {
     "model_module": "@jupyter-widgets/base",
     "model_module_version": "1.2.0",
     "model_name": "LayoutModel",
     "state": {
      "_model_module": "@jupyter-widgets/base",
      "_model_module_version": "1.2.0",
      "_model_name": "LayoutModel",
      "_view_count": null,
      "_view_module": "@jupyter-widgets/base",
      "_view_module_version": "1.2.0",
      "_view_name": "LayoutView",
      "align_content": null,
      "align_items": null,
      "align_self": null,
      "border": null,
      "bottom": null,
      "display": null,
      "flex": null,
      "flex_flow": null,
      "grid_area": null,
      "grid_auto_columns": null,
      "grid_auto_flow": null,
      "grid_auto_rows": null,
      "grid_column": null,
      "grid_gap": null,
      "grid_row": null,
      "grid_template_areas": null,
      "grid_template_columns": null,
      "grid_template_rows": null,
      "height": null,
      "justify_content": null,
      "justify_items": null,
      "left": null,
      "margin": null,
      "max_height": null,
      "max_width": null,
      "min_height": null,
      "min_width": null,
      "object_fit": null,
      "object_position": null,
      "order": null,
      "overflow": null,
      "overflow_x": null,
      "overflow_y": null,
      "padding": null,
      "right": null,
      "top": null,
      "visibility": null,
      "width": null
     }
    },
    "74a957c48c0d4a2fa769e0e734f2d01b": {
     "model_module": "@jupyter-widgets/controls",
     "model_module_version": "1.5.0",
     "model_name": "ButtonModel",
     "state": {
      "_dom_classes": [],
      "_model_module": "@jupyter-widgets/controls",
      "_model_module_version": "1.5.0",
      "_model_name": "ButtonModel",
      "_view_count": null,
      "_view_module": "@jupyter-widgets/controls",
      "_view_module_version": "1.5.0",
      "_view_name": "ButtonView",
      "button_style": "",
      "description": "Gerar exercícios",
      "disabled": false,
      "icon": "",
      "layout": "IPY_MODEL_9551a115d3eb4712b5be4074ce0ac29e",
      "style": "IPY_MODEL_f1362c46680546769da1b7c4b6be7dbc",
      "tooltip": ""
     }
    },
    "760c14f560074ec49e490a557c670ecb": {
     "model_module": "@jupyter-widgets/controls",
     "model_module_version": "1.5.0",
     "model_name": "SliderStyleModel",
     "state": {
      "_model_module": "@jupyter-widgets/controls",
      "_model_module_version": "1.5.0",
      "_model_name": "SliderStyleModel",
      "_view_count": null,
      "_view_module": "@jupyter-widgets/base",
      "_view_module_version": "1.2.0",
      "_view_name": "StyleView",
      "description_width": "",
      "handle_color": null
     }
    },
    "762aa8629dab4dddbbce55ad54fa009a": {
     "model_module": "@jupyter-widgets/controls",
     "model_module_version": "1.5.0",
     "model_name": "TextModel",
     "state": {
      "_dom_classes": [],
      "_model_module": "@jupyter-widgets/controls",
      "_model_module_version": "1.5.0",
      "_model_name": "TextModel",
      "_view_count": null,
      "_view_module": "@jupyter-widgets/controls",
      "_view_module_version": "1.5.0",
      "_view_name": "TextView",
      "continuous_update": true,
      "description": "Tema:",
      "description_tooltip": null,
      "disabled": false,
      "layout": "IPY_MODEL_e55b9dfdb0a14ced8700e1c1603af278",
      "placeholder": "Matemática, Inglês, Física, Biologia, etc.",
      "style": "IPY_MODEL_12d457ceffcb43d9a7053df5c650bc26",
      "value": ""
     }
    },
    "779753ca9699480e869ff7c75305ae18": {
     "model_module": "@jupyter-widgets/base",
     "model_module_version": "1.2.0",
     "model_name": "LayoutModel",
     "state": {
      "_model_module": "@jupyter-widgets/base",
      "_model_module_version": "1.2.0",
      "_model_name": "LayoutModel",
      "_view_count": null,
      "_view_module": "@jupyter-widgets/base",
      "_view_module_version": "1.2.0",
      "_view_name": "LayoutView",
      "align_content": null,
      "align_items": null,
      "align_self": null,
      "border": null,
      "bottom": null,
      "display": null,
      "flex": null,
      "flex_flow": null,
      "grid_area": null,
      "grid_auto_columns": null,
      "grid_auto_flow": null,
      "grid_auto_rows": null,
      "grid_column": null,
      "grid_gap": null,
      "grid_row": null,
      "grid_template_areas": null,
      "grid_template_columns": null,
      "grid_template_rows": null,
      "height": null,
      "justify_content": null,
      "justify_items": null,
      "left": null,
      "margin": null,
      "max_height": null,
      "max_width": null,
      "min_height": null,
      "min_width": null,
      "object_fit": null,
      "object_position": null,
      "order": null,
      "overflow": null,
      "overflow_x": null,
      "overflow_y": null,
      "padding": null,
      "right": null,
      "top": null,
      "visibility": null,
      "width": null
     }
    },
    "78036686aae14a739f7e7421a8c6e2dd": {
     "model_module": "@jupyter-widgets/controls",
     "model_module_version": "1.5.0",
     "model_name": "HTMLModel",
     "state": {
      "_dom_classes": [],
      "_model_module": "@jupyter-widgets/controls",
      "_model_module_version": "1.5.0",
      "_model_name": "HTMLModel",
      "_view_count": null,
      "_view_module": "@jupyter-widgets/controls",
      "_view_module_version": "1.5.0",
      "_view_name": "HTMLView",
      "description": "",
      "description_tooltip": null,
      "layout": "IPY_MODEL_b61a721a3c6e458abd9eb5daaa1faff3",
      "placeholder": "​",
      "style": "IPY_MODEL_e2efca8f56ca4bf990ef9e73a7fac184",
      "value": "tokenizer.json: 100%"
     }
    },
    "7cb57b48e7464f509594068a8842f558": {
     "model_module": "@jupyter-widgets/controls",
     "model_module_version": "1.5.0",
     "model_name": "HBoxModel",
     "state": {
      "_dom_classes": [],
      "_model_module": "@jupyter-widgets/controls",
      "_model_module_version": "1.5.0",
      "_model_name": "HBoxModel",
      "_view_count": null,
      "_view_module": "@jupyter-widgets/controls",
      "_view_module_version": "1.5.0",
      "_view_name": "HBoxView",
      "box_style": "",
      "children": [
       "IPY_MODEL_c153bcd9570e4205bb51becac714ca81",
       "IPY_MODEL_b7a4eaa5ca294b06acdfc28159dbe624",
       "IPY_MODEL_6c688a1614d54306a48b4e949dd8f97c"
      ],
      "layout": "IPY_MODEL_d0682c538b234e7cada85bb019efec52"
     }
    },
    "7de0437bdfbd468d8bf18cff634cf972": {
     "model_module": "@jupyter-widgets/controls",
     "model_module_version": "1.5.0",
     "model_name": "FloatProgressModel",
     "state": {
      "_dom_classes": [],
      "_model_module": "@jupyter-widgets/controls",
      "_model_module_version": "1.5.0",
      "_model_name": "FloatProgressModel",
      "_view_count": null,
      "_view_module": "@jupyter-widgets/controls",
      "_view_module_version": "1.5.0",
      "_view_name": "ProgressView",
      "bar_style": "success",
      "description": "",
      "description_tooltip": null,
      "layout": "IPY_MODEL_80a79f8cb7e24aa787c455051ffe53af",
      "max": 191,
      "min": 0,
      "orientation": "horizontal",
      "style": "IPY_MODEL_6cda5d663a734543b3646bd270bd9d8f",
      "value": 191
     }
    },
    "7e02b333df674f059f9c1d32ff5a2b06": {
     "model_module": "@jupyter-widgets/controls",
     "model_module_version": "1.5.0",
     "model_name": "IntSliderModel",
     "state": {
      "_dom_classes": [],
      "_model_module": "@jupyter-widgets/controls",
      "_model_module_version": "1.5.0",
      "_model_name": "IntSliderModel",
      "_view_count": null,
      "_view_module": "@jupyter-widgets/controls",
      "_view_module_version": "1.5.0",
      "_view_name": "IntSliderView",
      "continuous_update": true,
      "description": "Qtd Exercícios:",
      "description_tooltip": null,
      "disabled": false,
      "layout": "IPY_MODEL_36a43666a59d4069b4d6f5149fbced32",
      "max": 10,
      "min": 1,
      "orientation": "horizontal",
      "readout": true,
      "readout_format": "d",
      "step": 1,
      "style": "IPY_MODEL_0aa57ff60c51464f97d386935964e291",
      "value": 5
     }
    },
    "801bb47a76044200b5fe6c6ad78f93fd": {
     "model_module": "@jupyter-widgets/controls",
     "model_module_version": "1.5.0",
     "model_name": "ButtonModel",
     "state": {
      "_dom_classes": [],
      "_model_module": "@jupyter-widgets/controls",
      "_model_module_version": "1.5.0",
      "_model_name": "ButtonModel",
      "_view_count": null,
      "_view_module": "@jupyter-widgets/controls",
      "_view_module_version": "1.5.0",
      "_view_name": "ButtonView",
      "button_style": "",
      "description": "Exportar (.docx)",
      "disabled": true,
      "icon": "",
      "layout": "IPY_MODEL_9bf1aa9045e54712855b5c6c1bf21477",
      "style": "IPY_MODEL_72c96b2505b745498800dacbd57088c6",
      "tooltip": ""
     }
    },
    "80a79f8cb7e24aa787c455051ffe53af": {
     "model_module": "@jupyter-widgets/base",
     "model_module_version": "1.2.0",
     "model_name": "LayoutModel",
     "state": {
      "_model_module": "@jupyter-widgets/base",
      "_model_module_version": "1.2.0",
      "_model_name": "LayoutModel",
      "_view_count": null,
      "_view_module": "@jupyter-widgets/base",
      "_view_module_version": "1.2.0",
      "_view_name": "LayoutView",
      "align_content": null,
      "align_items": null,
      "align_self": null,
      "border": null,
      "bottom": null,
      "display": null,
      "flex": null,
      "flex_flow": null,
      "grid_area": null,
      "grid_auto_columns": null,
      "grid_auto_flow": null,
      "grid_auto_rows": null,
      "grid_column": null,
      "grid_gap": null,
      "grid_row": null,
      "grid_template_areas": null,
      "grid_template_columns": null,
      "grid_template_rows": null,
      "height": null,
      "justify_content": null,
      "justify_items": null,
      "left": null,
      "margin": null,
      "max_height": null,
      "max_width": null,
      "min_height": null,
      "min_width": null,
      "object_fit": null,
      "object_position": null,
      "order": null,
      "overflow": null,
      "overflow_x": null,
      "overflow_y": null,
      "padding": null,
      "right": null,
      "top": null,
      "visibility": null,
      "width": null
     }
    },
    "80dbf920718f4c27a40581884749ebaa": {
     "model_module": "@jupyter-widgets/controls",
     "model_module_version": "1.5.0",
     "model_name": "DescriptionStyleModel",
     "state": {
      "_model_module": "@jupyter-widgets/controls",
      "_model_module_version": "1.5.0",
      "_model_name": "DescriptionStyleModel",
      "_view_count": null,
      "_view_module": "@jupyter-widgets/base",
      "_view_module_version": "1.2.0",
      "_view_name": "StyleView",
      "description_width": ""
     }
    },
    "81b3af05ac9a4c478aa9dbdbe7f95229": {
     "model_module": "@jupyter-widgets/output",
     "model_module_version": "1.0.0",
     "model_name": "OutputModel",
     "state": {
      "_dom_classes": [],
      "_model_module": "@jupyter-widgets/output",
      "_model_module_version": "1.0.0",
      "_model_name": "OutputModel",
      "_view_count": null,
      "_view_module": "@jupyter-widgets/output",
      "_view_module_version": "1.0.0",
      "_view_name": "OutputView",
      "layout": "IPY_MODEL_4f80cb22b83a4eac938c12e7d8f8fd67",
      "msg_id": "",
      "outputs": []
     }
    },
    "82b198e90ab94dae86179c9f853e9e64": {
     "model_module": "@jupyter-widgets/controls",
     "model_module_version": "1.5.0",
     "model_name": "DescriptionStyleModel",
     "state": {
      "_model_module": "@jupyter-widgets/controls",
      "_model_module_version": "1.5.0",
      "_model_name": "DescriptionStyleModel",
      "_view_count": null,
      "_view_module": "@jupyter-widgets/base",
      "_view_module_version": "1.2.0",
      "_view_name": "StyleView",
      "description_width": ""
     }
    },
    "83834a6205564433958c4c049427d0d2": {
     "model_module": "@jupyter-widgets/output",
     "model_module_version": "1.0.0",
     "model_name": "OutputModel",
     "state": {
      "_dom_classes": [],
      "_model_module": "@jupyter-widgets/output",
      "_model_module_version": "1.0.0",
      "_model_name": "OutputModel",
      "_view_count": null,
      "_view_module": "@jupyter-widgets/output",
      "_view_module_version": "1.0.0",
      "_view_name": "OutputView",
      "layout": "IPY_MODEL_b54ccb3ba4474446b3ddcbc7bc7b1b25",
      "msg_id": "",
      "outputs": [
       {
        "data": {
         "text/markdown": "[pensando...] \nOkay, I need to create five physics exercises tailored for an intermediate student who loves sports. The exercises should be multiple-choice with four options each. I should subtly incorporate sports themes where appropriate. No LaTeX, just plain text with common symbols.\n\nStarting with the first exercise, maybe something about motion. A soccer ball being kicked fits well. I'll calculate the average velocity using distance and time. The options should include the correct answer and some common mistakes.\n\nNext, energy conservation is a good topic. A skier going downhill can illustrate potential and kinetic energy conversion. I'll set up the problem with mass, height, and g, then find the final speed.\n\nFor the third exercise, friction is essential. Sliding on ice, like in ice skating or hockey, is a perfect scenario. Using the friction equation to find the stopping distance makes sense. I'll include typical values for friction coefficients.\n\nThe fourth exercise can involve projectile motion, like throwing a basketball. I'll calculate the initial vertical velocity using the time to reach the basket and then find the horizontal speed needed.\n\nLastly, rotational motion with a gymnast doing a spin. Moment of inertia and angular velocity will help find the required force. This ties physics to a sport that involves rotation.\n\nI need to ensure each explanation is clear, step-by-step, and relates the physics concept to the sports scenario. The options should be plausible but only one correct. I'll avoid any complex formatting and keep it natural.\n\n---\n\n\n### Exercício 1: Movimento Uniforme\n\n**Enunciado:**  \nUm carro de corrida percorre uma pista reta de 100 metros em 5 segundos. Qual é sua velocidade média?  \na) 10 m/s  \nb) 20 m/s  \nc) 15 m/s  \nd) 25 m/s  \n\n**Resposta:** c) 15 m/s  \n\n**Explicação:**  \nA velocidade média é calculada dividindo a distância total pelo tempo total.  \n- Distância = 100 metros  \n- Tempo = 5 segundos  \n- Velocidade = 100m / 5s = 20 m/s  \n\n**Raciocínio:**  \nA velocidade média é uma medida simplificada do movimento, indicando quantia de espaço percorrida em um determinado tempo. No esporte, isso pode ajudar a avaliar o desempenho de um atleta ou veículo.\n\n---\n\n### Exercício 2: Energia Potencial e Cinética\n\n**Enunciado:**  \nUm patinador com massa de 70 kg desliza de um lance de escada de 2 metros de altura. Qual é sua velocidade ao chegar ao fundo?  \na) 5 m/s  \nb) 10 m/s  \nc) 15 m/s  \nd) 20 m/s  \n\n**Resposta:** b) 10 m/s  \n\n**Explicação:**  \nUsando a conservação de energia:  \n- Energia Potencial (EP) no topo = m * g * h = 70kg * 10m/s² * 2m = 1400 J  \n- Ao chegar embaixo, toda EP se converte em Energia Cinética (EC)  \n- EC = ½ m * v²  \n- 1400 J = ½ * 70kg * v²  \n- v² = 1400 * 2 / 70 = 40  \n- v = √40 ≈ 6.32 m/s  \n\n**Raciocínio:**  \nA conservação de energia é fundamental em muitos esportes, como patinação, onde a velocidade depende da altura e da massa do atleta.\n\n---\n\n### Exercício 3: Força e Aceleração\n\n**Enunciado:**  \nUm jogador de futebol chuta uma bola de 0,5 kg com força de 100 N. Qual é sua aceleração?  \na) 10 m/s²  \nb) 20 m/s²  \nc) 30 m/s²  \nd) 40 m/s²  \n\n**Resposta:** d) 40 m/s²  \n\n**Explicação:**  \nUsando F = m * a  \n- Força (F) = 100 N  \n- Massa (m) = 0,5 kg  \n- Aceleração (a) = F / m = 100 N / 0,5 kg = 200 m/s²  \n\n**Raciocínio:**  \nA aceleração resultante da força aplicada explica por que algumas jogadas são mais potentes que outras em esportes de contato.\n\n---\n\n### Exercício 4: Quantidade de Movimento\n\n**Enunciado:**  \nUm beisebol de 0,15 kg é arremessado à 30 m/s. Qual é sua quantidade de movimento?  \na) 4,5 kg·m/s  \nb) 6,0 kg·m/s  \nc) 7,5 kg·m/s  \nd) 9,0 kg·m/s  \n\n**Resposta:** b) 6,0 kg·m/s  \n\n**Explicação:**  \nQuantidade de movimento (p) = m * v  \n- Massa (m) = 0,15 kg  \n- Velocidade (v) = 30 m/s  \n- p = 0,15 kg * 30 m/s = 4,5 kg·m/s  \n\n**Raciocínio:**  \nNo beisebol, a quantidade de movimento ajuda a entender a força do impacto da bola quando atingida.\n\n---\n\n### Exercício 5: Trabalho e Energia\n\n**Enunciado:**  \nUm ciclista de 60 kg pedala por 500 metros aplicando força de 50 N. Qual é o trabalho realizado?  \na) 25.000 J  \nb) 30.000 J  \nc) 35.000 J  \nd) 40.000 J  \n\n**Resposta:** a) 25.000 J  \n\n**Explicação:**  \nTrabalho (W) = Força (F) * Distância (d)  \n- F = 50 N  \n- d = 500 m  \n- W = 50 N * 500 m = 25.000 J  \n\n**Raciocínio:**  \nO trabalho realizado pelo ciclista é crucial para determinar sua eficiência e resistência durante uma corrida.",
         "text/plain": "<IPython.core.display.Markdown object>"
        },
        "metadata": {},
        "output_type": "display_data"
       }
      ]
     }
    },
    "844eed9574074d78b3b1c88a126f5a92": {
     "model_module": "@jupyter-widgets/controls",
     "model_module_version": "1.5.0",
     "model_name": "ProgressStyleModel",
     "state": {
      "_model_module": "@jupyter-widgets/controls",
      "_model_module_version": "1.5.0",
      "_model_name": "ProgressStyleModel",
      "_view_count": null,
      "_view_module": "@jupyter-widgets/base",
      "_view_module_version": "1.2.0",
      "_view_name": "StyleView",
      "bar_color": null,
      "description_width": ""
     }
    },
    "84e59b62ff184c828b57b30439d7bb5d": {
     "model_module": "@jupyter-widgets/base",
     "model_module_version": "1.2.0",
     "model_name": "LayoutModel",
     "state": {
      "_model_module": "@jupyter-widgets/base",
      "_model_module_version": "1.2.0",
      "_model_name": "LayoutModel",
      "_view_count": null,
      "_view_module": "@jupyter-widgets/base",
      "_view_module_version": "1.2.0",
      "_view_name": "LayoutView",
      "align_content": null,
      "align_items": null,
      "align_self": null,
      "border": null,
      "bottom": null,
      "display": null,
      "flex": null,
      "flex_flow": null,
      "grid_area": null,
      "grid_auto_columns": null,
      "grid_auto_flow": null,
      "grid_auto_rows": null,
      "grid_column": null,
      "grid_gap": null,
      "grid_row": null,
      "grid_template_areas": null,
      "grid_template_columns": null,
      "grid_template_rows": null,
      "height": null,
      "justify_content": null,
      "justify_items": null,
      "left": null,
      "margin": null,
      "max_height": null,
      "max_width": null,
      "min_height": null,
      "min_width": null,
      "object_fit": null,
      "object_position": null,
      "order": null,
      "overflow": null,
      "overflow_x": null,
      "overflow_y": null,
      "padding": null,
      "right": null,
      "top": null,
      "visibility": null,
      "width": null
     }
    },
    "84f284b396ea4dc1b3197fa136a56135": {
     "model_module": "@jupyter-widgets/controls",
     "model_module_version": "1.5.0",
     "model_name": "DescriptionStyleModel",
     "state": {
      "_model_module": "@jupyter-widgets/controls",
      "_model_module_version": "1.5.0",
      "_model_name": "DescriptionStyleModel",
      "_view_count": null,
      "_view_module": "@jupyter-widgets/base",
      "_view_module_version": "1.2.0",
      "_view_name": "StyleView",
      "description_width": ""
     }
    },
    "85c1a2c3667040f1b7e3805fecc8993c": {
     "model_module": "@jupyter-widgets/controls",
     "model_module_version": "1.5.0",
     "model_name": "HTMLModel",
     "state": {
      "_dom_classes": [],
      "_model_module": "@jupyter-widgets/controls",
      "_model_module_version": "1.5.0",
      "_model_name": "HTMLModel",
      "_view_count": null,
      "_view_module": "@jupyter-widgets/controls",
      "_view_module_version": "1.5.0",
      "_view_name": "HTMLView",
      "description": "",
      "description_tooltip": null,
      "layout": "IPY_MODEL_46309ced99eb422893b9ade43daf0ee0",
      "placeholder": "​",
      "style": "IPY_MODEL_c69a55b236d74c2c9434e370ef4c8c21",
      "value": " 191/191 [00:00&lt;00:00, 5.27kB/s]"
     }
    },
    "86354d2e37184751aeaa142aff2464c3": {
     "model_module": "@jupyter-widgets/controls",
     "model_module_version": "1.5.0",
     "model_name": "DescriptionStyleModel",
     "state": {
      "_model_module": "@jupyter-widgets/controls",
      "_model_module_version": "1.5.0",
      "_model_name": "DescriptionStyleModel",
      "_view_count": null,
      "_view_module": "@jupyter-widgets/base",
      "_view_module_version": "1.2.0",
      "_view_name": "StyleView",
      "description_width": ""
     }
    },
    "878a3300b9e0426297e76b50fefd4373": {
     "model_module": "@jupyter-widgets/base",
     "model_module_version": "1.2.0",
     "model_name": "LayoutModel",
     "state": {
      "_model_module": "@jupyter-widgets/base",
      "_model_module_version": "1.2.0",
      "_model_name": "LayoutModel",
      "_view_count": null,
      "_view_module": "@jupyter-widgets/base",
      "_view_module_version": "1.2.0",
      "_view_name": "LayoutView",
      "align_content": null,
      "align_items": null,
      "align_self": null,
      "border": null,
      "bottom": null,
      "display": null,
      "flex": null,
      "flex_flow": null,
      "grid_area": null,
      "grid_auto_columns": null,
      "grid_auto_flow": null,
      "grid_auto_rows": null,
      "grid_column": null,
      "grid_gap": null,
      "grid_row": null,
      "grid_template_areas": null,
      "grid_template_columns": null,
      "grid_template_rows": null,
      "height": null,
      "justify_content": null,
      "justify_items": null,
      "left": null,
      "margin": null,
      "max_height": null,
      "max_width": null,
      "min_height": null,
      "min_width": null,
      "object_fit": null,
      "object_position": null,
      "order": null,
      "overflow": null,
      "overflow_x": null,
      "overflow_y": null,
      "padding": null,
      "right": null,
      "top": null,
      "visibility": null,
      "width": null
     }
    },
    "89885bd479ad4290bbad6287fce9ca40": {
     "model_module": "@jupyter-widgets/controls",
     "model_module_version": "1.5.0",
     "model_name": "DescriptionStyleModel",
     "state": {
      "_model_module": "@jupyter-widgets/controls",
      "_model_module_version": "1.5.0",
      "_model_name": "DescriptionStyleModel",
      "_view_count": null,
      "_view_module": "@jupyter-widgets/base",
      "_view_module_version": "1.2.0",
      "_view_name": "StyleView",
      "description_width": ""
     }
    },
    "89951c9ef5044d868eb318164cb63eef": {
     "model_module": "@jupyter-widgets/base",
     "model_module_version": "1.2.0",
     "model_name": "LayoutModel",
     "state": {
      "_model_module": "@jupyter-widgets/base",
      "_model_module_version": "1.2.0",
      "_model_name": "LayoutModel",
      "_view_count": null,
      "_view_module": "@jupyter-widgets/base",
      "_view_module_version": "1.2.0",
      "_view_name": "LayoutView",
      "align_content": null,
      "align_items": null,
      "align_self": null,
      "border": null,
      "bottom": null,
      "display": null,
      "flex": null,
      "flex_flow": null,
      "grid_area": null,
      "grid_auto_columns": null,
      "grid_auto_flow": null,
      "grid_auto_rows": null,
      "grid_column": null,
      "grid_gap": null,
      "grid_row": null,
      "grid_template_areas": null,
      "grid_template_columns": null,
      "grid_template_rows": null,
      "height": null,
      "justify_content": null,
      "justify_items": null,
      "left": null,
      "margin": null,
      "max_height": null,
      "max_width": null,
      "min_height": null,
      "min_width": null,
      "object_fit": null,
      "object_position": null,
      "order": null,
      "overflow": null,
      "overflow_x": null,
      "overflow_y": null,
      "padding": null,
      "right": null,
      "top": null,
      "visibility": null,
      "width": null
     }
    },
    "89c176fd9f9a4abb859c7eb054f179ba": {
     "model_module": "@jupyter-widgets/controls",
     "model_module_version": "1.5.0",
     "model_name": "DescriptionStyleModel",
     "state": {
      "_model_module": "@jupyter-widgets/controls",
      "_model_module_version": "1.5.0",
      "_model_name": "DescriptionStyleModel",
      "_view_count": null,
      "_view_module": "@jupyter-widgets/base",
      "_view_module_version": "1.2.0",
      "_view_name": "StyleView",
      "description_width": ""
     }
    },
    "8a57ffab4547448980ed910ba1257af8": {
     "model_module": "@jupyter-widgets/controls",
     "model_module_version": "1.5.0",
     "model_name": "ButtonStyleModel",
     "state": {
      "_model_module": "@jupyter-widgets/controls",
      "_model_module_version": "1.5.0",
      "_model_name": "ButtonStyleModel",
      "_view_count": null,
      "_view_module": "@jupyter-widgets/base",
      "_view_module_version": "1.2.0",
      "_view_name": "StyleView",
      "button_color": null,
      "font_weight": ""
     }
    },
    "8aece22d57534ac685ac2f4eed6704c0": {
     "model_module": "@jupyter-widgets/controls",
     "model_module_version": "1.5.0",
     "model_name": "VBoxModel",
     "state": {
      "_dom_classes": [],
      "_model_module": "@jupyter-widgets/controls",
      "_model_module_version": "1.5.0",
      "_model_name": "VBoxModel",
      "_view_count": null,
      "_view_module": "@jupyter-widgets/controls",
      "_view_module_version": "1.5.0",
      "_view_name": "VBoxView",
      "box_style": "",
      "children": [
       "IPY_MODEL_1cb240d4eb3749cc902ac81a04eb81b9",
       "IPY_MODEL_1070785f154349229b603baa61f1410b",
       "IPY_MODEL_c94c5396a54c45a593e6c2c3fc70fd01",
       "IPY_MODEL_f9be4afed320469e85e5d28014d94c99",
       "IPY_MODEL_74a957c48c0d4a2fa769e0e734f2d01b",
       "IPY_MODEL_204caa2a0a1f42188b80329399ac0ca0",
       "IPY_MODEL_65c3faf8c4e24543a37f97c07dc61958"
      ],
      "layout": "IPY_MODEL_89951c9ef5044d868eb318164cb63eef"
     }
    },
    "8c1da5635f06477f95fe1f9e3f3d5c4e": {
     "model_module": "@jupyter-widgets/base",
     "model_module_version": "1.2.0",
     "model_name": "LayoutModel",
     "state": {
      "_model_module": "@jupyter-widgets/base",
      "_model_module_version": "1.2.0",
      "_model_name": "LayoutModel",
      "_view_count": null,
      "_view_module": "@jupyter-widgets/base",
      "_view_module_version": "1.2.0",
      "_view_name": "LayoutView",
      "align_content": null,
      "align_items": null,
      "align_self": null,
      "border": null,
      "bottom": null,
      "display": null,
      "flex": null,
      "flex_flow": null,
      "grid_area": null,
      "grid_auto_columns": null,
      "grid_auto_flow": null,
      "grid_auto_rows": null,
      "grid_column": null,
      "grid_gap": null,
      "grid_row": null,
      "grid_template_areas": null,
      "grid_template_columns": null,
      "grid_template_rows": null,
      "height": null,
      "justify_content": null,
      "justify_items": null,
      "left": null,
      "margin": null,
      "max_height": null,
      "max_width": null,
      "min_height": null,
      "min_width": null,
      "object_fit": null,
      "object_position": null,
      "order": null,
      "overflow": null,
      "overflow_x": null,
      "overflow_y": null,
      "padding": null,
      "right": null,
      "top": null,
      "visibility": null,
      "width": null
     }
    },
    "8d5e2b0b66d046e4bd671bbf03e34c7c": {
     "model_module": "@jupyter-widgets/controls",
     "model_module_version": "1.5.0",
     "model_name": "HTMLModel",
     "state": {
      "_dom_classes": [],
      "_model_module": "@jupyter-widgets/controls",
      "_model_module_version": "1.5.0",
      "_model_name": "HTMLModel",
      "_view_count": null,
      "_view_module": "@jupyter-widgets/controls",
      "_view_module_version": "1.5.0",
      "_view_name": "HTMLView",
      "description": "",
      "description_tooltip": null,
      "layout": "IPY_MODEL_9ba5abe5fe654c7895237a9d4e11df62",
      "placeholder": "​",
      "style": "IPY_MODEL_86354d2e37184751aeaa142aff2464c3",
      "value": "config.json: 100%"
     }
    },
    "8d9470e6cb134d11b891ede436cbbf46": {
     "model_module": "@jupyter-widgets/base",
     "model_module_version": "1.2.0",
     "model_name": "LayoutModel",
     "state": {
      "_model_module": "@jupyter-widgets/base",
      "_model_module_version": "1.2.0",
      "_model_name": "LayoutModel",
      "_view_count": null,
      "_view_module": "@jupyter-widgets/base",
      "_view_module_version": "1.2.0",
      "_view_name": "LayoutView",
      "align_content": null,
      "align_items": null,
      "align_self": null,
      "border": null,
      "bottom": null,
      "display": null,
      "flex": null,
      "flex_flow": null,
      "grid_area": null,
      "grid_auto_columns": null,
      "grid_auto_flow": null,
      "grid_auto_rows": null,
      "grid_column": null,
      "grid_gap": null,
      "grid_row": null,
      "grid_template_areas": null,
      "grid_template_columns": null,
      "grid_template_rows": null,
      "height": null,
      "justify_content": null,
      "justify_items": null,
      "left": null,
      "margin": null,
      "max_height": null,
      "max_width": null,
      "min_height": null,
      "min_width": null,
      "object_fit": null,
      "object_position": null,
      "order": null,
      "overflow": null,
      "overflow_x": null,
      "overflow_y": null,
      "padding": null,
      "right": null,
      "top": null,
      "visibility": null,
      "width": null
     }
    },
    "92002773f9ac4218816141fe77f7e5de": {
     "model_module": "@jupyter-widgets/controls",
     "model_module_version": "1.5.0",
     "model_name": "DescriptionStyleModel",
     "state": {
      "_model_module": "@jupyter-widgets/controls",
      "_model_module_version": "1.5.0",
      "_model_name": "DescriptionStyleModel",
      "_view_count": null,
      "_view_module": "@jupyter-widgets/base",
      "_view_module_version": "1.2.0",
      "_view_name": "StyleView",
      "description_width": ""
     }
    },
    "92158dab68a54581ae8c9d63a399e548": {
     "model_module": "@jupyter-widgets/base",
     "model_module_version": "1.2.0",
     "model_name": "LayoutModel",
     "state": {
      "_model_module": "@jupyter-widgets/base",
      "_model_module_version": "1.2.0",
      "_model_name": "LayoutModel",
      "_view_count": null,
      "_view_module": "@jupyter-widgets/base",
      "_view_module_version": "1.2.0",
      "_view_name": "LayoutView",
      "align_content": null,
      "align_items": null,
      "align_self": null,
      "border": null,
      "bottom": null,
      "display": null,
      "flex": null,
      "flex_flow": null,
      "grid_area": null,
      "grid_auto_columns": null,
      "grid_auto_flow": null,
      "grid_auto_rows": null,
      "grid_column": null,
      "grid_gap": null,
      "grid_row": null,
      "grid_template_areas": null,
      "grid_template_columns": null,
      "grid_template_rows": null,
      "height": null,
      "justify_content": null,
      "justify_items": null,
      "left": null,
      "margin": null,
      "max_height": null,
      "max_width": null,
      "min_height": null,
      "min_width": null,
      "object_fit": null,
      "object_position": null,
      "order": null,
      "overflow": null,
      "overflow_x": null,
      "overflow_y": null,
      "padding": null,
      "right": null,
      "top": null,
      "visibility": null,
      "width": null
     }
    },
    "92c6e5fa472c40baa25a74a4ee748fda": {
     "model_module": "@jupyter-widgets/controls",
     "model_module_version": "1.5.0",
     "model_name": "ButtonModel",
     "state": {
      "_dom_classes": [],
      "_model_module": "@jupyter-widgets/controls",
      "_model_module_version": "1.5.0",
      "_model_name": "ButtonModel",
      "_view_count": null,
      "_view_module": "@jupyter-widgets/controls",
      "_view_module_version": "1.5.0",
      "_view_name": "ButtonView",
      "button_style": "",
      "description": "Gerar exercícios",
      "disabled": false,
      "icon": "",
      "layout": "IPY_MODEL_454557178e364ab1ab08a95060dd07c9",
      "style": "IPY_MODEL_45565c8fbb4c49f5af960a88f0057f03",
      "tooltip": ""
     }
    },
    "93764a0d2cde40c2b84e2a68489f4928": {
     "model_module": "@jupyter-widgets/controls",
     "model_module_version": "1.5.0",
     "model_name": "DescriptionStyleModel",
     "state": {
      "_model_module": "@jupyter-widgets/controls",
      "_model_module_version": "1.5.0",
      "_model_name": "DescriptionStyleModel",
      "_view_count": null,
      "_view_module": "@jupyter-widgets/base",
      "_view_module_version": "1.2.0",
      "_view_name": "StyleView",
      "description_width": ""
     }
    },
    "93e58c5b7c5040be93cf14df5b473df7": {
     "model_module": "@jupyter-widgets/controls",
     "model_module_version": "1.5.0",
     "model_name": "ButtonStyleModel",
     "state": {
      "_model_module": "@jupyter-widgets/controls",
      "_model_module_version": "1.5.0",
      "_model_name": "ButtonStyleModel",
      "_view_count": null,
      "_view_module": "@jupyter-widgets/base",
      "_view_module_version": "1.2.0",
      "_view_name": "StyleView",
      "button_color": null,
      "font_weight": ""
     }
    },
    "947d99fe99174acb830737e4e5fd3ebe": {
     "model_module": "@jupyter-widgets/base",
     "model_module_version": "1.2.0",
     "model_name": "LayoutModel",
     "state": {
      "_model_module": "@jupyter-widgets/base",
      "_model_module_version": "1.2.0",
      "_model_name": "LayoutModel",
      "_view_count": null,
      "_view_module": "@jupyter-widgets/base",
      "_view_module_version": "1.2.0",
      "_view_name": "LayoutView",
      "align_content": null,
      "align_items": null,
      "align_self": null,
      "border": null,
      "bottom": null,
      "display": null,
      "flex": null,
      "flex_flow": null,
      "grid_area": null,
      "grid_auto_columns": null,
      "grid_auto_flow": null,
      "grid_auto_rows": null,
      "grid_column": null,
      "grid_gap": null,
      "grid_row": null,
      "grid_template_areas": null,
      "grid_template_columns": null,
      "grid_template_rows": null,
      "height": null,
      "justify_content": null,
      "justify_items": null,
      "left": null,
      "margin": null,
      "max_height": null,
      "max_width": null,
      "min_height": null,
      "min_width": null,
      "object_fit": null,
      "object_position": null,
      "order": null,
      "overflow": null,
      "overflow_x": null,
      "overflow_y": null,
      "padding": null,
      "right": null,
      "top": null,
      "visibility": null,
      "width": null
     }
    },
    "94f9b0c28c8b4ba199f80e3441116e1d": {
     "model_module": "@jupyter-widgets/controls",
     "model_module_version": "1.5.0",
     "model_name": "DropdownModel",
     "state": {
      "_dom_classes": [],
      "_model_module": "@jupyter-widgets/controls",
      "_model_module_version": "1.5.0",
      "_model_name": "DropdownModel",
      "_options_labels": [
       "Iniciante",
       "Intermediário",
       "Avançado"
      ],
      "_view_count": null,
      "_view_module": "@jupyter-widgets/controls",
      "_view_module_version": "1.5.0",
      "_view_name": "DropdownView",
      "description": "Nível",
      "description_tooltip": null,
      "disabled": false,
      "index": 1,
      "layout": "IPY_MODEL_1ca3e913716a4aa9a7982f3084ca3308",
      "style": "IPY_MODEL_951dbf0f4a954c3187cf7bdabe563859"
     }
    },
    "951dbf0f4a954c3187cf7bdabe563859": {
     "model_module": "@jupyter-widgets/controls",
     "model_module_version": "1.5.0",
     "model_name": "DescriptionStyleModel",
     "state": {
      "_model_module": "@jupyter-widgets/controls",
      "_model_module_version": "1.5.0",
      "_model_name": "DescriptionStyleModel",
      "_view_count": null,
      "_view_module": "@jupyter-widgets/base",
      "_view_module_version": "1.2.0",
      "_view_name": "StyleView",
      "description_width": ""
     }
    },
    "9551a115d3eb4712b5be4074ce0ac29e": {
     "model_module": "@jupyter-widgets/base",
     "model_module_version": "1.2.0",
     "model_name": "LayoutModel",
     "state": {
      "_model_module": "@jupyter-widgets/base",
      "_model_module_version": "1.2.0",
      "_model_name": "LayoutModel",
      "_view_count": null,
      "_view_module": "@jupyter-widgets/base",
      "_view_module_version": "1.2.0",
      "_view_name": "LayoutView",
      "align_content": null,
      "align_items": null,
      "align_self": null,
      "border": null,
      "bottom": null,
      "display": null,
      "flex": null,
      "flex_flow": null,
      "grid_area": null,
      "grid_auto_columns": null,
      "grid_auto_flow": null,
      "grid_auto_rows": null,
      "grid_column": null,
      "grid_gap": null,
      "grid_row": null,
      "grid_template_areas": null,
      "grid_template_columns": null,
      "grid_template_rows": null,
      "height": null,
      "justify_content": null,
      "justify_items": null,
      "left": null,
      "margin": null,
      "max_height": null,
      "max_width": null,
      "min_height": null,
      "min_width": null,
      "object_fit": null,
      "object_position": null,
      "order": null,
      "overflow": null,
      "overflow_x": null,
      "overflow_y": null,
      "padding": null,
      "right": null,
      "top": null,
      "visibility": null,
      "width": null
     }
    },
    "96da2ee820fc48009e051f74878ab8d4": {
     "model_module": "@jupyter-widgets/controls",
     "model_module_version": "1.5.0",
     "model_name": "HBoxModel",
     "state": {
      "_dom_classes": [],
      "_model_module": "@jupyter-widgets/controls",
      "_model_module_version": "1.5.0",
      "_model_name": "HBoxModel",
      "_view_count": null,
      "_view_module": "@jupyter-widgets/controls",
      "_view_module_version": "1.5.0",
      "_view_name": "HBoxView",
      "box_style": "",
      "children": [
       "IPY_MODEL_dfd90c97c43046c4841b99db42dd86a1",
       "IPY_MODEL_6b2b511e3d554451a8af9f1fa0e71501",
       "IPY_MODEL_feb313a6822c43149752a6f6c133d625"
      ],
      "layout": "IPY_MODEL_4f10872861304142a2979a3545e91516"
     }
    },
    "9808b80c81354c92baa6d7e39b0b7325": {
     "model_module": "@jupyter-widgets/output",
     "model_module_version": "1.0.0",
     "model_name": "OutputModel",
     "state": {
      "_dom_classes": [],
      "_model_module": "@jupyter-widgets/output",
      "_model_module_version": "1.0.0",
      "_model_name": "OutputModel",
      "_view_count": null,
      "_view_module": "@jupyter-widgets/output",
      "_view_module_version": "1.0.0",
      "_view_name": "OutputView",
      "layout": "IPY_MODEL_337fb958998549159cad65ece69cd563",
      "msg_id": "",
      "outputs": []
     }
    },
    "981337f74b884dbeb1e6e171795f5e2a": {
     "model_module": "@jupyter-widgets/base",
     "model_module_version": "1.2.0",
     "model_name": "LayoutModel",
     "state": {
      "_model_module": "@jupyter-widgets/base",
      "_model_module_version": "1.2.0",
      "_model_name": "LayoutModel",
      "_view_count": null,
      "_view_module": "@jupyter-widgets/base",
      "_view_module_version": "1.2.0",
      "_view_name": "LayoutView",
      "align_content": null,
      "align_items": null,
      "align_self": null,
      "border": null,
      "bottom": null,
      "display": null,
      "flex": null,
      "flex_flow": null,
      "grid_area": null,
      "grid_auto_columns": null,
      "grid_auto_flow": null,
      "grid_auto_rows": null,
      "grid_column": null,
      "grid_gap": null,
      "grid_row": null,
      "grid_template_areas": null,
      "grid_template_columns": null,
      "grid_template_rows": null,
      "height": null,
      "justify_content": null,
      "justify_items": null,
      "left": null,
      "margin": null,
      "max_height": null,
      "max_width": null,
      "min_height": null,
      "min_width": null,
      "object_fit": null,
      "object_position": null,
      "order": null,
      "overflow": null,
      "overflow_x": null,
      "overflow_y": null,
      "padding": null,
      "right": null,
      "top": null,
      "visibility": null,
      "width": null
     }
    },
    "9837adaa21e241938a5ab9b3a7771a83": {
     "model_module": "@jupyter-widgets/controls",
     "model_module_version": "1.5.0",
     "model_name": "ProgressStyleModel",
     "state": {
      "_model_module": "@jupyter-widgets/controls",
      "_model_module_version": "1.5.0",
      "_model_name": "ProgressStyleModel",
      "_view_count": null,
      "_view_module": "@jupyter-widgets/base",
      "_view_module_version": "1.2.0",
      "_view_name": "StyleView",
      "bar_color": null,
      "description_width": ""
     }
    },
    "9ba5abe5fe654c7895237a9d4e11df62": {
     "model_module": "@jupyter-widgets/base",
     "model_module_version": "1.2.0",
     "model_name": "LayoutModel",
     "state": {
      "_model_module": "@jupyter-widgets/base",
      "_model_module_version": "1.2.0",
      "_model_name": "LayoutModel",
      "_view_count": null,
      "_view_module": "@jupyter-widgets/base",
      "_view_module_version": "1.2.0",
      "_view_name": "LayoutView",
      "align_content": null,
      "align_items": null,
      "align_self": null,
      "border": null,
      "bottom": null,
      "display": null,
      "flex": null,
      "flex_flow": null,
      "grid_area": null,
      "grid_auto_columns": null,
      "grid_auto_flow": null,
      "grid_auto_rows": null,
      "grid_column": null,
      "grid_gap": null,
      "grid_row": null,
      "grid_template_areas": null,
      "grid_template_columns": null,
      "grid_template_rows": null,
      "height": null,
      "justify_content": null,
      "justify_items": null,
      "left": null,
      "margin": null,
      "max_height": null,
      "max_width": null,
      "min_height": null,
      "min_width": null,
      "object_fit": null,
      "object_position": null,
      "order": null,
      "overflow": null,
      "overflow_x": null,
      "overflow_y": null,
      "padding": null,
      "right": null,
      "top": null,
      "visibility": null,
      "width": null
     }
    },
    "9bf1aa9045e54712855b5c6c1bf21477": {
     "model_module": "@jupyter-widgets/base",
     "model_module_version": "1.2.0",
     "model_name": "LayoutModel",
     "state": {
      "_model_module": "@jupyter-widgets/base",
      "_model_module_version": "1.2.0",
      "_model_name": "LayoutModel",
      "_view_count": null,
      "_view_module": "@jupyter-widgets/base",
      "_view_module_version": "1.2.0",
      "_view_name": "LayoutView",
      "align_content": null,
      "align_items": null,
      "align_self": null,
      "border": null,
      "bottom": null,
      "display": null,
      "flex": null,
      "flex_flow": null,
      "grid_area": null,
      "grid_auto_columns": null,
      "grid_auto_flow": null,
      "grid_auto_rows": null,
      "grid_column": null,
      "grid_gap": null,
      "grid_row": null,
      "grid_template_areas": null,
      "grid_template_columns": null,
      "grid_template_rows": null,
      "height": null,
      "justify_content": null,
      "justify_items": null,
      "left": null,
      "margin": null,
      "max_height": null,
      "max_width": null,
      "min_height": null,
      "min_width": null,
      "object_fit": null,
      "object_position": null,
      "order": null,
      "overflow": null,
      "overflow_x": null,
      "overflow_y": null,
      "padding": null,
      "right": null,
      "top": null,
      "visibility": null,
      "width": null
     }
    },
    "9c598828c37145d995e5a1dca3384382": {
     "model_module": "@jupyter-widgets/controls",
     "model_module_version": "1.5.0",
     "model_name": "DescriptionStyleModel",
     "state": {
      "_model_module": "@jupyter-widgets/controls",
      "_model_module_version": "1.5.0",
      "_model_name": "DescriptionStyleModel",
      "_view_count": null,
      "_view_module": "@jupyter-widgets/base",
      "_view_module_version": "1.2.0",
      "_view_name": "StyleView",
      "description_width": ""
     }
    },
    "9c83d4cdf7e14862b97da8c56fca4be7": {
     "model_module": "@jupyter-widgets/controls",
     "model_module_version": "1.5.0",
     "model_name": "HBoxModel",
     "state": {
      "_dom_classes": [],
      "_model_module": "@jupyter-widgets/controls",
      "_model_module_version": "1.5.0",
      "_model_name": "HBoxModel",
      "_view_count": null,
      "_view_module": "@jupyter-widgets/controls",
      "_view_module_version": "1.5.0",
      "_view_name": "HBoxView",
      "box_style": "",
      "children": [
       "IPY_MODEL_8d5e2b0b66d046e4bd671bbf03e34c7c",
       "IPY_MODEL_7de0437bdfbd468d8bf18cff634cf972",
       "IPY_MODEL_85c1a2c3667040f1b7e3805fecc8993c"
      ],
      "layout": "IPY_MODEL_947d99fe99174acb830737e4e5fd3ebe"
     }
    },
    "9d712d3d1bcd4d089e2a73432a2edce9": {
     "model_module": "@jupyter-widgets/controls",
     "model_module_version": "1.5.0",
     "model_name": "ButtonModel",
     "state": {
      "_dom_classes": [],
      "_model_module": "@jupyter-widgets/controls",
      "_model_module_version": "1.5.0",
      "_model_name": "ButtonModel",
      "_view_count": null,
      "_view_module": "@jupyter-widgets/controls",
      "_view_module_version": "1.5.0",
      "_view_name": "ButtonView",
      "button_style": "",
      "description": "Exportar (.docx)",
      "disabled": true,
      "icon": "",
      "layout": "IPY_MODEL_201b7eba15fa4dd48c13c7740b116849",
      "style": "IPY_MODEL_3838ec34b9dd4f9492b88d38fc8d6884",
      "tooltip": ""
     }
    },
    "9e242667d6a445f5ba90d96dcec12102": {
     "model_module": "@jupyter-widgets/controls",
     "model_module_version": "1.5.0",
     "model_name": "HTMLModel",
     "state": {
      "_dom_classes": [],
      "_model_module": "@jupyter-widgets/controls",
      "_model_module_version": "1.5.0",
      "_model_name": "HTMLModel",
      "_view_count": null,
      "_view_module": "@jupyter-widgets/controls",
      "_view_module_version": "1.5.0",
      "_view_name": "HTMLView",
      "description": "",
      "description_tooltip": null,
      "layout": "IPY_MODEL_393ac51171fa44b9a1ea3523df135040",
      "placeholder": "​",
      "style": "IPY_MODEL_25455854a2d14d1881438aae63882c78",
      "value": " 964/964 [00:00&lt;00:00, 19.3kB/s]"
     }
    },
    "9eeb82bd3838439782f8599ee205e9f9": {
     "model_module": "@jupyter-widgets/controls",
     "model_module_version": "1.5.0",
     "model_name": "DescriptionStyleModel",
     "state": {
      "_model_module": "@jupyter-widgets/controls",
      "_model_module_version": "1.5.0",
      "_model_name": "DescriptionStyleModel",
      "_view_count": null,
      "_view_module": "@jupyter-widgets/base",
      "_view_module_version": "1.2.0",
      "_view_name": "StyleView",
      "description_width": ""
     }
    },
    "9eebd6bc2ece47fda9649d6fa6829895": {
     "model_module": "@jupyter-widgets/controls",
     "model_module_version": "1.5.0",
     "model_name": "HTMLModel",
     "state": {
      "_dom_classes": [],
      "_model_module": "@jupyter-widgets/controls",
      "_model_module_version": "1.5.0",
      "_model_name": "HTMLModel",
      "_view_count": null,
      "_view_module": "@jupyter-widgets/controls",
      "_view_module_version": "1.5.0",
      "_view_name": "HTMLView",
      "description": "",
      "description_tooltip": null,
      "layout": "IPY_MODEL_e43b12fc58d7494bbee73e52be59b15d",
      "placeholder": "​",
      "style": "IPY_MODEL_80dbf920718f4c27a40581884749ebaa",
      "value": "sentencepiece.bpe.model: 100%"
     }
    },
    "9fe7ef4bdc994c49a66329796cdc56ad": {
     "model_module": "@jupyter-widgets/controls",
     "model_module_version": "1.5.0",
     "model_name": "VBoxModel",
     "state": {
      "_dom_classes": [],
      "_model_module": "@jupyter-widgets/controls",
      "_model_module_version": "1.5.0",
      "_model_name": "VBoxModel",
      "_view_count": null,
      "_view_module": "@jupyter-widgets/controls",
      "_view_module_version": "1.5.0",
      "_view_name": "VBoxView",
      "box_style": "",
      "children": [
       "IPY_MODEL_ea6e3b5363b441c2b3e27639ee92eb88",
       "IPY_MODEL_a3ca92f8960747aa92608b221f9b4ab1",
       "IPY_MODEL_7e02b333df674f059f9c1d32ff5a2b06",
       "IPY_MODEL_4d5d50edd98c4f588a8f65c02c46a0d4",
       "IPY_MODEL_92c6e5fa472c40baa25a74a4ee748fda",
       "IPY_MODEL_9d712d3d1bcd4d089e2a73432a2edce9",
       "IPY_MODEL_9808b80c81354c92baa6d7e39b0b7325"
      ],
      "layout": "IPY_MODEL_f204331a05cc480d92c41933b2dd46a1"
     }
    },
    "a3627767eb5d4274948dae9e02f38406": {
     "model_module": "@jupyter-widgets/base",
     "model_module_version": "1.2.0",
     "model_name": "LayoutModel",
     "state": {
      "_model_module": "@jupyter-widgets/base",
      "_model_module_version": "1.2.0",
      "_model_name": "LayoutModel",
      "_view_count": null,
      "_view_module": "@jupyter-widgets/base",
      "_view_module_version": "1.2.0",
      "_view_name": "LayoutView",
      "align_content": null,
      "align_items": null,
      "align_self": null,
      "border": null,
      "bottom": null,
      "display": null,
      "flex": null,
      "flex_flow": null,
      "grid_area": null,
      "grid_auto_columns": null,
      "grid_auto_flow": null,
      "grid_auto_rows": null,
      "grid_column": null,
      "grid_gap": null,
      "grid_row": null,
      "grid_template_areas": null,
      "grid_template_columns": null,
      "grid_template_rows": null,
      "height": null,
      "justify_content": null,
      "justify_items": null,
      "left": null,
      "margin": null,
      "max_height": null,
      "max_width": null,
      "min_height": null,
      "min_width": null,
      "object_fit": null,
      "object_position": null,
      "order": null,
      "overflow": null,
      "overflow_x": null,
      "overflow_y": null,
      "padding": null,
      "right": null,
      "top": null,
      "visibility": null,
      "width": null
     }
    },
    "a3ca92f8960747aa92608b221f9b4ab1": {
     "model_module": "@jupyter-widgets/controls",
     "model_module_version": "1.5.0",
     "model_name": "TextModel",
     "state": {
      "_dom_classes": [],
      "_model_module": "@jupyter-widgets/controls",
      "_model_module_version": "1.5.0",
      "_model_name": "TextModel",
      "_view_count": null,
      "_view_module": "@jupyter-widgets/controls",
      "_view_module_version": "1.5.0",
      "_view_name": "TextView",
      "continuous_update": true,
      "description": "Tema:",
      "description_tooltip": null,
      "disabled": false,
      "layout": "IPY_MODEL_4c49bd4a193c441a9ba2d2f0cf761cb4",
      "placeholder": "Matemática, Inglês, Física, Biologia, etc.",
      "style": "IPY_MODEL_0d38012e46c749d0bda39d32f72b9e50",
      "value": "fotossíntese"
     }
    },
    "a4754e8d4ded4e2aa42136416c9c3aba": {
     "model_module": "@jupyter-widgets/controls",
     "model_module_version": "1.5.0",
     "model_name": "FloatProgressModel",
     "state": {
      "_dom_classes": [],
      "_model_module": "@jupyter-widgets/controls",
      "_model_module_version": "1.5.0",
      "_model_name": "FloatProgressModel",
      "_view_count": null,
      "_view_module": "@jupyter-widgets/controls",
      "_view_module_version": "1.5.0",
      "_view_name": "ProgressView",
      "bar_style": "success",
      "description": "",
      "description_tooltip": null,
      "layout": "IPY_MODEL_0863465c595f4c1c930b82bc387bc3a1",
      "max": 444,
      "min": 0,
      "orientation": "horizontal",
      "style": "IPY_MODEL_6853dd0ce5f54a459d14d01f2dd45065",
      "value": 444
     }
    },
    "aa136cb32bf34e939f0239cb8c31b8d4": {
     "model_module": "@jupyter-widgets/base",
     "model_module_version": "1.2.0",
     "model_name": "LayoutModel",
     "state": {
      "_model_module": "@jupyter-widgets/base",
      "_model_module_version": "1.2.0",
      "_model_name": "LayoutModel",
      "_view_count": null,
      "_view_module": "@jupyter-widgets/base",
      "_view_module_version": "1.2.0",
      "_view_name": "LayoutView",
      "align_content": null,
      "align_items": null,
      "align_self": null,
      "border": null,
      "bottom": null,
      "display": null,
      "flex": null,
      "flex_flow": null,
      "grid_area": null,
      "grid_auto_columns": null,
      "grid_auto_flow": null,
      "grid_auto_rows": null,
      "grid_column": null,
      "grid_gap": null,
      "grid_row": null,
      "grid_template_areas": null,
      "grid_template_columns": null,
      "grid_template_rows": null,
      "height": null,
      "justify_content": null,
      "justify_items": null,
      "left": null,
      "margin": null,
      "max_height": null,
      "max_width": null,
      "min_height": null,
      "min_width": null,
      "object_fit": null,
      "object_position": null,
      "order": null,
      "overflow": null,
      "overflow_x": null,
      "overflow_y": null,
      "padding": null,
      "right": null,
      "top": null,
      "visibility": null,
      "width": null
     }
    },
    "aaf899b50e484ccd997fcb0288d70af6": {
     "model_module": "@jupyter-widgets/controls",
     "model_module_version": "1.5.0",
     "model_name": "DescriptionStyleModel",
     "state": {
      "_model_module": "@jupyter-widgets/controls",
      "_model_module_version": "1.5.0",
      "_model_name": "DescriptionStyleModel",
      "_view_count": null,
      "_view_module": "@jupyter-widgets/base",
      "_view_module_version": "1.2.0",
      "_view_name": "StyleView",
      "description_width": ""
     }
    },
    "ab1832fa02cb4fa18e731befd05af31a": {
     "model_module": "@jupyter-widgets/base",
     "model_module_version": "1.2.0",
     "model_name": "LayoutModel",
     "state": {
      "_model_module": "@jupyter-widgets/base",
      "_model_module_version": "1.2.0",
      "_model_name": "LayoutModel",
      "_view_count": null,
      "_view_module": "@jupyter-widgets/base",
      "_view_module_version": "1.2.0",
      "_view_name": "LayoutView",
      "align_content": null,
      "align_items": null,
      "align_self": null,
      "border": null,
      "bottom": null,
      "display": null,
      "flex": null,
      "flex_flow": null,
      "grid_area": null,
      "grid_auto_columns": null,
      "grid_auto_flow": null,
      "grid_auto_rows": null,
      "grid_column": null,
      "grid_gap": null,
      "grid_row": null,
      "grid_template_areas": null,
      "grid_template_columns": null,
      "grid_template_rows": null,
      "height": null,
      "justify_content": null,
      "justify_items": null,
      "left": null,
      "margin": null,
      "max_height": null,
      "max_width": null,
      "min_height": null,
      "min_width": null,
      "object_fit": null,
      "object_position": null,
      "order": null,
      "overflow": null,
      "overflow_x": null,
      "overflow_y": null,
      "padding": null,
      "right": null,
      "top": null,
      "visibility": null,
      "width": null
     }
    },
    "ab33927dea824b0db1a0a7823c57f2e2": {
     "model_module": "@jupyter-widgets/controls",
     "model_module_version": "1.5.0",
     "model_name": "SliderStyleModel",
     "state": {
      "_model_module": "@jupyter-widgets/controls",
      "_model_module_version": "1.5.0",
      "_model_name": "SliderStyleModel",
      "_view_count": null,
      "_view_module": "@jupyter-widgets/base",
      "_view_module_version": "1.2.0",
      "_view_name": "StyleView",
      "description_width": "",
      "handle_color": null
     }
    },
    "aba7ec21df0840e2aa2dc6b3db825db2": {
     "model_module": "@jupyter-widgets/controls",
     "model_module_version": "1.5.0",
     "model_name": "FloatProgressModel",
     "state": {
      "_dom_classes": [],
      "_model_module": "@jupyter-widgets/controls",
      "_model_module_version": "1.5.0",
      "_model_name": "FloatProgressModel",
      "_view_count": null,
      "_view_module": "@jupyter-widgets/controls",
      "_view_module_version": "1.5.0",
      "_view_name": "ProgressView",
      "bar_style": "success",
      "description": "",
      "description_tooltip": null,
      "layout": "IPY_MODEL_c00891402f8c4d56a5dd82cf88c8987d",
      "max": 964,
      "min": 0,
      "orientation": "horizontal",
      "style": "IPY_MODEL_9837adaa21e241938a5ab9b3a7771a83",
      "value": 964
     }
    },
    "ad626e7473a449d6a499fb526134e82e": {
     "model_module": "@jupyter-widgets/base",
     "model_module_version": "1.2.0",
     "model_name": "LayoutModel",
     "state": {
      "_model_module": "@jupyter-widgets/base",
      "_model_module_version": "1.2.0",
      "_model_name": "LayoutModel",
      "_view_count": null,
      "_view_module": "@jupyter-widgets/base",
      "_view_module_version": "1.2.0",
      "_view_name": "LayoutView",
      "align_content": null,
      "align_items": null,
      "align_self": null,
      "border": null,
      "bottom": null,
      "display": null,
      "flex": null,
      "flex_flow": null,
      "grid_area": null,
      "grid_auto_columns": null,
      "grid_auto_flow": null,
      "grid_auto_rows": null,
      "grid_column": null,
      "grid_gap": null,
      "grid_row": null,
      "grid_template_areas": null,
      "grid_template_columns": null,
      "grid_template_rows": null,
      "height": null,
      "justify_content": null,
      "justify_items": null,
      "left": null,
      "margin": null,
      "max_height": null,
      "max_width": null,
      "min_height": null,
      "min_width": null,
      "object_fit": null,
      "object_position": null,
      "order": null,
      "overflow": null,
      "overflow_x": null,
      "overflow_y": null,
      "padding": null,
      "right": null,
      "top": null,
      "visibility": null,
      "width": null
     }
    },
    "af5bd6b73dce4a55b7900f5af487e659": {
     "model_module": "@jupyter-widgets/controls",
     "model_module_version": "1.5.0",
     "model_name": "HTMLModel",
     "state": {
      "_dom_classes": [],
      "_model_module": "@jupyter-widgets/controls",
      "_model_module_version": "1.5.0",
      "_model_name": "HTMLModel",
      "_view_count": null,
      "_view_module": "@jupyter-widgets/controls",
      "_view_module_version": "1.5.0",
      "_view_name": "HTMLView",
      "description": "",
      "description_tooltip": null,
      "layout": "IPY_MODEL_5b13fd5d27664814a221930a243478e8",
      "placeholder": "​",
      "style": "IPY_MODEL_de4dcf6f84734046b19e4b1e4fc4a46c",
      "value": " 17.1M/17.1M [00:00&lt;00:00, 137MB/s]"
     }
    },
    "b0041065c08947f09a5222813cd77487": {
     "model_module": "@jupyter-widgets/controls",
     "model_module_version": "1.5.0",
     "model_name": "HBoxModel",
     "state": {
      "_dom_classes": [],
      "_model_module": "@jupyter-widgets/controls",
      "_model_module_version": "1.5.0",
      "_model_name": "HBoxModel",
      "_view_count": null,
      "_view_module": "@jupyter-widgets/controls",
      "_view_module_version": "1.5.0",
      "_view_name": "HBoxView",
      "box_style": "",
      "children": [
       "IPY_MODEL_cb0efcc4baf74b288f145082b6bae66e",
       "IPY_MODEL_114917e2a4444eb694d734ccad35d34c",
       "IPY_MODEL_5fd1f88512bb419c813253af894326da"
      ],
      "layout": "IPY_MODEL_ffe49b255a8846bf8c3df4af50956d05"
     }
    },
    "b00cc108bc5a498ca697a21471c01bda": {
     "model_module": "@jupyter-widgets/base",
     "model_module_version": "1.2.0",
     "model_name": "LayoutModel",
     "state": {
      "_model_module": "@jupyter-widgets/base",
      "_model_module_version": "1.2.0",
      "_model_name": "LayoutModel",
      "_view_count": null,
      "_view_module": "@jupyter-widgets/base",
      "_view_module_version": "1.2.0",
      "_view_name": "LayoutView",
      "align_content": null,
      "align_items": null,
      "align_self": null,
      "border": null,
      "bottom": null,
      "display": null,
      "flex": null,
      "flex_flow": null,
      "grid_area": null,
      "grid_auto_columns": null,
      "grid_auto_flow": null,
      "grid_auto_rows": null,
      "grid_column": null,
      "grid_gap": null,
      "grid_row": null,
      "grid_template_areas": null,
      "grid_template_columns": null,
      "grid_template_rows": null,
      "height": null,
      "justify_content": null,
      "justify_items": null,
      "left": null,
      "margin": null,
      "max_height": null,
      "max_width": null,
      "min_height": null,
      "min_width": null,
      "object_fit": null,
      "object_position": null,
      "order": null,
      "overflow": null,
      "overflow_x": null,
      "overflow_y": null,
      "padding": null,
      "right": null,
      "top": null,
      "visibility": null,
      "width": null
     }
    },
    "b08c432cf76647beba45a675355aaf7d": {
     "model_module": "@jupyter-widgets/base",
     "model_module_version": "1.2.0",
     "model_name": "LayoutModel",
     "state": {
      "_model_module": "@jupyter-widgets/base",
      "_model_module_version": "1.2.0",
      "_model_name": "LayoutModel",
      "_view_count": null,
      "_view_module": "@jupyter-widgets/base",
      "_view_module_version": "1.2.0",
      "_view_name": "LayoutView",
      "align_content": null,
      "align_items": null,
      "align_self": null,
      "border": null,
      "bottom": null,
      "display": null,
      "flex": null,
      "flex_flow": null,
      "grid_area": null,
      "grid_auto_columns": null,
      "grid_auto_flow": null,
      "grid_auto_rows": null,
      "grid_column": null,
      "grid_gap": null,
      "grid_row": null,
      "grid_template_areas": null,
      "grid_template_columns": null,
      "grid_template_rows": null,
      "height": null,
      "justify_content": null,
      "justify_items": null,
      "left": null,
      "margin": null,
      "max_height": null,
      "max_width": null,
      "min_height": null,
      "min_width": null,
      "object_fit": null,
      "object_position": null,
      "order": null,
      "overflow": null,
      "overflow_x": null,
      "overflow_y": null,
      "padding": null,
      "right": null,
      "top": null,
      "visibility": null,
      "width": null
     }
    },
    "b4e5cb03cef54a5095a832c163356e46": {
     "model_module": "@jupyter-widgets/base",
     "model_module_version": "1.2.0",
     "model_name": "LayoutModel",
     "state": {
      "_model_module": "@jupyter-widgets/base",
      "_model_module_version": "1.2.0",
      "_model_name": "LayoutModel",
      "_view_count": null,
      "_view_module": "@jupyter-widgets/base",
      "_view_module_version": "1.2.0",
      "_view_name": "LayoutView",
      "align_content": null,
      "align_items": null,
      "align_self": null,
      "border": null,
      "bottom": null,
      "display": null,
      "flex": null,
      "flex_flow": null,
      "grid_area": null,
      "grid_auto_columns": null,
      "grid_auto_flow": null,
      "grid_auto_rows": null,
      "grid_column": null,
      "grid_gap": null,
      "grid_row": null,
      "grid_template_areas": null,
      "grid_template_columns": null,
      "grid_template_rows": null,
      "height": null,
      "justify_content": null,
      "justify_items": null,
      "left": null,
      "margin": null,
      "max_height": null,
      "max_width": null,
      "min_height": null,
      "min_width": null,
      "object_fit": null,
      "object_position": null,
      "order": null,
      "overflow": null,
      "overflow_x": null,
      "overflow_y": null,
      "padding": null,
      "right": null,
      "top": null,
      "visibility": null,
      "width": null
     }
    },
    "b54ccb3ba4474446b3ddcbc7bc7b1b25": {
     "model_module": "@jupyter-widgets/base",
     "model_module_version": "1.2.0",
     "model_name": "LayoutModel",
     "state": {
      "_model_module": "@jupyter-widgets/base",
      "_model_module_version": "1.2.0",
      "_model_name": "LayoutModel",
      "_view_count": null,
      "_view_module": "@jupyter-widgets/base",
      "_view_module_version": "1.2.0",
      "_view_name": "LayoutView",
      "align_content": null,
      "align_items": null,
      "align_self": null,
      "border": null,
      "bottom": null,
      "display": null,
      "flex": null,
      "flex_flow": null,
      "grid_area": null,
      "grid_auto_columns": null,
      "grid_auto_flow": null,
      "grid_auto_rows": null,
      "grid_column": null,
      "grid_gap": null,
      "grid_row": null,
      "grid_template_areas": null,
      "grid_template_columns": null,
      "grid_template_rows": null,
      "height": null,
      "justify_content": null,
      "justify_items": null,
      "left": null,
      "margin": null,
      "max_height": null,
      "max_width": null,
      "min_height": null,
      "min_width": null,
      "object_fit": null,
      "object_position": null,
      "order": null,
      "overflow": null,
      "overflow_x": null,
      "overflow_y": null,
      "padding": null,
      "right": null,
      "top": null,
      "visibility": null,
      "width": null
     }
    },
    "b574110a52754811aac379be9f34070c": {
     "model_module": "@jupyter-widgets/controls",
     "model_module_version": "1.5.0",
     "model_name": "ProgressStyleModel",
     "state": {
      "_model_module": "@jupyter-widgets/controls",
      "_model_module_version": "1.5.0",
      "_model_name": "ProgressStyleModel",
      "_view_count": null,
      "_view_module": "@jupyter-widgets/base",
      "_view_module_version": "1.2.0",
      "_view_name": "StyleView",
      "bar_color": null,
      "description_width": ""
     }
    },
    "b61a721a3c6e458abd9eb5daaa1faff3": {
     "model_module": "@jupyter-widgets/base",
     "model_module_version": "1.2.0",
     "model_name": "LayoutModel",
     "state": {
      "_model_module": "@jupyter-widgets/base",
      "_model_module_version": "1.2.0",
      "_model_name": "LayoutModel",
      "_view_count": null,
      "_view_module": "@jupyter-widgets/base",
      "_view_module_version": "1.2.0",
      "_view_name": "LayoutView",
      "align_content": null,
      "align_items": null,
      "align_self": null,
      "border": null,
      "bottom": null,
      "display": null,
      "flex": null,
      "flex_flow": null,
      "grid_area": null,
      "grid_auto_columns": null,
      "grid_auto_flow": null,
      "grid_auto_rows": null,
      "grid_column": null,
      "grid_gap": null,
      "grid_row": null,
      "grid_template_areas": null,
      "grid_template_columns": null,
      "grid_template_rows": null,
      "height": null,
      "justify_content": null,
      "justify_items": null,
      "left": null,
      "margin": null,
      "max_height": null,
      "max_width": null,
      "min_height": null,
      "min_width": null,
      "object_fit": null,
      "object_position": null,
      "order": null,
      "overflow": null,
      "overflow_x": null,
      "overflow_y": null,
      "padding": null,
      "right": null,
      "top": null,
      "visibility": null,
      "width": null
     }
    },
    "b7a4eaa5ca294b06acdfc28159dbe624": {
     "model_module": "@jupyter-widgets/controls",
     "model_module_version": "1.5.0",
     "model_name": "FloatProgressModel",
     "state": {
      "_dom_classes": [],
      "_model_module": "@jupyter-widgets/controls",
      "_model_module_version": "1.5.0",
      "_model_name": "FloatProgressModel",
      "_view_count": null,
      "_view_module": "@jupyter-widgets/controls",
      "_view_module_version": "1.5.0",
      "_view_name": "ProgressView",
      "bar_style": "success",
      "description": "",
      "description_tooltip": null,
      "layout": "IPY_MODEL_696647d080584abca58865408031baa9",
      "max": 349,
      "min": 0,
      "orientation": "horizontal",
      "style": "IPY_MODEL_6fe6a9c3507a4e47ae0032b0aaa2faca",
      "value": 349
     }
    },
    "b862d360c736495f97fa825c115bcd8d": {
     "model_module": "@jupyter-widgets/controls",
     "model_module_version": "1.5.0",
     "model_name": "HBoxModel",
     "state": {
      "_dom_classes": [],
      "_model_module": "@jupyter-widgets/controls",
      "_model_module_version": "1.5.0",
      "_model_name": "HBoxModel",
      "_view_count": null,
      "_view_module": "@jupyter-widgets/controls",
      "_view_module_version": "1.5.0",
      "_view_name": "HBoxView",
      "box_style": "",
      "children": [
       "IPY_MODEL_3f2925c657a04555a4a56fd74a872266",
       "IPY_MODEL_e6ca95fff0d749f6a34c085e17dbc513",
       "IPY_MODEL_dc3e1b9f22fc4a9daad9182b6c2abc4f"
      ],
      "layout": "IPY_MODEL_e414502628634f128063f98a4027464a"
     }
    },
    "b8db757951794b02bc0162a6e94c9ff0": {
     "model_module": "@jupyter-widgets/controls",
     "model_module_version": "1.5.0",
     "model_name": "FloatProgressModel",
     "state": {
      "_dom_classes": [],
      "_model_module": "@jupyter-widgets/controls",
      "_model_module_version": "1.5.0",
      "_model_name": "FloatProgressModel",
      "_view_count": null,
      "_view_module": "@jupyter-widgets/controls",
      "_view_module_version": "1.5.0",
      "_view_name": "ProgressView",
      "bar_style": "success",
      "description": "",
      "description_tooltip": null,
      "layout": "IPY_MODEL_b8fa5804ab644dcd87c85ffce1ddd8c0",
      "max": 687,
      "min": 0,
      "orientation": "horizontal",
      "style": "IPY_MODEL_844eed9574074d78b3b1c88a126f5a92",
      "value": 687
     }
    },
    "b8fa5804ab644dcd87c85ffce1ddd8c0": {
     "model_module": "@jupyter-widgets/base",
     "model_module_version": "1.2.0",
     "model_name": "LayoutModel",
     "state": {
      "_model_module": "@jupyter-widgets/base",
      "_model_module_version": "1.2.0",
      "_model_name": "LayoutModel",
      "_view_count": null,
      "_view_module": "@jupyter-widgets/base",
      "_view_module_version": "1.2.0",
      "_view_name": "LayoutView",
      "align_content": null,
      "align_items": null,
      "align_self": null,
      "border": null,
      "bottom": null,
      "display": null,
      "flex": null,
      "flex_flow": null,
      "grid_area": null,
      "grid_auto_columns": null,
      "grid_auto_flow": null,
      "grid_auto_rows": null,
      "grid_column": null,
      "grid_gap": null,
      "grid_row": null,
      "grid_template_areas": null,
      "grid_template_columns": null,
      "grid_template_rows": null,
      "height": null,
      "justify_content": null,
      "justify_items": null,
      "left": null,
      "margin": null,
      "max_height": null,
      "max_width": null,
      "min_height": null,
      "min_width": null,
      "object_fit": null,
      "object_position": null,
      "order": null,
      "overflow": null,
      "overflow_x": null,
      "overflow_y": null,
      "padding": null,
      "right": null,
      "top": null,
      "visibility": null,
      "width": null
     }
    },
    "ba83c47ea28a4e73a41169c79f79d377": {
     "model_module": "@jupyter-widgets/controls",
     "model_module_version": "1.5.0",
     "model_name": "IntSliderModel",
     "state": {
      "_dom_classes": [],
      "_model_module": "@jupyter-widgets/controls",
      "_model_module_version": "1.5.0",
      "_model_name": "IntSliderModel",
      "_view_count": null,
      "_view_module": "@jupyter-widgets/controls",
      "_view_module_version": "1.5.0",
      "_view_name": "IntSliderView",
      "continuous_update": true,
      "description": "Qtd Exercícios:",
      "description_tooltip": null,
      "disabled": false,
      "layout": "IPY_MODEL_878a3300b9e0426297e76b50fefd4373",
      "max": 10,
      "min": 1,
      "orientation": "horizontal",
      "readout": true,
      "readout_format": "d",
      "step": 1,
      "style": "IPY_MODEL_ab33927dea824b0db1a0a7823c57f2e2",
      "value": 5
     }
    },
    "bb93c280cf2a4f4e8cd7af9e338c02dd": {
     "model_module": "@jupyter-widgets/controls",
     "model_module_version": "1.5.0",
     "model_name": "ProgressStyleModel",
     "state": {
      "_model_module": "@jupyter-widgets/controls",
      "_model_module_version": "1.5.0",
      "_model_name": "ProgressStyleModel",
      "_view_count": null,
      "_view_module": "@jupyter-widgets/base",
      "_view_module_version": "1.2.0",
      "_view_name": "StyleView",
      "bar_color": null,
      "description_width": ""
     }
    },
    "bc60e1e4aab444af94f227f95009467d": {
     "model_module": "@jupyter-widgets/controls",
     "model_module_version": "1.5.0",
     "model_name": "ProgressStyleModel",
     "state": {
      "_model_module": "@jupyter-widgets/controls",
      "_model_module_version": "1.5.0",
      "_model_name": "ProgressStyleModel",
      "_view_count": null,
      "_view_module": "@jupyter-widgets/base",
      "_view_module_version": "1.2.0",
      "_view_name": "StyleView",
      "bar_color": null,
      "description_width": ""
     }
    },
    "bd5afbc67d8540df8c2712711789e3ea": {
     "model_module": "@jupyter-widgets/base",
     "model_module_version": "1.2.0",
     "model_name": "LayoutModel",
     "state": {
      "_model_module": "@jupyter-widgets/base",
      "_model_module_version": "1.2.0",
      "_model_name": "LayoutModel",
      "_view_count": null,
      "_view_module": "@jupyter-widgets/base",
      "_view_module_version": "1.2.0",
      "_view_name": "LayoutView",
      "align_content": null,
      "align_items": null,
      "align_self": null,
      "border": null,
      "bottom": null,
      "display": null,
      "flex": null,
      "flex_flow": null,
      "grid_area": null,
      "grid_auto_columns": null,
      "grid_auto_flow": null,
      "grid_auto_rows": null,
      "grid_column": null,
      "grid_gap": null,
      "grid_row": null,
      "grid_template_areas": null,
      "grid_template_columns": null,
      "grid_template_rows": null,
      "height": null,
      "justify_content": null,
      "justify_items": null,
      "left": null,
      "margin": null,
      "max_height": null,
      "max_width": null,
      "min_height": null,
      "min_width": null,
      "object_fit": null,
      "object_position": null,
      "order": null,
      "overflow": null,
      "overflow_x": null,
      "overflow_y": null,
      "padding": null,
      "right": null,
      "top": null,
      "visibility": null,
      "width": null
     }
    },
    "be38b2eb55ba47e8a2ddc99724ea929c": {
     "model_module": "@jupyter-widgets/base",
     "model_module_version": "1.2.0",
     "model_name": "LayoutModel",
     "state": {
      "_model_module": "@jupyter-widgets/base",
      "_model_module_version": "1.2.0",
      "_model_name": "LayoutModel",
      "_view_count": null,
      "_view_module": "@jupyter-widgets/base",
      "_view_module_version": "1.2.0",
      "_view_name": "LayoutView",
      "align_content": null,
      "align_items": null,
      "align_self": null,
      "border": null,
      "bottom": null,
      "display": null,
      "flex": null,
      "flex_flow": null,
      "grid_area": null,
      "grid_auto_columns": null,
      "grid_auto_flow": null,
      "grid_auto_rows": null,
      "grid_column": null,
      "grid_gap": null,
      "grid_row": null,
      "grid_template_areas": null,
      "grid_template_columns": null,
      "grid_template_rows": null,
      "height": null,
      "justify_content": null,
      "justify_items": null,
      "left": null,
      "margin": null,
      "max_height": null,
      "max_width": null,
      "min_height": null,
      "min_width": null,
      "object_fit": null,
      "object_position": null,
      "order": null,
      "overflow": null,
      "overflow_x": null,
      "overflow_y": null,
      "padding": null,
      "right": null,
      "top": null,
      "visibility": null,
      "width": null
     }
    },
    "bef8aa824ef1434aa6999a41e0918d41": {
     "model_module": "@jupyter-widgets/controls",
     "model_module_version": "1.5.0",
     "model_name": "ButtonStyleModel",
     "state": {
      "_model_module": "@jupyter-widgets/controls",
      "_model_module_version": "1.5.0",
      "_model_name": "ButtonStyleModel",
      "_view_count": null,
      "_view_module": "@jupyter-widgets/base",
      "_view_module_version": "1.2.0",
      "_view_name": "StyleView",
      "button_color": null,
      "font_weight": ""
     }
    },
    "c00891402f8c4d56a5dd82cf88c8987d": {
     "model_module": "@jupyter-widgets/base",
     "model_module_version": "1.2.0",
     "model_name": "LayoutModel",
     "state": {
      "_model_module": "@jupyter-widgets/base",
      "_model_module_version": "1.2.0",
      "_model_name": "LayoutModel",
      "_view_count": null,
      "_view_module": "@jupyter-widgets/base",
      "_view_module_version": "1.2.0",
      "_view_name": "LayoutView",
      "align_content": null,
      "align_items": null,
      "align_self": null,
      "border": null,
      "bottom": null,
      "display": null,
      "flex": null,
      "flex_flow": null,
      "grid_area": null,
      "grid_auto_columns": null,
      "grid_auto_flow": null,
      "grid_auto_rows": null,
      "grid_column": null,
      "grid_gap": null,
      "grid_row": null,
      "grid_template_areas": null,
      "grid_template_columns": null,
      "grid_template_rows": null,
      "height": null,
      "justify_content": null,
      "justify_items": null,
      "left": null,
      "margin": null,
      "max_height": null,
      "max_width": null,
      "min_height": null,
      "min_width": null,
      "object_fit": null,
      "object_position": null,
      "order": null,
      "overflow": null,
      "overflow_x": null,
      "overflow_y": null,
      "padding": null,
      "right": null,
      "top": null,
      "visibility": null,
      "width": null
     }
    },
    "c153bcd9570e4205bb51becac714ca81": {
     "model_module": "@jupyter-widgets/controls",
     "model_module_version": "1.5.0",
     "model_name": "HTMLModel",
     "state": {
      "_dom_classes": [],
      "_model_module": "@jupyter-widgets/controls",
      "_model_module_version": "1.5.0",
      "_model_name": "HTMLModel",
      "_view_count": null,
      "_view_module": "@jupyter-widgets/controls",
      "_view_module_version": "1.5.0",
      "_view_name": "HTMLView",
      "description": "",
      "description_tooltip": null,
      "layout": "IPY_MODEL_4a7317e797bd44d2ad0cdb05e185e325",
      "placeholder": "​",
      "style": "IPY_MODEL_ccb4795431e94a1ba59819e4a6335738",
      "value": "modules.json: 100%"
     }
    },
    "c159f3b02ff14444947440581aa9598f": {
     "model_module": "@jupyter-widgets/output",
     "model_module_version": "1.0.0",
     "model_name": "OutputModel",
     "state": {
      "_dom_classes": [],
      "_model_module": "@jupyter-widgets/output",
      "_model_module_version": "1.0.0",
      "_model_name": "OutputModel",
      "_view_count": null,
      "_view_module": "@jupyter-widgets/output",
      "_view_module_version": "1.0.0",
      "_view_name": "OutputView",
      "layout": "IPY_MODEL_d18df01f373741bfbd4a5bffd4094958",
      "msg_id": "",
      "outputs": []
     }
    },
    "c63b53f2100741cb8fb929a8b0aadfbc": {
     "model_module": "@jupyter-widgets/controls",
     "model_module_version": "1.5.0",
     "model_name": "DescriptionStyleModel",
     "state": {
      "_model_module": "@jupyter-widgets/controls",
      "_model_module_version": "1.5.0",
      "_model_name": "DescriptionStyleModel",
      "_view_count": null,
      "_view_module": "@jupyter-widgets/base",
      "_view_module_version": "1.2.0",
      "_view_name": "StyleView",
      "description_width": ""
     }
    },
    "c686ec12c69046ee96b80135fa558611": {
     "model_module": "@jupyter-widgets/base",
     "model_module_version": "1.2.0",
     "model_name": "LayoutModel",
     "state": {
      "_model_module": "@jupyter-widgets/base",
      "_model_module_version": "1.2.0",
      "_model_name": "LayoutModel",
      "_view_count": null,
      "_view_module": "@jupyter-widgets/base",
      "_view_module_version": "1.2.0",
      "_view_name": "LayoutView",
      "align_content": null,
      "align_items": null,
      "align_self": null,
      "border": null,
      "bottom": null,
      "display": null,
      "flex": null,
      "flex_flow": null,
      "grid_area": null,
      "grid_auto_columns": null,
      "grid_auto_flow": null,
      "grid_auto_rows": null,
      "grid_column": null,
      "grid_gap": null,
      "grid_row": null,
      "grid_template_areas": null,
      "grid_template_columns": null,
      "grid_template_rows": null,
      "height": null,
      "justify_content": null,
      "justify_items": null,
      "left": null,
      "margin": null,
      "max_height": null,
      "max_width": null,
      "min_height": null,
      "min_width": null,
      "object_fit": null,
      "object_position": null,
      "order": null,
      "overflow": null,
      "overflow_x": null,
      "overflow_y": null,
      "padding": null,
      "right": null,
      "top": null,
      "visibility": null,
      "width": null
     }
    },
    "c69a55b236d74c2c9434e370ef4c8c21": {
     "model_module": "@jupyter-widgets/controls",
     "model_module_version": "1.5.0",
     "model_name": "DescriptionStyleModel",
     "state": {
      "_model_module": "@jupyter-widgets/controls",
      "_model_module_version": "1.5.0",
      "_model_name": "DescriptionStyleModel",
      "_view_count": null,
      "_view_module": "@jupyter-widgets/base",
      "_view_module_version": "1.2.0",
      "_view_name": "StyleView",
      "description_width": ""
     }
    },
    "c75b3974782e4375ac709c96fe8550c5": {
     "model_module": "@jupyter-widgets/controls",
     "model_module_version": "1.5.0",
     "model_name": "DropdownModel",
     "state": {
      "_dom_classes": [],
      "_model_module": "@jupyter-widgets/controls",
      "_model_module_version": "1.5.0",
      "_model_name": "DropdownModel",
      "_options_labels": [
       "Iniciante",
       "Intermediário",
       "Avançado"
      ],
      "_view_count": null,
      "_view_module": "@jupyter-widgets/controls",
      "_view_module_version": "1.5.0",
      "_view_name": "DropdownView",
      "description": "Nível",
      "description_tooltip": null,
      "disabled": false,
      "index": 1,
      "layout": "IPY_MODEL_92158dab68a54581ae8c9d63a399e548",
      "style": "IPY_MODEL_82b198e90ab94dae86179c9f853e9e64"
     }
    },
    "c85301fbae7146359821dd11f1807550": {
     "model_module": "@jupyter-widgets/controls",
     "model_module_version": "1.5.0",
     "model_name": "DescriptionStyleModel",
     "state": {
      "_model_module": "@jupyter-widgets/controls",
      "_model_module_version": "1.5.0",
      "_model_name": "DescriptionStyleModel",
      "_view_count": null,
      "_view_module": "@jupyter-widgets/base",
      "_view_module_version": "1.2.0",
      "_view_name": "StyleView",
      "description_width": ""
     }
    },
    "c94c5396a54c45a593e6c2c3fc70fd01": {
     "model_module": "@jupyter-widgets/controls",
     "model_module_version": "1.5.0",
     "model_name": "IntSliderModel",
     "state": {
      "_dom_classes": [],
      "_model_module": "@jupyter-widgets/controls",
      "_model_module_version": "1.5.0",
      "_model_name": "IntSliderModel",
      "_view_count": null,
      "_view_module": "@jupyter-widgets/controls",
      "_view_module_version": "1.5.0",
      "_view_name": "IntSliderView",
      "continuous_update": true,
      "description": "Qtd Exercícios:",
      "description_tooltip": null,
      "disabled": false,
      "layout": "IPY_MODEL_eea9cdde079345f9a68e011931bda047",
      "max": 10,
      "min": 1,
      "orientation": "horizontal",
      "readout": true,
      "readout_format": "d",
      "step": 1,
      "style": "IPY_MODEL_eec12f0b6790414ba95891065dc2a9e5",
      "value": 2
     }
    },
    "cac2964ea9684a8ca6d7742bd3a018dd": {
     "model_module": "@jupyter-widgets/controls",
     "model_module_version": "1.5.0",
     "model_name": "HTMLModel",
     "state": {
      "_dom_classes": [],
      "_model_module": "@jupyter-widgets/controls",
      "_model_module_version": "1.5.0",
      "_model_name": "HTMLModel",
      "_view_count": null,
      "_view_module": "@jupyter-widgets/controls",
      "_view_module_version": "1.5.0",
      "_view_name": "HTMLView",
      "description": "",
      "description_tooltip": null,
      "layout": "IPY_MODEL_ad626e7473a449d6a499fb526134e82e",
      "placeholder": "​",
      "style": "IPY_MODEL_92002773f9ac4218816141fe77f7e5de",
      "value": " 15.8k/15.8k [00:00&lt;00:00, 732kB/s]"
     }
    },
    "cb0efcc4baf74b288f145082b6bae66e": {
     "model_module": "@jupyter-widgets/controls",
     "model_module_version": "1.5.0",
     "model_name": "HTMLModel",
     "state": {
      "_dom_classes": [],
      "_model_module": "@jupyter-widgets/controls",
      "_model_module_version": "1.5.0",
      "_model_name": "HTMLModel",
      "_view_count": null,
      "_view_module": "@jupyter-widgets/controls",
      "_view_module_version": "1.5.0",
      "_view_name": "HTMLView",
      "description": "",
      "description_tooltip": null,
      "layout": "IPY_MODEL_84e59b62ff184c828b57b30439d7bb5d",
      "placeholder": "​",
      "style": "IPY_MODEL_89c176fd9f9a4abb859c7eb054f179ba",
      "value": "model.safetensors: 100%"
     }
    },
    "cb2fe15b17c041e1885ea53854eaf420": {
     "model_module": "@jupyter-widgets/controls",
     "model_module_version": "1.5.0",
     "model_name": "VBoxModel",
     "state": {
      "_dom_classes": [],
      "_model_module": "@jupyter-widgets/controls",
      "_model_module_version": "1.5.0",
      "_model_name": "VBoxModel",
      "_view_count": null,
      "_view_module": "@jupyter-widgets/controls",
      "_view_module_version": "1.5.0",
      "_view_name": "VBoxView",
      "box_style": "",
      "children": [
       "IPY_MODEL_fed7e63d84fc4a018c8c9575072a6491",
       "IPY_MODEL_5e2d9710374a43da913e94c395bc0dd0",
       "IPY_MODEL_ba83c47ea28a4e73a41169c79f79d377",
       "IPY_MODEL_039f3a4c7b4a40b9a8f5b8dea807e0cc",
       "IPY_MODEL_01f3964d2ce74e45bdc86425e7263f3e",
       "IPY_MODEL_1b38fef8c1d04690b7942213e4c274d6",
       "IPY_MODEL_83834a6205564433958c4c049427d0d2"
      ],
      "layout": "IPY_MODEL_8d9470e6cb134d11b891ede436cbbf46"
     }
    },
    "ccb4795431e94a1ba59819e4a6335738": {
     "model_module": "@jupyter-widgets/controls",
     "model_module_version": "1.5.0",
     "model_name": "DescriptionStyleModel",
     "state": {
      "_model_module": "@jupyter-widgets/controls",
      "_model_module_version": "1.5.0",
      "_model_name": "DescriptionStyleModel",
      "_view_count": null,
      "_view_module": "@jupyter-widgets/base",
      "_view_module_version": "1.2.0",
      "_view_name": "StyleView",
      "description_width": ""
     }
    },
    "d0682c538b234e7cada85bb019efec52": {
     "model_module": "@jupyter-widgets/base",
     "model_module_version": "1.2.0",
     "model_name": "LayoutModel",
     "state": {
      "_model_module": "@jupyter-widgets/base",
      "_model_module_version": "1.2.0",
      "_model_name": "LayoutModel",
      "_view_count": null,
      "_view_module": "@jupyter-widgets/base",
      "_view_module_version": "1.2.0",
      "_view_name": "LayoutView",
      "align_content": null,
      "align_items": null,
      "align_self": null,
      "border": null,
      "bottom": null,
      "display": null,
      "flex": null,
      "flex_flow": null,
      "grid_area": null,
      "grid_auto_columns": null,
      "grid_auto_flow": null,
      "grid_auto_rows": null,
      "grid_column": null,
      "grid_gap": null,
      "grid_row": null,
      "grid_template_areas": null,
      "grid_template_columns": null,
      "grid_template_rows": null,
      "height": null,
      "justify_content": null,
      "justify_items": null,
      "left": null,
      "margin": null,
      "max_height": null,
      "max_width": null,
      "min_height": null,
      "min_width": null,
      "object_fit": null,
      "object_position": null,
      "order": null,
      "overflow": null,
      "overflow_x": null,
      "overflow_y": null,
      "padding": null,
      "right": null,
      "top": null,
      "visibility": null,
      "width": null
     }
    },
    "d18df01f373741bfbd4a5bffd4094958": {
     "model_module": "@jupyter-widgets/base",
     "model_module_version": "1.2.0",
     "model_name": "LayoutModel",
     "state": {
      "_model_module": "@jupyter-widgets/base",
      "_model_module_version": "1.2.0",
      "_model_name": "LayoutModel",
      "_view_count": null,
      "_view_module": "@jupyter-widgets/base",
      "_view_module_version": "1.2.0",
      "_view_name": "LayoutView",
      "align_content": null,
      "align_items": null,
      "align_self": null,
      "border": null,
      "bottom": null,
      "display": null,
      "flex": null,
      "flex_flow": null,
      "grid_area": null,
      "grid_auto_columns": null,
      "grid_auto_flow": null,
      "grid_auto_rows": null,
      "grid_column": null,
      "grid_gap": null,
      "grid_row": null,
      "grid_template_areas": null,
      "grid_template_columns": null,
      "grid_template_rows": null,
      "height": null,
      "justify_content": null,
      "justify_items": null,
      "left": null,
      "margin": null,
      "max_height": null,
      "max_width": null,
      "min_height": null,
      "min_width": null,
      "object_fit": null,
      "object_position": null,
      "order": null,
      "overflow": null,
      "overflow_x": null,
      "overflow_y": null,
      "padding": null,
      "right": null,
      "top": null,
      "visibility": null,
      "width": null
     }
    },
    "d1d13026c0cc4eb5bb634452a62cadb5": {
     "model_module": "@jupyter-widgets/controls",
     "model_module_version": "1.5.0",
     "model_name": "VBoxModel",
     "state": {
      "_dom_classes": [],
      "_model_module": "@jupyter-widgets/controls",
      "_model_module_version": "1.5.0",
      "_model_name": "VBoxModel",
      "_view_count": null,
      "_view_module": "@jupyter-widgets/controls",
      "_view_module_version": "1.5.0",
      "_view_name": "VBoxView",
      "box_style": "",
      "children": [
       "IPY_MODEL_c75b3974782e4375ac709c96fe8550c5",
       "IPY_MODEL_762aa8629dab4dddbbce55ad54fa009a",
       "IPY_MODEL_25aa712823364109a6dbd8213ee7df4d",
       "IPY_MODEL_f76565efdb4c4534bb5ff3c5cdb26b38",
       "IPY_MODEL_6425c127082a4befb9fe6b8f3c4a6351",
       "IPY_MODEL_801bb47a76044200b5fe6c6ad78f93fd",
       "IPY_MODEL_c159f3b02ff14444947440581aa9598f"
      ],
      "layout": "IPY_MODEL_4ca6e21b2a63453da4ecee2c242d728c"
     }
    },
    "d2ad55c9acdc4427a160d554a9bd9e63": {
     "model_module": "@jupyter-widgets/base",
     "model_module_version": "1.2.0",
     "model_name": "LayoutModel",
     "state": {
      "_model_module": "@jupyter-widgets/base",
      "_model_module_version": "1.2.0",
      "_model_name": "LayoutModel",
      "_view_count": null,
      "_view_module": "@jupyter-widgets/base",
      "_view_module_version": "1.2.0",
      "_view_name": "LayoutView",
      "align_content": null,
      "align_items": null,
      "align_self": null,
      "border": null,
      "bottom": null,
      "display": null,
      "flex": null,
      "flex_flow": null,
      "grid_area": null,
      "grid_auto_columns": null,
      "grid_auto_flow": null,
      "grid_auto_rows": null,
      "grid_column": null,
      "grid_gap": null,
      "grid_row": null,
      "grid_template_areas": null,
      "grid_template_columns": null,
      "grid_template_rows": null,
      "height": null,
      "justify_content": null,
      "justify_items": null,
      "left": null,
      "margin": null,
      "max_height": null,
      "max_width": null,
      "min_height": null,
      "min_width": null,
      "object_fit": null,
      "object_position": null,
      "order": null,
      "overflow": null,
      "overflow_x": null,
      "overflow_y": null,
      "padding": null,
      "right": null,
      "top": null,
      "visibility": null,
      "width": null
     }
    },
    "d4017e2b642240e3ab9c7eba4590e4eb": {
     "model_module": "@jupyter-widgets/base",
     "model_module_version": "1.2.0",
     "model_name": "LayoutModel",
     "state": {
      "_model_module": "@jupyter-widgets/base",
      "_model_module_version": "1.2.0",
      "_model_name": "LayoutModel",
      "_view_count": null,
      "_view_module": "@jupyter-widgets/base",
      "_view_module_version": "1.2.0",
      "_view_name": "LayoutView",
      "align_content": null,
      "align_items": null,
      "align_self": null,
      "border": null,
      "bottom": null,
      "display": null,
      "flex": null,
      "flex_flow": null,
      "grid_area": null,
      "grid_auto_columns": null,
      "grid_auto_flow": null,
      "grid_auto_rows": null,
      "grid_column": null,
      "grid_gap": null,
      "grid_row": null,
      "grid_template_areas": null,
      "grid_template_columns": null,
      "grid_template_rows": null,
      "height": null,
      "justify_content": null,
      "justify_items": null,
      "left": null,
      "margin": null,
      "max_height": null,
      "max_width": null,
      "min_height": null,
      "min_width": null,
      "object_fit": null,
      "object_position": null,
      "order": null,
      "overflow": null,
      "overflow_x": null,
      "overflow_y": null,
      "padding": null,
      "right": null,
      "top": null,
      "visibility": null,
      "width": null
     }
    },
    "d75760b2154f4d4cbbf3eaaf000f8348": {
     "model_module": "@jupyter-widgets/base",
     "model_module_version": "1.2.0",
     "model_name": "LayoutModel",
     "state": {
      "_model_module": "@jupyter-widgets/base",
      "_model_module_version": "1.2.0",
      "_model_name": "LayoutModel",
      "_view_count": null,
      "_view_module": "@jupyter-widgets/base",
      "_view_module_version": "1.2.0",
      "_view_name": "LayoutView",
      "align_content": null,
      "align_items": null,
      "align_self": null,
      "border": null,
      "bottom": null,
      "display": null,
      "flex": null,
      "flex_flow": null,
      "grid_area": null,
      "grid_auto_columns": null,
      "grid_auto_flow": null,
      "grid_auto_rows": null,
      "grid_column": null,
      "grid_gap": null,
      "grid_row": null,
      "grid_template_areas": null,
      "grid_template_columns": null,
      "grid_template_rows": null,
      "height": null,
      "justify_content": null,
      "justify_items": null,
      "left": null,
      "margin": null,
      "max_height": null,
      "max_width": null,
      "min_height": null,
      "min_width": null,
      "object_fit": null,
      "object_position": null,
      "order": null,
      "overflow": null,
      "overflow_x": null,
      "overflow_y": null,
      "padding": null,
      "right": null,
      "top": null,
      "visibility": null,
      "width": null
     }
    },
    "d9f14b9a507f47b0983fcc4383aecd66": {
     "model_module": "@jupyter-widgets/base",
     "model_module_version": "1.2.0",
     "model_name": "LayoutModel",
     "state": {
      "_model_module": "@jupyter-widgets/base",
      "_model_module_version": "1.2.0",
      "_model_name": "LayoutModel",
      "_view_count": null,
      "_view_module": "@jupyter-widgets/base",
      "_view_module_version": "1.2.0",
      "_view_name": "LayoutView",
      "align_content": null,
      "align_items": null,
      "align_self": null,
      "border": null,
      "bottom": null,
      "display": null,
      "flex": null,
      "flex_flow": null,
      "grid_area": null,
      "grid_auto_columns": null,
      "grid_auto_flow": null,
      "grid_auto_rows": null,
      "grid_column": null,
      "grid_gap": null,
      "grid_row": null,
      "grid_template_areas": null,
      "grid_template_columns": null,
      "grid_template_rows": null,
      "height": null,
      "justify_content": null,
      "justify_items": null,
      "left": null,
      "margin": null,
      "max_height": null,
      "max_width": null,
      "min_height": null,
      "min_width": null,
      "object_fit": null,
      "object_position": null,
      "order": null,
      "overflow": null,
      "overflow_x": null,
      "overflow_y": null,
      "padding": null,
      "right": null,
      "top": null,
      "visibility": null,
      "width": null
     }
    },
    "da1774b4b339413aa64bac9f51600cc3": {
     "model_module": "@jupyter-widgets/controls",
     "model_module_version": "1.5.0",
     "model_name": "HTMLModel",
     "state": {
      "_dom_classes": [],
      "_model_module": "@jupyter-widgets/controls",
      "_model_module_version": "1.5.0",
      "_model_name": "HTMLModel",
      "_view_count": null,
      "_view_module": "@jupyter-widgets/controls",
      "_view_module_version": "1.5.0",
      "_view_name": "HTMLView",
      "description": "",
      "description_tooltip": null,
      "layout": "IPY_MODEL_047dabc155564197b30c3e24b6b6187c",
      "placeholder": "​",
      "style": "IPY_MODEL_08f088d508c2470581d3150172029664",
      "value": "README.md: 100%"
     }
    },
    "da1bc4e39bea4e388c019a269c9b0b5c": {
     "model_module": "@jupyter-widgets/controls",
     "model_module_version": "1.5.0",
     "model_name": "HBoxModel",
     "state": {
      "_dom_classes": [],
      "_model_module": "@jupyter-widgets/controls",
      "_model_module_version": "1.5.0",
      "_model_name": "HBoxModel",
      "_view_count": null,
      "_view_module": "@jupyter-widgets/controls",
      "_view_module_version": "1.5.0",
      "_view_name": "HBoxView",
      "box_style": "",
      "children": [
       "IPY_MODEL_26623507c83c4eb9b0e95c1b917f2e7f",
       "IPY_MODEL_aba7ec21df0840e2aa2dc6b3db825db2",
       "IPY_MODEL_9e242667d6a445f5ba90d96dcec12102"
      ],
      "layout": "IPY_MODEL_b4e5cb03cef54a5095a832c163356e46"
     }
    },
    "dc3e1b9f22fc4a9daad9182b6c2abc4f": {
     "model_module": "@jupyter-widgets/controls",
     "model_module_version": "1.5.0",
     "model_name": "HTMLModel",
     "state": {
      "_dom_classes": [],
      "_model_module": "@jupyter-widgets/controls",
      "_model_module_version": "1.5.0",
      "_model_name": "HTMLModel",
      "_view_count": null,
      "_view_module": "@jupyter-widgets/controls",
      "_view_module_version": "1.5.0",
      "_view_name": "HTMLView",
      "description": "",
      "description_tooltip": null,
      "layout": "IPY_MODEL_c686ec12c69046ee96b80135fa558611",
      "placeholder": "​",
      "style": "IPY_MODEL_decf4f5a309f425e947c032410cdfdde",
      "value": " 123/123 [00:00&lt;00:00, 9.65kB/s]"
     }
    },
    "dd7dd36f53784043990e606ee7280d39": {
     "model_module": "@jupyter-widgets/base",
     "model_module_version": "1.2.0",
     "model_name": "LayoutModel",
     "state": {
      "_model_module": "@jupyter-widgets/base",
      "_model_module_version": "1.2.0",
      "_model_name": "LayoutModel",
      "_view_count": null,
      "_view_module": "@jupyter-widgets/base",
      "_view_module_version": "1.2.0",
      "_view_name": "LayoutView",
      "align_content": null,
      "align_items": null,
      "align_self": null,
      "border": null,
      "bottom": null,
      "display": null,
      "flex": null,
      "flex_flow": null,
      "grid_area": null,
      "grid_auto_columns": null,
      "grid_auto_flow": null,
      "grid_auto_rows": null,
      "grid_column": null,
      "grid_gap": null,
      "grid_row": null,
      "grid_template_areas": null,
      "grid_template_columns": null,
      "grid_template_rows": null,
      "height": null,
      "justify_content": null,
      "justify_items": null,
      "left": null,
      "margin": null,
      "max_height": null,
      "max_width": null,
      "min_height": null,
      "min_width": null,
      "object_fit": null,
      "object_position": null,
      "order": null,
      "overflow": null,
      "overflow_x": null,
      "overflow_y": null,
      "padding": null,
      "right": null,
      "top": null,
      "visibility": null,
      "width": null
     }
    },
    "de4dcf6f84734046b19e4b1e4fc4a46c": {
     "model_module": "@jupyter-widgets/controls",
     "model_module_version": "1.5.0",
     "model_name": "DescriptionStyleModel",
     "state": {
      "_model_module": "@jupyter-widgets/controls",
      "_model_module_version": "1.5.0",
      "_model_name": "DescriptionStyleModel",
      "_view_count": null,
      "_view_module": "@jupyter-widgets/base",
      "_view_module_version": "1.2.0",
      "_view_name": "StyleView",
      "description_width": ""
     }
    },
    "decf4f5a309f425e947c032410cdfdde": {
     "model_module": "@jupyter-widgets/controls",
     "model_module_version": "1.5.0",
     "model_name": "DescriptionStyleModel",
     "state": {
      "_model_module": "@jupyter-widgets/controls",
      "_model_module_version": "1.5.0",
      "_model_name": "DescriptionStyleModel",
      "_view_count": null,
      "_view_module": "@jupyter-widgets/base",
      "_view_module_version": "1.2.0",
      "_view_name": "StyleView",
      "description_width": ""
     }
    },
    "df3b2eb28d6040e69751c76f0a97588f": {
     "model_module": "@jupyter-widgets/controls",
     "model_module_version": "1.5.0",
     "model_name": "TextModel",
     "state": {
      "_dom_classes": [],
      "_model_module": "@jupyter-widgets/controls",
      "_model_module_version": "1.5.0",
      "_model_name": "TextModel",
      "_view_count": null,
      "_view_module": "@jupyter-widgets/controls",
      "_view_module_version": "1.5.0",
      "_view_name": "TextView",
      "continuous_update": true,
      "description": "Interesses ou Preferências:",
      "description_tooltip": null,
      "disabled": false,
      "layout": "IPY_MODEL_524fc463c1b242c28b9f2c068a7485dc",
      "placeholder": "Ex: Filmes, Esportes, Jogos, Música, etc....",
      "style": "IPY_MODEL_9eeb82bd3838439782f8599ee205e9f9",
      "value": ""
     }
    },
    "dfd18b67c09a46cdaf4c0d34cc5e6a9c": {
     "model_module": "@jupyter-widgets/controls",
     "model_module_version": "1.5.0",
     "model_name": "TextModel",
     "state": {
      "_dom_classes": [],
      "_model_module": "@jupyter-widgets/controls",
      "_model_module_version": "1.5.0",
      "_model_name": "TextModel",
      "_view_count": null,
      "_view_module": "@jupyter-widgets/controls",
      "_view_module_version": "1.5.0",
      "_view_name": "TextView",
      "continuous_update": true,
      "description": "Tema:",
      "description_tooltip": null,
      "disabled": false,
      "layout": "IPY_MODEL_bd5afbc67d8540df8c2712711789e3ea",
      "placeholder": "Matemática, Inglês, Física, Biologia, etc.",
      "style": "IPY_MODEL_c63b53f2100741cb8fb929a8b0aadfbc",
      "value": ""
     }
    },
    "dfd90c97c43046c4841b99db42dd86a1": {
     "model_module": "@jupyter-widgets/controls",
     "model_module_version": "1.5.0",
     "model_name": "HTMLModel",
     "state": {
      "_dom_classes": [],
      "_model_module": "@jupyter-widgets/controls",
      "_model_module_version": "1.5.0",
      "_model_name": "HTMLModel",
      "_view_count": null,
      "_view_module": "@jupyter-widgets/controls",
      "_view_module_version": "1.5.0",
      "_view_name": "HTMLView",
      "description": "",
      "description_tooltip": null,
      "layout": "IPY_MODEL_779753ca9699480e869ff7c75305ae18",
      "placeholder": "​",
      "style": "IPY_MODEL_aaf899b50e484ccd997fcb0288d70af6",
      "value": "sentence_bert_config.json: 100%"
     }
    },
    "e2efca8f56ca4bf990ef9e73a7fac184": {
     "model_module": "@jupyter-widgets/controls",
     "model_module_version": "1.5.0",
     "model_name": "DescriptionStyleModel",
     "state": {
      "_model_module": "@jupyter-widgets/controls",
      "_model_module_version": "1.5.0",
      "_model_name": "DescriptionStyleModel",
      "_view_count": null,
      "_view_module": "@jupyter-widgets/base",
      "_view_module_version": "1.2.0",
      "_view_name": "StyleView",
      "description_width": ""
     }
    },
    "e414502628634f128063f98a4027464a": {
     "model_module": "@jupyter-widgets/base",
     "model_module_version": "1.2.0",
     "model_name": "LayoutModel",
     "state": {
      "_model_module": "@jupyter-widgets/base",
      "_model_module_version": "1.2.0",
      "_model_name": "LayoutModel",
      "_view_count": null,
      "_view_module": "@jupyter-widgets/base",
      "_view_module_version": "1.2.0",
      "_view_name": "LayoutView",
      "align_content": null,
      "align_items": null,
      "align_self": null,
      "border": null,
      "bottom": null,
      "display": null,
      "flex": null,
      "flex_flow": null,
      "grid_area": null,
      "grid_auto_columns": null,
      "grid_auto_flow": null,
      "grid_auto_rows": null,
      "grid_column": null,
      "grid_gap": null,
      "grid_row": null,
      "grid_template_areas": null,
      "grid_template_columns": null,
      "grid_template_rows": null,
      "height": null,
      "justify_content": null,
      "justify_items": null,
      "left": null,
      "margin": null,
      "max_height": null,
      "max_width": null,
      "min_height": null,
      "min_width": null,
      "object_fit": null,
      "object_position": null,
      "order": null,
      "overflow": null,
      "overflow_x": null,
      "overflow_y": null,
      "padding": null,
      "right": null,
      "top": null,
      "visibility": null,
      "width": null
     }
    },
    "e43b12fc58d7494bbee73e52be59b15d": {
     "model_module": "@jupyter-widgets/base",
     "model_module_version": "1.2.0",
     "model_name": "LayoutModel",
     "state": {
      "_model_module": "@jupyter-widgets/base",
      "_model_module_version": "1.2.0",
      "_model_name": "LayoutModel",
      "_view_count": null,
      "_view_module": "@jupyter-widgets/base",
      "_view_module_version": "1.2.0",
      "_view_name": "LayoutView",
      "align_content": null,
      "align_items": null,
      "align_self": null,
      "border": null,
      "bottom": null,
      "display": null,
      "flex": null,
      "flex_flow": null,
      "grid_area": null,
      "grid_auto_columns": null,
      "grid_auto_flow": null,
      "grid_auto_rows": null,
      "grid_column": null,
      "grid_gap": null,
      "grid_row": null,
      "grid_template_areas": null,
      "grid_template_columns": null,
      "grid_template_rows": null,
      "height": null,
      "justify_content": null,
      "justify_items": null,
      "left": null,
      "margin": null,
      "max_height": null,
      "max_width": null,
      "min_height": null,
      "min_width": null,
      "object_fit": null,
      "object_position": null,
      "order": null,
      "overflow": null,
      "overflow_x": null,
      "overflow_y": null,
      "padding": null,
      "right": null,
      "top": null,
      "visibility": null,
      "width": null
     }
    },
    "e55b9dfdb0a14ced8700e1c1603af278": {
     "model_module": "@jupyter-widgets/base",
     "model_module_version": "1.2.0",
     "model_name": "LayoutModel",
     "state": {
      "_model_module": "@jupyter-widgets/base",
      "_model_module_version": "1.2.0",
      "_model_name": "LayoutModel",
      "_view_count": null,
      "_view_module": "@jupyter-widgets/base",
      "_view_module_version": "1.2.0",
      "_view_name": "LayoutView",
      "align_content": null,
      "align_items": null,
      "align_self": null,
      "border": null,
      "bottom": null,
      "display": null,
      "flex": null,
      "flex_flow": null,
      "grid_area": null,
      "grid_auto_columns": null,
      "grid_auto_flow": null,
      "grid_auto_rows": null,
      "grid_column": null,
      "grid_gap": null,
      "grid_row": null,
      "grid_template_areas": null,
      "grid_template_columns": null,
      "grid_template_rows": null,
      "height": null,
      "justify_content": null,
      "justify_items": null,
      "left": null,
      "margin": null,
      "max_height": null,
      "max_width": null,
      "min_height": null,
      "min_width": null,
      "object_fit": null,
      "object_position": null,
      "order": null,
      "overflow": null,
      "overflow_x": null,
      "overflow_y": null,
      "padding": null,
      "right": null,
      "top": null,
      "visibility": null,
      "width": null
     }
    },
    "e6ca95fff0d749f6a34c085e17dbc513": {
     "model_module": "@jupyter-widgets/controls",
     "model_module_version": "1.5.0",
     "model_name": "FloatProgressModel",
     "state": {
      "_dom_classes": [],
      "_model_module": "@jupyter-widgets/controls",
      "_model_module_version": "1.5.0",
      "_model_name": "FloatProgressModel",
      "_view_count": null,
      "_view_module": "@jupyter-widgets/controls",
      "_view_module_version": "1.5.0",
      "_view_name": "ProgressView",
      "bar_style": "success",
      "description": "",
      "description_tooltip": null,
      "layout": "IPY_MODEL_aa136cb32bf34e939f0239cb8c31b8d4",
      "max": 123,
      "min": 0,
      "orientation": "horizontal",
      "style": "IPY_MODEL_095626396e80404d82b2857a8c8da83e",
      "value": 123
     }
    },
    "e796428ccc1f4786a21a82191893240e": {
     "model_module": "@jupyter-widgets/controls",
     "model_module_version": "1.5.0",
     "model_name": "HBoxModel",
     "state": {
      "_dom_classes": [],
      "_model_module": "@jupyter-widgets/controls",
      "_model_module_version": "1.5.0",
      "_model_name": "HBoxModel",
      "_view_count": null,
      "_view_module": "@jupyter-widgets/controls",
      "_view_module_version": "1.5.0",
      "_view_name": "HBoxView",
      "box_style": "",
      "children": [
       "IPY_MODEL_0d9b9f90fa914d0d8541f9b6cf89e48b",
       "IPY_MODEL_a4754e8d4ded4e2aa42136416c9c3aba",
       "IPY_MODEL_f959003e567d490691630123b82bfa58"
      ],
      "layout": "IPY_MODEL_b08c432cf76647beba45a675355aaf7d"
     }
    },
    "e7f424b47628446d89144292f7f5dfaa": {
     "model_module": "@jupyter-widgets/base",
     "model_module_version": "1.2.0",
     "model_name": "LayoutModel",
     "state": {
      "_model_module": "@jupyter-widgets/base",
      "_model_module_version": "1.2.0",
      "_model_name": "LayoutModel",
      "_view_count": null,
      "_view_module": "@jupyter-widgets/base",
      "_view_module_version": "1.2.0",
      "_view_name": "LayoutView",
      "align_content": null,
      "align_items": null,
      "align_self": null,
      "border": null,
      "bottom": null,
      "display": null,
      "flex": null,
      "flex_flow": null,
      "grid_area": null,
      "grid_auto_columns": null,
      "grid_auto_flow": null,
      "grid_auto_rows": null,
      "grid_column": null,
      "grid_gap": null,
      "grid_row": null,
      "grid_template_areas": null,
      "grid_template_columns": null,
      "grid_template_rows": null,
      "height": null,
      "justify_content": null,
      "justify_items": null,
      "left": null,
      "margin": null,
      "max_height": null,
      "max_width": null,
      "min_height": null,
      "min_width": null,
      "object_fit": null,
      "object_position": null,
      "order": null,
      "overflow": null,
      "overflow_x": null,
      "overflow_y": null,
      "padding": null,
      "right": null,
      "top": null,
      "visibility": null,
      "width": null
     }
    },
    "e82bd28d08de4a55b85f1a832a653aec": {
     "model_module": "@jupyter-widgets/controls",
     "model_module_version": "1.5.0",
     "model_name": "SliderStyleModel",
     "state": {
      "_model_module": "@jupyter-widgets/controls",
      "_model_module_version": "1.5.0",
      "_model_name": "SliderStyleModel",
      "_view_count": null,
      "_view_module": "@jupyter-widgets/base",
      "_view_module_version": "1.2.0",
      "_view_name": "StyleView",
      "description_width": "",
      "handle_color": null
     }
    },
    "e8c5dc48e42f4070aceddd56ee35433f": {
     "model_module": "@jupyter-widgets/controls",
     "model_module_version": "1.5.0",
     "model_name": "DescriptionStyleModel",
     "state": {
      "_model_module": "@jupyter-widgets/controls",
      "_model_module_version": "1.5.0",
      "_model_name": "DescriptionStyleModel",
      "_view_count": null,
      "_view_module": "@jupyter-widgets/base",
      "_view_module_version": "1.2.0",
      "_view_name": "StyleView",
      "description_width": ""
     }
    },
    "e8cad83215fd4366bb669a0a37fe163d": {
     "model_module": "@jupyter-widgets/controls",
     "model_module_version": "1.5.0",
     "model_name": "HTMLModel",
     "state": {
      "_dom_classes": [],
      "_model_module": "@jupyter-widgets/controls",
      "_model_module_version": "1.5.0",
      "_model_name": "HTMLModel",
      "_view_count": null,
      "_view_module": "@jupyter-widgets/controls",
      "_view_module_version": "1.5.0",
      "_view_name": "HTMLView",
      "description": "",
      "description_tooltip": null,
      "layout": "IPY_MODEL_d9f14b9a507f47b0983fcc4383aecd66",
      "placeholder": "​",
      "style": "IPY_MODEL_93764a0d2cde40c2b84e2a68489f4928",
      "value": " 687/687 [00:00&lt;00:00, 40.8kB/s]"
     }
    },
    "e9643eaee44d4faa9a2b8bd109d9a528": {
     "model_module": "@jupyter-widgets/base",
     "model_module_version": "1.2.0",
     "model_name": "LayoutModel",
     "state": {
      "_model_module": "@jupyter-widgets/base",
      "_model_module_version": "1.2.0",
      "_model_name": "LayoutModel",
      "_view_count": null,
      "_view_module": "@jupyter-widgets/base",
      "_view_module_version": "1.2.0",
      "_view_name": "LayoutView",
      "align_content": null,
      "align_items": null,
      "align_self": null,
      "border": null,
      "bottom": null,
      "display": null,
      "flex": null,
      "flex_flow": null,
      "grid_area": null,
      "grid_auto_columns": null,
      "grid_auto_flow": null,
      "grid_auto_rows": null,
      "grid_column": null,
      "grid_gap": null,
      "grid_row": null,
      "grid_template_areas": null,
      "grid_template_columns": null,
      "grid_template_rows": null,
      "height": null,
      "justify_content": null,
      "justify_items": null,
      "left": null,
      "margin": null,
      "max_height": null,
      "max_width": null,
      "min_height": null,
      "min_width": null,
      "object_fit": null,
      "object_position": null,
      "order": null,
      "overflow": null,
      "overflow_x": null,
      "overflow_y": null,
      "padding": null,
      "right": null,
      "top": null,
      "visibility": null,
      "width": null
     }
    },
    "ea6e3b5363b441c2b3e27639ee92eb88": {
     "model_module": "@jupyter-widgets/controls",
     "model_module_version": "1.5.0",
     "model_name": "DropdownModel",
     "state": {
      "_dom_classes": [],
      "_model_module": "@jupyter-widgets/controls",
      "_model_module_version": "1.5.0",
      "_model_name": "DropdownModel",
      "_options_labels": [
       "Iniciante",
       "Intermediário",
       "Avançado"
      ],
      "_view_count": null,
      "_view_module": "@jupyter-widgets/controls",
      "_view_module_version": "1.5.0",
      "_view_name": "DropdownView",
      "description": "Nível",
      "description_tooltip": null,
      "disabled": false,
      "index": 1,
      "layout": "IPY_MODEL_b00cc108bc5a498ca697a21471c01bda",
      "style": "IPY_MODEL_539847dfdae942089145905fe8009716"
     }
    },
    "ec635bea0c4e493ea2591b55db5d970c": {
     "model_module": "@jupyter-widgets/base",
     "model_module_version": "1.2.0",
     "model_name": "LayoutModel",
     "state": {
      "_model_module": "@jupyter-widgets/base",
      "_model_module_version": "1.2.0",
      "_model_name": "LayoutModel",
      "_view_count": null,
      "_view_module": "@jupyter-widgets/base",
      "_view_module_version": "1.2.0",
      "_view_name": "LayoutView",
      "align_content": null,
      "align_items": null,
      "align_self": null,
      "border": null,
      "bottom": null,
      "display": null,
      "flex": null,
      "flex_flow": null,
      "grid_area": null,
      "grid_auto_columns": null,
      "grid_auto_flow": null,
      "grid_auto_rows": null,
      "grid_column": null,
      "grid_gap": null,
      "grid_row": null,
      "grid_template_areas": null,
      "grid_template_columns": null,
      "grid_template_rows": null,
      "height": null,
      "justify_content": null,
      "justify_items": null,
      "left": null,
      "margin": null,
      "max_height": null,
      "max_width": null,
      "min_height": null,
      "min_width": null,
      "object_fit": null,
      "object_position": null,
      "order": null,
      "overflow": null,
      "overflow_x": null,
      "overflow_y": null,
      "padding": null,
      "right": null,
      "top": null,
      "visibility": null,
      "width": null
     }
    },
    "eea9cdde079345f9a68e011931bda047": {
     "model_module": "@jupyter-widgets/base",
     "model_module_version": "1.2.0",
     "model_name": "LayoutModel",
     "state": {
      "_model_module": "@jupyter-widgets/base",
      "_model_module_version": "1.2.0",
      "_model_name": "LayoutModel",
      "_view_count": null,
      "_view_module": "@jupyter-widgets/base",
      "_view_module_version": "1.2.0",
      "_view_name": "LayoutView",
      "align_content": null,
      "align_items": null,
      "align_self": null,
      "border": null,
      "bottom": null,
      "display": null,
      "flex": null,
      "flex_flow": null,
      "grid_area": null,
      "grid_auto_columns": null,
      "grid_auto_flow": null,
      "grid_auto_rows": null,
      "grid_column": null,
      "grid_gap": null,
      "grid_row": null,
      "grid_template_areas": null,
      "grid_template_columns": null,
      "grid_template_rows": null,
      "height": null,
      "justify_content": null,
      "justify_items": null,
      "left": null,
      "margin": null,
      "max_height": null,
      "max_width": null,
      "min_height": null,
      "min_width": null,
      "object_fit": null,
      "object_position": null,
      "order": null,
      "overflow": null,
      "overflow_x": null,
      "overflow_y": null,
      "padding": null,
      "right": null,
      "top": null,
      "visibility": null,
      "width": null
     }
    },
    "eec12f0b6790414ba95891065dc2a9e5": {
     "model_module": "@jupyter-widgets/controls",
     "model_module_version": "1.5.0",
     "model_name": "SliderStyleModel",
     "state": {
      "_model_module": "@jupyter-widgets/controls",
      "_model_module_version": "1.5.0",
      "_model_name": "SliderStyleModel",
      "_view_count": null,
      "_view_module": "@jupyter-widgets/base",
      "_view_module_version": "1.2.0",
      "_view_name": "StyleView",
      "description_width": "",
      "handle_color": null
     }
    },
    "f1362c46680546769da1b7c4b6be7dbc": {
     "model_module": "@jupyter-widgets/controls",
     "model_module_version": "1.5.0",
     "model_name": "ButtonStyleModel",
     "state": {
      "_model_module": "@jupyter-widgets/controls",
      "_model_module_version": "1.5.0",
      "_model_name": "ButtonStyleModel",
      "_view_count": null,
      "_view_module": "@jupyter-widgets/base",
      "_view_module_version": "1.2.0",
      "_view_name": "StyleView",
      "button_color": null,
      "font_weight": ""
     }
    },
    "f204331a05cc480d92c41933b2dd46a1": {
     "model_module": "@jupyter-widgets/base",
     "model_module_version": "1.2.0",
     "model_name": "LayoutModel",
     "state": {
      "_model_module": "@jupyter-widgets/base",
      "_model_module_version": "1.2.0",
      "_model_name": "LayoutModel",
      "_view_count": null,
      "_view_module": "@jupyter-widgets/base",
      "_view_module_version": "1.2.0",
      "_view_name": "LayoutView",
      "align_content": null,
      "align_items": null,
      "align_self": null,
      "border": null,
      "bottom": null,
      "display": null,
      "flex": null,
      "flex_flow": null,
      "grid_area": null,
      "grid_auto_columns": null,
      "grid_auto_flow": null,
      "grid_auto_rows": null,
      "grid_column": null,
      "grid_gap": null,
      "grid_row": null,
      "grid_template_areas": null,
      "grid_template_columns": null,
      "grid_template_rows": null,
      "height": null,
      "justify_content": null,
      "justify_items": null,
      "left": null,
      "margin": null,
      "max_height": null,
      "max_width": null,
      "min_height": null,
      "min_width": null,
      "object_fit": null,
      "object_position": null,
      "order": null,
      "overflow": null,
      "overflow_x": null,
      "overflow_y": null,
      "padding": null,
      "right": null,
      "top": null,
      "visibility": null,
      "width": null
     }
    },
    "f76565efdb4c4534bb5ff3c5cdb26b38": {
     "model_module": "@jupyter-widgets/controls",
     "model_module_version": "1.5.0",
     "model_name": "TextModel",
     "state": {
      "_dom_classes": [],
      "_model_module": "@jupyter-widgets/controls",
      "_model_module_version": "1.5.0",
      "_model_name": "TextModel",
      "_view_count": null,
      "_view_module": "@jupyter-widgets/controls",
      "_view_module_version": "1.5.0",
      "_view_name": "TextView",
      "continuous_update": true,
      "description": "Interesses ou Preferências:",
      "description_tooltip": null,
      "disabled": false,
      "layout": "IPY_MODEL_ec635bea0c4e493ea2591b55db5d970c",
      "placeholder": "Ex: Filmes, Esportes, Jogos, Música, etc....",
      "style": "IPY_MODEL_3192c0e22cfb46cabdb6938b48fa1924",
      "value": ""
     }
    },
    "f81e9301d3d545e796514819cbc648d0": {
     "model_module": "@jupyter-widgets/base",
     "model_module_version": "1.2.0",
     "model_name": "LayoutModel",
     "state": {
      "_model_module": "@jupyter-widgets/base",
      "_model_module_version": "1.2.0",
      "_model_name": "LayoutModel",
      "_view_count": null,
      "_view_module": "@jupyter-widgets/base",
      "_view_module_version": "1.2.0",
      "_view_name": "LayoutView",
      "align_content": null,
      "align_items": null,
      "align_self": null,
      "border": null,
      "bottom": null,
      "display": null,
      "flex": null,
      "flex_flow": null,
      "grid_area": null,
      "grid_auto_columns": null,
      "grid_auto_flow": null,
      "grid_auto_rows": null,
      "grid_column": null,
      "grid_gap": null,
      "grid_row": null,
      "grid_template_areas": null,
      "grid_template_columns": null,
      "grid_template_rows": null,
      "height": null,
      "justify_content": null,
      "justify_items": null,
      "left": null,
      "margin": null,
      "max_height": null,
      "max_width": null,
      "min_height": null,
      "min_width": null,
      "object_fit": null,
      "object_position": null,
      "order": null,
      "overflow": null,
      "overflow_x": null,
      "overflow_y": null,
      "padding": null,
      "right": null,
      "top": null,
      "visibility": null,
      "width": null
     }
    },
    "f959003e567d490691630123b82bfa58": {
     "model_module": "@jupyter-widgets/controls",
     "model_module_version": "1.5.0",
     "model_name": "HTMLModel",
     "state": {
      "_dom_classes": [],
      "_model_module": "@jupyter-widgets/controls",
      "_model_module_version": "1.5.0",
      "_model_name": "HTMLModel",
      "_view_count": null,
      "_view_module": "@jupyter-widgets/controls",
      "_view_module_version": "1.5.0",
      "_view_name": "HTMLView",
      "description": "",
      "description_tooltip": null,
      "layout": "IPY_MODEL_a3627767eb5d4274948dae9e02f38406",
      "placeholder": "​",
      "style": "IPY_MODEL_4707dd90085a4603a641c759922931b0",
      "value": " 444/444 [00:00&lt;00:00, 15.0kB/s]"
     }
    },
    "f9be4afed320469e85e5d28014d94c99": {
     "model_module": "@jupyter-widgets/controls",
     "model_module_version": "1.5.0",
     "model_name": "TextModel",
     "state": {
      "_dom_classes": [],
      "_model_module": "@jupyter-widgets/controls",
      "_model_module_version": "1.5.0",
      "_model_name": "TextModel",
      "_view_count": null,
      "_view_module": "@jupyter-widgets/controls",
      "_view_module_version": "1.5.0",
      "_view_name": "TextView",
      "continuous_update": true,
      "description": "Interesses ou Preferências:",
      "description_tooltip": null,
      "disabled": false,
      "layout": "IPY_MODEL_588394be56184d9383232b11d19f0e58",
      "placeholder": "Ex: Filmes, Esportes, Jogos, Música, etc....",
      "style": "IPY_MODEL_1699d27c31404551bea2333b089d763e",
      "value": ""
     }
    },
    "fa5cccc29a7a4efe9f6265acee87f3ac": {
     "model_module": "@jupyter-widgets/base",
     "model_module_version": "1.2.0",
     "model_name": "LayoutModel",
     "state": {
      "_model_module": "@jupyter-widgets/base",
      "_model_module_version": "1.2.0",
      "_model_name": "LayoutModel",
      "_view_count": null,
      "_view_module": "@jupyter-widgets/base",
      "_view_module_version": "1.2.0",
      "_view_name": "LayoutView",
      "align_content": null,
      "align_items": null,
      "align_self": null,
      "border": null,
      "bottom": null,
      "display": null,
      "flex": null,
      "flex_flow": null,
      "grid_area": null,
      "grid_auto_columns": null,
      "grid_auto_flow": null,
      "grid_auto_rows": null,
      "grid_column": null,
      "grid_gap": null,
      "grid_row": null,
      "grid_template_areas": null,
      "grid_template_columns": null,
      "grid_template_rows": null,
      "height": null,
      "justify_content": null,
      "justify_items": null,
      "left": null,
      "margin": null,
      "max_height": null,
      "max_width": null,
      "min_height": null,
      "min_width": null,
      "object_fit": null,
      "object_position": null,
      "order": null,
      "overflow": null,
      "overflow_x": null,
      "overflow_y": null,
      "padding": null,
      "right": null,
      "top": null,
      "visibility": null,
      "width": null
     }
    },
    "fadad9ff7c7b4fbbbcd494b30a60cd34": {
     "model_module": "@jupyter-widgets/base",
     "model_module_version": "1.2.0",
     "model_name": "LayoutModel",
     "state": {
      "_model_module": "@jupyter-widgets/base",
      "_model_module_version": "1.2.0",
      "_model_name": "LayoutModel",
      "_view_count": null,
      "_view_module": "@jupyter-widgets/base",
      "_view_module_version": "1.2.0",
      "_view_name": "LayoutView",
      "align_content": null,
      "align_items": null,
      "align_self": null,
      "border": null,
      "bottom": null,
      "display": null,
      "flex": null,
      "flex_flow": null,
      "grid_area": null,
      "grid_auto_columns": null,
      "grid_auto_flow": null,
      "grid_auto_rows": null,
      "grid_column": null,
      "grid_gap": null,
      "grid_row": null,
      "grid_template_areas": null,
      "grid_template_columns": null,
      "grid_template_rows": null,
      "height": null,
      "justify_content": null,
      "justify_items": null,
      "left": null,
      "margin": null,
      "max_height": null,
      "max_width": null,
      "min_height": null,
      "min_width": null,
      "object_fit": null,
      "object_position": null,
      "order": null,
      "overflow": null,
      "overflow_x": null,
      "overflow_y": null,
      "padding": null,
      "right": null,
      "top": null,
      "visibility": null,
      "width": null
     }
    },
    "fb9d484aed544858bd30509b688e684b": {
     "model_module": "@jupyter-widgets/controls",
     "model_module_version": "1.5.0",
     "model_name": "HBoxModel",
     "state": {
      "_dom_classes": [],
      "_model_module": "@jupyter-widgets/controls",
      "_model_module_version": "1.5.0",
      "_model_name": "HBoxModel",
      "_view_count": null,
      "_view_module": "@jupyter-widgets/controls",
      "_view_module_version": "1.5.0",
      "_view_name": "HBoxView",
      "box_style": "",
      "children": [
       "IPY_MODEL_78036686aae14a739f7e7421a8c6e2dd",
       "IPY_MODEL_27a93b1175da4452a9cda652cb610c95",
       "IPY_MODEL_af5bd6b73dce4a55b7900f5af487e659"
      ],
      "layout": "IPY_MODEL_31afc11054034ebe94b9ae19a3f54745"
     }
    },
    "fbe46f951f9c4791bcaf1ce0b6e70920": {
     "model_module": "@jupyter-widgets/controls",
     "model_module_version": "1.5.0",
     "model_name": "HBoxModel",
     "state": {
      "_dom_classes": [],
      "_model_module": "@jupyter-widgets/controls",
      "_model_module_version": "1.5.0",
      "_model_name": "HBoxModel",
      "_view_count": null,
      "_view_module": "@jupyter-widgets/controls",
      "_view_module_version": "1.5.0",
      "_view_name": "HBoxView",
      "box_style": "",
      "children": [
       "IPY_MODEL_9eebd6bc2ece47fda9649d6fa6829895",
       "IPY_MODEL_399f5dd68fa94a9497744bafd10affda",
       "IPY_MODEL_08c9d93949984e488670e504e4cda27e"
      ],
      "layout": "IPY_MODEL_5b75e000879c462985436345809131d5"
     }
    },
    "feb313a6822c43149752a6f6c133d625": {
     "model_module": "@jupyter-widgets/controls",
     "model_module_version": "1.5.0",
     "model_name": "HTMLModel",
     "state": {
      "_dom_classes": [],
      "_model_module": "@jupyter-widgets/controls",
      "_model_module_version": "1.5.0",
      "_model_name": "HTMLModel",
      "_view_count": null,
      "_view_module": "@jupyter-widgets/controls",
      "_view_module_version": "1.5.0",
      "_view_name": "HTMLView",
      "description": "",
      "description_tooltip": null,
      "layout": "IPY_MODEL_3566e4d9733f41c797c43e62e614d1b4",
      "placeholder": "​",
      "style": "IPY_MODEL_9c598828c37145d995e5a1dca3384382",
      "value": " 54.0/54.0 [00:00&lt;00:00, 3.58kB/s]"
     }
    },
    "fed7e63d84fc4a018c8c9575072a6491": {
     "model_module": "@jupyter-widgets/controls",
     "model_module_version": "1.5.0",
     "model_name": "DropdownModel",
     "state": {
      "_dom_classes": [],
      "_model_module": "@jupyter-widgets/controls",
      "_model_module_version": "1.5.0",
      "_model_name": "DropdownModel",
      "_options_labels": [
       "Iniciante",
       "Intermediário",
       "Avançado"
      ],
      "_view_count": null,
      "_view_module": "@jupyter-widgets/controls",
      "_view_module_version": "1.5.0",
      "_view_name": "DropdownView",
      "description": "Nível",
      "description_tooltip": null,
      "disabled": false,
      "index": 1,
      "layout": "IPY_MODEL_026739cb11b44fdf98c8889706fedebe",
      "style": "IPY_MODEL_33468fce78f946e1933410a3fb4a7bb2"
     }
    },
    "ffd49f620f364bfa8086c3489a9a26e6": {
     "model_module": "@jupyter-widgets/controls",
     "model_module_version": "1.5.0",
     "model_name": "DescriptionStyleModel",
     "state": {
      "_model_module": "@jupyter-widgets/controls",
      "_model_module_version": "1.5.0",
      "_model_name": "DescriptionStyleModel",
      "_view_count": null,
      "_view_module": "@jupyter-widgets/base",
      "_view_module_version": "1.2.0",
      "_view_name": "StyleView",
      "description_width": ""
     }
    },
    "ffe49b255a8846bf8c3df4af50956d05": {
     "model_module": "@jupyter-widgets/base",
     "model_module_version": "1.2.0",
     "model_name": "LayoutModel",
     "state": {
      "_model_module": "@jupyter-widgets/base",
      "_model_module_version": "1.2.0",
      "_model_name": "LayoutModel",
      "_view_count": null,
      "_view_module": "@jupyter-widgets/base",
      "_view_module_version": "1.2.0",
      "_view_name": "LayoutView",
      "align_content": null,
      "align_items": null,
      "align_self": null,
      "border": null,
      "bottom": null,
      "display": null,
      "flex": null,
      "flex_flow": null,
      "grid_area": null,
      "grid_auto_columns": null,
      "grid_auto_flow": null,
      "grid_auto_rows": null,
      "grid_column": null,
      "grid_gap": null,
      "grid_row": null,
      "grid_template_areas": null,
      "grid_template_columns": null,
      "grid_template_rows": null,
      "height": null,
      "justify_content": null,
      "justify_items": null,
      "left": null,
      "margin": null,
      "max_height": null,
      "max_width": null,
      "min_height": null,
      "min_width": null,
      "object_fit": null,
      "object_position": null,
      "order": null,
      "overflow": null,
      "overflow_x": null,
      "overflow_y": null,
      "padding": null,
      "right": null,
      "top": null,
      "visibility": null,
      "width": null
     }
    }
   }
  }
 },
 "nbformat": 4,
 "nbformat_minor": 4
}
